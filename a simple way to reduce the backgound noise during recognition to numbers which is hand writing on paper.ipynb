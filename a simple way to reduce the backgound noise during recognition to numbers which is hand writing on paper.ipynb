{
 "cells": [
  {
   "cell_type": "code",
   "execution_count": null,
   "metadata": {},
   "outputs": [
    {
     "name": "stdout",
     "output_type": "stream",
     "text": [
      "(10000, 28, 28)\n",
      "[[0 0 0 0 0 0 0 0 0 0 0 0 0 0 0 0 0 0 0 0 0 0 0 0 0 0 0 0]\n",
      " [0 0 0 0 0 0 0 0 0 0 0 0 0 0 0 0 0 0 0 0 0 0 0 0 0 0 0 0]\n",
      " [0 0 0 0 0 0 0 0 0 0 0 0 0 0 0 0 0 0 0 0 0 0 0 0 0 0 0 0]\n",
      " [0 0 0 0 0 0 0 0 0 0 0 0 0 0 0 0 0 0 0 0 0 0 0 0 0 0 0 0]\n",
      " [0 0 0 0 0 0 0 0 0 0 0 0 0 0 0 0 0 0 0 0 0 0 0 0 0 0 0 0]\n",
      " [0 0 0 0 0 0 0 0 0 0 0 0 0 0 0 0 0 0 0 0 0 0 0 0 0 0 0 0]\n",
      " [0 0 0 0 0 0 0 0 0 0 0 0 0 0 0 0 0 0 0 0 0 0 0 0 0 0 0 0]\n",
      " [0 0 0 0 0 0 0 0 0 0 0 0 0 0 0 0 0 0 0 0 0 0 0 0 0 0 0 0]\n",
      " [0 0 0 0 0 0 0 0 0 0 0 0 0 0 0 0 0 0 0 0 0 0 0 0 0 0 0 0]\n",
      " [0 0 0 0 0 0 0 0 0 0 0 0 0 0 0 0 0 0 0 0 0 0 0 0 0 0 0 0]\n",
      " [0 0 0 0 0 0 0 0 0 0 0 0 0 0 0 0 0 0 0 0 0 0 0 0 0 0 0 0]\n",
      " [0 0 0 0 0 0 0 0 0 0 0 0 0 0 0 0 0 0 0 0 0 0 0 0 0 0 0 0]\n",
      " [0 0 0 0 0 0 0 0 0 0 0 0 0 0 0 0 0 0 0 0 0 0 0 0 0 0 0 0]\n",
      " [0 0 0 0 0 0 0 0 0 0 0 0 0 0 0 0 0 0 0 0 0 0 0 0 0 0 0 0]\n",
      " [0 0 0 0 0 0 0 0 0 0 0 0 0 0 0 0 0 0 0 0 0 0 0 0 0 0 0 0]\n",
      " [0 0 0 0 0 0 0 0 0 0 0 0 0 0 0 0 0 0 0 0 0 0 0 0 0 0 0 0]\n",
      " [0 0 0 0 0 0 0 0 0 0 0 0 0 0 0 0 0 0 0 0 0 0 0 0 0 0 0 0]\n",
      " [0 0 0 0 0 0 0 0 0 0 0 0 0 0 0 0 0 0 0 0 0 0 0 0 0 0 0 0]\n",
      " [0 0 0 0 0 0 0 0 0 0 0 0 0 0 0 0 0 0 0 0 0 0 0 0 0 0 0 0]\n",
      " [0 0 0 0 0 0 0 0 0 0 0 0 0 0 0 0 0 0 0 0 0 0 0 0 0 0 0 0]\n",
      " [0 0 0 0 0 0 0 0 0 0 0 0 0 0 0 0 0 0 0 0 0 0 0 0 0 0 0 0]\n",
      " [0 0 0 0 0 0 0 0 0 0 0 0 0 0 0 0 0 0 0 0 0 0 0 0 0 0 0 0]\n",
      " [0 0 0 0 0 0 0 0 0 0 0 0 0 0 0 0 0 0 0 0 0 0 0 0 0 0 0 0]\n",
      " [0 0 0 0 0 0 0 0 0 0 0 0 0 0 0 0 0 0 0 0 0 0 0 0 0 0 0 0]\n",
      " [0 0 0 0 0 0 0 0 0 0 0 0 0 0 0 0 0 0 0 0 0 0 0 0 0 0 0 0]\n",
      " [0 0 0 0 0 0 0 0 0 0 0 0 0 0 0 0 0 0 0 0 0 0 0 0 0 0 0 0]\n",
      " [0 0 0 0 0 0 0 0 0 0 0 0 0 0 0 0 0 0 0 0 0 0 0 0 0 0 0 0]\n",
      " [0 0 0 0 0 0 0 0 0 0 0 0 0 0 0 0 0 0 0 0 0 0 0 0 0 0 0 0]]\n",
      "path= C:/Users/user/Number_Images\\NUM_Kai\n",
      "img= zd0.jpg\n",
      "(28, 28)\n"
     ]
    },
    {
     "data": {
      "text/plain": [
       "<matplotlib.figure.Figure at 0x19c6118e208>"
      ]
     },
     "metadata": {},
     "output_type": "display_data"
    },
    {
     "name": "stdout",
     "output_type": "stream",
     "text": [
      "i= 0\n",
      "path= C:/Users/user/Number_Images\\NUM_Kai\n",
      "img= ze0.jpg\n",
      "(28, 28)\n"
     ]
    },
    {
     "data": {
      "text/plain": [
       "<matplotlib.figure.Figure at 0x19c611cc160>"
      ]
     },
     "metadata": {},
     "output_type": "display_data"
    },
    {
     "name": "stdout",
     "output_type": "stream",
     "text": [
      "i= 1\n",
      "path= C:/Users/user/Number_Images\\NUM_Kai\n",
      "img= zf0.jpg\n",
      "(28, 28)\n"
     ]
    },
    {
     "data": {
      "text/plain": [
       "<matplotlib.figure.Figure at 0x19c61214fd0>"
      ]
     },
     "metadata": {},
     "output_type": "display_data"
    },
    {
     "name": "stdout",
     "output_type": "stream",
     "text": [
      "i= 2\n",
      "path= C:/Users/user/Number_Images\\NUM_Kai\n",
      "img= zg0.jpg\n",
      "(28, 28)\n"
     ]
    },
    {
     "data": {
      "text/plain": [
       "<matplotlib.figure.Figure at 0x19c61257400>"
      ]
     },
     "metadata": {},
     "output_type": "display_data"
    },
    {
     "name": "stdout",
     "output_type": "stream",
     "text": [
      "i= 3\n",
      "path= C:/Users/user/Number_Images\\NUM_Kai\n",
      "img= zh0.jpg\n",
      "(28, 28)\n"
     ]
    },
    {
     "data": {
      "text/plain": [
       "<matplotlib.figure.Figure at 0x19c612907f0>"
      ]
     },
     "metadata": {},
     "output_type": "display_data"
    },
    {
     "name": "stdout",
     "output_type": "stream",
     "text": [
      "i= 4\n",
      "path= C:/Users/user/Number_Images\\NUM_Kai\n",
      "img= zi0.jpg\n",
      "(28, 28)\n"
     ]
    },
    {
     "data": {
      "text/plain": [
       "<matplotlib.figure.Figure at 0x19c612835f8>"
      ]
     },
     "metadata": {},
     "output_type": "display_data"
    },
    {
     "name": "stdout",
     "output_type": "stream",
     "text": [
      "i= 5\n",
      "path= C:/Users/user/Number_Images\\NUM_Kai\n",
      "img= zj0.jpg\n",
      "(28, 28)\n"
     ]
    },
    {
     "data": {
      "text/plain": [
       "<matplotlib.figure.Figure at 0x19c612839b0>"
      ]
     },
     "metadata": {},
     "output_type": "display_data"
    },
    {
     "name": "stdout",
     "output_type": "stream",
     "text": [
      "i= 6\n",
      "path= C:/Users/user/Number_Images\\NUM_Kai\n",
      "img= zk0.jpg\n",
      "(28, 28)\n"
     ]
    },
    {
     "data": {
      "text/plain": [
       "<matplotlib.figure.Figure at 0x19c611ea588>"
      ]
     },
     "metadata": {},
     "output_type": "display_data"
    },
    {
     "name": "stdout",
     "output_type": "stream",
     "text": [
      "i= 7\n",
      "path= C:/Users/user/Number_Images\\NUM_Kai\n",
      "img= zl0.jpg\n",
      "(28, 28)\n"
     ]
    },
    {
     "data": {
      "text/plain": [
       "<matplotlib.figure.Figure at 0x19c6129bd68>"
      ]
     },
     "metadata": {},
     "output_type": "display_data"
    },
    {
     "name": "stdout",
     "output_type": "stream",
     "text": [
      "i= 8\n",
      "path= C:/Users/user/Number_Images\\NUM_Kai\n",
      "img= zm0.jpg\n",
      "(28, 28)\n"
     ]
    },
    {
     "data": {
      "text/plain": [
       "<matplotlib.figure.Figure at 0x19c61228198>"
      ]
     },
     "metadata": {},
     "output_type": "display_data"
    },
    {
     "name": "stdout",
     "output_type": "stream",
     "text": [
      "i= 9\n",
      "path= C:/Users/user/Number_Images\\NUM_Kai\n",
      "img= zP_20190227_203739_vHDR_Auto.jpg\n",
      "(28, 28)\n"
     ]
    },
    {
     "data": {
      "text/plain": [
       "<matplotlib.figure.Figure at 0x19c6130c198>"
      ]
     },
     "metadata": {},
     "output_type": "display_data"
    },
    {
     "name": "stdout",
     "output_type": "stream",
     "text": [
      "i= 10\n",
      "path= C:/Users/user/Number_Images\\NUM_Kai\n",
      "img= zP_20190227_203747_vHDR_Auto.jpg\n",
      "(28, 28)\n"
     ]
    },
    {
     "data": {
      "text/plain": [
       "<matplotlib.figure.Figure at 0x19c61344160>"
      ]
     },
     "metadata": {},
     "output_type": "display_data"
    },
    {
     "name": "stdout",
     "output_type": "stream",
     "text": [
      "i= 11\n",
      "path= C:/Users/user/Number_Images\\NUM_Kai\n",
      "img= zP_20190227_203754_vHDR_Auto.jpg\n",
      "(28, 28)\n"
     ]
    },
    {
     "data": {
      "text/plain": [
       "<matplotlib.figure.Figure at 0x19c61382d68>"
      ]
     },
     "metadata": {},
     "output_type": "display_data"
    },
    {
     "name": "stdout",
     "output_type": "stream",
     "text": [
      "i= 12\n",
      "path= C:/Users/user/Number_Images\\NUM_Kai\n",
      "img= zP_20190227_203923_vHDR_Auto.jpg\n",
      "(28, 28)\n"
     ]
    },
    {
     "data": {
      "text/plain": [
       "<matplotlib.figure.Figure at 0x19c613bf198>"
      ]
     },
     "metadata": {},
     "output_type": "display_data"
    },
    {
     "name": "stdout",
     "output_type": "stream",
     "text": [
      "i= 13\n",
      "path= C:/Users/user/Number_Images\\NUM_Kai\n",
      "img= zP_20190227_203949_vHDR_Auto.jpg\n",
      "(28, 28)\n"
     ]
    },
    {
     "data": {
      "text/plain": [
       "<matplotlib.figure.Figure at 0x19c613fa588>"
      ]
     },
     "metadata": {},
     "output_type": "display_data"
    },
    {
     "name": "stdout",
     "output_type": "stream",
     "text": [
      "i= 14\n",
      "path= C:/Users/user/Number_Images\\NUM_Kai\n",
      "img= zP_20190227_204026_vHDR_Auto.jpg\n",
      "(28, 28)\n"
     ]
    },
    {
     "data": {
      "text/plain": [
       "<matplotlib.figure.Figure at 0x19c614350f0>"
      ]
     },
     "metadata": {},
     "output_type": "display_data"
    },
    {
     "name": "stdout",
     "output_type": "stream",
     "text": [
      "i= 15\n",
      "path= C:/Users/user/Number_Images\\NUM_Kai\n",
      "img= zP_20190227_204042_vHDR_Auto.jpg\n",
      "(28, 28)\n"
     ]
    },
    {
     "data": {
      "text/plain": [
       "<matplotlib.figure.Figure at 0x19c61470400>"
      ]
     },
     "metadata": {},
     "output_type": "display_data"
    },
    {
     "name": "stdout",
     "output_type": "stream",
     "text": [
      "i= 16\n",
      "path= C:/Users/user/Number_Images\\NUM_Kai\n",
      "img= zP_20190227_204054_vHDR_Auto.jpg\n",
      "(28, 28)\n"
     ]
    },
    {
     "data": {
      "text/plain": [
       "<matplotlib.figure.Figure at 0x19c614c0128>"
      ]
     },
     "metadata": {},
     "output_type": "display_data"
    },
    {
     "name": "stdout",
     "output_type": "stream",
     "text": [
      "i= 17\n",
      "path= C:/Users/user/Number_Images\\NUM_Kai\n",
      "img= zP_20190227_204059_vHDR_Auto.jpg\n",
      "(28, 28)\n"
     ]
    },
    {
     "data": {
      "text/plain": [
       "<matplotlib.figure.Figure at 0x19c614ec5c0>"
      ]
     },
     "metadata": {},
     "output_type": "display_data"
    },
    {
     "name": "stdout",
     "output_type": "stream",
     "text": [
      "i= 18\n",
      "path= C:/Users/user/Number_Images\\NUM_Kai\n",
      "img= zP_20190227_204107_vHDR_Auto.jpg\n",
      "(28, 28)\n"
     ]
    },
    {
     "data": {
      "text/plain": [
       "<matplotlib.figure.Figure at 0x19c615239b0>"
      ]
     },
     "metadata": {},
     "output_type": "display_data"
    },
    {
     "name": "stdout",
     "output_type": "stream",
     "text": [
      "i= 19\n",
      "path= C:/Users/user/Number_Images\\NUM_Kai\n",
      "img= zP_20190227_212445_vHDR_Auto.jpg\n",
      "(28, 28)\n"
     ]
    },
    {
     "data": {
      "text/plain": [
       "<matplotlib.figure.Figure at 0x19c61561cf8>"
      ]
     },
     "metadata": {},
     "output_type": "display_data"
    },
    {
     "name": "stdout",
     "output_type": "stream",
     "text": [
      "i= 20\n",
      "path= C:/Users/user/Number_Images\\NUM_Kai\n",
      "img= zP_20190227_212448_vHDR_Auto.jpg\n",
      "(28, 28)\n"
     ]
    },
    {
     "data": {
      "text/plain": [
       "<matplotlib.figure.Figure at 0x19c615612b0>"
      ]
     },
     "metadata": {},
     "output_type": "display_data"
    },
    {
     "name": "stdout",
     "output_type": "stream",
     "text": [
      "i= 21\n",
      "path= C:/Users/user/Number_Images\\NUM_Kai\n",
      "img= zP_20190227_212451_vHDR_Auto.jpg\n",
      "(28, 28)\n"
     ]
    },
    {
     "data": {
      "text/plain": [
       "<matplotlib.figure.Figure at 0x19c615d9588>"
      ]
     },
     "metadata": {},
     "output_type": "display_data"
    },
    {
     "name": "stdout",
     "output_type": "stream",
     "text": [
      "i= 22\n",
      "path= C:/Users/user/Number_Images\\NUM_Kai\n",
      "img= zP_20190227_212455_vHDR_Auto.jpg\n",
      "(28, 28)\n"
     ]
    },
    {
     "data": {
      "text/plain": [
       "<matplotlib.figure.Figure at 0x19c61616160>"
      ]
     },
     "metadata": {},
     "output_type": "display_data"
    },
    {
     "name": "stdout",
     "output_type": "stream",
     "text": [
      "i= 23\n",
      "path= C:/Users/user/Number_Images\\NUM_Kai\n",
      "img= zP_20190227_212457_vHDR_Auto.jpg\n",
      "(28, 28)\n"
     ]
    },
    {
     "data": {
      "text/plain": [
       "<matplotlib.figure.Figure at 0x19c616512e8>"
      ]
     },
     "metadata": {},
     "output_type": "display_data"
    },
    {
     "name": "stdout",
     "output_type": "stream",
     "text": [
      "i= 24\n",
      "path= C:/Users/user/Number_Images\\NUM_Kai\n",
      "img= zP_20190227_212504_vHDR_Auto.jpg\n",
      "(28, 28)\n"
     ]
    },
    {
     "data": {
      "text/plain": [
       "<matplotlib.figure.Figure at 0x19c616911d0>"
      ]
     },
     "metadata": {},
     "output_type": "display_data"
    },
    {
     "name": "stdout",
     "output_type": "stream",
     "text": [
      "i= 25\n",
      "path= C:/Users/user/Number_Images\\NUM_Kai\n",
      "img= zP_20190227_212511_vHDR_Auto.jpg\n",
      "(28, 28)\n"
     ]
    },
    {
     "data": {
      "text/plain": [
       "<matplotlib.figure.Figure at 0x19c616cc550>"
      ]
     },
     "metadata": {},
     "output_type": "display_data"
    },
    {
     "name": "stdout",
     "output_type": "stream",
     "text": [
      "i= 26\n",
      "path= C:/Users/user/Number_Images\\NUM_Kai\n",
      "img= zP_20190227_212523_vHDR_Auto.jpg\n",
      "(28, 28)\n"
     ]
    },
    {
     "data": {
      "text/plain": [
       "<matplotlib.figure.Figure at 0x19c617079b0>"
      ]
     },
     "metadata": {},
     "output_type": "display_data"
    },
    {
     "name": "stdout",
     "output_type": "stream",
     "text": [
      "i= 27\n",
      "path= C:/Users/user/Number_Images\\NUM_Kai\n",
      "img= zP_20190227_212606_vHDR_Auto.jpg\n",
      "(28, 28)\n"
     ]
    },
    {
     "data": {
      "text/plain": [
       "<matplotlib.figure.Figure at 0x19c61741da0>"
      ]
     },
     "metadata": {},
     "output_type": "display_data"
    },
    {
     "name": "stdout",
     "output_type": "stream",
     "text": [
      "i= 28\n",
      "path= C:/Users/user/Number_Images\\NUM_Kai\n",
      "img= zP_20190227_212625_vHDR_Auto.jpg\n",
      "(28, 28)\n"
     ]
    },
    {
     "data": {
      "text/plain": [
       "<matplotlib.figure.Figure at 0x19c6177b320>"
      ]
     },
     "metadata": {},
     "output_type": "display_data"
    },
    {
     "name": "stdout",
     "output_type": "stream",
     "text": [
      "i= 29\n",
      "path= C:/Users/user/Number_Images\\NUM_Kai\n",
      "img= zP_20190227_213239_vHDR_Auto.jpg\n",
      "(28, 28)\n"
     ]
    },
    {
     "data": {
      "text/plain": [
       "<matplotlib.figure.Figure at 0x19c617bd550>"
      ]
     },
     "metadata": {},
     "output_type": "display_data"
    },
    {
     "name": "stdout",
     "output_type": "stream",
     "text": [
      "i= 30\n",
      "path= C:/Users/user/Number_Images\\NUM_Kai\n",
      "img= zP_20190227_213242_vHDR_Auto.jpg\n",
      "(28, 28)\n"
     ]
    },
    {
     "data": {
      "text/plain": [
       "<matplotlib.figure.Figure at 0x19c617f79b0>"
      ]
     },
     "metadata": {},
     "output_type": "display_data"
    },
    {
     "name": "stdout",
     "output_type": "stream",
     "text": [
      "i= 31\n",
      "path= C:/Users/user/Number_Images\\NUM_Kai\n",
      "img= zP_20190227_213245_vHDR_Auto.jpg\n",
      "(28, 28)\n"
     ]
    },
    {
     "data": {
      "text/plain": [
       "<matplotlib.figure.Figure at 0x19c61830da0>"
      ]
     },
     "metadata": {},
     "output_type": "display_data"
    },
    {
     "name": "stdout",
     "output_type": "stream",
     "text": [
      "i= 32\n",
      "path= C:/Users/user/Number_Images\\NUM_Kai\n",
      "img= zP_20190227_213251_vHDR_Auto.jpg\n",
      "(28, 28)\n"
     ]
    },
    {
     "data": {
      "text/plain": [
       "<matplotlib.figure.Figure at 0x19c618721d0>"
      ]
     },
     "metadata": {},
     "output_type": "display_data"
    },
    {
     "name": "stdout",
     "output_type": "stream",
     "text": [
      "i= 33\n",
      "path= C:/Users/user/Number_Images\\NUM_Kai\n",
      "img= zP_20190227_213344_vHDR_Auto.jpg\n",
      "(28, 28)\n"
     ]
    },
    {
     "data": {
      "text/plain": [
       "<matplotlib.figure.Figure at 0x19c618ad5c0>"
      ]
     },
     "metadata": {},
     "output_type": "display_data"
    },
    {
     "name": "stdout",
     "output_type": "stream",
     "text": [
      "i= 34\n",
      "path= C:/Users/user/Number_Images\\NUM_Kai\n",
      "img= zP_20190227_213347_vHDR_Auto.jpg\n",
      "(28, 28)\n"
     ]
    },
    {
     "data": {
      "text/plain": [
       "<matplotlib.figure.Figure at 0x19c618e5940>"
      ]
     },
     "metadata": {},
     "output_type": "display_data"
    },
    {
     "name": "stdout",
     "output_type": "stream",
     "text": [
      "i= 35\n",
      "path= C:/Users/user/Number_Images\\NUM_Kai\n",
      "img= zP_20190227_213356_vHDR_Auto.jpg\n",
      "(28, 28)\n"
     ]
    },
    {
     "data": {
      "text/plain": [
       "<matplotlib.figure.Figure at 0x19c618d82b0>"
      ]
     },
     "metadata": {},
     "output_type": "display_data"
    },
    {
     "name": "stdout",
     "output_type": "stream",
     "text": [
      "i= 36\n",
      "path= C:/Users/user/Number_Images\\NUM_Kai\n",
      "img= zP_20190227_213401_vHDR_Auto.jpg\n",
      "(28, 28)\n"
     ]
    },
    {
     "data": {
      "text/plain": [
       "<matplotlib.figure.Figure at 0x19c618eae48>"
      ]
     },
     "metadata": {},
     "output_type": "display_data"
    },
    {
     "name": "stdout",
     "output_type": "stream",
     "text": [
      "i= 37\n",
      "path= C:/Users/user/Number_Images\\NUM_Kai\n",
      "img= zP_20190227_213406_vHDR_Auto.jpg\n",
      "(28, 28)\n"
     ]
    },
    {
     "data": {
      "text/plain": [
       "<matplotlib.figure.Figure at 0x19c611df978>"
      ]
     },
     "metadata": {},
     "output_type": "display_data"
    },
    {
     "name": "stdout",
     "output_type": "stream",
     "text": [
      "i= 38\n",
      "path= C:/Users/user/Number_Images\\NUM_Kai\n",
      "img= zP_20190227_213531_vHDR_Auto.jpg\n",
      "(28, 28)\n"
     ]
    },
    {
     "data": {
      "text/plain": [
       "<matplotlib.figure.Figure at 0x19c61204d68>"
      ]
     },
     "metadata": {},
     "output_type": "display_data"
    },
    {
     "name": "stdout",
     "output_type": "stream",
     "text": [
      "i= 39\n",
      "path= C:/Users/user/Number_Images\\NUM_Kai\n",
      "img= zP_20190320_113221_vHDR_Auto.jpg\n",
      "(28, 28)\n"
     ]
    },
    {
     "data": {
      "text/plain": [
       "<matplotlib.figure.Figure at 0x19c618610b8>"
      ]
     },
     "metadata": {},
     "output_type": "display_data"
    },
    {
     "name": "stdout",
     "output_type": "stream",
     "text": [
      "i= 40\n",
      "path= C:/Users/user/Number_Images\\NUM_Kai\n",
      "img= zP_20190320_113229_vHDR_Auto.jpg\n",
      "(28, 28)\n"
     ]
    },
    {
     "data": {
      "text/plain": [
       "<matplotlib.figure.Figure at 0x19c61827198>"
      ]
     },
     "metadata": {},
     "output_type": "display_data"
    },
    {
     "name": "stdout",
     "output_type": "stream",
     "text": [
      "i= 41\n",
      "path= C:/Users/user/Number_Images\\NUM_Kai\n",
      "img= zP_20190320_113232_vHDR_Auto.jpg\n",
      "(28, 28)\n"
     ]
    },
    {
     "data": {
      "text/plain": [
       "<matplotlib.figure.Figure at 0x19c61934978>"
      ]
     },
     "metadata": {},
     "output_type": "display_data"
    },
    {
     "name": "stdout",
     "output_type": "stream",
     "text": [
      "i= 42\n",
      "path= C:/Users/user/Number_Images\\NUM_Kai\n",
      "img= zP_20190320_113234_vHDR_Auto.jpg\n",
      "(28, 28)\n"
     ]
    },
    {
     "data": {
      "text/plain": [
       "<matplotlib.figure.Figure at 0x19c6181fcf8>"
      ]
     },
     "metadata": {},
     "output_type": "display_data"
    },
    {
     "name": "stdout",
     "output_type": "stream",
     "text": [
      "i= 43\n",
      "path= C:/Users/user/Number_Images\\NUM_Kai\n",
      "img= zP_20190320_113241_vHDR_Auto.jpg\n",
      "(28, 28)\n"
     ]
    },
    {
     "data": {
      "text/plain": [
       "<matplotlib.figure.Figure at 0x19c616c15c0>"
      ]
     },
     "metadata": {},
     "output_type": "display_data"
    },
    {
     "name": "stdout",
     "output_type": "stream",
     "text": [
      "i= 44\n",
      "path= C:/Users/user/Number_Images\\NUM_Kai\n",
      "img= zP_20190320_113244_vHDR_Auto.jpg\n",
      "(28, 28)\n"
     ]
    },
    {
     "data": {
      "text/plain": [
       "<matplotlib.figure.Figure at 0x19c616c1898>"
      ]
     },
     "metadata": {},
     "output_type": "display_data"
    },
    {
     "name": "stdout",
     "output_type": "stream",
     "text": [
      "i= 45\n",
      "path= C:/Users/user/Number_Images\\NUM_Kai\n",
      "img= zP_20190320_113246_vHDR_Auto.jpg\n",
      "(28, 28)\n"
     ]
    },
    {
     "data": {
      "text/plain": [
       "<matplotlib.figure.Figure at 0x19c617b99b0>"
      ]
     },
     "metadata": {},
     "output_type": "display_data"
    },
    {
     "name": "stdout",
     "output_type": "stream",
     "text": [
      "i= 46\n",
      "path= C:/Users/user/Number_Images\\NUM_Kai\n",
      "img= zP_20190320_113248_1_vHDR_Auto.jpg\n",
      "(28, 28)\n"
     ]
    },
    {
     "data": {
      "text/plain": [
       "<matplotlib.figure.Figure at 0x19c61319550>"
      ]
     },
     "metadata": {},
     "output_type": "display_data"
    },
    {
     "name": "stdout",
     "output_type": "stream",
     "text": [
      "i= 47\n",
      "path= C:/Users/user/Number_Images\\NUM_Kai\n",
      "img= zP_20190320_113255_vHDR_Auto.jpg\n",
      "(28, 28)\n"
     ]
    },
    {
     "data": {
      "text/plain": [
       "<matplotlib.figure.Figure at 0x19c6159fe10>"
      ]
     },
     "metadata": {},
     "output_type": "display_data"
    },
    {
     "name": "stdout",
     "output_type": "stream",
     "text": [
      "i= 48\n",
      "path= C:/Users/user/Number_Images\\NUM_Kai\n",
      "img= zP_20190320_113259_vHDR_Auto.jpg\n",
      "(28, 28)\n"
     ]
    },
    {
     "data": {
      "text/plain": [
       "<matplotlib.figure.Figure at 0x19c615d35c0>"
      ]
     },
     "metadata": {},
     "output_type": "display_data"
    },
    {
     "name": "stdout",
     "output_type": "stream",
     "text": [
      "i= 49\n",
      "path= C:/Users/user/Number_Images\\NUM_Kai\n",
      "img= zP_20190320_114041_vHDR_Auto.jpg\n",
      "(28, 28)\n"
     ]
    },
    {
     "data": {
      "text/plain": [
       "<matplotlib.figure.Figure at 0x19c61602940>"
      ]
     },
     "metadata": {},
     "output_type": "display_data"
    },
    {
     "name": "stdout",
     "output_type": "stream",
     "text": [
      "i= 50\n",
      "path= C:/Users/user/Number_Images\\NUM_Kai\n",
      "img= zP_20190320_114048_vHDR_Auto.jpg\n",
      "(28, 28)\n"
     ]
    },
    {
     "data": {
      "text/plain": [
       "<matplotlib.figure.Figure at 0x19c615f4da0>"
      ]
     },
     "metadata": {},
     "output_type": "display_data"
    },
    {
     "name": "stdout",
     "output_type": "stream",
     "text": [
      "i= 51\n",
      "path= C:/Users/user/Number_Images\\NUM_Kai\n",
      "img= zP_20190320_114052_vHDR_Auto.jpg\n",
      "(28, 28)\n"
     ]
    },
    {
     "data": {
      "text/plain": [
       "<matplotlib.figure.Figure at 0x19c615031d0>"
      ]
     },
     "metadata": {},
     "output_type": "display_data"
    },
    {
     "name": "stdout",
     "output_type": "stream",
     "text": [
      "i= 52\n",
      "path= C:/Users/user/Number_Images\\NUM_Kai\n",
      "img= zP_20190320_114054_vHDR_Auto.jpg\n",
      "(28, 28)\n"
     ]
    },
    {
     "data": {
      "text/plain": [
       "<matplotlib.figure.Figure at 0x19c616ed5c0>"
      ]
     },
     "metadata": {},
     "output_type": "display_data"
    },
    {
     "name": "stdout",
     "output_type": "stream",
     "text": [
      "i= 53\n",
      "path= C:/Users/user/Number_Images\\NUM_Kai\n",
      "img= zP_20190320_114057_vHDR_Auto.jpg\n",
      "(28, 28)\n"
     ]
    },
    {
     "data": {
      "text/plain": [
       "<matplotlib.figure.Figure at 0x19c6179b9b0>"
      ]
     },
     "metadata": {},
     "output_type": "display_data"
    },
    {
     "name": "stdout",
     "output_type": "stream",
     "text": [
      "i= 54\n",
      "path= C:/Users/user/Number_Images\\NUM_Kai\n",
      "img= zP_20190320_114103_vHDR_Auto.jpg\n",
      "(28, 28)\n"
     ]
    },
    {
     "data": {
      "text/plain": [
       "<matplotlib.figure.Figure at 0x19c612502e8>"
      ]
     },
     "metadata": {},
     "output_type": "display_data"
    },
    {
     "name": "stdout",
     "output_type": "stream",
     "text": [
      "i= 55\n",
      "path= C:/Users/user/Number_Images\\NUM_Kai\n",
      "img= zP_20190320_114110_vHDR_Auto.jpg\n",
      "(28, 28)\n"
     ]
    },
    {
     "data": {
      "text/plain": [
       "<matplotlib.figure.Figure at 0x19c612893c8>"
      ]
     },
     "metadata": {},
     "output_type": "display_data"
    },
    {
     "name": "stdout",
     "output_type": "stream",
     "text": [
      "i= 56\n",
      "path= C:/Users/user/Number_Images\\NUM_Kai\n",
      "img= zP_20190320_114118_vHDR_Auto.jpg\n",
      "(28, 28)\n"
     ]
    },
    {
     "data": {
      "text/plain": [
       "<matplotlib.figure.Figure at 0x19c612cc358>"
      ]
     },
     "metadata": {},
     "output_type": "display_data"
    },
    {
     "name": "stdout",
     "output_type": "stream",
     "text": [
      "i= 57\n",
      "path= C:/Users/user/Number_Images\\NUM_Kai\n",
      "img= zP_20190320_114139_vHDR_Auto.jpg\n",
      "(28, 28)\n"
     ]
    },
    {
     "data": {
      "text/plain": [
       "<matplotlib.figure.Figure at 0x19c61347940>"
      ]
     },
     "metadata": {},
     "output_type": "display_data"
    },
    {
     "name": "stdout",
     "output_type": "stream",
     "text": [
      "i= 58\n",
      "path= C:/Users/user/Number_Images\\NUM_Kai\n",
      "img= zP_20190320_114143_vHDR_Auto.jpg\n",
      "(28, 28)\n"
     ]
    },
    {
     "data": {
      "text/plain": [
       "<matplotlib.figure.Figure at 0x19c613812e8>"
      ]
     },
     "metadata": {},
     "output_type": "display_data"
    },
    {
     "name": "stdout",
     "output_type": "stream",
     "text": [
      "i= 59\n",
      "path= C:/Users/user/Number_Images\\NUM_Kai\n",
      "img= zP_20190320_114542_vHDR_Auto.jpg\n",
      "(28, 28)\n"
     ]
    },
    {
     "data": {
      "text/plain": [
       "<matplotlib.figure.Figure at 0x19c613bd320>"
      ]
     },
     "metadata": {},
     "output_type": "display_data"
    },
    {
     "name": "stdout",
     "output_type": "stream",
     "text": [
      "i= 60\n",
      "path= C:/Users/user/Number_Images\\NUM_Kai\n",
      "img= zP_20190320_114545_vHDR_Auto.jpg\n",
      "(28, 28)\n"
     ]
    },
    {
     "data": {
      "text/plain": [
       "<matplotlib.figure.Figure at 0x19c613fd320>"
      ]
     },
     "metadata": {},
     "output_type": "display_data"
    },
    {
     "name": "stdout",
     "output_type": "stream",
     "text": [
      "i= 61\n",
      "path= C:/Users/user/Number_Images\\NUM_Kai\n",
      "img= zP_20190320_114547_vHDR_Auto.jpg\n",
      "(28, 28)\n"
     ]
    },
    {
     "data": {
      "text/plain": [
       "<matplotlib.figure.Figure at 0x19c614380f0>"
      ]
     },
     "metadata": {},
     "output_type": "display_data"
    },
    {
     "name": "stdout",
     "output_type": "stream",
     "text": [
      "i= 62\n",
      "path= C:/Users/user/Number_Images\\NUM_Kai\n",
      "img= zP_20190320_114551_vHDR_Auto.jpg\n",
      "(28, 28)\n"
     ]
    },
    {
     "data": {
      "text/plain": [
       "<matplotlib.figure.Figure at 0x19c614702e8>"
      ]
     },
     "metadata": {},
     "output_type": "display_data"
    },
    {
     "name": "stdout",
     "output_type": "stream",
     "text": [
      "i= 63\n",
      "path= C:/Users/user/Number_Images\\NUM_Kai\n",
      "img= zP_20190320_114552_vHDR_Auto.jpg\n",
      "(28, 28)\n"
     ]
    },
    {
     "data": {
      "text/plain": [
       "<matplotlib.figure.Figure at 0x19c614ab3c8>"
      ]
     },
     "metadata": {},
     "output_type": "display_data"
    },
    {
     "name": "stdout",
     "output_type": "stream",
     "text": [
      "i= 64\n",
      "path= C:/Users/user/Number_Images\\NUM_Kai\n",
      "img= zP_20190320_114555_vHDR_Auto.jpg\n",
      "(28, 28)\n"
     ]
    },
    {
     "data": {
      "text/plain": [
       "<matplotlib.figure.Figure at 0x19c6152d588>"
      ]
     },
     "metadata": {},
     "output_type": "display_data"
    },
    {
     "name": "stdout",
     "output_type": "stream",
     "text": [
      "i= 65\n",
      "path= C:/Users/user/Number_Images\\NUM_Kai\n",
      "img= zP_20190320_114557_vHDR_Auto.jpg\n",
      "(28, 28)\n"
     ]
    },
    {
     "data": {
      "text/plain": [
       "<matplotlib.figure.Figure at 0x19c61624908>"
      ]
     },
     "metadata": {},
     "output_type": "display_data"
    },
    {
     "name": "stdout",
     "output_type": "stream",
     "text": [
      "i= 66\n",
      "path= C:/Users/user/Number_Images\\NUM_Kai\n",
      "img= zP_20190320_114600_vHDR_Auto.jpg\n",
      "(28, 28)\n"
     ]
    },
    {
     "data": {
      "text/plain": [
       "<matplotlib.figure.Figure at 0x19c61550898>"
      ]
     },
     "metadata": {},
     "output_type": "display_data"
    },
    {
     "name": "stdout",
     "output_type": "stream",
     "text": [
      "i= 67\n",
      "path= C:/Users/user/Number_Images\\NUM_Kai\n",
      "img= zP_20190320_114602_vHDR_Auto.jpg\n",
      "(28, 28)\n"
     ]
    },
    {
     "data": {
      "text/plain": [
       "<matplotlib.figure.Figure at 0x19c61663da0>"
      ]
     },
     "metadata": {},
     "output_type": "display_data"
    },
    {
     "name": "stdout",
     "output_type": "stream",
     "text": [
      "i= 68\n",
      "path= C:/Users/user/Number_Images\\NUM_Kai\n",
      "img= zP_20190320_114605_vHDR_Auto.jpg\n",
      "(28, 28)\n"
     ]
    },
    {
     "data": {
      "text/plain": [
       "<matplotlib.figure.Figure at 0x19c611eb9b0>"
      ]
     },
     "metadata": {},
     "output_type": "display_data"
    },
    {
     "name": "stdout",
     "output_type": "stream",
     "text": [
      "i= 69\n",
      "path= C:/Users/user/Number_Images\\NUM_Kai\n",
      "img= zP_20190321_165817_vHDR_Auto.jpg\n",
      "(28, 28)\n"
     ]
    },
    {
     "data": {
      "text/plain": [
       "<matplotlib.figure.Figure at 0x19c611e2cf8>"
      ]
     },
     "metadata": {},
     "output_type": "display_data"
    },
    {
     "name": "stdout",
     "output_type": "stream",
     "text": [
      "i= 70\n",
      "path= C:/Users/user/Number_Images\\NUM_Kai\n",
      "img= zP_20190321_165821_vHDR_Auto.jpg\n",
      "(28, 28)\n"
     ]
    },
    {
     "data": {
      "text/plain": [
       "<matplotlib.figure.Figure at 0x19c61464400>"
      ]
     },
     "metadata": {},
     "output_type": "display_data"
    },
    {
     "name": "stdout",
     "output_type": "stream",
     "text": [
      "i= 71\n",
      "path= C:/Users/user/Number_Images\\NUM_Kai\n",
      "img= zP_20190321_165823_vHDR_Auto.jpg\n",
      "(28, 28)\n"
     ]
    },
    {
     "data": {
      "text/plain": [
       "<matplotlib.figure.Figure at 0x19c614d6550>"
      ]
     },
     "metadata": {},
     "output_type": "display_data"
    },
    {
     "name": "stdout",
     "output_type": "stream",
     "text": [
      "i= 72\n",
      "path= C:/Users/user/Number_Images\\NUM_Kai\n",
      "img= zP_20190321_165825_vHDR_Auto.jpg\n",
      "(28, 28)\n"
     ]
    },
    {
     "data": {
      "text/plain": [
       "<matplotlib.figure.Figure at 0x19c6142d908>"
      ]
     },
     "metadata": {},
     "output_type": "display_data"
    },
    {
     "name": "stdout",
     "output_type": "stream",
     "text": [
      "i= 73\n",
      "path= C:/Users/user/Number_Images\\NUM_Kai\n",
      "img= zP_20190321_165832_vHDR_Auto.jpg\n",
      "(28, 28)\n"
     ]
    },
    {
     "data": {
      "text/plain": [
       "<matplotlib.figure.Figure at 0x19c61674cf8>"
      ]
     },
     "metadata": {},
     "output_type": "display_data"
    },
    {
     "name": "stdout",
     "output_type": "stream",
     "text": [
      "i= 74\n",
      "path= C:/Users/user/Number_Images\\NUM_Kai\n",
      "img= zP_20190321_165834_vHDR_Auto.jpg\n",
      "(28, 28)\n"
     ]
    },
    {
     "data": {
      "text/plain": [
       "<matplotlib.figure.Figure at 0x19c613c10b8>"
      ]
     },
     "metadata": {},
     "output_type": "display_data"
    },
    {
     "name": "stdout",
     "output_type": "stream",
     "text": [
      "i= 75\n",
      "path= C:/Users/user/Number_Images\\NUM_Kai\n",
      "img= zP_20190321_165839_vHDR_Auto.jpg\n",
      "(28, 28)\n"
     ]
    },
    {
     "data": {
      "text/plain": [
       "<matplotlib.figure.Figure at 0x19c6138e518>"
      ]
     },
     "metadata": {},
     "output_type": "display_data"
    },
    {
     "name": "stdout",
     "output_type": "stream",
     "text": [
      "i= 76\n",
      "path= C:/Users/user/Number_Images\\NUM_Kai\n",
      "img= zP_20190321_165844_vHDR_Auto.jpg\n",
      "(28, 28)\n"
     ]
    },
    {
     "data": {
      "text/plain": [
       "<matplotlib.figure.Figure at 0x19c6138e4a8>"
      ]
     },
     "metadata": {},
     "output_type": "display_data"
    },
    {
     "name": "stdout",
     "output_type": "stream",
     "text": [
      "i= 77\n",
      "path= C:/Users/user/Number_Images\\NUM_Kai\n",
      "img= zP_20190321_165847_vHDR_Auto.jpg\n",
      "(28, 28)\n"
     ]
    },
    {
     "data": {
      "text/plain": [
       "<matplotlib.figure.Figure at 0x19c61910c88>"
      ]
     },
     "metadata": {},
     "output_type": "display_data"
    },
    {
     "name": "stdout",
     "output_type": "stream",
     "text": [
      "i= 78\n",
      "path= C:/Users/user/Number_Images\\NUM_Kai\n",
      "img= zP_20190321_165855_vHDR_Auto.jpg\n",
      "(28, 28)\n"
     ]
    },
    {
     "data": {
      "text/plain": [
       "<matplotlib.figure.Figure at 0x19c6141da90>"
      ]
     },
     "metadata": {},
     "output_type": "display_data"
    },
    {
     "name": "stdout",
     "output_type": "stream",
     "text": [
      "i= 79\n",
      "path= C:/Users/user/Number_Images\\NUM_Kai\n",
      "img= zP_20190321_170130_vHDR_Auto.jpg\n",
      "(28, 28)\n"
     ]
    },
    {
     "data": {
      "text/plain": [
       "<matplotlib.figure.Figure at 0x19c61350860>"
      ]
     },
     "metadata": {},
     "output_type": "display_data"
    },
    {
     "name": "stdout",
     "output_type": "stream",
     "text": [
      "i= 80\n",
      "path= C:/Users/user/Number_Images\\NUM_Kai\n",
      "img= zP_20190321_170132_vHDR_Auto.jpg\n",
      "(28, 28)\n"
     ]
    },
    {
     "data": {
      "text/plain": [
       "<matplotlib.figure.Figure at 0x19c612c9908>"
      ]
     },
     "metadata": {},
     "output_type": "display_data"
    },
    {
     "name": "stdout",
     "output_type": "stream",
     "text": [
      "i= 81\n",
      "path= C:/Users/user/Number_Images\\NUM_Kai\n",
      "img= zP_20190321_170135_vHDR_Auto.jpg\n",
      "(28, 28)\n"
     ]
    },
    {
     "data": {
      "text/plain": [
       "<matplotlib.figure.Figure at 0x19c612abcf8>"
      ]
     },
     "metadata": {},
     "output_type": "display_data"
    },
    {
     "name": "stdout",
     "output_type": "stream",
     "text": [
      "i= 82\n",
      "path= C:/Users/user/Number_Images\\NUM_Kai\n",
      "img= zP_20190321_170141_vHDR_Auto.jpg\n",
      "(28, 28)\n"
     ]
    },
    {
     "data": {
      "text/plain": [
       "<matplotlib.figure.Figure at 0x19c6176e2e8>"
      ]
     },
     "metadata": {},
     "output_type": "display_data"
    },
    {
     "name": "stdout",
     "output_type": "stream",
     "text": [
      "i= 83\n",
      "path= C:/Users/user/Number_Images\\NUM_Kai\n",
      "img= zP_20190321_170148_vHDR_Auto.jpg\n",
      "(28, 28)\n"
     ]
    },
    {
     "data": {
      "text/plain": [
       "<matplotlib.figure.Figure at 0x19c6176e668>"
      ]
     },
     "metadata": {},
     "output_type": "display_data"
    },
    {
     "name": "stdout",
     "output_type": "stream",
     "text": [
      "i= 84\n",
      "path= C:/Users/user/Number_Images\\NUM_Kai\n",
      "img= zP_20190321_170150_vHDR_Auto.jpg\n",
      "(28, 28)\n"
     ]
    },
    {
     "data": {
      "text/plain": [
       "<matplotlib.figure.Figure at 0x19c612968d0>"
      ]
     },
     "metadata": {},
     "output_type": "display_data"
    },
    {
     "name": "stdout",
     "output_type": "stream",
     "text": [
      "i= 85\n",
      "path= C:/Users/user/Number_Images\\NUM_Kai\n",
      "img= zP_20190321_170156_vHDR_Auto.jpg\n",
      "(28, 28)\n"
     ]
    },
    {
     "data": {
      "text/plain": [
       "<matplotlib.figure.Figure at 0x19c6130e278>"
      ]
     },
     "metadata": {},
     "output_type": "display_data"
    },
    {
     "name": "stdout",
     "output_type": "stream",
     "text": [
      "i= 86\n",
      "path= C:/Users/user/Number_Images\\NUM_Kai\n",
      "img= zP_20190321_170200_1_vHDR_Auto.jpg\n",
      "(28, 28)\n"
     ]
    },
    {
     "data": {
      "text/plain": [
       "<matplotlib.figure.Figure at 0x19c61511160>"
      ]
     },
     "metadata": {},
     "output_type": "display_data"
    },
    {
     "name": "stdout",
     "output_type": "stream",
     "text": [
      "i= 87\n",
      "path= C:/Users/user/Number_Images\\NUM_Kai\n",
      "img= zP_20190321_170207_vHDR_Auto.jpg\n",
      "(28, 28)\n"
     ]
    },
    {
     "data": {
      "text/plain": [
       "<matplotlib.figure.Figure at 0x19c615110f0>"
      ]
     },
     "metadata": {},
     "output_type": "display_data"
    },
    {
     "name": "stdout",
     "output_type": "stream",
     "text": [
      "i= 88\n",
      "path= C:/Users/user/Number_Images\\NUM_Kai\n",
      "img= zP_20190321_170210_vHDR_Auto.jpg\n",
      "(28, 28)\n"
     ]
    },
    {
     "data": {
      "text/plain": [
       "<matplotlib.figure.Figure at 0x19c61606898>"
      ]
     },
     "metadata": {},
     "output_type": "display_data"
    },
    {
     "name": "stdout",
     "output_type": "stream",
     "text": [
      "i= 89\n",
      "path= C:/Users/user/Number_Images\\NUM_Kai\n",
      "img= zP_20190321_170429_vHDR_Auto.jpg\n",
      "(28, 28)\n"
     ]
    },
    {
     "data": {
      "text/plain": [
       "<matplotlib.figure.Figure at 0x19c616c1278>"
      ]
     },
     "metadata": {},
     "output_type": "display_data"
    },
    {
     "name": "stdout",
     "output_type": "stream",
     "text": [
      "i= 90\n",
      "path= C:/Users/user/Number_Images\\NUM_Kai\n",
      "img= zP_20190321_170432_vHDR_Auto.jpg\n",
      "(28, 28)\n"
     ]
    },
    {
     "data": {
      "text/plain": [
       "<matplotlib.figure.Figure at 0x19c616ff0b8>"
      ]
     },
     "metadata": {},
     "output_type": "display_data"
    },
    {
     "name": "stdout",
     "output_type": "stream",
     "text": [
      "i= 91\n",
      "path= C:/Users/user/Number_Images\\NUM_Kai\n",
      "img= zP_20190321_170434_vHDR_Auto.jpg\n",
      "(28, 28)\n"
     ]
    },
    {
     "data": {
      "text/plain": [
       "<matplotlib.figure.Figure at 0x19c6173b0b8>"
      ]
     },
     "metadata": {},
     "output_type": "display_data"
    },
    {
     "name": "stdout",
     "output_type": "stream",
     "text": [
      "i= 92\n",
      "path= C:/Users/user/Number_Images\\NUM_Kai\n",
      "img= zP_20190321_170436_vHDR_Auto.jpg\n",
      "(28, 28)\n"
     ]
    },
    {
     "data": {
      "text/plain": [
       "<matplotlib.figure.Figure at 0x19c6173b390>"
      ]
     },
     "metadata": {},
     "output_type": "display_data"
    },
    {
     "name": "stdout",
     "output_type": "stream",
     "text": [
      "i= 93\n",
      "path= C:/Users/user/Number_Images\\NUM_Kai\n",
      "img= zP_20190321_170440_vHDR_Auto.jpg\n",
      "(28, 28)\n"
     ]
    },
    {
     "data": {
      "text/plain": [
       "<matplotlib.figure.Figure at 0x19c617eec88>"
      ]
     },
     "metadata": {},
     "output_type": "display_data"
    },
    {
     "name": "stdout",
     "output_type": "stream",
     "text": [
      "i= 94\n",
      "path= C:/Users/user/Number_Images\\NUM_Kai\n",
      "img= zP_20190321_170443_vHDR_Auto.jpg\n",
      "(28, 28)\n"
     ]
    },
    {
     "data": {
      "text/plain": [
       "<matplotlib.figure.Figure at 0x19c618292e8>"
      ]
     },
     "metadata": {},
     "output_type": "display_data"
    },
    {
     "name": "stdout",
     "output_type": "stream",
     "text": [
      "i= 95\n",
      "path= C:/Users/user/Number_Images\\NUM_Kai\n",
      "img= zP_20190321_170458_vHDR_Auto.jpg\n",
      "(28, 28)\n"
     ]
    },
    {
     "data": {
      "text/plain": [
       "<matplotlib.figure.Figure at 0x19c6186c198>"
      ]
     },
     "metadata": {},
     "output_type": "display_data"
    },
    {
     "name": "stdout",
     "output_type": "stream",
     "text": [
      "i= 96\n",
      "path= C:/Users/user/Number_Images\\NUM_Kai\n",
      "img= zP_20190321_170507_vHDR_Auto.jpg\n",
      "(28, 28)\n"
     ]
    },
    {
     "data": {
      "text/plain": [
       "<matplotlib.figure.Figure at 0x19c618a4898>"
      ]
     },
     "metadata": {},
     "output_type": "display_data"
    },
    {
     "name": "stdout",
     "output_type": "stream",
     "text": [
      "i= 97\n",
      "path= C:/Users/user/Number_Images\\NUM_Kai\n",
      "img= zP_20190321_170510_vHDR_Auto.jpg\n",
      "(28, 28)\n"
     ]
    },
    {
     "data": {
      "text/plain": [
       "<matplotlib.figure.Figure at 0x19c61897e80>"
      ]
     },
     "metadata": {},
     "output_type": "display_data"
    },
    {
     "name": "stdout",
     "output_type": "stream",
     "text": [
      "i= 98\n",
      "path= C:/Users/user/Number_Images\\NUM_Kai\n",
      "img= zP_20190321_170516_vHDR_Auto.jpg\n",
      "(28, 28)\n"
     ]
    },
    {
     "data": {
      "text/plain": [
       "<matplotlib.figure.Figure at 0x19c61922240>"
      ]
     },
     "metadata": {},
     "output_type": "display_data"
    },
    {
     "name": "stdout",
     "output_type": "stream",
     "text": [
      "i= 99\n",
      "new_img_array[ 0 ]= [[187 190 190 191 190 191 193 193 191 191 190 193 193 193 193 190 192 189\n",
      "  191 192 191 190 190 190 194 193 190 193]\n",
      " [190 189 190 186 193 191 191 192 193 194 193 194 193 194 191 193 191 192\n",
      "  191 190 190 189 189 192 189 190 191 191]\n",
      " [191 190 191 189 191 191 191 191 194 193 194 194 194 194 193 191 193 191\n",
      "  194 193 193 192 187 190 192 190 189 191]\n",
      " [190 191 190 191 191 191 194 191 192 194 192 194 191 194 195 195 194 193\n",
      "  194 193 191 193 190 190 191 190 189 191]\n",
      " [190 191 190 189 193 190 194 194 194 193 194 195 193 193 194 194 193 191\n",
      "  191 193 192 191 190 190 190 190 190 188]\n",
      " [189 191 190 193 191 193 193 193 194 194 195 195 194 194 195 193 194 194\n",
      "  194 191 191 193 193 190 191 189 191 189]\n",
      " [187 193 193 191 194 194 194 194 194 194 190 193 193 191 194 193 191 194\n",
      "  193 192 194 191 191 191 191 190 190 190]\n",
      " [191 193 194 194 193 194 194 193 191 193 193 193 191 191 191 193 191 193\n",
      "  193 193 193 191 191 193 193 190 191 191]\n",
      " [191 195 194 194 194 194 194 193 193 190 191 191 191 191 191 190 191 191\n",
      "  190 190 189 187 187 189 190 189 189 186]\n",
      " [194 195 194 194 194 194 194 194 194 193 190 191 193 189 191 191 191 186\n",
      "  187 187 187 186 187 189 188 189 189 184]\n",
      " [193 195 193 195 194 194 193 195 194 193 190 189 190 191 191 191 189 187\n",
      "  186 186 187 186 188 189 187 187 189 189]\n",
      " [194 194 194 193 194 191 193 191 191 193 190 191 190 192 190 190 188 186\n",
      "  187 186 187 186 187 187 189 188 189 190]\n",
      " [194 193 191 191 191 144  37  46 191 191 185 190 190 190 190 190 183 184\n",
      "  186 185 187 189 190 190 189 189 191 189]\n",
      " [194 193 193 191 191  37 189 193  43 191 190 190 192 189 191 190 186 186\n",
      "  187 186 184 187 188 189 189 187 190 189]\n",
      " [193 194 193 193  60  68 191 192  52 190 189 190 191 191 190 187 186 186\n",
      "  186 184 187 187 187 186 189 187 187 189]\n",
      " [194 195 194 191  51 189 191 192  46 190 190 190 190 189 189 186 186 184\n",
      "  187 186 187 186 189 189 190 189 191 189]\n",
      " [196 197 194 193  48 191 191  70  58 191 190 190 188 191 190 186 186 188\n",
      "  187 187 187 187 188 190 189 191 191 190]\n",
      " [194 194 194 194  48  52  41  58 191 190 192 193 190 192 190 186 187 187\n",
      "  187 187 189 186 187 189 190 189 190 190]\n",
      " [190 191 190 190 191 189 193 193 191 190 191 192 190 193 189 187 187 187\n",
      "  187 188 186 187 187 189 191 190 190 188]\n",
      " [187 187 190 187 187 187 189 190 189 191 191 193 193 191 186 187 188 186\n",
      "  187 186 188 187 187 190 187 189 191 186]\n",
      " [186 183 185 187 187 187 186 186 190 193 193 193 193 190 190 186 189 190\n",
      "  189 188 187 190 189 188 187 187 189 190]\n",
      " [183 186 186 187 190 191 191 194 194 193 193 193 191 191 190 188 189 189\n",
      "  189 190 190 186 189 189 189 186 187 186]\n",
      " [182 186 187 190 194 193 195 195 195 191 193 194 194 190 189 188 190 190\n",
      "  189 190 189 192 189 189 190 187 187 183]\n",
      " [184 187 191 190 193 196 196 195 195 195 193 193 193 189 189 189 189 187\n",
      "  187 187 188 187 189 189 187 186 187 182]\n",
      " [176 179 180 182 184 184 187 186 184 184 183 183 182 176 176 176 175 173\n",
      "  172 170 170 169 170 175 173 184 183 180]\n",
      " [149 154 156 157 159 158 157 157 157 155 156 152 150 148 146 143 142 143\n",
      "  137 139 139 138 138 142 153 165 174 175]\n",
      " [135 136 139 137 140 141 139 135 136 140 140 136 131 128 128 124 128 128\n",
      "  124 121 124 123 124 127 127 137 150 163]\n",
      " [132 139 139 137 139 138 138 136 137 138 137 133 129 128 124 124 126 124\n",
      "  123 123 124 124 124 123 124 124 125 144]]\n"
     ]
    },
    {
     "data": {
      "text/plain": [
       "<matplotlib.figure.Figure at 0x19c6117afd0>"
      ]
     },
     "metadata": {},
     "output_type": "display_data"
    },
    {
     "name": "stdout",
     "output_type": "stream",
     "text": [
      "反白後\n",
      "[[ 68  65  65  64  65  64  62  62  64  64  65  62  62  62  62  65  63  66\n",
      "   64  63  64  65  65  65  61  62  65  62]\n",
      " [ 65  66  65  69  62  64  64  63  62  61  62  61  62  61  64  62  64  63\n",
      "   64  65  65  66  66  63  66  65  64  64]\n",
      " [ 64  65  64  66  64  64  64  64  61  62  61  61  61  61  62  64  62  64\n",
      "   61  62  62  63  68  65  63  65  66  64]\n",
      " [ 65  64  65  64  64  64  61  64  63  61  63  61  64  61  60  60  61  62\n",
      "   61  62  64  62  65  65  64  65  66  64]\n",
      " [ 65  64  65  66  62  65  61  61  61  62  61  60  62  62  61  61  62  64\n",
      "   64  62  63  64  65  65  65  65  65  67]\n",
      " [ 66  64  65  62  64  62  62  62  61  61  60  60  61  61  60  62  61  61\n",
      "   61  64  64  62  62  65  64  66  64  66]\n",
      " [ 68  62  62  64  61  61  61  61  61  61  65  62  62  64  61  62  64  61\n",
      "   62  63  61  64  64  64  64  65  65  65]\n",
      " [ 64  62  61  61  62  61  61  62  64  62  62  62  64  64  64  62  64  62\n",
      "   62  62  62  64  64  62  62  65  64  64]\n",
      " [ 64  60  61  61  61  61  61  62  62  65  64  64  64  64  64  65  64  64\n",
      "   65  65  66  68  68  66  65  66  66  69]\n",
      " [ 61  60  61  61  61  61  61  61  61  62  65  64  62  66  64  64  64  69\n",
      "   68  68  68  69  68  66  67  66  66  71]\n",
      " [ 62  60  62  60  61  61  62  60  61  62  65  66  65  64  64  64  66  68\n",
      "   69  69  68  69  67  66  68  68  66  66]\n",
      " [ 61  61  61  62  61  64  62  64  64  62  65  64  65  63  65  65  67  69\n",
      "   68  69  68  69  68  68  66  67  66  65]\n",
      " [ 61  62  64  64  64 111 218 209  64  64  70  65  65  65  65  65  72  71\n",
      "   69  70  68  66  65  65  66  66  64  66]\n",
      " [ 61  62  62  64  64 218  66  62 212  64  65  65  63  66  64  65  69  69\n",
      "   68  69  71  68  67  66  66  68  65  66]\n",
      " [ 62  61  62  62 195 187  64  63 203  65  66  65  64  64  65  68  69  69\n",
      "   69  71  68  68  68  69  66  68  68  66]\n",
      " [ 61  60  61  64 204  66  64  63 209  65  65  65  65  66  66  69  69  71\n",
      "   68  69  68  69  66  66  65  66  64  66]\n",
      " [ 59  58  61  62 207  64  64 185 197  64  65  65  67  64  65  69  69  67\n",
      "   68  68  68  68  67  65  66  64  64  65]\n",
      " [ 61  61  61  61 207 203 214 197  64  65  63  62  65  63  65  69  68  68\n",
      "   68  68  66  69  68  66  65  66  65  65]\n",
      " [ 65  64  65  65  64  66  62  62  64  65  64  63  65  62  66  68  68  68\n",
      "   68  67  69  68  68  66  64  65  65  67]\n",
      " [ 68  68  65  68  68  68  66  65  66  64  64  62  62  64  69  68  67  69\n",
      "   68  69  67  68  68  65  68  66  64  69]\n",
      " [ 69  72  70  68  68  68  69  69  65  62  62  62  62  65  65  69  66  65\n",
      "   66  67  68  65  66  67  68  68  66  65]\n",
      " [ 72  69  69  68  65  64  64  61  61  62  62  62  64  64  65  67  66  66\n",
      "   66  65  65  69  66  66  66  69  68  69]\n",
      " [ 73  69  68  65  61  62  60  60  60  64  62  61  61  65  66  67  65  65\n",
      "   66  65  66  63  66  66  65  68  68  72]\n",
      " [ 71  68  64  65  62  59  59  60  60  60  62  62  62  66  66  66  66  68\n",
      "   68  68  67  68  66  66  68  69  68  73]\n",
      " [ 79  76  75  73  71  71  68  69  71  71  72  72  73  79  79  79  80  82\n",
      "   83  85  85  86  85  80  82  71  72  75]\n",
      " [106 101  99  98  96  97  98  98  98 100  99 103 105 107 109 112 113 112\n",
      "  118 116 116 117 117 113 102  90  81  80]\n",
      " [120 119 116 118 115 114 116 120 119 115 115 119 124 127 127 131 127 127\n",
      "  131 134 131 132 131 128 128 118 105  92]\n",
      " [123 116 116 118 116 117 117 119 118 117 118 122 126 127 131 131 129 131\n",
      "  132 132 131 131 131 132 131 131 130 111]]\n"
     ]
    },
    {
     "data": {
      "text/plain": [
       "<matplotlib.figure.Figure at 0x19c6188e630>"
      ]
     },
     "metadata": {},
     "output_type": "display_data"
    },
    {
     "name": "stdout",
     "output_type": "stream",
     "text": [
      "(28, 28)\n",
      "拉黑120後\n",
      "[[ 0  0  0  0  0  0  0  0  0  0  0  0  0  0  0  0  0  0  0  0  0  0  0  0\n",
      "   0  0  0  0]\n",
      " [ 0  0  0  0  0  0  0  0  0  0  0  0  0  0  0  0  0  0  0  0  0  0  0  0\n",
      "   0  0  0  0]\n",
      " [ 0  0  0  0  0  0  0  0  0  0  0  0  0  0  0  0  0  0  0  0  0  0  0  0\n",
      "   0  0  0  0]\n",
      " [ 0  0  0  0  0  0  0  0  0  0  0  0  0  0  0  0  0  0  0  0  0  0  0  0\n",
      "   0  0  0  0]\n",
      " [ 0  0  0  0  0  0  0  0  0  0  0  0  0  0  0  0  0  0  0  0  0  0  0  0\n",
      "   0  0  0  0]\n",
      " [ 0  0  0  0  0  0  0  0  0  0  0  0  0  0  0  0  0  0  0  0  0  0  0  0\n",
      "   0  0  0  0]\n",
      " [ 0  0  0  0  0  0  0  0  0  0  0  0  0  0  0  0  0  0  0  0  0  0  0  0\n",
      "   0  0  0  0]\n",
      " [ 0  0  0  0  0  0  0  0  0  0  0  0  0  0  0  0  0  0  0  0  0  0  0  0\n",
      "   0  0  0  0]\n",
      " [ 0  0  0  0  0  0  0  0  0  0  0  0  0  0  0  0  0  0  0  0  0  0  0  0\n",
      "   0  0  0  0]\n",
      " [ 0  0  0  0  0  0  0  0  0  0  0  0  0  0  0  0  0  0  0  0  0  0  0  0\n",
      "   0  0  0  0]\n",
      " [ 0  0  0  0  0  0  0  0  0  0  0  0  0  0  0  0  0  0  0  0  0  0  0  0\n",
      "   0  0  0  0]\n",
      " [ 0  0  0  0  0  0  0  0  0  0  0  0  0  0  0  0  0  0  0  0  0  0  0  0\n",
      "   0  0  0  0]\n",
      " [ 0  0  0  0  0  0 98 89  0  0  0  0  0  0  0  0  0  0  0  0  0  0  0  0\n",
      "   0  0  0  0]\n",
      " [ 0  0  0  0  0 98  0  0 92  0  0  0  0  0  0  0  0  0  0  0  0  0  0  0\n",
      "   0  0  0  0]\n",
      " [ 0  0  0  0 75 67  0  0 83  0  0  0  0  0  0  0  0  0  0  0  0  0  0  0\n",
      "   0  0  0  0]\n",
      " [ 0  0  0  0 84  0  0  0 89  0  0  0  0  0  0  0  0  0  0  0  0  0  0  0\n",
      "   0  0  0  0]\n",
      " [ 0  0  0  0 87  0  0 65 77  0  0  0  0  0  0  0  0  0  0  0  0  0  0  0\n",
      "   0  0  0  0]\n",
      " [ 0  0  0  0 87 83 94 77  0  0  0  0  0  0  0  0  0  0  0  0  0  0  0  0\n",
      "   0  0  0  0]\n",
      " [ 0  0  0  0  0  0  0  0  0  0  0  0  0  0  0  0  0  0  0  0  0  0  0  0\n",
      "   0  0  0  0]\n",
      " [ 0  0  0  0  0  0  0  0  0  0  0  0  0  0  0  0  0  0  0  0  0  0  0  0\n",
      "   0  0  0  0]\n",
      " [ 0  0  0  0  0  0  0  0  0  0  0  0  0  0  0  0  0  0  0  0  0  0  0  0\n",
      "   0  0  0  0]\n",
      " [ 0  0  0  0  0  0  0  0  0  0  0  0  0  0  0  0  0  0  0  0  0  0  0  0\n",
      "   0  0  0  0]\n",
      " [ 0  0  0  0  0  0  0  0  0  0  0  0  0  0  0  0  0  0  0  0  0  0  0  0\n",
      "   0  0  0  0]\n",
      " [ 0  0  0  0  0  0  0  0  0  0  0  0  0  0  0  0  0  0  0  0  0  0  0  0\n",
      "   0  0  0  0]\n",
      " [ 0  0  0  0  0  0  0  0  0  0  0  0  0  0  0  0  0  0  0  0  0  0  0  0\n",
      "   0  0  0  0]\n",
      " [ 0  0  0  0  0  0  0  0  0  0  0  0  0  0  0  0  0  0  0  0  0  0  0  0\n",
      "   0  0  0  0]\n",
      " [ 0  0  0  0  0  0  0  0  0  0  0  0  4  7  7 11  7  7 11 14 11 12 11  8\n",
      "   8  0  0  0]\n",
      " [ 3  0  0  0  0  0  0  0  0  0  0  2  6  7 11 11  9 11 12 12 11 11 11 12\n",
      "  11 11 10  0]]\n"
     ]
    },
    {
     "data": {
      "text/plain": [
       "<matplotlib.figure.Figure at 0x19c6185ce10>"
      ]
     },
     "metadata": {},
     "output_type": "display_data"
    },
    {
     "name": "stdout",
     "output_type": "stream",
     "text": [
      "拉高gain\n",
      "[[  0   0   0   0   0   0   0   0   0   0   0   0   0   0   0   0   0   0\n",
      "    0   0   0   0   0   0   0   0   0   0]\n",
      " [  0   0   0   0   0   0   0   0   0   0   0   0   0   0   0   0   0   0\n",
      "    0   0   0   0   0   0   0   0   0   0]\n",
      " [  0   0   0   0   0   0   0   0   0   0   0   0   0   0   0   0   0   0\n",
      "    0   0   0   0   0   0   0   0   0   0]\n",
      " [  0   0   0   0   0   0   0   0   0   0   0   0   0   0   0   0   0   0\n",
      "    0   0   0   0   0   0   0   0   0   0]\n",
      " [  0   0   0   0   0   0   0   0   0   0   0   0   0   0   0   0   0   0\n",
      "    0   0   0   0   0   0   0   0   0   0]\n",
      " [  0   0   0   0   0   0   0   0   0   0   0   0   0   0   0   0   0   0\n",
      "    0   0   0   0   0   0   0   0   0   0]\n",
      " [  0   0   0   0   0   0   0   0   0   0   0   0   0   0   0   0   0   0\n",
      "    0   0   0   0   0   0   0   0   0   0]\n",
      " [  0   0   0   0   0   0   0   0   0   0   0   0   0   0   0   0   0   0\n",
      "    0   0   0   0   0   0   0   0   0   0]\n",
      " [  0   0   0   0   0   0   0   0   0   0   0   0   0   0   0   0   0   0\n",
      "    0   0   0   0   0   0   0   0   0   0]\n",
      " [  0   0   0   0   0   0   0   0   0   0   0   0   0   0   0   0   0   0\n",
      "    0   0   0   0   0   0   0   0   0   0]\n",
      " [  0   0   0   0   0   0   0   0   0   0   0   0   0   0   0   0   0   0\n",
      "    0   0   0   0   0   0   0   0   0   0]\n",
      " [  0   0   0   0   0   0   0   0   0   0   0   0   0   0   0   0   0   0\n",
      "    0   0   0   0   0   0   0   0   0   0]\n",
      " [  0   0   0   0   0   0 255 255   0   0   0   0   0   0   0   0   0   0\n",
      "    0   0   0   0   0   0   0   0   0   0]\n",
      " [  0   0   0   0   0 255   0   0 255   0   0   0   0   0   0   0   0   0\n",
      "    0   0   0   0   0   0   0   0   0   0]\n",
      " [  0   0   0   0 225 201   0   0 249   0   0   0   0   0   0   0   0   0\n",
      "    0   0   0   0   0   0   0   0   0   0]\n",
      " [  0   0   0   0 252   0   0   0 255   0   0   0   0   0   0   0   0   0\n",
      "    0   0   0   0   0   0   0   0   0   0]\n",
      " [  0   0   0   0 255   0   0 195 231   0   0   0   0   0   0   0   0   0\n",
      "    0   0   0   0   0   0   0   0   0   0]\n",
      " [  0   0   0   0 255 249 255 231   0   0   0   0   0   0   0   0   0   0\n",
      "    0   0   0   0   0   0   0   0   0   0]\n",
      " [  0   0   0   0   0   0   0   0   0   0   0   0   0   0   0   0   0   0\n",
      "    0   0   0   0   0   0   0   0   0   0]\n",
      " [  0   0   0   0   0   0   0   0   0   0   0   0   0   0   0   0   0   0\n",
      "    0   0   0   0   0   0   0   0   0   0]\n",
      " [  0   0   0   0   0   0   0   0   0   0   0   0   0   0   0   0   0   0\n",
      "    0   0   0   0   0   0   0   0   0   0]\n",
      " [  0   0   0   0   0   0   0   0   0   0   0   0   0   0   0   0   0   0\n",
      "    0   0   0   0   0   0   0   0   0   0]\n",
      " [  0   0   0   0   0   0   0   0   0   0   0   0   0   0   0   0   0   0\n",
      "    0   0   0   0   0   0   0   0   0   0]\n",
      " [  0   0   0   0   0   0   0   0   0   0   0   0   0   0   0   0   0   0\n",
      "    0   0   0   0   0   0   0   0   0   0]\n",
      " [  0   0   0   0   0   0   0   0   0   0   0   0   0   0   0   0   0   0\n",
      "    0   0   0   0   0   0   0   0   0   0]\n",
      " [  0   0   0   0   0   0   0   0   0   0   0   0   0   0   0   0   0   0\n",
      "    0   0   0   0   0   0   0   0   0   0]\n",
      " [  0   0   0   0   0   0   0   0   0   0   0   0  12  21  21  33  21  21\n",
      "   33  42  33  36  33  24  24   0   0   0]\n",
      " [  9   0   0   0   0   0   0   0   0   0   0   6  18  21  33  33  27  33\n",
      "   36  36  33  33  33  36  33  33  30   0]]\n"
     ]
    },
    {
     "data": {
      "text/plain": [
       "<matplotlib.figure.Figure at 0x19c619360f0>"
      ]
     },
     "metadata": {},
     "output_type": "display_data"
    },
    {
     "data": {
      "text/plain": [
       "<matplotlib.figure.Figure at 0x19c617f35c0>"
      ]
     },
     "metadata": {},
     "output_type": "display_data"
    },
    {
     "name": "stdout",
     "output_type": "stream",
     "text": [
      "new_img_array[ 1 ]= [[213 207 206 196 205 204 200 201 197 201 199 202 197 197 196 196 195 193\n",
      "  195 195 194 197 193 192 183 165 160 156]\n",
      " [203 208 204 199 199 201 200 200 194 199 194 196 197 202 191 191 194 196\n",
      "  190 192 188 191 182 188 169 172 157 156]\n",
      " [204 206 197 193 201 201 196 197 198 195 198 195 199 192 190 196 196 197\n",
      "  193 192 189 187 192 192 180 165 155 158]\n",
      " [204 203 200 198 200 195 199 195 198 198 197 194 199 196 194 196 193 195\n",
      "  195 189 192 189 193 186 185 166 157 155]\n",
      " [196 197 199 203 196 197 200 195 195 194 193 193 191 192 191 192 192 192\n",
      "  193 193 190 189 189 189 179 166 154 153]\n",
      " [202 200 197 199 195 194 192 190 193 192 194 190 190 189 188 188 191 188\n",
      "  190 189 188 187 186 189 185 172 155 148]\n",
      " [187 195 198 196 195 193 193 191 190 189 187 188 185 185 183 186 187 185\n",
      "  187 189 188 188 190 189 188 165 152 151]\n",
      " [191 198 196 192 194 192 194 186 187 187 184 188 188 185 185 184 186 186\n",
      "  187 184 184 186 188 183 188 167 150 148]\n",
      " [196 195 194 190 188 189 191 188 184 186  71  45  49 114 178 179 186 183\n",
      "  178 184 181 177 183 184 179 173 158 151]\n",
      " [191 193 189 187 187 189 185 185 116  47  34  37  42  41  47 164 179 180\n",
      "  179 173 182 181 182 185 179 174 157 151]\n",
      " [192 187 195 190 189 186 188 184 129  38  40 137 180  98  48  49 180 182\n",
      "  181 175 179 184 181 181 183 181 162 149]\n",
      " [194 193 185 188 183 186 182 181  68  49  51 183 180 177  48  45 168 180\n",
      "  177 176 178 180 178 182 179 178 169 154]\n",
      " [189 188 185 182 185 183 185 182  55  37 147 177 175 171  55  50 146 179\n",
      "  177 175 177 175 180 180 180 177 167 153]\n",
      " [187 185 189 184 184 183 177 181  60  54 179 178 175 173  64  38 123 174\n",
      "  174 176 175 176 182 178 179 179 176 157]\n",
      " [184 183 187 186 182 181 181 180  49  45 178 177 174 170  50  44 140 175\n",
      "  172 172 173 172 173 172 170 178 173 162]\n",
      " [184 188 188 188 181 184 180 173  46  57 173 180 172 161  47  38 168 175\n",
      "  171 175 173 174 176 175 171 175 174 159]\n",
      " [187 186 187 183 185 182 182 177  50  57 164 173 160  60  43  51 172 173\n",
      "  169 168 171 172 175 173 177 175 171 163]\n",
      " [188 188 186 183 182 181 181 179 145  46  41  46  55  48  50 134 172 171\n",
      "  169 171 171 171 175 173 175 173 177 165]\n",
      " [189 186 185 179 180 179 179 177 175 144  44  42  46  72 168 171 172 170\n",
      "  171 173 172 174 172 174 172 175 176 169]\n",
      " [180 182 180 180 180 178 178 176 173 172 175 174 175 174 175 175 173 173\n",
      "  168 175 171 170 175 174 172 172 175 167]\n",
      " [176 179 179 178 178 176 174 173 174 171 175 171 174 170 172 174 172 172\n",
      "  173 174 172 168 175 175 174 174 172 167]\n",
      " [179 180 172 173 168 173 174 174 177 169 168 170 168 171 167 172 174 170\n",
      "  171 172 171 172 174 171 169 171 172 168]\n",
      " [175 175 176 180 173 173 174 173 171 170 174 169 169 168 168 170 170 170\n",
      "  171 172 173 170 174 169 166 170 170 174]\n",
      " [178 179 177 176 174 175 181 174 174 175 173 171 172 171 166 169 172 167\n",
      "  172 171 172 168 173 172 165 171 169 173]\n",
      " [177 174 178 179 173 173 178 174 173 173 171 173 171 170 171 168 170 169\n",
      "  171 166 166 168 169 170 167 169 172 170]\n",
      " [177 176 174 174 176 174 174 172 171 172 171 169 173 170 170 171 166 167\n",
      "  170 170 167 163 169 171 170 167 169 168]\n",
      " [176 172 179 179 175 182 187 178 180 177 171 171 165 170 162 169 167 170\n",
      "  169 172 166 160 166 157 162 159 177 166]\n",
      " [185 179 180 181 182 184 183 191 179 177 172 172 172 163 166 167 165 165\n",
      "  163 165 164 167 165 173 168 166 170 172]]\n"
     ]
    },
    {
     "data": {
      "text/plain": [
       "<matplotlib.figure.Figure at 0x19c61264278>"
      ]
     },
     "metadata": {},
     "output_type": "display_data"
    },
    {
     "name": "stdout",
     "output_type": "stream",
     "text": [
      "反白後\n",
      "[[ 42  48  49  59  50  51  55  54  58  54  56  53  58  58  59  59  60  62\n",
      "   60  60  61  58  62  63  72  90  95  99]\n",
      " [ 52  47  51  56  56  54  55  55  61  56  61  59  58  53  64  64  61  59\n",
      "   65  63  67  64  73  67  86  83  98  99]\n",
      " [ 51  49  58  62  54  54  59  58  57  60  57  60  56  63  65  59  59  58\n",
      "   62  63  66  68  63  63  75  90 100  97]\n",
      " [ 51  52  55  57  55  60  56  60  57  57  58  61  56  59  61  59  62  60\n",
      "   60  66  63  66  62  69  70  89  98 100]\n",
      " [ 59  58  56  52  59  58  55  60  60  61  62  62  64  63  64  63  63  63\n",
      "   62  62  65  66  66  66  76  89 101 102]\n",
      " [ 53  55  58  56  60  61  63  65  62  63  61  65  65  66  67  67  64  67\n",
      "   65  66  67  68  69  66  70  83 100 107]\n",
      " [ 68  60  57  59  60  62  62  64  65  66  68  67  70  70  72  69  68  70\n",
      "   68  66  67  67  65  66  67  90 103 104]\n",
      " [ 64  57  59  63  61  63  61  69  68  68  71  67  67  70  70  71  69  69\n",
      "   68  71  71  69  67  72  67  88 105 107]\n",
      " [ 59  60  61  65  67  66  64  67  71  69 184 210 206 141  77  76  69  72\n",
      "   77  71  74  78  72  71  76  82  97 104]\n",
      " [ 64  62  66  68  68  66  70  70 139 208 221 218 213 214 208  91  76  75\n",
      "   76  82  73  74  73  70  76  81  98 104]\n",
      " [ 63  68  60  65  66  69  67  71 126 217 215 118  75 157 207 206  75  73\n",
      "   74  80  76  71  74  74  72  74  93 106]\n",
      " [ 61  62  70  67  72  69  73  74 187 206 204  72  75  78 207 210  87  75\n",
      "   78  79  77  75  77  73  76  77  86 101]\n",
      " [ 66  67  70  73  70  72  70  73 200 218 108  78  80  84 200 205 109  76\n",
      "   78  80  78  80  75  75  75  78  88 102]\n",
      " [ 68  70  66  71  71  72  78  74 195 201  76  77  80  82 191 217 132  81\n",
      "   81  79  80  79  73  77  76  76  79  98]\n",
      " [ 71  72  68  69  73  74  74  75 206 210  77  78  81  85 205 211 115  80\n",
      "   83  83  82  83  82  83  85  77  82  93]\n",
      " [ 71  67  67  67  74  71  75  82 209 198  82  75  83  94 208 217  87  80\n",
      "   84  80  82  81  79  80  84  80  81  96]\n",
      " [ 68  69  68  72  70  73  73  78 205 198  91  82  95 195 212 204  83  82\n",
      "   86  87  84  83  80  82  78  80  84  92]\n",
      " [ 67  67  69  72  73  74  74  76 110 209 214 209 200 207 205 121  83  84\n",
      "   86  84  84  84  80  82  80  82  78  90]\n",
      " [ 66  69  70  76  75  76  76  78  80 111 211 213 209 183  87  84  83  85\n",
      "   84  82  83  81  83  81  83  80  79  86]\n",
      " [ 75  73  75  75  75  77  77  79  82  83  80  81  80  81  80  80  82  82\n",
      "   87  80  84  85  80  81  83  83  80  88]\n",
      " [ 79  76  76  77  77  79  81  82  81  84  80  84  81  85  83  81  83  83\n",
      "   82  81  83  87  80  80  81  81  83  88]\n",
      " [ 76  75  83  82  87  82  81  81  78  86  87  85  87  84  88  83  81  85\n",
      "   84  83  84  83  81  84  86  84  83  87]\n",
      " [ 80  80  79  75  82  82  81  82  84  85  81  86  86  87  87  85  85  85\n",
      "   84  83  82  85  81  86  89  85  85  81]\n",
      " [ 77  76  78  79  81  80  74  81  81  80  82  84  83  84  89  86  83  88\n",
      "   83  84  83  87  82  83  90  84  86  82]\n",
      " [ 78  81  77  76  82  82  77  81  82  82  84  82  84  85  84  87  85  86\n",
      "   84  89  89  87  86  85  88  86  83  85]\n",
      " [ 78  79  81  81  79  81  81  83  84  83  84  86  82  85  85  84  89  88\n",
      "   85  85  88  92  86  84  85  88  86  87]\n",
      " [ 79  83  76  76  80  73  68  77  75  78  84  84  90  85  93  86  88  85\n",
      "   86  83  89  95  89  98  93  96  78  89]\n",
      " [ 70  76  75  74  73  71  72  64  76  78  83  83  83  92  89  88  90  90\n",
      "   92  90  91  88  90  82  87  89  85  83]]\n"
     ]
    },
    {
     "data": {
      "text/plain": [
       "<matplotlib.figure.Figure at 0x19c61735940>"
      ]
     },
     "metadata": {},
     "output_type": "display_data"
    },
    {
     "name": "stdout",
     "output_type": "stream",
     "text": [
      "(28, 28)\n",
      "拉黑120後\n",
      "[[  0   0   0   0   0   0   0   0   0   0   0   0   0   0   0   0   0   0\n",
      "    0   0   0   0   0   0   0   0   0   0]\n",
      " [  0   0   0   0   0   0   0   0   0   0   0   0   0   0   0   0   0   0\n",
      "    0   0   0   0   0   0   0   0   0   0]\n",
      " [  0   0   0   0   0   0   0   0   0   0   0   0   0   0   0   0   0   0\n",
      "    0   0   0   0   0   0   0   0   0   0]\n",
      " [  0   0   0   0   0   0   0   0   0   0   0   0   0   0   0   0   0   0\n",
      "    0   0   0   0   0   0   0   0   0   0]\n",
      " [  0   0   0   0   0   0   0   0   0   0   0   0   0   0   0   0   0   0\n",
      "    0   0   0   0   0   0   0   0   0   0]\n",
      " [  0   0   0   0   0   0   0   0   0   0   0   0   0   0   0   0   0   0\n",
      "    0   0   0   0   0   0   0   0   0   0]\n",
      " [  0   0   0   0   0   0   0   0   0   0   0   0   0   0   0   0   0   0\n",
      "    0   0   0   0   0   0   0   0   0   0]\n",
      " [  0   0   0   0   0   0   0   0   0   0   0   0   0   0   0   0   0   0\n",
      "    0   0   0   0   0   0   0   0   0   0]\n",
      " [  0   0   0   0   0   0   0   0   0   0  64  90  86  21   0   0   0   0\n",
      "    0   0   0   0   0   0   0   0   0   0]\n",
      " [  0   0   0   0   0   0   0   0  19  88 101  98  93  94  88   0   0   0\n",
      "    0   0   0   0   0   0   0   0   0   0]\n",
      " [  0   0   0   0   0   0   0   0   6  97  95   0   0  37  87  86   0   0\n",
      "    0   0   0   0   0   0   0   0   0   0]\n",
      " [  0   0   0   0   0   0   0   0  67  86  84   0   0   0  87  90   0   0\n",
      "    0   0   0   0   0   0   0   0   0   0]\n",
      " [  0   0   0   0   0   0   0   0  80  98   0   0   0   0  80  85   0   0\n",
      "    0   0   0   0   0   0   0   0   0   0]\n",
      " [  0   0   0   0   0   0   0   0  75  81   0   0   0   0  71  97  12   0\n",
      "    0   0   0   0   0   0   0   0   0   0]\n",
      " [  0   0   0   0   0   0   0   0  86  90   0   0   0   0  85  91   0   0\n",
      "    0   0   0   0   0   0   0   0   0   0]\n",
      " [  0   0   0   0   0   0   0   0  89  78   0   0   0   0  88  97   0   0\n",
      "    0   0   0   0   0   0   0   0   0   0]\n",
      " [  0   0   0   0   0   0   0   0  85  78   0   0   0  75  92  84   0   0\n",
      "    0   0   0   0   0   0   0   0   0   0]\n",
      " [  0   0   0   0   0   0   0   0   0  89  94  89  80  87  85   1   0   0\n",
      "    0   0   0   0   0   0   0   0   0   0]\n",
      " [  0   0   0   0   0   0   0   0   0   0  91  93  89  63   0   0   0   0\n",
      "    0   0   0   0   0   0   0   0   0   0]\n",
      " [  0   0   0   0   0   0   0   0   0   0   0   0   0   0   0   0   0   0\n",
      "    0   0   0   0   0   0   0   0   0   0]\n",
      " [  0   0   0   0   0   0   0   0   0   0   0   0   0   0   0   0   0   0\n",
      "    0   0   0   0   0   0   0   0   0   0]\n",
      " [  0   0   0   0   0   0   0   0   0   0   0   0   0   0   0   0   0   0\n",
      "    0   0   0   0   0   0   0   0   0   0]\n",
      " [  0   0   0   0   0   0   0   0   0   0   0   0   0   0   0   0   0   0\n",
      "    0   0   0   0   0   0   0   0   0   0]\n",
      " [  0   0   0   0   0   0   0   0   0   0   0   0   0   0   0   0   0   0\n",
      "    0   0   0   0   0   0   0   0   0   0]\n",
      " [  0   0   0   0   0   0   0   0   0   0   0   0   0   0   0   0   0   0\n",
      "    0   0   0   0   0   0   0   0   0   0]\n",
      " [  0   0   0   0   0   0   0   0   0   0   0   0   0   0   0   0   0   0\n",
      "    0   0   0   0   0   0   0   0   0   0]\n",
      " [  0   0   0   0   0   0   0   0   0   0   0   0   0   0   0   0   0   0\n",
      "    0   0   0   0   0   0   0   0   0   0]\n",
      " [  0   0   0   0   0   0   0   0   0   0   0   0   0   0   0   0   0   0\n",
      "    0   0   0   0   0   0   0   0   0   0]]\n"
     ]
    },
    {
     "data": {
      "text/plain": [
       "<matplotlib.figure.Figure at 0x19c612f6320>"
      ]
     },
     "metadata": {},
     "output_type": "display_data"
    },
    {
     "name": "stdout",
     "output_type": "stream",
     "text": [
      "拉高gain\n",
      "[[  0   0   0   0   0   0   0   0   0   0   0   0   0   0   0   0   0   0\n",
      "    0   0   0   0   0   0   0   0   0   0]\n",
      " [  0   0   0   0   0   0   0   0   0   0   0   0   0   0   0   0   0   0\n",
      "    0   0   0   0   0   0   0   0   0   0]\n",
      " [  0   0   0   0   0   0   0   0   0   0   0   0   0   0   0   0   0   0\n",
      "    0   0   0   0   0   0   0   0   0   0]\n",
      " [  0   0   0   0   0   0   0   0   0   0   0   0   0   0   0   0   0   0\n",
      "    0   0   0   0   0   0   0   0   0   0]\n",
      " [  0   0   0   0   0   0   0   0   0   0   0   0   0   0   0   0   0   0\n",
      "    0   0   0   0   0   0   0   0   0   0]\n",
      " [  0   0   0   0   0   0   0   0   0   0   0   0   0   0   0   0   0   0\n",
      "    0   0   0   0   0   0   0   0   0   0]\n",
      " [  0   0   0   0   0   0   0   0   0   0   0   0   0   0   0   0   0   0\n",
      "    0   0   0   0   0   0   0   0   0   0]\n",
      " [  0   0   0   0   0   0   0   0   0   0   0   0   0   0   0   0   0   0\n",
      "    0   0   0   0   0   0   0   0   0   0]\n",
      " [  0   0   0   0   0   0   0   0   0   0 192 255 255  63   0   0   0   0\n",
      "    0   0   0   0   0   0   0   0   0   0]\n",
      " [  0   0   0   0   0   0   0   0  57 255 255 255 255 255 255   0   0   0\n",
      "    0   0   0   0   0   0   0   0   0   0]\n",
      " [  0   0   0   0   0   0   0   0  18 255 255   0   0 111 255 255   0   0\n",
      "    0   0   0   0   0   0   0   0   0   0]\n",
      " [  0   0   0   0   0   0   0   0 201 255 252   0   0   0 255 255   0   0\n",
      "    0   0   0   0   0   0   0   0   0   0]\n",
      " [  0   0   0   0   0   0   0   0 240 255   0   0   0   0 240 255   0   0\n",
      "    0   0   0   0   0   0   0   0   0   0]\n",
      " [  0   0   0   0   0   0   0   0 225 243   0   0   0   0 213 255  36   0\n",
      "    0   0   0   0   0   0   0   0   0   0]\n",
      " [  0   0   0   0   0   0   0   0 255 255   0   0   0   0 255 255   0   0\n",
      "    0   0   0   0   0   0   0   0   0   0]\n",
      " [  0   0   0   0   0   0   0   0 255 234   0   0   0   0 255 255   0   0\n",
      "    0   0   0   0   0   0   0   0   0   0]\n",
      " [  0   0   0   0   0   0   0   0 255 234   0   0   0 225 255 252   0   0\n",
      "    0   0   0   0   0   0   0   0   0   0]\n",
      " [  0   0   0   0   0   0   0   0   0 255 255 255 240 255 255   3   0   0\n",
      "    0   0   0   0   0   0   0   0   0   0]\n",
      " [  0   0   0   0   0   0   0   0   0   0 255 255 255 189   0   0   0   0\n",
      "    0   0   0   0   0   0   0   0   0   0]\n",
      " [  0   0   0   0   0   0   0   0   0   0   0   0   0   0   0   0   0   0\n",
      "    0   0   0   0   0   0   0   0   0   0]\n",
      " [  0   0   0   0   0   0   0   0   0   0   0   0   0   0   0   0   0   0\n",
      "    0   0   0   0   0   0   0   0   0   0]\n",
      " [  0   0   0   0   0   0   0   0   0   0   0   0   0   0   0   0   0   0\n",
      "    0   0   0   0   0   0   0   0   0   0]\n",
      " [  0   0   0   0   0   0   0   0   0   0   0   0   0   0   0   0   0   0\n",
      "    0   0   0   0   0   0   0   0   0   0]\n",
      " [  0   0   0   0   0   0   0   0   0   0   0   0   0   0   0   0   0   0\n",
      "    0   0   0   0   0   0   0   0   0   0]\n",
      " [  0   0   0   0   0   0   0   0   0   0   0   0   0   0   0   0   0   0\n",
      "    0   0   0   0   0   0   0   0   0   0]\n",
      " [  0   0   0   0   0   0   0   0   0   0   0   0   0   0   0   0   0   0\n",
      "    0   0   0   0   0   0   0   0   0   0]\n",
      " [  0   0   0   0   0   0   0   0   0   0   0   0   0   0   0   0   0   0\n",
      "    0   0   0   0   0   0   0   0   0   0]\n",
      " [  0   0   0   0   0   0   0   0   0   0   0   0   0   0   0   0   0   0\n",
      "    0   0   0   0   0   0   0   0   0   0]]\n"
     ]
    },
    {
     "data": {
      "text/plain": [
       "<matplotlib.figure.Figure at 0x19c616ccb38>"
      ]
     },
     "metadata": {},
     "output_type": "display_data"
    },
    {
     "data": {
      "text/plain": [
       "<matplotlib.figure.Figure at 0x19c616fada0>"
      ]
     },
     "metadata": {},
     "output_type": "display_data"
    },
    {
     "name": "stdout",
     "output_type": "stream",
     "text": [
      "new_img_array[ 2 ]= [[196 198 198 193 193 195 197 200 194 193 194 197 192 194 191 188 188 185\n",
      "  185 179 180 183 183 186 182 177 181 177]\n",
      " [193 198 195 195 198 194 191 194 192 194 192 188 188 190 191 191 188 178\n",
      "  182 181 183 179 181 183 178 176 178 176]\n",
      " [195 193 191 193 193 191 191 193 194 187 184 188 186 186 189 187 183 186\n",
      "  181 177 178 181 185 177 172 177 174 179]\n",
      " [192 189 188 193 189 191 193 191 188 188 187 181 188 183 186 183 179 187\n",
      "  181 178 177 181 181 178 179 173 173 172]\n",
      " [190 187 188 188 189 188 186 185 185 185 183 181 180 181 183 182 179 179\n",
      "  182 177 176 175 176 176 176 178 178 176]\n",
      " [191 189 187 183 187 187 180 184 183 182 181 177 181 178 179 178 175 179\n",
      "  177 178 177 175 175 177 176 179 178 178]\n",
      " [188 185 187 181 182 185 178 183 181 182 177 178 178 177 174 175 177 177\n",
      "  172 173 181 172 173 171 175 174 177 174]\n",
      " [187 186 186 185 182 184 184 179 175 176 174 174 173 173 173 174 175 174\n",
      "  173 174 175 167 177 174 172 169 172 175]\n",
      " [187 184 183 178 181 181 180 176 176 175 175 171 169 172 173 171 172 170\n",
      "  174 174 172 170 170 169 175 173 173 170]\n",
      " [183 183 175 176 179 177 176 175 172 170 174 170 169 172 170 167 170 170\n",
      "  167 173 167 167 168 171 174 172 171 170]\n",
      " [181 181 179 177 178 177 175 173 173 171 172 167 168 172 170 169 167 164\n",
      "  169 166 167 165 165 169 169 173 169 169]\n",
      " [184 182 184 177 176 173 168 166  53  36  40 101 166 169 167 165 161 162\n",
      "  164 164 162 165 164 165 167 169 173 171]\n",
      " [189 183 174 174 174 171 169  39  34  45  88  39  46 169 163 159 161 161\n",
      "  162 162 163 164 163 165 167 169 170 167]\n",
      " [195 179 179 169 171 172 169  58  43 172 169 101  37 106 165 163 163 160\n",
      "  162 162 163 162 162 165 163 165 167 164]\n",
      " [195 177 173 170 169 168 167  48  58 163 163 158  34  41 166 158 159 160\n",
      "  163 164 158 157 163 164 167 167 169 169]\n",
      " [206 178 172 172 171 167 162  42  90 165 161 160  48  40 159 157 158 161\n",
      "  164 164 162 161 162 164 164 164 162 164]\n",
      " [229 177 170 169 166 170 162  33 126 165 160 157  32  40 161 162 158 160\n",
      "  155 160 159 158 154 160 164 160 164 161]\n",
      " [238 187 172 175 171 169 158  36  52 163 161  72  32  49 158 158 158 158\n",
      "  158 161 156 156 160 161 165 157 162 167]\n",
      " [234 193 169 173 170 170 168  45  35 146  50  46  40 125 158 158 159 160\n",
      "  159 156 160 163 159 161 164 161 163 160]\n",
      " [242 208 169 167 169 168 165 167  41  40  40  38 155 158 156 156 159 161\n",
      "  160 160 160 161 158 157 164 159 160 159]\n",
      " [237 215 172 169 165 166 165 162 162 156 164 162 163 159 156 155 158 158\n",
      "  156 157 158 159 159 160 157 160 163 159]\n",
      " [238 228 180 167 161 159 159 165 160 162 160 160 158 157 160 163 158 160\n",
      "  157 156 159 156 162 159 163 159 158 159]\n",
      " [238 235 192 160 167 159 161 160 158 161 157 158 150 160 161 154 157 157\n",
      "  159 160 156 160 155 153 158 160 163 164]\n",
      " [236 231 213 159 161 158 163 162 161 159 157 156 159 155 158 158 158 157\n",
      "  148 160 155 158 158 161 159 158 158 154]\n",
      " [233 232 224 178 160 161 160 159 160 158 164 161 160 154 158 154 156 155\n",
      "  160 163 159 158 151 166 156 156 161 162]\n",
      " [233 237 229 186 159 157 154 159 158 160 159 151 156 159 160 158 154 155\n",
      "  155 157 156 155 157 159 158 161 159 152]\n",
      " [232 235 226 187 160 160 152 162 161 158 154 155 150 155 157 156 155 159\n",
      "  158 156 152 152 162 155 164 159 159 160]\n",
      " [228 233 231 214 166 160 160 154 157 155 157 157 155 153 154 156 154 156\n",
      "  158 156 154 150 160 156 155 160 158 160]]\n"
     ]
    },
    {
     "data": {
      "text/plain": [
       "<matplotlib.figure.Figure at 0x19c614e0828>"
      ]
     },
     "metadata": {},
     "output_type": "display_data"
    },
    {
     "name": "stdout",
     "output_type": "stream",
     "text": [
      "反白後\n",
      "[[ 59  57  57  62  62  60  58  55  61  62  61  58  63  61  64  67  67  70\n",
      "   70  76  75  72  72  69  73  78  74  78]\n",
      " [ 62  57  60  60  57  61  64  61  63  61  63  67  67  65  64  64  67  77\n",
      "   73  74  72  76  74  72  77  79  77  79]\n",
      " [ 60  62  64  62  62  64  64  62  61  68  71  67  69  69  66  68  72  69\n",
      "   74  78  77  74  70  78  83  78  81  76]\n",
      " [ 63  66  67  62  66  64  62  64  67  67  68  74  67  72  69  72  76  68\n",
      "   74  77  78  74  74  77  76  82  82  83]\n",
      " [ 65  68  67  67  66  67  69  70  70  70  72  74  75  74  72  73  76  76\n",
      "   73  78  79  80  79  79  79  77  77  79]\n",
      " [ 64  66  68  72  68  68  75  71  72  73  74  78  74  77  76  77  80  76\n",
      "   78  77  78  80  80  78  79  76  77  77]\n",
      " [ 67  70  68  74  73  70  77  72  74  73  78  77  77  78  81  80  78  78\n",
      "   83  82  74  83  82  84  80  81  78  81]\n",
      " [ 68  69  69  70  73  71  71  76  80  79  81  81  82  82  82  81  80  81\n",
      "   82  81  80  88  78  81  83  86  83  80]\n",
      " [ 68  71  72  77  74  74  75  79  79  80  80  84  86  83  82  84  83  85\n",
      "   81  81  83  85  85  86  80  82  82  85]\n",
      " [ 72  72  80  79  76  78  79  80  83  85  81  85  86  83  85  88  85  85\n",
      "   88  82  88  88  87  84  81  83  84  85]\n",
      " [ 74  74  76  78  77  78  80  82  82  84  83  88  87  83  85  86  88  91\n",
      "   86  89  88  90  90  86  86  82  86  86]\n",
      " [ 71  73  71  78  79  82  87  89 202 219 215 154  89  86  88  90  94  93\n",
      "   91  91  93  90  91  90  88  86  82  84]\n",
      " [ 66  72  81  81  81  84  86 216 221 210 167 216 209  86  92  96  94  94\n",
      "   93  93  92  91  92  90  88  86  85  88]\n",
      " [ 60  76  76  86  84  83  86 197 212  83  86 154 218 149  90  92  92  95\n",
      "   93  93  92  93  93  90  92  90  88  91]\n",
      " [ 60  78  82  85  86  87  88 207 197  92  92  97 221 214  89  97  96  95\n",
      "   92  91  97  98  92  91  88  88  86  86]\n",
      " [ 49  77  83  83  84  88  93 213 165  90  94  95 207 215  96  98  97  94\n",
      "   91  91  93  94  93  91  91  91  93  91]\n",
      " [ 26  78  85  86  89  85  93 222 129  90  95  98 223 215  94  93  97  95\n",
      "  100  95  96  97 101  95  91  95  91  94]\n",
      " [ 17  68  83  80  84  86  97 219 203  92  94 183 223 206  97  97  97  97\n",
      "   97  94  99  99  95  94  90  98  93  88]\n",
      " [ 21  62  86  82  85  85  87 210 220 109 205 209 215 130  97  97  96  95\n",
      "   96  99  95  92  96  94  91  94  92  95]\n",
      " [ 13  47  86  88  86  87  90  88 214 215 215 217 100  97  99  99  96  94\n",
      "   95  95  95  94  97  98  91  96  95  96]\n",
      " [ 18  40  83  86  90  89  90  93  93  99  91  93  92  96  99 100  97  97\n",
      "   99  98  97  96  96  95  98  95  92  96]\n",
      " [ 17  27  75  88  94  96  96  90  95  93  95  95  97  98  95  92  97  95\n",
      "   98  99  96  99  93  96  92  96  97  96]\n",
      " [ 17  20  63  95  88  96  94  95  97  94  98  97 105  95  94 101  98  98\n",
      "   96  95  99  95 100 102  97  95  92  91]\n",
      " [ 19  24  42  96  94  97  92  93  94  96  98  99  96 100  97  97  97  98\n",
      "  107  95 100  97  97  94  96  97  97 101]\n",
      " [ 22  23  31  77  95  94  95  96  95  97  91  94  95 101  97 101  99 100\n",
      "   95  92  96  97 104  89  99  99  94  93]\n",
      " [ 22  18  26  69  96  98 101  96  97  95  96 104  99  96  95  97 101 100\n",
      "  100  98  99 100  98  96  97  94  96 103]\n",
      " [ 23  20  29  68  95  95 103  93  94  97 101 100 105 100  98  99 100  96\n",
      "   97  99 103 103  93 100  91  96  96  95]\n",
      " [ 27  22  24  41  89  95  95 101  98 100  98  98 100 102 101  99 101  99\n",
      "   97  99 101 105  95  99 100  95  97  95]]\n"
     ]
    },
    {
     "data": {
      "text/plain": [
       "<matplotlib.figure.Figure at 0x19c617cd160>"
      ]
     },
     "metadata": {},
     "output_type": "display_data"
    },
    {
     "name": "stdout",
     "output_type": "stream",
     "text": [
      "(28, 28)\n",
      "拉黑120後\n",
      "[[  0   0   0   0   0   0   0   0   0   0   0   0   0   0   0   0   0   0\n",
      "    0   0   0   0   0   0   0   0   0   0]\n",
      " [  0   0   0   0   0   0   0   0   0   0   0   0   0   0   0   0   0   0\n",
      "    0   0   0   0   0   0   0   0   0   0]\n",
      " [  0   0   0   0   0   0   0   0   0   0   0   0   0   0   0   0   0   0\n",
      "    0   0   0   0   0   0   0   0   0   0]\n",
      " [  0   0   0   0   0   0   0   0   0   0   0   0   0   0   0   0   0   0\n",
      "    0   0   0   0   0   0   0   0   0   0]\n",
      " [  0   0   0   0   0   0   0   0   0   0   0   0   0   0   0   0   0   0\n",
      "    0   0   0   0   0   0   0   0   0   0]\n",
      " [  0   0   0   0   0   0   0   0   0   0   0   0   0   0   0   0   0   0\n",
      "    0   0   0   0   0   0   0   0   0   0]\n",
      " [  0   0   0   0   0   0   0   0   0   0   0   0   0   0   0   0   0   0\n",
      "    0   0   0   0   0   0   0   0   0   0]\n",
      " [  0   0   0   0   0   0   0   0   0   0   0   0   0   0   0   0   0   0\n",
      "    0   0   0   0   0   0   0   0   0   0]\n",
      " [  0   0   0   0   0   0   0   0   0   0   0   0   0   0   0   0   0   0\n",
      "    0   0   0   0   0   0   0   0   0   0]\n",
      " [  0   0   0   0   0   0   0   0   0   0   0   0   0   0   0   0   0   0\n",
      "    0   0   0   0   0   0   0   0   0   0]\n",
      " [  0   0   0   0   0   0   0   0   0   0   0   0   0   0   0   0   0   0\n",
      "    0   0   0   0   0   0   0   0   0   0]\n",
      " [  0   0   0   0   0   0   0   0  82  99  95  34   0   0   0   0   0   0\n",
      "    0   0   0   0   0   0   0   0   0   0]\n",
      " [  0   0   0   0   0   0   0  96 101  90  47  96  89   0   0   0   0   0\n",
      "    0   0   0   0   0   0   0   0   0   0]\n",
      " [  0   0   0   0   0   0   0  77  92   0   0  34  98  29   0   0   0   0\n",
      "    0   0   0   0   0   0   0   0   0   0]\n",
      " [  0   0   0   0   0   0   0  87  77   0   0   0 101  94   0   0   0   0\n",
      "    0   0   0   0   0   0   0   0   0   0]\n",
      " [  0   0   0   0   0   0   0  93  45   0   0   0  87  95   0   0   0   0\n",
      "    0   0   0   0   0   0   0   0   0   0]\n",
      " [  0   0   0   0   0   0   0 102   9   0   0   0 103  95   0   0   0   0\n",
      "    0   0   0   0   0   0   0   0   0   0]\n",
      " [  0   0   0   0   0   0   0  99  83   0   0  63 103  86   0   0   0   0\n",
      "    0   0   0   0   0   0   0   0   0   0]\n",
      " [  0   0   0   0   0   0   0  90 100   0  85  89  95  10   0   0   0   0\n",
      "    0   0   0   0   0   0   0   0   0   0]\n",
      " [  0   0   0   0   0   0   0   0  94  95  95  97   0   0   0   0   0   0\n",
      "    0   0   0   0   0   0   0   0   0   0]\n",
      " [  0   0   0   0   0   0   0   0   0   0   0   0   0   0   0   0   0   0\n",
      "    0   0   0   0   0   0   0   0   0   0]\n",
      " [  0   0   0   0   0   0   0   0   0   0   0   0   0   0   0   0   0   0\n",
      "    0   0   0   0   0   0   0   0   0   0]\n",
      " [  0   0   0   0   0   0   0   0   0   0   0   0   0   0   0   0   0   0\n",
      "    0   0   0   0   0   0   0   0   0   0]\n",
      " [  0   0   0   0   0   0   0   0   0   0   0   0   0   0   0   0   0   0\n",
      "    0   0   0   0   0   0   0   0   0   0]\n",
      " [  0   0   0   0   0   0   0   0   0   0   0   0   0   0   0   0   0   0\n",
      "    0   0   0   0   0   0   0   0   0   0]\n",
      " [  0   0   0   0   0   0   0   0   0   0   0   0   0   0   0   0   0   0\n",
      "    0   0   0   0   0   0   0   0   0   0]\n",
      " [  0   0   0   0   0   0   0   0   0   0   0   0   0   0   0   0   0   0\n",
      "    0   0   0   0   0   0   0   0   0   0]\n",
      " [  0   0   0   0   0   0   0   0   0   0   0   0   0   0   0   0   0   0\n",
      "    0   0   0   0   0   0   0   0   0   0]]\n"
     ]
    },
    {
     "data": {
      "text/plain": [
       "<matplotlib.figure.Figure at 0x19c617d3b38>"
      ]
     },
     "metadata": {},
     "output_type": "display_data"
    },
    {
     "name": "stdout",
     "output_type": "stream",
     "text": [
      "拉高gain\n",
      "[[  0   0   0   0   0   0   0   0   0   0   0   0   0   0   0   0   0   0\n",
      "    0   0   0   0   0   0   0   0   0   0]\n",
      " [  0   0   0   0   0   0   0   0   0   0   0   0   0   0   0   0   0   0\n",
      "    0   0   0   0   0   0   0   0   0   0]\n",
      " [  0   0   0   0   0   0   0   0   0   0   0   0   0   0   0   0   0   0\n",
      "    0   0   0   0   0   0   0   0   0   0]\n",
      " [  0   0   0   0   0   0   0   0   0   0   0   0   0   0   0   0   0   0\n",
      "    0   0   0   0   0   0   0   0   0   0]\n",
      " [  0   0   0   0   0   0   0   0   0   0   0   0   0   0   0   0   0   0\n",
      "    0   0   0   0   0   0   0   0   0   0]\n",
      " [  0   0   0   0   0   0   0   0   0   0   0   0   0   0   0   0   0   0\n",
      "    0   0   0   0   0   0   0   0   0   0]\n",
      " [  0   0   0   0   0   0   0   0   0   0   0   0   0   0   0   0   0   0\n",
      "    0   0   0   0   0   0   0   0   0   0]\n",
      " [  0   0   0   0   0   0   0   0   0   0   0   0   0   0   0   0   0   0\n",
      "    0   0   0   0   0   0   0   0   0   0]\n",
      " [  0   0   0   0   0   0   0   0   0   0   0   0   0   0   0   0   0   0\n",
      "    0   0   0   0   0   0   0   0   0   0]\n",
      " [  0   0   0   0   0   0   0   0   0   0   0   0   0   0   0   0   0   0\n",
      "    0   0   0   0   0   0   0   0   0   0]\n",
      " [  0   0   0   0   0   0   0   0   0   0   0   0   0   0   0   0   0   0\n",
      "    0   0   0   0   0   0   0   0   0   0]\n",
      " [  0   0   0   0   0   0   0   0 246 255 255 102   0   0   0   0   0   0\n",
      "    0   0   0   0   0   0   0   0   0   0]\n",
      " [  0   0   0   0   0   0   0 255 255 255 141 255 255   0   0   0   0   0\n",
      "    0   0   0   0   0   0   0   0   0   0]\n",
      " [  0   0   0   0   0   0   0 231 255   0   0 102 255  87   0   0   0   0\n",
      "    0   0   0   0   0   0   0   0   0   0]\n",
      " [  0   0   0   0   0   0   0 255 231   0   0   0 255 255   0   0   0   0\n",
      "    0   0   0   0   0   0   0   0   0   0]\n",
      " [  0   0   0   0   0   0   0 255 135   0   0   0 255 255   0   0   0   0\n",
      "    0   0   0   0   0   0   0   0   0   0]\n",
      " [  0   0   0   0   0   0   0 255  27   0   0   0 255 255   0   0   0   0\n",
      "    0   0   0   0   0   0   0   0   0   0]\n",
      " [  0   0   0   0   0   0   0 255 249   0   0 189 255 255   0   0   0   0\n",
      "    0   0   0   0   0   0   0   0   0   0]\n",
      " [  0   0   0   0   0   0   0 255 255   0 255 255 255  30   0   0   0   0\n",
      "    0   0   0   0   0   0   0   0   0   0]\n",
      " [  0   0   0   0   0   0   0   0 255 255 255 255   0   0   0   0   0   0\n",
      "    0   0   0   0   0   0   0   0   0   0]\n",
      " [  0   0   0   0   0   0   0   0   0   0   0   0   0   0   0   0   0   0\n",
      "    0   0   0   0   0   0   0   0   0   0]\n",
      " [  0   0   0   0   0   0   0   0   0   0   0   0   0   0   0   0   0   0\n",
      "    0   0   0   0   0   0   0   0   0   0]\n",
      " [  0   0   0   0   0   0   0   0   0   0   0   0   0   0   0   0   0   0\n",
      "    0   0   0   0   0   0   0   0   0   0]\n",
      " [  0   0   0   0   0   0   0   0   0   0   0   0   0   0   0   0   0   0\n",
      "    0   0   0   0   0   0   0   0   0   0]\n",
      " [  0   0   0   0   0   0   0   0   0   0   0   0   0   0   0   0   0   0\n",
      "    0   0   0   0   0   0   0   0   0   0]\n",
      " [  0   0   0   0   0   0   0   0   0   0   0   0   0   0   0   0   0   0\n",
      "    0   0   0   0   0   0   0   0   0   0]\n",
      " [  0   0   0   0   0   0   0   0   0   0   0   0   0   0   0   0   0   0\n",
      "    0   0   0   0   0   0   0   0   0   0]\n",
      " [  0   0   0   0   0   0   0   0   0   0   0   0   0   0   0   0   0   0\n",
      "    0   0   0   0   0   0   0   0   0   0]]\n"
     ]
    },
    {
     "data": {
      "text/plain": [
       "<matplotlib.figure.Figure at 0x19c6147a630>"
      ]
     },
     "metadata": {},
     "output_type": "display_data"
    },
    {
     "data": {
      "text/plain": [
       "<matplotlib.figure.Figure at 0x19c61566da0>"
      ]
     },
     "metadata": {},
     "output_type": "display_data"
    },
    {
     "name": "stdout",
     "output_type": "stream",
     "text": [
      "new_img_array[ 3 ]= [[184 185 181 186 178 187 184 180 168 112  69  57  70 125 145 144 151 150\n",
      "  151 153 146 144 151 142 152 151 149 149]\n",
      " [181 178 185 183 176 181 155  58  39  40  45  43  43  35  52 127 152 138\n",
      "  145 142 141 141 145 142 139 148 145 145]\n",
      " [183 177 182 180 179 179 154  45  45  36  40 131  66  36  35  47 137 144\n",
      "  145 136 138 138 142 145 151 145 142 141]\n",
      " [182 178 174 180 177 177  97  46  44  58 163 176 149  53  33  36 113 141\n",
      "  143 141 141 134 144 136 146 140 147 137]\n",
      " [182 181 179 180 179 151  69  51  66 140 180 167 148  92  33  29  84 135\n",
      "  140 144 142 140 142 138 140 143 140 143]\n",
      " [181 182 180 179 174 114  51  54 104 178 175 165 142  81  28  30  65 137\n",
      "  140 130 141 134 134 142 140 143 139 137]\n",
      " [176 179 176 177 176  63  46  59 171 176 173 165 140  79  29  30  68 133\n",
      "  133 129 133 135 137 138 137 144 136 138]\n",
      " [175 178 180 174 163  60  41  97 174 171 168 165 142  59  28  31  82 130\n",
      "  127 128 126 127 135 138 142 133 136 138]\n",
      " [172 178 174 172 138  50  47 144 167 168 168 163 141  41  25  28  99 124\n",
      "  124 128 130 133 130 135 136 135 137 137]\n",
      " [174 175 174 170  66  44  56 164 169 166 168 165 120  31  22  35 118 124\n",
      "  122 123 123 127 127 134 130 131 135 130]\n",
      " [172 175 175 149  48  48  58 162 167 164 164 155  57  27  24  72 120 124\n",
      "  123 119 120 125 124 128 128 130 133 133]\n",
      " [174 172 173 157  51  44  56 156 163 162 152  54  44  32  26 106 120 123\n",
      "  113 120 122 120 122 121 128 124 135 127]\n",
      " [177 173 172 168  47  43  35  81 140 124  55  42  41  31  53 109 115 115\n",
      "  112 118 122 124 125 123 129 122 127 133]\n",
      " [171 169 167 169 132  39  40  36  33  38  35  38  40  77 118 113 112 115\n",
      "  118 115 119 124 120 115 125 125 132 130]\n",
      " [170 167 164 162 164 119  38  34  35  42  45  72 146 144 124 114 113 113\n",
      "  111 114 114 119 116 120 124 126 125 131]\n",
      " [166 166 162 164 160 157 163 148 133 145 154 161 159 145 124 115 114 114\n",
      "  113 113 116 115 113 120 123 124 125 132]\n",
      " [164 164 166 159 161 162 161 158 156 157 157 160 157 148 125 112 112 116\n",
      "  111 116 113 112 116 124 124 128 129 131]\n",
      " [167 164 158 158 159 160 161 156 158 158 157 157 157 151 130 113 109 113\n",
      "  110 114 113 114 112 117 115 123 129 126]\n",
      " [161 159 159 164 151 154 157 152 158 156 156 154 154 154 128 111 109 117\n",
      "  111 108 112 112 113 114 123 122 129 129]\n",
      " [155 157 157 157 156 157 158 160 157 152 153 150 157 149 134 114 106 104\n",
      "  108 111 112 113 107 119 121 116 123 122]\n",
      " [159 159 160 154 158 154 153 156 155 151 147 156 155 151 138 114 105 104\n",
      "  104 112 105 112 111 116 117 120 117 121]\n",
      " [155 156 158 152 152 153 156 157 151 152 155 153 154 153 147 115 107 103\n",
      "  101 108 111 109 112 112 123 120 122 125]\n",
      " [159 156 155 160 154 150 155 153 157 154 152 155 154 155 142 128 102 100\n",
      "   98 103 105 110 110 115 116 116 122 125]\n",
      " [149 156 154 149 152 154 155 155 155 154 153 153 152 150 148 134 110  97\n",
      "   99 103 102 107 110 114 110 116 116 121]\n",
      " [150 149 152 155 146 156 154 152 152 154 154 154 153 151 152 137 117 103\n",
      "  103  97  99 102 107 117 112 110 118 125]\n",
      " [147 149 154 153 155 150 151 156 151 143 149 152 150 150 152 143 116 102\n",
      "  105 103 102  86 102 102 112 107 112 117]\n",
      " [149 152 146 152 151 151 148 148 151 147 149 144 148 145 145 145 125 116\n",
      "   95  97  96 105 102 110 110 108 114 111]\n",
      " [148 153 151 152 140 148 147 147 144 147 148 147 149 149 154 149 134 110\n",
      "   98 101 101 100  98 101 105 112 109 120]]\n"
     ]
    },
    {
     "data": {
      "text/plain": [
       "<matplotlib.figure.Figure at 0x19c6122b128>"
      ]
     },
     "metadata": {},
     "output_type": "display_data"
    },
    {
     "name": "stdout",
     "output_type": "stream",
     "text": [
      "反白後\n",
      "[[ 71  70  74  69  77  68  71  75  87 143 186 198 185 130 110 111 104 105\n",
      "  104 102 109 111 104 113 103 104 106 106]\n",
      " [ 74  77  70  72  79  74 100 197 216 215 210 212 212 220 203 128 103 117\n",
      "  110 113 114 114 110 113 116 107 110 110]\n",
      " [ 72  78  73  75  76  76 101 210 210 219 215 124 189 219 220 208 118 111\n",
      "  110 119 117 117 113 110 104 110 113 114]\n",
      " [ 73  77  81  75  78  78 158 209 211 197  92  79 106 202 222 219 142 114\n",
      "  112 114 114 121 111 119 109 115 108 118]\n",
      " [ 73  74  76  75  76 104 186 204 189 115  75  88 107 163 222 226 171 120\n",
      "  115 111 113 115 113 117 115 112 115 112]\n",
      " [ 74  73  75  76  81 141 204 201 151  77  80  90 113 174 227 225 190 118\n",
      "  115 125 114 121 121 113 115 112 116 118]\n",
      " [ 79  76  79  78  79 192 209 196  84  79  82  90 115 176 226 225 187 122\n",
      "  122 126 122 120 118 117 118 111 119 117]\n",
      " [ 80  77  75  81  92 195 214 158  81  84  87  90 113 196 227 224 173 125\n",
      "  128 127 129 128 120 117 113 122 119 117]\n",
      " [ 83  77  81  83 117 205 208 111  88  87  87  92 114 214 230 227 156 131\n",
      "  131 127 125 122 125 120 119 120 118 118]\n",
      " [ 81  80  81  85 189 211 199  91  86  89  87  90 135 224 233 220 137 131\n",
      "  133 132 132 128 128 121 125 124 120 125]\n",
      " [ 83  80  80 106 207 207 197  93  88  91  91 100 198 228 231 183 135 131\n",
      "  132 136 135 130 131 127 127 125 122 122]\n",
      " [ 81  83  82  98 204 211 199  99  92  93 103 201 211 223 229 149 135 132\n",
      "  142 135 133 135 133 134 127 131 120 128]\n",
      " [ 78  82  83  87 208 212 220 174 115 131 200 213 214 224 202 146 140 140\n",
      "  143 137 133 131 130 132 126 133 128 122]\n",
      " [ 84  86  88  86 123 216 215 219 222 217 220 217 215 178 137 142 143 140\n",
      "  137 140 136 131 135 140 130 130 123 125]\n",
      " [ 85  88  91  93  91 136 217 221 220 213 210 183 109 111 131 141 142 142\n",
      "  144 141 141 136 139 135 131 129 130 124]\n",
      " [ 89  89  93  91  95  98  92 107 122 110 101  94  96 110 131 140 141 141\n",
      "  142 142 139 140 142 135 132 131 130 123]\n",
      " [ 91  91  89  96  94  93  94  97  99  98  98  95  98 107 130 143 143 139\n",
      "  144 139 142 143 139 131 131 127 126 124]\n",
      " [ 88  91  97  97  96  95  94  99  97  97  98  98  98 104 125 142 146 142\n",
      "  145 141 142 141 143 138 140 132 126 129]\n",
      " [ 94  96  96  91 104 101  98 103  97  99  99 101 101 101 127 144 146 138\n",
      "  144 147 143 143 142 141 132 133 126 126]\n",
      " [100  98  98  98  99  98  97  95  98 103 102 105  98 106 121 141 149 151\n",
      "  147 144 143 142 148 136 134 139 132 133]\n",
      " [ 96  96  95 101  97 101 102  99 100 104 108  99 100 104 117 141 150 151\n",
      "  151 143 150 143 144 139 138 135 138 134]\n",
      " [100  99  97 103 103 102  99  98 104 103 100 102 101 102 108 140 148 152\n",
      "  154 147 144 146 143 143 132 135 133 130]\n",
      " [ 96  99 100  95 101 105 100 102  98 101 103 100 101 100 113 127 153 155\n",
      "  157 152 150 145 145 140 139 139 133 130]\n",
      " [106  99 101 106 103 101 100 100 100 101 102 102 103 105 107 121 145 158\n",
      "  156 152 153 148 145 141 145 139 139 134]\n",
      " [105 106 103 100 109  99 101 103 103 101 101 101 102 104 103 118 138 152\n",
      "  152 158 156 153 148 138 143 145 137 130]\n",
      " [108 106 101 102 100 105 104  99 104 112 106 103 105 105 103 112 139 153\n",
      "  150 152 153 169 153 153 143 148 143 138]\n",
      " [106 103 109 103 104 104 107 107 104 108 106 111 107 110 110 110 130 139\n",
      "  160 158 159 150 153 145 145 147 141 144]\n",
      " [107 102 104 103 115 107 108 108 111 108 107 108 106 106 101 106 121 145\n",
      "  157 154 154 155 157 154 150 143 146 135]]\n"
     ]
    },
    {
     "data": {
      "text/plain": [
       "<matplotlib.figure.Figure at 0x19c6161ccf8>"
      ]
     },
     "metadata": {},
     "output_type": "display_data"
    },
    {
     "name": "stdout",
     "output_type": "stream",
     "text": [
      "(28, 28)\n",
      "拉黑120後\n",
      "[[  0   0   0   0   0   0   0   0   0  23  66  78  65  10   0   0   0   0\n",
      "    0   0   0   0   0   0   0   0   0   0]\n",
      " [  0   0   0   0   0   0   0  77  96  95  90  92  92 100  83   8   0   0\n",
      "    0   0   0   0   0   0   0   0   0   0]\n",
      " [  0   0   0   0   0   0   0  90  90  99  95   4  69  99 100  88   0   0\n",
      "    0   0   0   0   0   0   0   0   0   0]\n",
      " [  0   0   0   0   0   0  38  89  91  77   0   0   0  82 102  99  22   0\n",
      "    0   0   0   1   0   0   0   0   0   0]\n",
      " [  0   0   0   0   0   0  66  84  69   0   0   0   0  43 102 106  51   0\n",
      "    0   0   0   0   0   0   0   0   0   0]\n",
      " [  0   0   0   0   0  21  84  81  31   0   0   0   0  54 107 105  70   0\n",
      "    0   5   0   1   1   0   0   0   0   0]\n",
      " [  0   0   0   0   0  72  89  76   0   0   0   0   0  56 106 105  67   2\n",
      "    2   6   2   0   0   0   0   0   0   0]\n",
      " [  0   0   0   0   0  75  94  38   0   0   0   0   0  76 107 104  53   5\n",
      "    8   7   9   8   0   0   0   2   0   0]\n",
      " [  0   0   0   0   0  85  88   0   0   0   0   0   0  94 110 107  36  11\n",
      "   11   7   5   2   5   0   0   0   0   0]\n",
      " [  0   0   0   0  69  91  79   0   0   0   0   0  15 104 113 100  17  11\n",
      "   13  12  12   8   8   1   5   4   0   5]\n",
      " [  0   0   0   0  87  87  77   0   0   0   0   0  78 108 111  63  15  11\n",
      "   12  16  15  10  11   7   7   5   2   2]\n",
      " [  0   0   0   0  84  91  79   0   0   0   0  81  91 103 109  29  15  12\n",
      "   22  15  13  15  13  14   7  11   0   8]\n",
      " [  0   0   0   0  88  92 100  54   0  11  80  93  94 104  82  26  20  20\n",
      "   23  17  13  11  10  12   6  13   8   2]\n",
      " [  0   0   0   0   3  96  95  99 102  97 100  97  95  58  17  22  23  20\n",
      "   17  20  16  11  15  20  10  10   3   5]\n",
      " [  0   0   0   0   0  16  97 101 100  93  90  63   0   0  11  21  22  22\n",
      "   24  21  21  16  19  15  11   9  10   4]\n",
      " [  0   0   0   0   0   0   0   0   2   0   0   0   0   0  11  20  21  21\n",
      "   22  22  19  20  22  15  12  11  10   3]\n",
      " [  0   0   0   0   0   0   0   0   0   0   0   0   0   0  10  23  23  19\n",
      "   24  19  22  23  19  11  11   7   6   4]\n",
      " [  0   0   0   0   0   0   0   0   0   0   0   0   0   0   5  22  26  22\n",
      "   25  21  22  21  23  18  20  12   6   9]\n",
      " [  0   0   0   0   0   0   0   0   0   0   0   0   0   0   7  24  26  18\n",
      "   24  27  23  23  22  21  12  13   6   6]\n",
      " [  0   0   0   0   0   0   0   0   0   0   0   0   0   0   1  21  29  31\n",
      "   27  24  23  22  28  16  14  19  12  13]\n",
      " [  0   0   0   0   0   0   0   0   0   0   0   0   0   0   0  21  30  31\n",
      "   31  23  30  23  24  19  18  15  18  14]\n",
      " [  0   0   0   0   0   0   0   0   0   0   0   0   0   0   0  20  28  32\n",
      "   34  27  24  26  23  23  12  15  13  10]\n",
      " [  0   0   0   0   0   0   0   0   0   0   0   0   0   0   0   7  33  35\n",
      "   37  32  30  25  25  20  19  19  13  10]\n",
      " [  0   0   0   0   0   0   0   0   0   0   0   0   0   0   0   1  25  38\n",
      "   36  32  33  28  25  21  25  19  19  14]\n",
      " [  0   0   0   0   0   0   0   0   0   0   0   0   0   0   0   0  18  32\n",
      "   32  38  36  33  28  18  23  25  17  10]\n",
      " [  0   0   0   0   0   0   0   0   0   0   0   0   0   0   0   0  19  33\n",
      "   30  32  33  49  33  33  23  28  23  18]\n",
      " [  0   0   0   0   0   0   0   0   0   0   0   0   0   0   0   0  10  19\n",
      "   40  38  39  30  33  25  25  27  21  24]\n",
      " [  0   0   0   0   0   0   0   0   0   0   0   0   0   0   0   0   1  25\n",
      "   37  34  34  35  37  34  30  23  26  15]]\n"
     ]
    },
    {
     "data": {
      "text/plain": [
       "<matplotlib.figure.Figure at 0x19c612d00f0>"
      ]
     },
     "metadata": {},
     "output_type": "display_data"
    },
    {
     "name": "stdout",
     "output_type": "stream",
     "text": [
      "拉高gain\n",
      "[[  0   0   0   0   0   0   0   0   0  69 198 234 195  30   0   0   0   0\n",
      "    0   0   0   0   0   0   0   0   0   0]\n",
      " [  0   0   0   0   0   0   0 231 255 255 255 255 255 255 249  24   0   0\n",
      "    0   0   0   0   0   0   0   0   0   0]\n",
      " [  0   0   0   0   0   0   0 255 255 255 255  12 207 255 255 255   0   0\n",
      "    0   0   0   0   0   0   0   0   0   0]\n",
      " [  0   0   0   0   0   0 114 255 255 231   0   0   0 246 255 255  66   0\n",
      "    0   0   0   3   0   0   0   0   0   0]\n",
      " [  0   0   0   0   0   0 198 252 207   0   0   0   0 129 255 255 153   0\n",
      "    0   0   0   0   0   0   0   0   0   0]\n",
      " [  0   0   0   0   0  63 252 243  93   0   0   0   0 162 255 255 210   0\n",
      "    0  15   0   3   3   0   0   0   0   0]\n",
      " [  0   0   0   0   0 216 255 228   0   0   0   0   0 168 255 255 201   6\n",
      "    6  18   6   0   0   0   0   0   0   0]\n",
      " [  0   0   0   0   0 225 255 114   0   0   0   0   0 228 255 255 159  15\n",
      "   24  21  27  24   0   0   0   6   0   0]\n",
      " [  0   0   0   0   0 255 255   0   0   0   0   0   0 255 255 255 108  33\n",
      "   33  21  15   6  15   0   0   0   0   0]\n",
      " [  0   0   0   0 207 255 237   0   0   0   0   0  45 255 255 255  51  33\n",
      "   39  36  36  24  24   3  15  12   0  15]\n",
      " [  0   0   0   0 255 255 231   0   0   0   0   0 234 255 255 189  45  33\n",
      "   36  48  45  30  33  21  21  15   6   6]\n",
      " [  0   0   0   0 252 255 237   0   0   0   0 243 255 255 255  87  45  36\n",
      "   66  45  39  45  39  42  21  33   0  24]\n",
      " [  0   0   0   0 255 255 255 162   0  33 240 255 255 255 246  78  60  60\n",
      "   69  51  39  33  30  36  18  39  24   6]\n",
      " [  0   0   0   0   9 255 255 255 255 255 255 255 255 174  51  66  69  60\n",
      "   51  60  48  33  45  60  30  30   9  15]\n",
      " [  0   0   0   0   0  48 255 255 255 255 255 189   0   0  33  63  66  66\n",
      "   72  63  63  48  57  45  33  27  30  12]\n",
      " [  0   0   0   0   0   0   0   0   6   0   0   0   0   0  33  60  63  63\n",
      "   66  66  57  60  66  45  36  33  30   9]\n",
      " [  0   0   0   0   0   0   0   0   0   0   0   0   0   0  30  69  69  57\n",
      "   72  57  66  69  57  33  33  21  18  12]\n",
      " [  0   0   0   0   0   0   0   0   0   0   0   0   0   0  15  66  78  66\n",
      "   75  63  66  63  69  54  60  36  18  27]\n",
      " [  0   0   0   0   0   0   0   0   0   0   0   0   0   0  21  72  78  54\n",
      "   72  81  69  69  66  63  36  39  18  18]\n",
      " [  0   0   0   0   0   0   0   0   0   0   0   0   0   0   3  63  87  93\n",
      "   81  72  69  66  84  48  42  57  36  39]\n",
      " [  0   0   0   0   0   0   0   0   0   0   0   0   0   0   0  63  90  93\n",
      "   93  69  90  69  72  57  54  45  54  42]\n",
      " [  0   0   0   0   0   0   0   0   0   0   0   0   0   0   0  60  84  96\n",
      "  102  81  72  78  69  69  36  45  39  30]\n",
      " [  0   0   0   0   0   0   0   0   0   0   0   0   0   0   0  21  99 105\n",
      "  111  96  90  75  75  60  57  57  39  30]\n",
      " [  0   0   0   0   0   0   0   0   0   0   0   0   0   0   0   3  75 114\n",
      "  108  96  99  84  75  63  75  57  57  42]\n",
      " [  0   0   0   0   0   0   0   0   0   0   0   0   0   0   0   0  54  96\n",
      "   96 114 108  99  84  54  69  75  51  30]\n",
      " [  0   0   0   0   0   0   0   0   0   0   0   0   0   0   0   0  57  99\n",
      "   90  96  99 147  99  99  69  84  69  54]\n",
      " [  0   0   0   0   0   0   0   0   0   0   0   0   0   0   0   0  30  57\n",
      "  120 114 117  90  99  75  75  81  63  72]\n",
      " [  0   0   0   0   0   0   0   0   0   0   0   0   0   0   0   0   3  75\n",
      "  111 102 102 105 111 102  90  69  78  45]]\n"
     ]
    },
    {
     "data": {
      "text/plain": [
       "<matplotlib.figure.Figure at 0x19c6134ada0>"
      ]
     },
     "metadata": {},
     "output_type": "display_data"
    },
    {
     "data": {
      "text/plain": [
       "<matplotlib.figure.Figure at 0x19c613854a8>"
      ]
     },
     "metadata": {},
     "output_type": "display_data"
    },
    {
     "name": "stdout",
     "output_type": "stream",
     "text": [
      "new_img_array[ 4 ]= [[228 228 232 227 226 223 219 218 216 208 214 213 215 217 215 222 217 223\n",
      "  220 221 226 223 227 230 227 240 241 241]\n",
      " [217 219 221 214 215 210 211 208 212 212 217 213 214 222 217 217 216 213\n",
      "  212 216 217 216 217 216 220 230 232 238]\n",
      " [173 177 176 175 163 164 174 186 195 190 194 196 203 207 207 212 211 210\n",
      "  207 217 207 213 217 214 209 225 230 235]\n",
      " [159 162 148 135 138 131 147 140 144 144 148 149 154 162 162 169 168 175\n",
      "  178 173 179 183 191 203 210 227 231 230]\n",
      " [161 165 146 136 131 135 138 142 138 144 141 146 142  63  40  40  54 147\n",
      "  148 150 147 149 146 156 180 222 230 229]\n",
      " [168 161 144 116 128 132 136 139 143 144 149  82  46  30  39  39  39  41\n",
      "   68 148 148 145 139 142 147 184 216 229]\n",
      " [162 160 138 134 137 131 138 139 140 141 147  85  38  33  59 153 144  50\n",
      "   42 103 150 146 146 145 150 159 188 226]\n",
      " [159 159 138 141 134 134 134 139 140 144 142  56  41  46 140 148 145 111\n",
      "   39  45 145 142 141 145 155 160 179 217]\n",
      " [163 155 135 128 130 128 131 135 135 138 136  49  38  62 147 144 144 136\n",
      "   41  41 141 143 138 144 149 161 174 209]\n",
      " [162 152 138 125 131 128 134 134 136 139 133  40  33 104 142 144 139 139\n",
      "   51  42 127 140 137 143 147 161 173 204]\n",
      " [160 150 131 132 122 133 133 133 134 139 131  47  40 131 140 141 143 139\n",
      "   43  36 119 138 138 141 139 156 168 199]\n",
      " [161 153 130 122 127 126 129 123 128 139 107  36  32 137 141 140 144 133\n",
      "   37  38 135 135 139 135 135 152 173 194]\n",
      " [155 157 130 124 123 123 129 126 130 132  46  33  39 130 143 142 137  54\n",
      "   42  32 144 140 138 138 145 157 171 200]\n",
      " [160 151 131 125 125 127 128 126 130 133  56  36  44  86 140 140  75  45\n",
      "   36  41 134 139 135 135 133 157 167 199]\n",
      " [164 147 128 120 124 126 126 125 133 131 132  37  33  30  52  41  42  42\n",
      "   35 123 134 135 137 138 138 155 168 195]\n",
      " [161 147 123 124 124 123 119 122 125 129 132 102  32  35  31  33  36  41\n",
      "  130 133 134 131 140 136 136 141 154 190]\n",
      " [156 144 125 113 119 118 121 121 126 123 123 126 119  73  47  44 104 136\n",
      "  135 135 135 128 135 134 139 141 142 174]\n",
      " [157 143 123 121 119 119 121 119 124 121 125 123 126 125 129 130 136 135\n",
      "  135 135 136 136 137 135 139 136 142 176]\n",
      " [156 140 119 115 128 119 118 127 119 120 119 122 124 126 124 122 124 131\n",
      "  130 129 133 134 133 137 140 139 142 167]\n",
      " [153 139 112 114 118 117 119 118 117 121 121 124 126 116 123 125 123 126\n",
      "  123 130 131 134 128 134 136 143 147 166]\n",
      " [154 135 124 119 115 117 115 116 114 119 118 120 116 116 120 123 123 126\n",
      "  121 125 127 127 130 133 138 138 136 161]\n",
      " [153 130 114 116 119 115 112 113 119 119 120 116 120 123 123 117 124 125\n",
      "  122 122 127 129 129 133 136 139 140 158]\n",
      " [151 136 117 117 114 117 115 112 113 113 118 120 121 118 121 127 126 129\n",
      "  126 126 130 127 132 133 135 128 136 163]\n",
      " [150 132 119 108 105 101 115 117 112 115 111 117 125 120 125 120 124 121\n",
      "  121 128 131 128 134 130 132 138 138 158]\n",
      " [152 132 110 113 111 115 112 115 111 115 120 118 122 109 130 122 117 129\n",
      "  129 132 130 135 133 130 134 132 138 160]\n",
      " [145 132 110 109 113 112 115 115 111 116 117 127 121 123 114 121 125 126\n",
      "  120 129 126 130 130 128 136 123 143 158]\n",
      " [153 132 111 112 110 112 109 118 112 107 117 116 121 114 117 117 112 120\n",
      "  128 134 127 130 129 133 131 131 132 163]\n",
      " [145 132 112 108 103 105 106 104 116 110 110 113 115 114 114 118 118 122\n",
      "  117 119 121 129 132 132 129 150 140 163]]\n"
     ]
    },
    {
     "data": {
      "text/plain": [
       "<matplotlib.figure.Figure at 0x19c613c5630>"
      ]
     },
     "metadata": {},
     "output_type": "display_data"
    },
    {
     "name": "stdout",
     "output_type": "stream",
     "text": [
      "反白後\n",
      "[[ 27  27  23  28  29  32  36  37  39  47  41  42  40  38  40  33  38  32\n",
      "   35  34  29  32  28  25  28  15  14  14]\n",
      " [ 38  36  34  41  40  45  44  47  43  43  38  42  41  33  38  38  39  42\n",
      "   43  39  38  39  38  39  35  25  23  17]\n",
      " [ 82  78  79  80  92  91  81  69  60  65  61  59  52  48  48  43  44  45\n",
      "   48  38  48  42  38  41  46  30  25  20]\n",
      " [ 96  93 107 120 117 124 108 115 111 111 107 106 101  93  93  86  87  80\n",
      "   77  82  76  72  64  52  45  28  24  25]\n",
      " [ 94  90 109 119 124 120 117 113 117 111 114 109 113 192 215 215 201 108\n",
      "  107 105 108 106 109  99  75  33  25  26]\n",
      " [ 87  94 111 139 127 123 119 116 112 111 106 173 209 225 216 216 216 214\n",
      "  187 107 107 110 116 113 108  71  39  26]\n",
      " [ 93  95 117 121 118 124 117 116 115 114 108 170 217 222 196 102 111 205\n",
      "  213 152 105 109 109 110 105  96  67  29]\n",
      " [ 96  96 117 114 121 121 121 116 115 111 113 199 214 209 115 107 110 144\n",
      "  216 210 110 113 114 110 100  95  76  38]\n",
      " [ 92 100 120 127 125 127 124 120 120 117 119 206 217 193 108 111 111 119\n",
      "  214 214 114 112 117 111 106  94  81  46]\n",
      " [ 93 103 117 130 124 127 121 121 119 116 122 215 222 151 113 111 116 116\n",
      "  204 213 128 115 118 112 108  94  82  51]\n",
      " [ 95 105 124 123 133 122 122 122 121 116 124 208 215 124 115 114 112 116\n",
      "  212 219 136 117 117 114 116  99  87  56]\n",
      " [ 94 102 125 133 128 129 126 132 127 116 148 219 223 118 114 115 111 122\n",
      "  218 217 120 120 116 120 120 103  82  61]\n",
      " [100  98 125 131 132 132 126 129 125 123 209 222 216 125 112 113 118 201\n",
      "  213 223 111 115 117 117 110  98  84  55]\n",
      " [ 95 104 124 130 130 128 127 129 125 122 199 219 211 169 115 115 180 210\n",
      "  219 214 121 116 120 120 122  98  88  56]\n",
      " [ 91 108 127 135 131 129 129 130 122 124 123 218 222 225 203 214 213 213\n",
      "  220 132 121 120 118 117 117 100  87  60]\n",
      " [ 94 108 132 131 131 132 136 133 130 126 123 153 223 220 224 222 219 214\n",
      "  125 122 121 124 115 119 119 114 101  65]\n",
      " [ 99 111 130 142 136 137 134 134 129 132 132 129 136 182 208 211 151 119\n",
      "  120 120 120 127 120 121 116 114 113  81]\n",
      " [ 98 112 132 134 136 136 134 136 131 134 130 132 129 130 126 125 119 120\n",
      "  120 120 119 119 118 120 116 119 113  79]\n",
      " [ 99 115 136 140 127 136 137 128 136 135 136 133 131 129 131 133 131 124\n",
      "  125 126 122 121 122 118 115 116 113  88]\n",
      " [102 116 143 141 137 138 136 137 138 134 134 131 129 139 132 130 132 129\n",
      "  132 125 124 121 127 121 119 112 108  89]\n",
      " [101 120 131 136 140 138 140 139 141 136 137 135 139 139 135 132 132 129\n",
      "  134 130 128 128 125 122 117 117 119  94]\n",
      " [102 125 141 139 136 140 143 142 136 136 135 139 135 132 132 138 131 130\n",
      "  133 133 128 126 126 122 119 116 115  97]\n",
      " [104 119 138 138 141 138 140 143 142 142 137 135 134 137 134 128 129 126\n",
      "  129 129 125 128 123 122 120 127 119  92]\n",
      " [105 123 136 147 150 154 140 138 143 140 144 138 130 135 130 135 131 134\n",
      "  134 127 124 127 121 125 123 117 117  97]\n",
      " [103 123 145 142 144 140 143 140 144 140 135 137 133 146 125 133 138 126\n",
      "  126 123 125 120 122 125 121 123 117  95]\n",
      " [110 123 145 146 142 143 140 140 144 139 138 128 134 132 141 134 130 129\n",
      "  135 126 129 125 125 127 119 132 112  97]\n",
      " [102 123 144 143 145 143 146 137 143 148 138 139 134 141 138 138 143 135\n",
      "  127 121 128 125 126 122 124 124 123  92]\n",
      " [110 123 143 147 152 150 149 151 139 145 145 142 140 141 141 137 137 133\n",
      "  138 136 134 126 123 123 126 105 115  92]]\n"
     ]
    },
    {
     "data": {
      "text/plain": [
       "<matplotlib.figure.Figure at 0x19c613c5278>"
      ]
     },
     "metadata": {},
     "output_type": "display_data"
    },
    {
     "name": "stdout",
     "output_type": "stream",
     "text": [
      "(28, 28)\n",
      "拉黑120後\n",
      "[[  0   0   0   0   0   0   0   0   0   0   0   0   0   0   0   0   0   0\n",
      "    0   0   0   0   0   0   0   0   0   0]\n",
      " [  0   0   0   0   0   0   0   0   0   0   0   0   0   0   0   0   0   0\n",
      "    0   0   0   0   0   0   0   0   0   0]\n",
      " [  0   0   0   0   0   0   0   0   0   0   0   0   0   0   0   0   0   0\n",
      "    0   0   0   0   0   0   0   0   0   0]\n",
      " [  0   0   0   0   0   4   0   0   0   0   0   0   0   0   0   0   0   0\n",
      "    0   0   0   0   0   0   0   0   0   0]\n",
      " [  0   0   0   0   4   0   0   0   0   0   0   0   0  72  95  95  81   0\n",
      "    0   0   0   0   0   0   0   0   0   0]\n",
      " [  0   0   0  19   7   3   0   0   0   0   0  53  89 105  96  96  96  94\n",
      "   67   0   0   0   0   0   0   0   0   0]\n",
      " [  0   0   0   1   0   4   0   0   0   0   0  50  97 102  76   0   0  85\n",
      "   93  32   0   0   0   0   0   0   0   0]\n",
      " [  0   0   0   0   1   1   1   0   0   0   0  79  94  89   0   0   0  24\n",
      "   96  90   0   0   0   0   0   0   0   0]\n",
      " [  0   0   0   7   5   7   4   0   0   0   0  86  97  73   0   0   0   0\n",
      "   94  94   0   0   0   0   0   0   0   0]\n",
      " [  0   0   0  10   4   7   1   1   0   0   2  95 102  31   0   0   0   0\n",
      "   84  93   8   0   0   0   0   0   0   0]\n",
      " [  0   0   4   3  13   2   2   2   1   0   4  88  95   4   0   0   0   0\n",
      "   92  99  16   0   0   0   0   0   0   0]\n",
      " [  0   0   5  13   8   9   6  12   7   0  28  99 103   0   0   0   0   2\n",
      "   98  97   0   0   0   0   0   0   0   0]\n",
      " [  0   0   5  11  12  12   6   9   5   3  89 102  96   5   0   0   0  81\n",
      "   93 103   0   0   0   0   0   0   0   0]\n",
      " [  0   0   4  10  10   8   7   9   5   2  79  99  91  49   0   0  60  90\n",
      "   99  94   1   0   0   0   2   0   0   0]\n",
      " [  0   0   7  15  11   9   9  10   2   4   3  98 102 105  83  94  93  93\n",
      "  100  12   1   0   0   0   0   0   0   0]\n",
      " [  0   0  12  11  11  12  16  13  10   6   3  33 103 100 104 102  99  94\n",
      "    5   2   1   4   0   0   0   0   0   0]\n",
      " [  0   0  10  22  16  17  14  14   9  12  12   9  16  62  88  91  31   0\n",
      "    0   0   0   7   0   1   0   0   0   0]\n",
      " [  0   0  12  14  16  16  14  16  11  14  10  12   9  10   6   5   0   0\n",
      "    0   0   0   0   0   0   0   0   0   0]\n",
      " [  0   0  16  20   7  16  17   8  16  15  16  13  11   9  11  13  11   4\n",
      "    5   6   2   1   2   0   0   0   0   0]\n",
      " [  0   0  23  21  17  18  16  17  18  14  14  11   9  19  12  10  12   9\n",
      "   12   5   4   1   7   1   0   0   0   0]\n",
      " [  0   0  11  16  20  18  20  19  21  16  17  15  19  19  15  12  12   9\n",
      "   14  10   8   8   5   2   0   0   0   0]\n",
      " [  0   5  21  19  16  20  23  22  16  16  15  19  15  12  12  18  11  10\n",
      "   13  13   8   6   6   2   0   0   0   0]\n",
      " [  0   0  18  18  21  18  20  23  22  22  17  15  14  17  14   8   9   6\n",
      "    9   9   5   8   3   2   0   7   0   0]\n",
      " [  0   3  16  27  30  34  20  18  23  20  24  18  10  15  10  15  11  14\n",
      "   14   7   4   7   1   5   3   0   0   0]\n",
      " [  0   3  25  22  24  20  23  20  24  20  15  17  13  26   5  13  18   6\n",
      "    6   3   5   0   2   5   1   3   0   0]\n",
      " [  0   3  25  26  22  23  20  20  24  19  18   8  14  12  21  14  10   9\n",
      "   15   6   9   5   5   7   0  12   0   0]\n",
      " [  0   3  24  23  25  23  26  17  23  28  18  19  14  21  18  18  23  15\n",
      "    7   1   8   5   6   2   4   4   3   0]\n",
      " [  0   3  23  27  32  30  29  31  19  25  25  22  20  21  21  17  17  13\n",
      "   18  16  14   6   3   3   6   0   0   0]]\n"
     ]
    },
    {
     "data": {
      "text/plain": [
       "<matplotlib.figure.Figure at 0x19c61438e10>"
      ]
     },
     "metadata": {},
     "output_type": "display_data"
    },
    {
     "name": "stdout",
     "output_type": "stream",
     "text": [
      "拉高gain\n",
      "[[  0   0   0   0   0   0   0   0   0   0   0   0   0   0   0   0   0   0\n",
      "    0   0   0   0   0   0   0   0   0   0]\n",
      " [  0   0   0   0   0   0   0   0   0   0   0   0   0   0   0   0   0   0\n",
      "    0   0   0   0   0   0   0   0   0   0]\n",
      " [  0   0   0   0   0   0   0   0   0   0   0   0   0   0   0   0   0   0\n",
      "    0   0   0   0   0   0   0   0   0   0]\n",
      " [  0   0   0   0   0  12   0   0   0   0   0   0   0   0   0   0   0   0\n",
      "    0   0   0   0   0   0   0   0   0   0]\n",
      " [  0   0   0   0  12   0   0   0   0   0   0   0   0 216 255 255 243   0\n",
      "    0   0   0   0   0   0   0   0   0   0]\n",
      " [  0   0   0  57  21   9   0   0   0   0   0 159 255 255 255 255 255 255\n",
      "  201   0   0   0   0   0   0   0   0   0]\n",
      " [  0   0   0   3   0  12   0   0   0   0   0 150 255 255 228   0   0 255\n",
      "  255  96   0   0   0   0   0   0   0   0]\n",
      " [  0   0   0   0   3   3   3   0   0   0   0 237 255 255   0   0   0  72\n",
      "  255 255   0   0   0   0   0   0   0   0]\n",
      " [  0   0   0  21  15  21  12   0   0   0   0 255 255 219   0   0   0   0\n",
      "  255 255   0   0   0   0   0   0   0   0]\n",
      " [  0   0   0  30  12  21   3   3   0   0   6 255 255  93   0   0   0   0\n",
      "  252 255  24   0   0   0   0   0   0   0]\n",
      " [  0   0  12   9  39   6   6   6   3   0  12 255 255  12   0   0   0   0\n",
      "  255 255  48   0   0   0   0   0   0   0]\n",
      " [  0   0  15  39  24  27  18  36  21   0  84 255 255   0   0   0   0   6\n",
      "  255 255   0   0   0   0   0   0   0   0]\n",
      " [  0   0  15  33  36  36  18  27  15   9 255 255 255  15   0   0   0 243\n",
      "  255 255   0   0   0   0   0   0   0   0]\n",
      " [  0   0  12  30  30  24  21  27  15   6 237 255 255 147   0   0 180 255\n",
      "  255 255   3   0   0   0   6   0   0   0]\n",
      " [  0   0  21  45  33  27  27  30   6  12   9 255 255 255 249 255 255 255\n",
      "  255  36   3   0   0   0   0   0   0   0]\n",
      " [  0   0  36  33  33  36  48  39  30  18   9  99 255 255 255 255 255 255\n",
      "   15   6   3  12   0   0   0   0   0   0]\n",
      " [  0   0  30  66  48  51  42  42  27  36  36  27  48 186 255 255  93   0\n",
      "    0   0   0  21   0   3   0   0   0   0]\n",
      " [  0   0  36  42  48  48  42  48  33  42  30  36  27  30  18  15   0   0\n",
      "    0   0   0   0   0   0   0   0   0   0]\n",
      " [  0   0  48  60  21  48  51  24  48  45  48  39  33  27  33  39  33  12\n",
      "   15  18   6   3   6   0   0   0   0   0]\n",
      " [  0   0  69  63  51  54  48  51  54  42  42  33  27  57  36  30  36  27\n",
      "   36  15  12   3  21   3   0   0   0   0]\n",
      " [  0   0  33  48  60  54  60  57  63  48  51  45  57  57  45  36  36  27\n",
      "   42  30  24  24  15   6   0   0   0   0]\n",
      " [  0  15  63  57  48  60  69  66  48  48  45  57  45  36  36  54  33  30\n",
      "   39  39  24  18  18   6   0   0   0   0]\n",
      " [  0   0  54  54  63  54  60  69  66  66  51  45  42  51  42  24  27  18\n",
      "   27  27  15  24   9   6   0  21   0   0]\n",
      " [  0   9  48  81  90 102  60  54  69  60  72  54  30  45  30  45  33  42\n",
      "   42  21  12  21   3  15   9   0   0   0]\n",
      " [  0   9  75  66  72  60  69  60  72  60  45  51  39  78  15  39  54  18\n",
      "   18   9  15   0   6  15   3   9   0   0]\n",
      " [  0   9  75  78  66  69  60  60  72  57  54  24  42  36  63  42  30  27\n",
      "   45  18  27  15  15  21   0  36   0   0]\n",
      " [  0   9  72  69  75  69  78  51  69  84  54  57  42  63  54  54  69  45\n",
      "   21   3  24  15  18   6  12  12   9   0]\n",
      " [  0   9  69  81  96  90  87  93  57  75  75  66  60  63  63  51  51  39\n",
      "   54  48  42  18   9   9  18   0   0   0]]\n"
     ]
    },
    {
     "data": {
      "text/plain": [
       "<matplotlib.figure.Figure at 0x19c614b4390>"
      ]
     },
     "metadata": {},
     "output_type": "display_data"
    },
    {
     "data": {
      "text/plain": [
       "<matplotlib.figure.Figure at 0x19c615345c0>"
      ]
     },
     "metadata": {},
     "output_type": "display_data"
    },
    {
     "name": "stdout",
     "output_type": "stream",
     "text": [
      "new_img_array[ 5 ]= [[188 181 192 187 183 158 153 147 156 148 154 154 160 161 161 164 165 170\n",
      "  162 169 170 167 171 170 171 173 176 166]\n",
      " [188 186 194 187 180 158 149 149 156 160 153 156 160 164 163 166 162 161\n",
      "  165 167 167 168 167 173 170 173 166 168]\n",
      " [187 186 185 183 189 163 143 149 153 153 148 146 156 162 158 162 165 157\n",
      "  146  51  38  76 158 164 168 164 169 164]\n",
      " [181 187 184 184 182 169 156 148 151 141 151 148 152 158 157 160 114  36\n",
      "   37  33  41  34  44 127 172 168 166 167]\n",
      " [184 185 184 184 180 182 156 153 148 150 147 148 152 156 156 156 129  38\n",
      "   36  54 169  84  50  51 156 168 167 168]\n",
      " [185 184 186 183 182 187 161 147 149 149 149 149 147 155 154 155  61  38\n",
      "   47 148 161 151  62  41 133 169 159 177]\n",
      " [183 180 187 177 180 184 167 151 146 142 146 144 150 151 151 150  40  33\n",
      "   57 158 154 152  74  34  79 167 165 184]\n",
      " [181 185 182 186 183 178 178 149 139 142 140 140 146 149 152 143  39  36\n",
      "  141 153 159 158  83  35  68 165 164 191]\n",
      " [181 180 180 181 179 179 178 156 138 143 141 142 145 146 150 134  40  42\n",
      "  152 156 155 155  63  32  67 157 168 180]\n",
      " [178 182 180 180 176 174 178 163 146 139 138 134 140 147 145 114  31  41\n",
      "  153 148 156 158  52  40 146 160 162 165]\n",
      " [179 181 179 173 179 175 174 169 143 139 134 138 141 144 145  50  32  46\n",
      "  149 149 154 106  41  42 160 157 163 167]\n",
      " [184 182 180 179 177 177 172 177 151 138 136 143 140 142 143  38  25  41\n",
      "  147 146 125  42  43  46 153 160 163 176]\n",
      " [174 170 179 174 176 174 176 178 157 140 141 140 142 142 146 112  30  26\n",
      "   44  46  41  42  45 156 157 159 164 181]\n",
      " [180 177 176 176 177 175 175 174 167 145 136 136 139 141 142 147  48  34\n",
      "   31  36  41  89 157 152 156 155 162 184]\n",
      " [175 174 175 174 171 171 173 173 170 147 134 136 135 134 138 140 138 141\n",
      "  124 137 149 153 155 152 150 157 161 195]\n",
      " [174 177 176 173 175 176 173 171 171 155 135 136 137 136 136 137 141 138\n",
      "  141 137 146 149 150 152 153 153 164 211]\n",
      " [175 172 173 173 175 173 172 170 170 160 137 130 135 134 136 136 141 137\n",
      "  139 146 142 142 146 153 156 157 175 222]\n",
      " [174 176 173 177 171 168 166 167 172 168 144 133 132 135 134 139 135 136\n",
      "  141 138 143 141 148 151 147 157 186 233]\n",
      " [172 175 171 170 173 173 170 170 171 169 151 135 131 136 136 139 137 134\n",
      "  138 140 146 145 147 146 151 158 198 236]\n",
      " [170 171 171 174 175 173 171 172 169 171 157 140 134 129 136 134 132 139\n",
      "  143 142 145 147 148 152 157 164 214 236]\n",
      " [173 174 174 173 171 169 173 166 170 173 169 148 132 136 132 132 136 138\n",
      "  142 140 144 146 152 152 153 182 230 233]\n",
      " [172 172 166 169 173 166 171 171 173 165 175 155 136 134 134 137 132 138\n",
      "  140 137 143 145 146 150 159 203 231 233]\n",
      " [170 171 168 170 172 172 170 173 168 173 173 160 142 135 128 132 134 137\n",
      "  138 141 148 136 151 148 154 182 217 228]\n",
      " [157 172 172 164 168 164 174 168 172 170 169 170 142 135 137 135 134 132\n",
      "  139 135 141 136 144 147 148 149 169 211]\n",
      " [167 165 169 168 167 169 168 167 172 170 166 170 148 135 138 135 134 144\n",
      "  143 142 141 143 144 147 152 145 145 166]\n",
      " [168 166 169 161 165 166 166 150 165 165 171 169 166 136 136 135 138 134\n",
      "  143 142 139 142 146 152 149 145 159 145]\n",
      " [165 169 167 159 171 169 173 160 163 158 172 171 163 145 126 136 131 134\n",
      "  134 140 140 139 141 147 154 145 150 157]\n",
      " [164 169 166 168 164 160 172 164 164 165 171 168 169 152 136 124 133 136\n",
      "  138 138 141 141 141 147 142 148 147 149]]\n"
     ]
    },
    {
     "data": {
      "text/plain": [
       "<matplotlib.figure.Figure at 0x19c615b00f0>"
      ]
     },
     "metadata": {},
     "output_type": "display_data"
    },
    {
     "name": "stdout",
     "output_type": "stream",
     "text": [
      "反白後\n",
      "[[ 67  74  63  68  72  97 102 108  99 107 101 101  95  94  94  91  90  85\n",
      "   93  86  85  88  84  85  84  82  79  89]\n",
      " [ 67  69  61  68  75  97 106 106  99  95 102  99  95  91  92  89  93  94\n",
      "   90  88  88  87  88  82  85  82  89  87]\n",
      " [ 68  69  70  72  66  92 112 106 102 102 107 109  99  93  97  93  90  98\n",
      "  109 204 217 179  97  91  87  91  86  91]\n",
      " [ 74  68  71  71  73  86  99 107 104 114 104 107 103  97  98  95 141 219\n",
      "  218 222 214 221 211 128  83  87  89  88]\n",
      " [ 71  70  71  71  75  73  99 102 107 105 108 107 103  99  99  99 126 217\n",
      "  219 201  86 171 205 204  99  87  88  87]\n",
      " [ 70  71  69  72  73  68  94 108 106 106 106 106 108 100 101 100 194 217\n",
      "  208 107  94 104 193 214 122  86  96  78]\n",
      " [ 72  75  68  78  75  71  88 104 109 113 109 111 105 104 104 105 215 222\n",
      "  198  97 101 103 181 221 176  88  90  71]\n",
      " [ 74  70  73  69  72  77  77 106 116 113 115 115 109 106 103 112 216 219\n",
      "  114 102  96  97 172 220 187  90  91  64]\n",
      " [ 74  75  75  74  76  76  77  99 117 112 114 113 110 109 105 121 215 213\n",
      "  103  99 100 100 192 223 188  98  87  75]\n",
      " [ 77  73  75  75  79  81  77  92 109 116 117 121 115 108 110 141 224 214\n",
      "  102 107  99  97 203 215 109  95  93  90]\n",
      " [ 76  74  76  82  76  80  81  86 112 116 121 117 114 111 110 205 223 209\n",
      "  106 106 101 149 214 213  95  98  92  88]\n",
      " [ 71  73  75  76  78  78  83  78 104 117 119 112 115 113 112 217 230 214\n",
      "  108 109 130 213 212 209 102  95  92  79]\n",
      " [ 81  85  76  81  79  81  79  77  98 115 114 115 113 113 109 143 225 229\n",
      "  211 209 214 213 210  99  98  96  91  74]\n",
      " [ 75  78  79  79  78  80  80  81  88 110 119 119 116 114 113 108 207 221\n",
      "  224 219 214 166  98 103  99 100  93  71]\n",
      " [ 80  81  80  81  84  84  82  82  85 108 121 119 120 121 117 115 117 114\n",
      "  131 118 106 102 100 103 105  98  94  60]\n",
      " [ 81  78  79  82  80  79  82  84  84 100 120 119 118 119 119 118 114 117\n",
      "  114 118 109 106 105 103 102 102  91  44]\n",
      " [ 80  83  82  82  80  82  83  85  85  95 118 125 120 121 119 119 114 118\n",
      "  116 109 113 113 109 102  99  98  80  33]\n",
      " [ 81  79  82  78  84  87  89  88  83  87 111 122 123 120 121 116 120 119\n",
      "  114 117 112 114 107 104 108  98  69  22]\n",
      " [ 83  80  84  85  82  82  85  85  84  86 104 120 124 119 119 116 118 121\n",
      "  117 115 109 110 108 109 104  97  57  19]\n",
      " [ 85  84  84  81  80  82  84  83  86  84  98 115 121 126 119 121 123 116\n",
      "  112 113 110 108 107 103  98  91  41  19]\n",
      " [ 82  81  81  82  84  86  82  89  85  82  86 107 123 119 123 123 119 117\n",
      "  113 115 111 109 103 103 102  73  25  22]\n",
      " [ 83  83  89  86  82  89  84  84  82  90  80 100 119 121 121 118 123 117\n",
      "  115 118 112 110 109 105  96  52  24  22]\n",
      " [ 85  84  87  85  83  83  85  82  87  82  82  95 113 120 127 123 121 118\n",
      "  117 114 107 119 104 107 101  73  38  27]\n",
      " [ 98  83  83  91  87  91  81  87  83  85  86  85 113 120 118 120 121 123\n",
      "  116 120 114 119 111 108 107 106  86  44]\n",
      " [ 88  90  86  87  88  86  87  88  83  85  89  85 107 120 117 120 121 111\n",
      "  112 113 114 112 111 108 103 110 110  89]\n",
      " [ 87  89  86  94  90  89  89 105  90  90  84  86  89 119 119 120 117 121\n",
      "  112 113 116 113 109 103 106 110  96 110]\n",
      " [ 90  86  88  96  84  86  82  95  92  97  83  84  92 110 129 119 124 121\n",
      "  121 115 115 116 114 108 101 110 105  98]\n",
      " [ 91  86  89  87  91  95  83  91  91  90  84  87  86 103 119 131 122 119\n",
      "  117 117 114 114 114 108 113 107 108 106]]\n"
     ]
    },
    {
     "data": {
      "text/plain": [
       "<matplotlib.figure.Figure at 0x19c6162a1d0>"
      ]
     },
     "metadata": {},
     "output_type": "display_data"
    },
    {
     "name": "stdout",
     "output_type": "stream",
     "text": [
      "(28, 28)\n",
      "拉黑120後\n",
      "[[  0   0   0   0   0   0   0   0   0   0   0   0   0   0   0   0   0   0\n",
      "    0   0   0   0   0   0   0   0   0   0]\n",
      " [  0   0   0   0   0   0   0   0   0   0   0   0   0   0   0   0   0   0\n",
      "    0   0   0   0   0   0   0   0   0   0]\n",
      " [  0   0   0   0   0   0   0   0   0   0   0   0   0   0   0   0   0   0\n",
      "    0  84  97  59   0   0   0   0   0   0]\n",
      " [  0   0   0   0   0   0   0   0   0   0   0   0   0   0   0   0  21  99\n",
      "   98 102  94 101  91   8   0   0   0   0]\n",
      " [  0   0   0   0   0   0   0   0   0   0   0   0   0   0   0   0   6  97\n",
      "   99  81   0  51  85  84   0   0   0   0]\n",
      " [  0   0   0   0   0   0   0   0   0   0   0   0   0   0   0   0  74  97\n",
      "   88   0   0   0  73  94   2   0   0   0]\n",
      " [  0   0   0   0   0   0   0   0   0   0   0   0   0   0   0   0  95 102\n",
      "   78   0   0   0  61 101  56   0   0   0]\n",
      " [  0   0   0   0   0   0   0   0   0   0   0   0   0   0   0   0  96  99\n",
      "    0   0   0   0  52 100  67   0   0   0]\n",
      " [  0   0   0   0   0   0   0   0   0   0   0   0   0   0   0   1  95  93\n",
      "    0   0   0   0  72 103  68   0   0   0]\n",
      " [  0   0   0   0   0   0   0   0   0   0   0   1   0   0   0  21 104  94\n",
      "    0   0   0   0  83  95   0   0   0   0]\n",
      " [  0   0   0   0   0   0   0   0   0   0   1   0   0   0   0  85 103  89\n",
      "    0   0   0  29  94  93   0   0   0   0]\n",
      " [  0   0   0   0   0   0   0   0   0   0   0   0   0   0   0  97 110  94\n",
      "    0   0  10  93  92  89   0   0   0   0]\n",
      " [  0   0   0   0   0   0   0   0   0   0   0   0   0   0   0  23 105 109\n",
      "   91  89  94  93  90   0   0   0   0   0]\n",
      " [  0   0   0   0   0   0   0   0   0   0   0   0   0   0   0   0  87 101\n",
      "  104  99  94  46   0   0   0   0   0   0]\n",
      " [  0   0   0   0   0   0   0   0   0   0   1   0   0   1   0   0   0   0\n",
      "   11   0   0   0   0   0   0   0   0   0]\n",
      " [  0   0   0   0   0   0   0   0   0   0   0   0   0   0   0   0   0   0\n",
      "    0   0   0   0   0   0   0   0   0   0]\n",
      " [  0   0   0   0   0   0   0   0   0   0   0   5   0   1   0   0   0   0\n",
      "    0   0   0   0   0   0   0   0   0   0]\n",
      " [  0   0   0   0   0   0   0   0   0   0   0   2   3   0   1   0   0   0\n",
      "    0   0   0   0   0   0   0   0   0   0]\n",
      " [  0   0   0   0   0   0   0   0   0   0   0   0   4   0   0   0   0   1\n",
      "    0   0   0   0   0   0   0   0   0   0]\n",
      " [  0   0   0   0   0   0   0   0   0   0   0   0   1   6   0   1   3   0\n",
      "    0   0   0   0   0   0   0   0   0   0]\n",
      " [  0   0   0   0   0   0   0   0   0   0   0   0   3   0   3   3   0   0\n",
      "    0   0   0   0   0   0   0   0   0   0]\n",
      " [  0   0   0   0   0   0   0   0   0   0   0   0   0   1   1   0   3   0\n",
      "    0   0   0   0   0   0   0   0   0   0]\n",
      " [  0   0   0   0   0   0   0   0   0   0   0   0   0   0   7   3   1   0\n",
      "    0   0   0   0   0   0   0   0   0   0]\n",
      " [  0   0   0   0   0   0   0   0   0   0   0   0   0   0   0   0   1   3\n",
      "    0   0   0   0   0   0   0   0   0   0]\n",
      " [  0   0   0   0   0   0   0   0   0   0   0   0   0   0   0   0   1   0\n",
      "    0   0   0   0   0   0   0   0   0   0]\n",
      " [  0   0   0   0   0   0   0   0   0   0   0   0   0   0   0   0   0   1\n",
      "    0   0   0   0   0   0   0   0   0   0]\n",
      " [  0   0   0   0   0   0   0   0   0   0   0   0   0   0   9   0   4   1\n",
      "    1   0   0   0   0   0   0   0   0   0]\n",
      " [  0   0   0   0   0   0   0   0   0   0   0   0   0   0   0  11   2   0\n",
      "    0   0   0   0   0   0   0   0   0   0]]\n"
     ]
    },
    {
     "data": {
      "text/plain": [
       "<matplotlib.figure.Figure at 0x19c61664390>"
      ]
     },
     "metadata": {},
     "output_type": "display_data"
    },
    {
     "name": "stdout",
     "output_type": "stream",
     "text": [
      "拉高gain\n",
      "[[  0   0   0   0   0   0   0   0   0   0   0   0   0   0   0   0   0   0\n",
      "    0   0   0   0   0   0   0   0   0   0]\n",
      " [  0   0   0   0   0   0   0   0   0   0   0   0   0   0   0   0   0   0\n",
      "    0   0   0   0   0   0   0   0   0   0]\n",
      " [  0   0   0   0   0   0   0   0   0   0   0   0   0   0   0   0   0   0\n",
      "    0 252 255 177   0   0   0   0   0   0]\n",
      " [  0   0   0   0   0   0   0   0   0   0   0   0   0   0   0   0  63 255\n",
      "  255 255 255 255 255  24   0   0   0   0]\n",
      " [  0   0   0   0   0   0   0   0   0   0   0   0   0   0   0   0  18 255\n",
      "  255 243   0 153 255 252   0   0   0   0]\n",
      " [  0   0   0   0   0   0   0   0   0   0   0   0   0   0   0   0 222 255\n",
      "  255   0   0   0 219 255   6   0   0   0]\n",
      " [  0   0   0   0   0   0   0   0   0   0   0   0   0   0   0   0 255 255\n",
      "  234   0   0   0 183 255 168   0   0   0]\n",
      " [  0   0   0   0   0   0   0   0   0   0   0   0   0   0   0   0 255 255\n",
      "    0   0   0   0 156 255 201   0   0   0]\n",
      " [  0   0   0   0   0   0   0   0   0   0   0   0   0   0   0   3 255 255\n",
      "    0   0   0   0 216 255 204   0   0   0]\n",
      " [  0   0   0   0   0   0   0   0   0   0   0   3   0   0   0  63 255 255\n",
      "    0   0   0   0 249 255   0   0   0   0]\n",
      " [  0   0   0   0   0   0   0   0   0   0   3   0   0   0   0 255 255 255\n",
      "    0   0   0  87 255 255   0   0   0   0]\n",
      " [  0   0   0   0   0   0   0   0   0   0   0   0   0   0   0 255 255 255\n",
      "    0   0  30 255 255 255   0   0   0   0]\n",
      " [  0   0   0   0   0   0   0   0   0   0   0   0   0   0   0  69 255 255\n",
      "  255 255 255 255 255   0   0   0   0   0]\n",
      " [  0   0   0   0   0   0   0   0   0   0   0   0   0   0   0   0 255 255\n",
      "  255 255 255 138   0   0   0   0   0   0]\n",
      " [  0   0   0   0   0   0   0   0   0   0   3   0   0   3   0   0   0   0\n",
      "   33   0   0   0   0   0   0   0   0   0]\n",
      " [  0   0   0   0   0   0   0   0   0   0   0   0   0   0   0   0   0   0\n",
      "    0   0   0   0   0   0   0   0   0   0]\n",
      " [  0   0   0   0   0   0   0   0   0   0   0  15   0   3   0   0   0   0\n",
      "    0   0   0   0   0   0   0   0   0   0]\n",
      " [  0   0   0   0   0   0   0   0   0   0   0   6   9   0   3   0   0   0\n",
      "    0   0   0   0   0   0   0   0   0   0]\n",
      " [  0   0   0   0   0   0   0   0   0   0   0   0  12   0   0   0   0   3\n",
      "    0   0   0   0   0   0   0   0   0   0]\n",
      " [  0   0   0   0   0   0   0   0   0   0   0   0   3  18   0   3   9   0\n",
      "    0   0   0   0   0   0   0   0   0   0]\n",
      " [  0   0   0   0   0   0   0   0   0   0   0   0   9   0   9   9   0   0\n",
      "    0   0   0   0   0   0   0   0   0   0]\n",
      " [  0   0   0   0   0   0   0   0   0   0   0   0   0   3   3   0   9   0\n",
      "    0   0   0   0   0   0   0   0   0   0]\n",
      " [  0   0   0   0   0   0   0   0   0   0   0   0   0   0  21   9   3   0\n",
      "    0   0   0   0   0   0   0   0   0   0]\n",
      " [  0   0   0   0   0   0   0   0   0   0   0   0   0   0   0   0   3   9\n",
      "    0   0   0   0   0   0   0   0   0   0]\n",
      " [  0   0   0   0   0   0   0   0   0   0   0   0   0   0   0   0   3   0\n",
      "    0   0   0   0   0   0   0   0   0   0]\n",
      " [  0   0   0   0   0   0   0   0   0   0   0   0   0   0   0   0   0   3\n",
      "    0   0   0   0   0   0   0   0   0   0]\n",
      " [  0   0   0   0   0   0   0   0   0   0   0   0   0   0  27   0  12   3\n",
      "    3   0   0   0   0   0   0   0   0   0]\n",
      " [  0   0   0   0   0   0   0   0   0   0   0   0   0   0   0  33   6   0\n",
      "    0   0   0   0   0   0   0   0   0   0]]\n"
     ]
    },
    {
     "data": {
      "text/plain": [
       "<matplotlib.figure.Figure at 0x19c617655c0>"
      ]
     },
     "metadata": {},
     "output_type": "display_data"
    },
    {
     "data": {
      "text/plain": [
       "<matplotlib.figure.Figure at 0x19c61684668>"
      ]
     },
     "metadata": {},
     "output_type": "display_data"
    },
    {
     "name": "stdout",
     "output_type": "stream",
     "text": [
      "new_img_array[ 6 ]= [[158 164 156 159 163 162 165 166 165 162 173 168 166 167 166 173 171 176\n",
      "  166 181 174 171 172 177 173 172 179 174]\n",
      " [156 149 151 152 155 158 162 165 166 158 168 165 163 173 163 168 168 166\n",
      "  173 175 165 174 172 173 168 175 174 179]\n",
      " [160 154 151 153 159 165 159 162 159 159 152 166 165 164 164 164 155 162\n",
      "  165 172 165 175 170 171 170 169 168 169]\n",
      " [151 152 152 156 160 164 157 163 155 156 171 159 163 163 169 164 163 163\n",
      "  156 151 165 175 168 168 167 168 165 170]\n",
      " [154 152 154 149 148 160 152 156 158 160 157 155 160 160 166 163 164 166\n",
      "  163 162 161 163 171 171 170 169 174 168]\n",
      " [138 151 154 154 152 154 155 159 159 160 163 157 161 161 161 161 161 164\n",
      "  167 165 162 165 167 166 168 169 167 170]\n",
      " [146 148 150 145 149 152 154 156 158 151 154 152 149 105  45  43  39  62\n",
      "  116 155 154 163 167 163 167 167 164 173]\n",
      " [142 148 150 152 152 151 153 153 148 149  96  54  37  36  35  30  35  41\n",
      "   35  35 133 156 160 164 160 162 158 161]\n",
      " [147 143 136 146 144 148 146 150 150 150  80  40  40  35  37  42  70  41\n",
      "   41  42  38 122 162 161 158 161 162 158]\n",
      " [141 137 142 148 147 145 146 151 146 146  65  37  33  35  46 131 153 131\n",
      "   49  40  38  49 150 163 158 163 162 165]\n",
      " [143 145 140 144 148 142 143 146 149 125  58  37  25  47 102 154 153 159\n",
      "  119  51  33  39 116 161 160 161 163 167]\n",
      " [141 140 138 136 142 139 145 143 138  84  49  35  43  58 139 147 149 152\n",
      "  140  59  38  42  96 157 156 154 158 164]\n",
      " [141 132 135 137 133 147 144 140 139  62  44  33  42 110 145 143 145 143\n",
      "  132  61  39  37  79 154 157 158 160 159]\n",
      " [136 130 133 136 137 141 143 137 125  43  34  34  63 141 144 140 142 137\n",
      "  138  63  30  42  83 153 153 151 152 155]\n",
      " [136 131 134 147 131 137 141 142 116  45  29  36  93 142 136 137 141 144\n",
      "  138  62  36  38  84 147 153 150 157 160]\n",
      " [138 128 135 134 138 136 136 139 112  43  31  44 112 138 139 140 147 147\n",
      "  129  46  32  41  92 149 148 156 156 158]\n",
      " [139 134 132 126 136 137 140 139  82  32  26  43 125 136 138 142 140 142\n",
      "  108  47  33  43 126 148 148 152 150 157]\n",
      " [133 135 126 133 132 137 135 131  52  36  33  57 137 135 137 134 141 140\n",
      "   88  36  33  43 144 147 149 152 152 158]\n",
      " [135 135 133 131 133 134 132 109  34  32  37  60 131 138 140 144 141 105\n",
      "   54  30  31  73 141 147 150 155 153 155]\n",
      " [128 129 127 120 134 138 135 103  36  29  37  51 118 140 143 136 104  48\n",
      "   40  39  39 116 147 148 143 149 151 158]\n",
      " [132 129 133 132 134 132 120 123  47  33  30  41  92 133 139  92  41  41\n",
      "   43  39  61 141 144 151 149 151 155 150]\n",
      " [128 119 129 129 134 130 132 135  98  33  30  25  34  47  37  38  38  39\n",
      "   34  76 140 140 142 137 148 139 152 154]\n",
      " [125 126 115 130 122 129 131 131 134  69  29  34  33  33  29  31  39  38\n",
      "  117 138 145 147 148 143 146 149 151 139]\n",
      " [126 123 124 127 132 126 127 131 126 124  86  45  35  32  37  41  96 143\n",
      "  139 139 149 146 142 147 141 152 149 147]\n",
      " [130 120 119 124 129 121 121 129 123 124 124 138 126 129 134 139 133 140\n",
      "  136 140 143 138 139 144 150 149 148 154]\n",
      " [127 127 123 123 109 116 121 109 114 130 113 121 127 126 124 137 132 126\n",
      "  143 141 139 141 140 145 139 151 152 153]\n",
      " [118 121 112 123 129 116 116 111 115 123 113 118 130 114 121 122 125 113\n",
      "  133 150 133 137 141 139 144 143 148 149]\n",
      " [122 122 126 126 121 105 113 119 118 114 116 112 120 119 125 124 126 121\n",
      "  113 127 129 135 137 142 136 146 150 150]]\n"
     ]
    },
    {
     "data": {
      "text/plain": [
       "<matplotlib.figure.Figure at 0x19c611ebf28>"
      ]
     },
     "metadata": {},
     "output_type": "display_data"
    },
    {
     "name": "stdout",
     "output_type": "stream",
     "text": [
      "反白後\n",
      "[[ 97  91  99  96  92  93  90  89  90  93  82  87  89  88  89  82  84  79\n",
      "   89  74  81  84  83  78  82  83  76  81]\n",
      " [ 99 106 104 103 100  97  93  90  89  97  87  90  92  82  92  87  87  89\n",
      "   82  80  90  81  83  82  87  80  81  76]\n",
      " [ 95 101 104 102  96  90  96  93  96  96 103  89  90  91  91  91 100  93\n",
      "   90  83  90  80  85  84  85  86  87  86]\n",
      " [104 103 103  99  95  91  98  92 100  99  84  96  92  92  86  91  92  92\n",
      "   99 104  90  80  87  87  88  87  90  85]\n",
      " [101 103 101 106 107  95 103  99  97  95  98 100  95  95  89  92  91  89\n",
      "   92  93  94  92  84  84  85  86  81  87]\n",
      " [117 104 101 101 103 101 100  96  96  95  92  98  94  94  94  94  94  91\n",
      "   88  90  93  90  88  89  87  86  88  85]\n",
      " [109 107 105 110 106 103 101  99  97 104 101 103 106 150 210 212 216 193\n",
      "  139 100 101  92  88  92  88  88  91  82]\n",
      " [113 107 105 103 103 104 102 102 107 106 159 201 218 219 220 225 220 214\n",
      "  220 220 122  99  95  91  95  93  97  94]\n",
      " [108 112 119 109 111 107 109 105 105 105 175 215 215 220 218 213 185 214\n",
      "  214 213 217 133  93  94  97  94  93  97]\n",
      " [114 118 113 107 108 110 109 104 109 109 190 218 222 220 209 124 102 124\n",
      "  206 215 217 206 105  92  97  92  93  90]\n",
      " [112 110 115 111 107 113 112 109 106 130 197 218 230 208 153 101 102  96\n",
      "  136 204 222 216 139  94  95  94  92  88]\n",
      " [114 115 117 119 113 116 110 112 117 171 206 220 212 197 116 108 106 103\n",
      "  115 196 217 213 159  98  99 101  97  91]\n",
      " [114 123 120 118 122 108 111 115 116 193 211 222 213 145 110 112 110 112\n",
      "  123 194 216 218 176 101  98  97  95  96]\n",
      " [119 125 122 119 118 114 112 118 130 212 221 221 192 114 111 115 113 118\n",
      "  117 192 225 213 172 102 102 104 103 100]\n",
      " [119 124 121 108 124 118 114 113 139 210 226 219 162 113 119 118 114 111\n",
      "  117 193 219 217 171 108 102 105  98  95]\n",
      " [117 127 120 121 117 119 119 116 143 212 224 211 143 117 116 115 108 108\n",
      "  126 209 223 214 163 106 107  99  99  97]\n",
      " [116 121 123 129 119 118 115 116 173 223 229 212 130 119 117 113 115 113\n",
      "  147 208 222 212 129 107 107 103 105  98]\n",
      " [122 120 129 122 123 118 120 124 203 219 222 198 118 120 118 121 114 115\n",
      "  167 219 222 212 111 108 106 103 103  97]\n",
      " [120 120 122 124 122 121 123 146 221 223 218 195 124 117 115 111 114 150\n",
      "  201 225 224 182 114 108 105 100 102 100]\n",
      " [127 126 128 135 121 117 120 152 219 226 218 204 137 115 112 119 151 207\n",
      "  215 216 216 139 108 107 112 106 104  97]\n",
      " [123 126 122 123 121 123 135 132 208 222 225 214 163 122 116 163 214 214\n",
      "  212 216 194 114 111 104 106 104 100 105]\n",
      " [127 136 126 126 121 125 123 120 157 222 225 230 221 208 218 217 217 216\n",
      "  221 179 115 115 113 118 107 116 103 101]\n",
      " [130 129 140 125 133 126 124 124 121 186 226 221 222 222 226 224 216 217\n",
      "  138 117 110 108 107 112 109 106 104 116]\n",
      " [129 132 131 128 123 129 128 124 129 131 169 210 220 223 218 214 159 112\n",
      "  116 116 106 109 113 108 114 103 106 108]\n",
      " [125 135 136 131 126 134 134 126 132 131 131 117 129 126 121 116 122 115\n",
      "  119 115 112 117 116 111 105 106 107 101]\n",
      " [128 128 132 132 146 139 134 146 141 125 142 134 128 129 131 118 123 129\n",
      "  112 114 116 114 115 110 116 104 103 102]\n",
      " [137 134 143 132 126 139 139 144 140 132 142 137 125 141 134 133 130 142\n",
      "  122 105 122 118 114 116 111 112 107 106]\n",
      " [133 133 129 129 134 150 142 136 137 141 139 143 135 136 130 131 129 134\n",
      "  142 128 126 120 118 113 119 109 105 105]]\n"
     ]
    },
    {
     "data": {
      "text/plain": [
       "<matplotlib.figure.Figure at 0x19c611eb0b8>"
      ]
     },
     "metadata": {},
     "output_type": "display_data"
    },
    {
     "name": "stdout",
     "output_type": "stream",
     "text": [
      "(28, 28)\n",
      "拉黑120後\n",
      "[[  0   0   0   0   0   0   0   0   0   0   0   0   0   0   0   0   0   0\n",
      "    0   0   0   0   0   0   0   0   0   0]\n",
      " [  0   0   0   0   0   0   0   0   0   0   0   0   0   0   0   0   0   0\n",
      "    0   0   0   0   0   0   0   0   0   0]\n",
      " [  0   0   0   0   0   0   0   0   0   0   0   0   0   0   0   0   0   0\n",
      "    0   0   0   0   0   0   0   0   0   0]\n",
      " [  0   0   0   0   0   0   0   0   0   0   0   0   0   0   0   0   0   0\n",
      "    0   0   0   0   0   0   0   0   0   0]\n",
      " [  0   0   0   0   0   0   0   0   0   0   0   0   0   0   0   0   0   0\n",
      "    0   0   0   0   0   0   0   0   0   0]\n",
      " [  0   0   0   0   0   0   0   0   0   0   0   0   0   0   0   0   0   0\n",
      "    0   0   0   0   0   0   0   0   0   0]\n",
      " [  0   0   0   0   0   0   0   0   0   0   0   0   0  30  90  92  96  73\n",
      "   19   0   0   0   0   0   0   0   0   0]\n",
      " [  0   0   0   0   0   0   0   0   0   0  39  81  98  99 100 105 100  94\n",
      "  100 100   2   0   0   0   0   0   0   0]\n",
      " [  0   0   0   0   0   0   0   0   0   0  55  95  95 100  98  93  65  94\n",
      "   94  93  97  13   0   0   0   0   0   0]\n",
      " [  0   0   0   0   0   0   0   0   0   0  70  98 102 100  89   4   0   4\n",
      "   86  95  97  86   0   0   0   0   0   0]\n",
      " [  0   0   0   0   0   0   0   0   0  10  77  98 110  88  33   0   0   0\n",
      "   16  84 102  96  19   0   0   0   0   0]\n",
      " [  0   0   0   0   0   0   0   0   0  51  86 100  92  77   0   0   0   0\n",
      "    0  76  97  93  39   0   0   0   0   0]\n",
      " [  0   3   0   0   2   0   0   0   0  73  91 102  93  25   0   0   0   0\n",
      "    3  74  96  98  56   0   0   0   0   0]\n",
      " [  0   5   2   0   0   0   0   0  10  92 101 101  72   0   0   0   0   0\n",
      "    0  72 105  93  52   0   0   0   0   0]\n",
      " [  0   4   1   0   4   0   0   0  19  90 106  99  42   0   0   0   0   0\n",
      "    0  73  99  97  51   0   0   0   0   0]\n",
      " [  0   7   0   1   0   0   0   0  23  92 104  91  23   0   0   0   0   0\n",
      "    6  89 103  94  43   0   0   0   0   0]\n",
      " [  0   1   3   9   0   0   0   0  53 103 109  92  10   0   0   0   0   0\n",
      "   27  88 102  92   9   0   0   0   0   0]\n",
      " [  2   0   9   2   3   0   0   4  83  99 102  78   0   0   0   1   0   0\n",
      "   47  99 102  92   0   0   0   0   0   0]\n",
      " [  0   0   2   4   2   1   3  26 101 103  98  75   4   0   0   0   0  30\n",
      "   81 105 104  62   0   0   0   0   0   0]\n",
      " [  7   6   8  15   1   0   0  32  99 106  98  84  17   0   0   0  31  87\n",
      "   95  96  96  19   0   0   0   0   0   0]\n",
      " [  3   6   2   3   1   3  15  12  88 102 105  94  43   2   0  43  94  94\n",
      "   92  96  74   0   0   0   0   0   0   0]\n",
      " [  7  16   6   6   1   5   3   0  37 102 105 110 101  88  98  97  97  96\n",
      "  101  59   0   0   0   0   0   0   0   0]\n",
      " [ 10   9  20   5  13   6   4   4   1  66 106 101 102 102 106 104  96  97\n",
      "   18   0   0   0   0   0   0   0   0   0]\n",
      " [  9  12  11   8   3   9   8   4   9  11  49  90 100 103  98  94  39   0\n",
      "    0   0   0   0   0   0   0   0   0   0]\n",
      " [  5  15  16  11   6  14  14   6  12  11  11   0   9   6   1   0   2   0\n",
      "    0   0   0   0   0   0   0   0   0   0]\n",
      " [  8   8  12  12  26  19  14  26  21   5  22  14   8   9  11   0   3   9\n",
      "    0   0   0   0   0   0   0   0   0   0]\n",
      " [ 17  14  23  12   6  19  19  24  20  12  22  17   5  21  14  13  10  22\n",
      "    2   0   2   0   0   0   0   0   0   0]\n",
      " [ 13  13   9   9  14  30  22  16  17  21  19  23  15  16  10  11   9  14\n",
      "   22   8   6   0   0   0   0   0   0   0]]\n"
     ]
    },
    {
     "data": {
      "text/plain": [
       "<matplotlib.figure.Figure at 0x19c612100f0>"
      ]
     },
     "metadata": {},
     "output_type": "display_data"
    },
    {
     "name": "stdout",
     "output_type": "stream",
     "text": [
      "拉高gain\n",
      "[[  0   0   0   0   0   0   0   0   0   0   0   0   0   0   0   0   0   0\n",
      "    0   0   0   0   0   0   0   0   0   0]\n",
      " [  0   0   0   0   0   0   0   0   0   0   0   0   0   0   0   0   0   0\n",
      "    0   0   0   0   0   0   0   0   0   0]\n",
      " [  0   0   0   0   0   0   0   0   0   0   0   0   0   0   0   0   0   0\n",
      "    0   0   0   0   0   0   0   0   0   0]\n",
      " [  0   0   0   0   0   0   0   0   0   0   0   0   0   0   0   0   0   0\n",
      "    0   0   0   0   0   0   0   0   0   0]\n",
      " [  0   0   0   0   0   0   0   0   0   0   0   0   0   0   0   0   0   0\n",
      "    0   0   0   0   0   0   0   0   0   0]\n",
      " [  0   0   0   0   0   0   0   0   0   0   0   0   0   0   0   0   0   0\n",
      "    0   0   0   0   0   0   0   0   0   0]\n",
      " [  0   0   0   0   0   0   0   0   0   0   0   0   0  90 255 255 255 219\n",
      "   57   0   0   0   0   0   0   0   0   0]\n",
      " [  0   0   0   0   0   0   0   0   0   0 117 243 255 255 255 255 255 255\n",
      "  255 255   6   0   0   0   0   0   0   0]\n",
      " [  0   0   0   0   0   0   0   0   0   0 165 255 255 255 255 255 195 255\n",
      "  255 255 255  39   0   0   0   0   0   0]\n",
      " [  0   0   0   0   0   0   0   0   0   0 210 255 255 255 255  12   0  12\n",
      "  255 255 255 255   0   0   0   0   0   0]\n",
      " [  0   0   0   0   0   0   0   0   0  30 231 255 255 255  99   0   0   0\n",
      "   48 252 255 255  57   0   0   0   0   0]\n",
      " [  0   0   0   0   0   0   0   0   0 153 255 255 255 231   0   0   0   0\n",
      "    0 228 255 255 117   0   0   0   0   0]\n",
      " [  0   9   0   0   6   0   0   0   0 219 255 255 255  75   0   0   0   0\n",
      "    9 222 255 255 168   0   0   0   0   0]\n",
      " [  0  15   6   0   0   0   0   0  30 255 255 255 216   0   0   0   0   0\n",
      "    0 216 255 255 156   0   0   0   0   0]\n",
      " [  0  12   3   0  12   0   0   0  57 255 255 255 126   0   0   0   0   0\n",
      "    0 219 255 255 153   0   0   0   0   0]\n",
      " [  0  21   0   3   0   0   0   0  69 255 255 255  69   0   0   0   0   0\n",
      "   18 255 255 255 129   0   0   0   0   0]\n",
      " [  0   3   9  27   0   0   0   0 159 255 255 255  30   0   0   0   0   0\n",
      "   81 255 255 255  27   0   0   0   0   0]\n",
      " [  6   0  27   6   9   0   0  12 249 255 255 234   0   0   0   3   0   0\n",
      "  141 255 255 255   0   0   0   0   0   0]\n",
      " [  0   0   6  12   6   3   9  78 255 255 255 225  12   0   0   0   0  90\n",
      "  243 255 255 186   0   0   0   0   0   0]\n",
      " [ 21  18  24  45   3   0   0  96 255 255 255 252  51   0   0   0  93 255\n",
      "  255 255 255  57   0   0   0   0   0   0]\n",
      " [  9  18   6   9   3   9  45  36 255 255 255 255 129   6   0 129 255 255\n",
      "  255 255 222   0   0   0   0   0   0   0]\n",
      " [ 21  48  18  18   3  15   9   0 111 255 255 255 255 255 255 255 255 255\n",
      "  255 177   0   0   0   0   0   0   0   0]\n",
      " [ 30  27  60  15  39  18  12  12   3 198 255 255 255 255 255 255 255 255\n",
      "   54   0   0   0   0   0   0   0   0   0]\n",
      " [ 27  36  33  24   9  27  24  12  27  33 147 255 255 255 255 255 117   0\n",
      "    0   0   0   0   0   0   0   0   0   0]\n",
      " [ 15  45  48  33  18  42  42  18  36  33  33   0  27  18   3   0   6   0\n",
      "    0   0   0   0   0   0   0   0   0   0]\n",
      " [ 24  24  36  36  78  57  42  78  63  15  66  42  24  27  33   0   9  27\n",
      "    0   0   0   0   0   0   0   0   0   0]\n",
      " [ 51  42  69  36  18  57  57  72  60  36  66  51  15  63  42  39  30  66\n",
      "    6   0   6   0   0   0   0   0   0   0]\n",
      " [ 39  39  27  27  42  90  66  48  51  63  57  69  45  48  30  33  27  42\n",
      "   66  24  18   0   0   0   0   0   0   0]]\n"
     ]
    },
    {
     "data": {
      "text/plain": [
       "<matplotlib.figure.Figure at 0x19c616250f0>"
      ]
     },
     "metadata": {},
     "output_type": "display_data"
    },
    {
     "data": {
      "text/plain": [
       "<matplotlib.figure.Figure at 0x19c615de160>"
      ]
     },
     "metadata": {},
     "output_type": "display_data"
    },
    {
     "name": "stdout",
     "output_type": "stream",
     "text": [
      "new_img_array[ 7 ]= [[169 169 172 182 176 179 156 145 150 152 153 158 160 167 162 165 168 161\n",
      "  174 169 176 180 180 186 186 205 223 231]\n",
      " [174 173 173 172 170 166 150 138 134 139 147 148 152 154 154 151 154 152\n",
      "  154 155 153 159 154 149 154 161 182 222]\n",
      " [165 170 172 171 168 167 150 140 137 139 140 143 144 145 151 154 159 158\n",
      "  158 154 153 155 151 159 152 155 160 188]\n",
      " [166 171 173 167 162 164 151 137 134 141 143 142 148 153 148 148 156 156\n",
      "  156 153 151 156 152 151 148 143 160 178]\n",
      " [169 173 172 170 175 172 152 140 139 139 146 142 146 150 148 153 152 150\n",
      "  149 156 155 151 152 154 151 148 160 170]\n",
      " [163 166 166 176 168 177 160 134 138 129 132 139 141 143 145 147  75  30\n",
      "   37  33  34 141 150 154 148 149 168 178]\n",
      " [170 166 161 171 168 168 158 137 125 134 126 136 141 137 151  40  37  34\n",
      "   67  58  39  40 131 153 156 149 165 175]\n",
      " [157 168 165 166 167 172 161 139 127 126 129 141 137 144 143  37  29  47\n",
      "  147 151  86  33  42 148 150 157 170 168]\n",
      " [164 166 169 166 164 164 164 146 127 121 124 135 134 135 122  42  43 107\n",
      "  145 147 136  40  36 148 150 148 168 182]\n",
      " [163 165 167 160 163 163 165 150 129 117 123 132 137 143  93  38  42 147\n",
      "  140 139 138  38  36 136 142 158 171 178]\n",
      " [163 165 169 167 161 163 163 150 136 123 124 129 135 133  84  33  46 141\n",
      "  141 142 144  48  41 130 140 161 175 183]\n",
      " [165 162 160 162 160 165 160 157 138 125 125 134 130 137  68  26  71 138\n",
      "  135 144 138  41  38 128 144 154 175 187]\n",
      " [152 166 163 161 164 160 160 165 144 124 123 126 133 137  52  36  80 131\n",
      "  139 139  80  31  38 136 137 160 172 186]\n",
      " [161 169 164 161 158 159 163 161 150 126 124 127 127 136  36  29  49 142\n",
      "  138  90  46  35  36 132 134 159 173 190]\n",
      " [162 160 162 158 152 159 162 161 155 131 121 126 126 128  74  23  27  71\n",
      "   62  45  40  36 128 135 141 163 176 194]\n",
      " [166 162 162 160 160 164 160 160 158 138 125 124 123 127 133  36  33  35\n",
      "   27  38  53 132 137 134 150 167 171 199]\n",
      " [164 161 162 155 161 161 157 154 158 141 116 117 126 118 124 126 121  93\n",
      "   96 131 132 131 135 134 147 167 172 204]\n",
      " [162 161 158 153 158 159 159 156 156 152 126 117 118 116 125 124 119 125\n",
      "  125 129 133 133 135 128 131 143 164 205]\n",
      " [154 158 155 158 160 158 159 155 157 158 128 117 112 120 123 123 124 121\n",
      "  117 124 125 126 128 132 129 132 151 194]\n",
      " [161 158 157 161 159 158 153 161 159 153 143 113 114 103 122 113 117 120\n",
      "  120 129 126 121 121 128 134 129 154 197]\n",
      " [157 159 157 155 159 158 153 158 159 158 153 123 116 118 117 121 120 105\n",
      "  124 123 120 118 126 122 126 127 159 200]\n",
      " [160 159 154 162 159 163 156 159 161 161 159 137 118 122 118 121 121 118\n",
      "  123 126 117 114 125 124 134 141 174 202]\n",
      " [163 173 161 165 163 156 161 160 158 161 161 151 126 120 122 119 122 126\n",
      "  119 124 122 124 123 122 122 150 192 197]\n",
      " [154 168 164 165 168 160 168 163 163 168 166 156 127 126 121 117 122 122\n",
      "  117 120 125 126 128 129 136 169 201 204]\n",
      " [166 166 169 158 161 159 163 167 160 163 155 161 130 120 121 125 121 124\n",
      "  123 127 118 139 157 162 155 179 206 211]\n",
      " [158 157 163 159 170 165 161 162 165 159 163 163 138 124 126 127 105 126\n",
      "  117 118 121 150 158 146 156 184 205 209]\n",
      " [159 162 164 147 156 158 161 153 165 163 159 160 139 133 125 126 129 128\n",
      "  116 125 124 141 139 131 161 194 205 206]\n",
      " [163 155 162 157 159 158 159 168 166 158 161 167 142 127 128 124 124 119\n",
      "  128 127 111 131 133 121 167 200 201 202]]\n"
     ]
    },
    {
     "data": {
      "text/plain": [
       "<matplotlib.figure.Figure at 0x19c618f2240>"
      ]
     },
     "metadata": {},
     "output_type": "display_data"
    },
    {
     "name": "stdout",
     "output_type": "stream",
     "text": [
      "反白後\n",
      "[[ 86  86  83  73  79  76  99 110 105 103 102  97  95  88  93  90  87  94\n",
      "   81  86  79  75  75  69  69  50  32  24]\n",
      " [ 81  82  82  83  85  89 105 117 121 116 108 107 103 101 101 104 101 103\n",
      "  101 100 102  96 101 106 101  94  73  33]\n",
      " [ 90  85  83  84  87  88 105 115 118 116 115 112 111 110 104 101  96  97\n",
      "   97 101 102 100 104  96 103 100  95  67]\n",
      " [ 89  84  82  88  93  91 104 118 121 114 112 113 107 102 107 107  99  99\n",
      "   99 102 104  99 103 104 107 112  95  77]\n",
      " [ 86  82  83  85  80  83 103 115 116 116 109 113 109 105 107 102 103 105\n",
      "  106  99 100 104 103 101 104 107  95  85]\n",
      " [ 92  89  89  79  87  78  95 121 117 126 123 116 114 112 110 108 180 225\n",
      "  218 222 221 114 105 101 107 106  87  77]\n",
      " [ 85  89  94  84  87  87  97 118 130 121 129 119 114 118 104 215 218 221\n",
      "  188 197 216 215 124 102  99 106  90  80]\n",
      " [ 98  87  90  89  88  83  94 116 128 129 126 114 118 111 112 218 226 208\n",
      "  108 104 169 222 213 107 105  98  85  87]\n",
      " [ 91  89  86  89  91  91  91 109 128 134 131 120 121 120 133 213 212 148\n",
      "  110 108 119 215 219 107 105 107  87  73]\n",
      " [ 92  90  88  95  92  92  90 105 126 138 132 123 118 112 162 217 213 108\n",
      "  115 116 117 217 219 119 113  97  84  77]\n",
      " [ 92  90  86  88  94  92  92 105 119 132 131 126 120 122 171 222 209 114\n",
      "  114 113 111 207 214 125 115  94  80  72]\n",
      " [ 90  93  95  93  95  90  95  98 117 130 130 121 125 118 187 229 184 117\n",
      "  120 111 117 214 217 127 111 101  80  68]\n",
      " [103  89  92  94  91  95  95  90 111 131 132 129 122 118 203 219 175 124\n",
      "  116 116 175 224 217 119 118  95  83  69]\n",
      " [ 94  86  91  94  97  96  92  94 105 129 131 128 128 119 219 226 206 113\n",
      "  117 165 209 220 219 123 121  96  82  65]\n",
      " [ 93  95  93  97 103  96  93  94 100 124 134 129 129 127 181 232 228 184\n",
      "  193 210 215 219 127 120 114  92  79  61]\n",
      " [ 89  93  93  95  95  91  95  95  97 117 130 131 132 128 122 219 222 220\n",
      "  228 217 202 123 118 121 105  88  84  56]\n",
      " [ 91  94  93 100  94  94  98 101  97 114 139 138 129 137 131 129 134 162\n",
      "  159 124 123 124 120 121 108  88  83  51]\n",
      " [ 93  94  97 102  97  96  96  99  99 103 129 138 137 139 130 131 136 130\n",
      "  130 126 122 122 120 127 124 112  91  50]\n",
      " [101  97 100  97  95  97  96 100  98  97 127 138 143 135 132 132 131 134\n",
      "  138 131 130 129 127 123 126 123 104  61]\n",
      " [ 94  97  98  94  96  97 102  94  96 102 112 142 141 152 133 142 138 135\n",
      "  135 126 129 134 134 127 121 126 101  58]\n",
      " [ 98  96  98 100  96  97 102  97  96  97 102 132 139 137 138 134 135 150\n",
      "  131 132 135 137 129 133 129 128  96  55]\n",
      " [ 95  96 101  93  96  92  99  96  94  94  96 118 137 133 137 134 134 137\n",
      "  132 129 138 141 130 131 121 114  81  53]\n",
      " [ 92  82  94  90  92  99  94  95  97  94  94 104 129 135 133 136 133 129\n",
      "  136 131 133 131 132 133 133 105  63  58]\n",
      " [101  87  91  90  87  95  87  92  92  87  89  99 128 129 134 138 133 133\n",
      "  138 135 130 129 127 126 119  86  54  51]\n",
      " [ 89  89  86  97  94  96  92  88  95  92 100  94 125 135 134 130 134 131\n",
      "  132 128 137 116  98  93 100  76  49  44]\n",
      " [ 97  98  92  96  85  90  94  93  90  96  92  92 117 131 129 128 150 129\n",
      "  138 137 134 105  97 109  99  71  50  46]\n",
      " [ 96  93  91 108  99  97  94 102  90  92  96  95 116 122 130 129 126 127\n",
      "  139 130 131 114 116 124  94  61  50  49]\n",
      " [ 92 100  93  98  96  97  96  87  89  97  94  88 113 128 127 131 131 136\n",
      "  127 128 144 124 122 134  88  55  54  53]]\n"
     ]
    },
    {
     "data": {
      "text/plain": [
       "<matplotlib.figure.Figure at 0x19c618f2588>"
      ]
     },
     "metadata": {},
     "output_type": "display_data"
    },
    {
     "name": "stdout",
     "output_type": "stream",
     "text": [
      "(28, 28)\n",
      "拉黑120後\n",
      "[[  0   0   0   0   0   0   0   0   0   0   0   0   0   0   0   0   0   0\n",
      "    0   0   0   0   0   0   0   0   0   0]\n",
      " [  0   0   0   0   0   0   0   0   1   0   0   0   0   0   0   0   0   0\n",
      "    0   0   0   0   0   0   0   0   0   0]\n",
      " [  0   0   0   0   0   0   0   0   0   0   0   0   0   0   0   0   0   0\n",
      "    0   0   0   0   0   0   0   0   0   0]\n",
      " [  0   0   0   0   0   0   0   0   1   0   0   0   0   0   0   0   0   0\n",
      "    0   0   0   0   0   0   0   0   0   0]\n",
      " [  0   0   0   0   0   0   0   0   0   0   0   0   0   0   0   0   0   0\n",
      "    0   0   0   0   0   0   0   0   0   0]\n",
      " [  0   0   0   0   0   0   0   1   0   6   3   0   0   0   0   0  60 105\n",
      "   98 102 101   0   0   0   0   0   0   0]\n",
      " [  0   0   0   0   0   0   0   0  10   1   9   0   0   0   0  95  98 101\n",
      "   68  77  96  95   4   0   0   0   0   0]\n",
      " [  0   0   0   0   0   0   0   0   8   9   6   0   0   0   0  98 106  88\n",
      "    0   0  49 102  93   0   0   0   0   0]\n",
      " [  0   0   0   0   0   0   0   0   8  14  11   0   1   0  13  93  92  28\n",
      "    0   0   0  95  99   0   0   0   0   0]\n",
      " [  0   0   0   0   0   0   0   0   6  18  12   3   0   0  42  97  93   0\n",
      "    0   0   0  97  99   0   0   0   0   0]\n",
      " [  0   0   0   0   0   0   0   0   0  12  11   6   0   2  51 102  89   0\n",
      "    0   0   0  87  94   5   0   0   0   0]\n",
      " [  0   0   0   0   0   0   0   0   0  10  10   1   5   0  67 109  64   0\n",
      "    0   0   0  94  97   7   0   0   0   0]\n",
      " [  0   0   0   0   0   0   0   0   0  11  12   9   2   0  83  99  55   4\n",
      "    0   0  55 104  97   0   0   0   0   0]\n",
      " [  0   0   0   0   0   0   0   0   0   9  11   8   8   0  99 106  86   0\n",
      "    0  45  89 100  99   3   1   0   0   0]\n",
      " [  0   0   0   0   0   0   0   0   0   4  14   9   9   7  61 112 108  64\n",
      "   73  90  95  99   7   0   0   0   0   0]\n",
      " [  0   0   0   0   0   0   0   0   0   0  10  11  12   8   2  99 102 100\n",
      "  108  97  82   3   0   1   0   0   0   0]\n",
      " [  0   0   0   0   0   0   0   0   0   0  19  18   9  17  11   9  14  42\n",
      "   39   4   3   4   0   1   0   0   0   0]\n",
      " [  0   0   0   0   0   0   0   0   0   0   9  18  17  19  10  11  16  10\n",
      "   10   6   2   2   0   7   4   0   0   0]\n",
      " [  0   0   0   0   0   0   0   0   0   0   7  18  23  15  12  12  11  14\n",
      "   18  11  10   9   7   3   6   3   0   0]\n",
      " [  0   0   0   0   0   0   0   0   0   0   0  22  21  32  13  22  18  15\n",
      "   15   6   9  14  14   7   1   6   0   0]\n",
      " [  0   0   0   0   0   0   0   0   0   0   0  12  19  17  18  14  15  30\n",
      "   11  12  15  17   9  13   9   8   0   0]\n",
      " [  0   0   0   0   0   0   0   0   0   0   0   0  17  13  17  14  14  17\n",
      "   12   9  18  21  10  11   1   0   0   0]\n",
      " [  0   0   0   0   0   0   0   0   0   0   0   0   9  15  13  16  13   9\n",
      "   16  11  13  11  12  13  13   0   0   0]\n",
      " [  0   0   0   0   0   0   0   0   0   0   0   0   8   9  14  18  13  13\n",
      "   18  15  10   9   7   6   0   0   0   0]\n",
      " [  0   0   0   0   0   0   0   0   0   0   0   0   5  15  14  10  14  11\n",
      "   12   8  17   0   0   0   0   0   0   0]\n",
      " [  0   0   0   0   0   0   0   0   0   0   0   0   0  11   9   8  30   9\n",
      "   18  17  14   0   0   0   0   0   0   0]\n",
      " [  0   0   0   0   0   0   0   0   0   0   0   0   0   2  10   9   6   7\n",
      "   19  10  11   0   0   4   0   0   0   0]\n",
      " [  0   0   0   0   0   0   0   0   0   0   0   0   0   8   7  11  11  16\n",
      "    7   8  24   4   2  14   0   0   0   0]]\n"
     ]
    },
    {
     "data": {
      "text/plain": [
       "<matplotlib.figure.Figure at 0x19c616060f0>"
      ]
     },
     "metadata": {},
     "output_type": "display_data"
    },
    {
     "name": "stdout",
     "output_type": "stream",
     "text": [
      "拉高gain\n",
      "[[  0   0   0   0   0   0   0   0   0   0   0   0   0   0   0   0   0   0\n",
      "    0   0   0   0   0   0   0   0   0   0]\n",
      " [  0   0   0   0   0   0   0   0   3   0   0   0   0   0   0   0   0   0\n",
      "    0   0   0   0   0   0   0   0   0   0]\n",
      " [  0   0   0   0   0   0   0   0   0   0   0   0   0   0   0   0   0   0\n",
      "    0   0   0   0   0   0   0   0   0   0]\n",
      " [  0   0   0   0   0   0   0   0   3   0   0   0   0   0   0   0   0   0\n",
      "    0   0   0   0   0   0   0   0   0   0]\n",
      " [  0   0   0   0   0   0   0   0   0   0   0   0   0   0   0   0   0   0\n",
      "    0   0   0   0   0   0   0   0   0   0]\n",
      " [  0   0   0   0   0   0   0   3   0  18   9   0   0   0   0   0 180 255\n",
      "  255 255 255   0   0   0   0   0   0   0]\n",
      " [  0   0   0   0   0   0   0   0  30   3  27   0   0   0   0 255 255 255\n",
      "  204 231 255 255  12   0   0   0   0   0]\n",
      " [  0   0   0   0   0   0   0   0  24  27  18   0   0   0   0 255 255 255\n",
      "    0   0 147 255 255   0   0   0   0   0]\n",
      " [  0   0   0   0   0   0   0   0  24  42  33   0   3   0  39 255 255  84\n",
      "    0   0   0 255 255   0   0   0   0   0]\n",
      " [  0   0   0   0   0   0   0   0  18  54  36   9   0   0 126 255 255   0\n",
      "    0   0   0 255 255   0   0   0   0   0]\n",
      " [  0   0   0   0   0   0   0   0   0  36  33  18   0   6 153 255 255   0\n",
      "    0   0   0 255 255  15   0   0   0   0]\n",
      " [  0   0   0   0   0   0   0   0   0  30  30   3  15   0 201 255 192   0\n",
      "    0   0   0 255 255  21   0   0   0   0]\n",
      " [  0   0   0   0   0   0   0   0   0  33  36  27   6   0 249 255 165  12\n",
      "    0   0 165 255 255   0   0   0   0   0]\n",
      " [  0   0   0   0   0   0   0   0   0  27  33  24  24   0 255 255 255   0\n",
      "    0 135 255 255 255   9   3   0   0   0]\n",
      " [  0   0   0   0   0   0   0   0   0  12  42  27  27  21 183 255 255 192\n",
      "  219 255 255 255  21   0   0   0   0   0]\n",
      " [  0   0   0   0   0   0   0   0   0   0  30  33  36  24   6 255 255 255\n",
      "  255 255 246   9   0   3   0   0   0   0]\n",
      " [  0   0   0   0   0   0   0   0   0   0  57  54  27  51  33  27  42 126\n",
      "  117  12   9  12   0   3   0   0   0   0]\n",
      " [  0   0   0   0   0   0   0   0   0   0  27  54  51  57  30  33  48  30\n",
      "   30  18   6   6   0  21  12   0   0   0]\n",
      " [  0   0   0   0   0   0   0   0   0   0  21  54  69  45  36  36  33  42\n",
      "   54  33  30  27  21   9  18   9   0   0]\n",
      " [  0   0   0   0   0   0   0   0   0   0   0  66  63  96  39  66  54  45\n",
      "   45  18  27  42  42  21   3  18   0   0]\n",
      " [  0   0   0   0   0   0   0   0   0   0   0  36  57  51  54  42  45  90\n",
      "   33  36  45  51  27  39  27  24   0   0]\n",
      " [  0   0   0   0   0   0   0   0   0   0   0   0  51  39  51  42  42  51\n",
      "   36  27  54  63  30  33   3   0   0   0]\n",
      " [  0   0   0   0   0   0   0   0   0   0   0   0  27  45  39  48  39  27\n",
      "   48  33  39  33  36  39  39   0   0   0]\n",
      " [  0   0   0   0   0   0   0   0   0   0   0   0  24  27  42  54  39  39\n",
      "   54  45  30  27  21  18   0   0   0   0]\n",
      " [  0   0   0   0   0   0   0   0   0   0   0   0  15  45  42  30  42  33\n",
      "   36  24  51   0   0   0   0   0   0   0]\n",
      " [  0   0   0   0   0   0   0   0   0   0   0   0   0  33  27  24  90  27\n",
      "   54  51  42   0   0   0   0   0   0   0]\n",
      " [  0   0   0   0   0   0   0   0   0   0   0   0   0   6  30  27  18  21\n",
      "   57  30  33   0   0  12   0   0   0   0]\n",
      " [  0   0   0   0   0   0   0   0   0   0   0   0   0  24  21  33  33  48\n",
      "   21  24  72  12   6  42   0   0   0   0]]\n"
     ]
    },
    {
     "data": {
      "text/plain": [
       "<matplotlib.figure.Figure at 0x19c612a4160>"
      ]
     },
     "metadata": {},
     "output_type": "display_data"
    },
    {
     "data": {
      "text/plain": [
       "<matplotlib.figure.Figure at 0x19c61360cc0>"
      ]
     },
     "metadata": {},
     "output_type": "display_data"
    },
    {
     "name": "stdout",
     "output_type": "stream",
     "text": [
      "new_img_array[ 8 ]= [[178 179 178 177 179 179 182 182 182 186 185 185 189 190 189 190 191 189\n",
      "  189 190 186 187 189 191 189 191 191 191]\n",
      " [175 177 176 175 175 179 180 183 180 182 182 186 186 190 187 190 190 191\n",
      "  189 187 189 185 185 186 186 187 189 189]\n",
      " [170 173 175 172 173 173 178 179 179 180 183 183 184 186 185 186 187 191\n",
      "  191 186 184 186 187 187 184 184 185 187]\n",
      " [171 171 173 172 173 175 176 178 177 178 179 179 179 182 184 183 186 189\n",
      "  189 189 184 183 184 186 182 180 182 186]\n",
      " [168 171 171 168 169 172 173 174 173 172 174 170  97  50  58 157 178 184\n",
      "  186 185 185 182 179 179 176 182 180 181]\n",
      " [168 169 171 168 169 168 172 173 173 171  59  32  35  32  35  36  49 177\n",
      "  175 171 171 173 175 176 178 175 175 176]\n",
      " [170 169 169 171 171 169 171 169 169 168  64  35  37 105 178  75  47  53\n",
      "  173 176 172 171 175 175 173 169 172 173]\n",
      " [171 172 172 169 169 168 169 169 168 160  59  37  56 169 173 172  58  46\n",
      "  162 174 175 171 175 174 173 176 173 178]\n",
      " [162 167 166 167 167 168 169 169 168 141  48  42 120 167 162 157  61  35\n",
      "  125 171 171 172 176 175 176 173 175 175]\n",
      " [142 146 149 149 146 152 154 156 156 113  37  44 155 158 158 160  81  36\n",
      "   97 164 167 169 176 175 176 172 175 175]\n",
      " [139 143 141 140 140 143 143 145 142  95  29  34 140 142 143 144  56  32\n",
      "   83 152 154 159 165 170 170 169 169 171]\n",
      " [138 139 139 138 135 139 139 140 140  65  24  44 142 139 139 138  38  25\n",
      "  109 140 139 140 145 156 161 165 165 169]\n",
      " [138 138 135 135 134 135 136 136 136  32  25  41 138 138 138 103  32  29\n",
      "  129 140 138 139 140 143 149 162 167 165]\n",
      " [136 137 135 136 136 136 136 134 136  30  25  36 135 135 118  36  32  32\n",
      "  134 138 136 139 140 140 142 154 164 164]\n",
      " [136 137 137 136 140 139 138 139 140  98  25  22  29  50  31  28  33 118\n",
      "  136 137 138 138 139 139 140 148 162 162]\n",
      " [136 135 135 136 136 135 133 135 136 142  55  25  26  26  32  43 137 142\n",
      "  139 138 139 140 140 138 142 148 161 162]\n",
      " [134 135 134 132 134 134 134 132 129 128 127 126  98  95 133 145 143 142\n",
      "  140 140 140 138 139 138 140 149 162 162]\n",
      " [132 135 131 132 131 131 132 130 129 132 132 129 128 129 140 142 143 144\n",
      "  143 143 145 146 145 142 142 147 164 164]\n",
      " [132 134 129 131 131 130 129 128 126 129 128 128 129 129 128 129 134 139\n",
      "  142 144 143 143 145 146 146 151 164 165]\n",
      " [133 132 132 132 127 130 129 129 129 130 127 125 129 127 129 127 127 131\n",
      "  135 138 139 142 145 148 147 156 169 169]\n",
      " [130 131 132 129 129 127 125 128 128 124 128 128 127 123 126 125 127 129\n",
      "  129 129 134 137 139 141 147 154 167 168]\n",
      " [132 129 128 132 129 128 129 128 129 129 127 130 125 128 129 128 127 128\n",
      "  129 130 129 129 132 134 139 150 160 161]\n",
      " [131 126 124 129 130 131 131 132 129 131 129 131 134 132 132 132 131 130\n",
      "  131 131 131 128 130 130 131 145 157 158]\n",
      " [125 120 125 129 131 131 130 132 129 129 132 134 135 134 134 136 134 131\n",
      "  132 135 134 132 132 133 135 151 157 156]\n",
      " [131 131 130 128 132 130 132 131 132 133 131 135 134 134 135 137 136 136\n",
      "  134 132 131 134 135 134 137 146 154 150]\n",
      " [128 129 127 128 128 129 128 127 125 129 133 131 134 132 130 129 130 128\n",
      "  129 128 130 128 131 131 138 146 150 149]\n",
      " [128 125 126 125 129 122 132 127 127 129 131 132 122 121 124 116 124 125\n",
      "  126 126 123 120 129 125 127 143 147 148]\n",
      " [127 128 123 127 127 123 121 121 124 119 124 120 124 123 126 115 120 119\n",
      "  124 120 117 117 123 125 129 146 147 148]]\n"
     ]
    },
    {
     "data": {
      "text/plain": [
       "<matplotlib.figure.Figure at 0x19c614d63c8>"
      ]
     },
     "metadata": {},
     "output_type": "display_data"
    },
    {
     "name": "stdout",
     "output_type": "stream",
     "text": [
      "反白後\n",
      "[[ 77  76  77  78  76  76  73  73  73  69  70  70  66  65  66  65  64  66\n",
      "   66  65  69  68  66  64  66  64  64  64]\n",
      " [ 80  78  79  80  80  76  75  72  75  73  73  69  69  65  68  65  65  64\n",
      "   66  68  66  70  70  69  69  68  66  66]\n",
      " [ 85  82  80  83  82  82  77  76  76  75  72  72  71  69  70  69  68  64\n",
      "   64  69  71  69  68  68  71  71  70  68]\n",
      " [ 84  84  82  83  82  80  79  77  78  77  76  76  76  73  71  72  69  66\n",
      "   66  66  71  72  71  69  73  75  73  69]\n",
      " [ 87  84  84  87  86  83  82  81  82  83  81  85 158 205 197  98  77  71\n",
      "   69  70  70  73  76  76  79  73  75  74]\n",
      " [ 87  86  84  87  86  87  83  82  82  84 196 223 220 223 220 219 206  78\n",
      "   80  84  84  82  80  79  77  80  80  79]\n",
      " [ 85  86  86  84  84  86  84  86  86  87 191 220 218 150  77 180 208 202\n",
      "   82  79  83  84  80  80  82  86  83  82]\n",
      " [ 84  83  83  86  86  87  86  86  87  95 196 218 199  86  82  83 197 209\n",
      "   93  81  80  84  80  81  82  79  82  77]\n",
      " [ 93  88  89  88  88  87  86  86  87 114 207 213 135  88  93  98 194 220\n",
      "  130  84  84  83  79  80  79  82  80  80]\n",
      " [113 109 106 106 109 103 101  99  99 142 218 211 100  97  97  95 174 219\n",
      "  158  91  88  86  79  80  79  83  80  80]\n",
      " [116 112 114 115 115 112 112 110 113 160 226 221 115 113 112 111 199 223\n",
      "  172 103 101  96  90  85  85  86  86  84]\n",
      " [117 116 116 117 120 116 116 115 115 190 231 211 113 116 116 117 217 230\n",
      "  146 115 116 115 110  99  94  90  90  86]\n",
      " [117 117 120 120 121 120 119 119 119 223 230 214 117 117 117 152 223 226\n",
      "  126 115 117 116 115 112 106  93  88  90]\n",
      " [119 118 120 119 119 119 119 121 119 225 230 219 120 120 137 219 223 223\n",
      "  121 117 119 116 115 115 113 101  91  91]\n",
      " [119 118 118 119 115 116 117 116 115 157 230 233 226 205 224 227 222 137\n",
      "  119 118 117 117 116 116 115 107  93  93]\n",
      " [119 120 120 119 119 120 122 120 119 113 200 230 229 229 223 212 118 113\n",
      "  116 117 116 115 115 117 113 107  94  93]\n",
      " [121 120 121 123 121 121 121 123 126 127 128 129 157 160 122 110 112 113\n",
      "  115 115 115 117 116 117 115 106  93  93]\n",
      " [123 120 124 123 124 124 123 125 126 123 123 126 127 126 115 113 112 111\n",
      "  112 112 110 109 110 113 113 108  91  91]\n",
      " [123 121 126 124 124 125 126 127 129 126 127 127 126 126 127 126 121 116\n",
      "  113 111 112 112 110 109 109 104  91  90]\n",
      " [122 123 123 123 128 125 126 126 126 125 128 130 126 128 126 128 128 124\n",
      "  120 117 116 113 110 107 108  99  86  86]\n",
      " [125 124 123 126 126 128 130 127 127 131 127 127 128 132 129 130 128 126\n",
      "  126 126 121 118 116 114 108 101  88  87]\n",
      " [123 126 127 123 126 127 126 127 126 126 128 125 130 127 126 127 128 127\n",
      "  126 125 126 126 123 121 116 105  95  94]\n",
      " [124 129 131 126 125 124 124 123 126 124 126 124 121 123 123 123 124 125\n",
      "  124 124 124 127 125 125 124 110  98  97]\n",
      " [130 135 130 126 124 124 125 123 126 126 123 121 120 121 121 119 121 124\n",
      "  123 120 121 123 123 122 120 104  98  99]\n",
      " [124 124 125 127 123 125 123 124 123 122 124 120 121 121 120 118 119 119\n",
      "  121 123 124 121 120 121 118 109 101 105]\n",
      " [127 126 128 127 127 126 127 128 130 126 122 124 121 123 125 126 125 127\n",
      "  126 127 125 127 124 124 117 109 105 106]\n",
      " [127 130 129 130 126 133 123 128 128 126 124 123 133 134 131 139 131 130\n",
      "  129 129 132 135 126 130 128 112 108 107]\n",
      " [128 127 132 128 128 132 134 134 131 136 131 135 131 132 129 140 135 136\n",
      "  131 135 138 138 132 130 126 109 108 107]]\n"
     ]
    },
    {
     "data": {
      "text/plain": [
       "<matplotlib.figure.Figure at 0x19c614d6e48>"
      ]
     },
     "metadata": {},
     "output_type": "display_data"
    },
    {
     "name": "stdout",
     "output_type": "stream",
     "text": [
      "(28, 28)\n",
      "拉黑120後\n",
      "[[  0   0   0   0   0   0   0   0   0   0   0   0   0   0   0   0   0   0\n",
      "    0   0   0   0   0   0   0   0   0   0]\n",
      " [  0   0   0   0   0   0   0   0   0   0   0   0   0   0   0   0   0   0\n",
      "    0   0   0   0   0   0   0   0   0   0]\n",
      " [  0   0   0   0   0   0   0   0   0   0   0   0   0   0   0   0   0   0\n",
      "    0   0   0   0   0   0   0   0   0   0]\n",
      " [  0   0   0   0   0   0   0   0   0   0   0   0   0   0   0   0   0   0\n",
      "    0   0   0   0   0   0   0   0   0   0]\n",
      " [  0   0   0   0   0   0   0   0   0   0   0   0  38  85  77   0   0   0\n",
      "    0   0   0   0   0   0   0   0   0   0]\n",
      " [  0   0   0   0   0   0   0   0   0   0  76 103 100 103 100  99  86   0\n",
      "    0   0   0   0   0   0   0   0   0   0]\n",
      " [  0   0   0   0   0   0   0   0   0   0  71 100  98  30   0  60  88  82\n",
      "    0   0   0   0   0   0   0   0   0   0]\n",
      " [  0   0   0   0   0   0   0   0   0   0  76  98  79   0   0   0  77  89\n",
      "    0   0   0   0   0   0   0   0   0   0]\n",
      " [  0   0   0   0   0   0   0   0   0   0  87  93  15   0   0   0  74 100\n",
      "   10   0   0   0   0   0   0   0   0   0]\n",
      " [  0   0   0   0   0   0   0   0   0  22  98  91   0   0   0   0  54  99\n",
      "   38   0   0   0   0   0   0   0   0   0]\n",
      " [  0   0   0   0   0   0   0   0   0  40 106 101   0   0   0   0  79 103\n",
      "   52   0   0   0   0   0   0   0   0   0]\n",
      " [  0   0   0   0   0   0   0   0   0  70 111  91   0   0   0   0  97 110\n",
      "   26   0   0   0   0   0   0   0   0   0]\n",
      " [  0   0   0   0   1   0   0   0   0 103 110  94   0   0   0  32 103 106\n",
      "    6   0   0   0   0   0   0   0   0   0]\n",
      " [  0   0   0   0   0   0   0   1   0 105 110  99   0   0  17  99 103 103\n",
      "    1   0   0   0   0   0   0   0   0   0]\n",
      " [  0   0   0   0   0   0   0   0   0  37 110 113 106  85 104 107 102  17\n",
      "    0   0   0   0   0   0   0   0   0   0]\n",
      " [  0   0   0   0   0   0   2   0   0   0  80 110 109 109 103  92   0   0\n",
      "    0   0   0   0   0   0   0   0   0   0]\n",
      " [  1   0   1   3   1   1   1   3   6   7   8   9  37  40   2   0   0   0\n",
      "    0   0   0   0   0   0   0   0   0   0]\n",
      " [  3   0   4   3   4   4   3   5   6   3   3   6   7   6   0   0   0   0\n",
      "    0   0   0   0   0   0   0   0   0   0]\n",
      " [  3   1   6   4   4   5   6   7   9   6   7   7   6   6   7   6   1   0\n",
      "    0   0   0   0   0   0   0   0   0   0]\n",
      " [  2   3   3   3   8   5   6   6   6   5   8  10   6   8   6   8   8   4\n",
      "    0   0   0   0   0   0   0   0   0   0]\n",
      " [  5   4   3   6   6   8  10   7   7  11   7   7   8  12   9  10   8   6\n",
      "    6   6   1   0   0   0   0   0   0   0]\n",
      " [  3   6   7   3   6   7   6   7   6   6   8   5  10   7   6   7   8   7\n",
      "    6   5   6   6   3   1   0   0   0   0]\n",
      " [  4   9  11   6   5   4   4   3   6   4   6   4   1   3   3   3   4   5\n",
      "    4   4   4   7   5   5   4   0   0   0]\n",
      " [ 10  15  10   6   4   4   5   3   6   6   3   1   0   1   1   0   1   4\n",
      "    3   0   1   3   3   2   0   0   0   0]\n",
      " [  4   4   5   7   3   5   3   4   3   2   4   0   1   1   0   0   0   0\n",
      "    1   3   4   1   0   1   0   0   0   0]\n",
      " [  7   6   8   7   7   6   7   8  10   6   2   4   1   3   5   6   5   7\n",
      "    6   7   5   7   4   4   0   0   0   0]\n",
      " [  7  10   9  10   6  13   3   8   8   6   4   3  13  14  11  19  11  10\n",
      "    9   9  12  15   6  10   8   0   0   0]\n",
      " [  8   7  12   8   8  12  14  14  11  16  11  15  11  12   9  20  15  16\n",
      "   11  15  18  18  12  10   6   0   0   0]]\n"
     ]
    },
    {
     "data": {
      "text/plain": [
       "<matplotlib.figure.Figure at 0x19c616ee320>"
      ]
     },
     "metadata": {},
     "output_type": "display_data"
    },
    {
     "name": "stdout",
     "output_type": "stream",
     "text": [
      "拉高gain\n",
      "[[  0   0   0   0   0   0   0   0   0   0   0   0   0   0   0   0   0   0\n",
      "    0   0   0   0   0   0   0   0   0   0]\n",
      " [  0   0   0   0   0   0   0   0   0   0   0   0   0   0   0   0   0   0\n",
      "    0   0   0   0   0   0   0   0   0   0]\n",
      " [  0   0   0   0   0   0   0   0   0   0   0   0   0   0   0   0   0   0\n",
      "    0   0   0   0   0   0   0   0   0   0]\n",
      " [  0   0   0   0   0   0   0   0   0   0   0   0   0   0   0   0   0   0\n",
      "    0   0   0   0   0   0   0   0   0   0]\n",
      " [  0   0   0   0   0   0   0   0   0   0   0   0 114 255 231   0   0   0\n",
      "    0   0   0   0   0   0   0   0   0   0]\n",
      " [  0   0   0   0   0   0   0   0   0   0 228 255 255 255 255 255 255   0\n",
      "    0   0   0   0   0   0   0   0   0   0]\n",
      " [  0   0   0   0   0   0   0   0   0   0 213 255 255  90   0 180 255 246\n",
      "    0   0   0   0   0   0   0   0   0   0]\n",
      " [  0   0   0   0   0   0   0   0   0   0 228 255 237   0   0   0 231 255\n",
      "    0   0   0   0   0   0   0   0   0   0]\n",
      " [  0   0   0   0   0   0   0   0   0   0 255 255  45   0   0   0 222 255\n",
      "   30   0   0   0   0   0   0   0   0   0]\n",
      " [  0   0   0   0   0   0   0   0   0  66 255 255   0   0   0   0 162 255\n",
      "  114   0   0   0   0   0   0   0   0   0]\n",
      " [  0   0   0   0   0   0   0   0   0 120 255 255   0   0   0   0 237 255\n",
      "  156   0   0   0   0   0   0   0   0   0]\n",
      " [  0   0   0   0   0   0   0   0   0 210 255 255   0   0   0   0 255 255\n",
      "   78   0   0   0   0   0   0   0   0   0]\n",
      " [  0   0   0   0   3   0   0   0   0 255 255 255   0   0   0  96 255 255\n",
      "   18   0   0   0   0   0   0   0   0   0]\n",
      " [  0   0   0   0   0   0   0   3   0 255 255 255   0   0  51 255 255 255\n",
      "    3   0   0   0   0   0   0   0   0   0]\n",
      " [  0   0   0   0   0   0   0   0   0 111 255 255 255 255 255 255 255  51\n",
      "    0   0   0   0   0   0   0   0   0   0]\n",
      " [  0   0   0   0   0   0   6   0   0   0 240 255 255 255 255 255   0   0\n",
      "    0   0   0   0   0   0   0   0   0   0]\n",
      " [  3   0   3   9   3   3   3   9  18  21  24  27 111 120   6   0   0   0\n",
      "    0   0   0   0   0   0   0   0   0   0]\n",
      " [  9   0  12   9  12  12   9  15  18   9   9  18  21  18   0   0   0   0\n",
      "    0   0   0   0   0   0   0   0   0   0]\n",
      " [  9   3  18  12  12  15  18  21  27  18  21  21  18  18  21  18   3   0\n",
      "    0   0   0   0   0   0   0   0   0   0]\n",
      " [  6   9   9   9  24  15  18  18  18  15  24  30  18  24  18  24  24  12\n",
      "    0   0   0   0   0   0   0   0   0   0]\n",
      " [ 15  12   9  18  18  24  30  21  21  33  21  21  24  36  27  30  24  18\n",
      "   18  18   3   0   0   0   0   0   0   0]\n",
      " [  9  18  21   9  18  21  18  21  18  18  24  15  30  21  18  21  24  21\n",
      "   18  15  18  18   9   3   0   0   0   0]\n",
      " [ 12  27  33  18  15  12  12   9  18  12  18  12   3   9   9   9  12  15\n",
      "   12  12  12  21  15  15  12   0   0   0]\n",
      " [ 30  45  30  18  12  12  15   9  18  18   9   3   0   3   3   0   3  12\n",
      "    9   0   3   9   9   6   0   0   0   0]\n",
      " [ 12  12  15  21   9  15   9  12   9   6  12   0   3   3   0   0   0   0\n",
      "    3   9  12   3   0   3   0   0   0   0]\n",
      " [ 21  18  24  21  21  18  21  24  30  18   6  12   3   9  15  18  15  21\n",
      "   18  21  15  21  12  12   0   0   0   0]\n",
      " [ 21  30  27  30  18  39   9  24  24  18  12   9  39  42  33  57  33  30\n",
      "   27  27  36  45  18  30  24   0   0   0]\n",
      " [ 24  21  36  24  24  36  42  42  33  48  33  45  33  36  27  60  45  48\n",
      "   33  45  54  54  36  30  18   0   0   0]]\n"
     ]
    },
    {
     "data": {
      "text/plain": [
       "<matplotlib.figure.Figure at 0x19c6132a198>"
      ]
     },
     "metadata": {},
     "output_type": "display_data"
    },
    {
     "data": {
      "text/plain": [
       "<matplotlib.figure.Figure at 0x19c6157b6a0>"
      ]
     },
     "metadata": {},
     "output_type": "display_data"
    },
    {
     "name": "stdout",
     "output_type": "stream",
     "text": [
      "new_img_array[ 9 ]= [[178 178 179 182 186 186 189 189 190 193 196 191 189 193 191 193 191 194\n",
      "  197 195 200 200 202 202 204 204 205 206]\n",
      " [172 179 178 182 182 183 183 186 187 188 191 193 197 193 192 193 191 191\n",
      "  194 196 198 199 197 200 201 201 201 202]\n",
      " [173 173 177 179 178 179 181 183 184 186 190 191 192 198 198 195 191 193\n",
      "  190 192 194 193 195 197 198 198 199 200]\n",
      " [168 172 173 176 175 179 183 180 182 183 186 186 189 193 194 198 193 193\n",
      "  193 191 191 194 194 195 194 195 195 193]\n",
      " [168 171 172 172 176 179 178 179 180 180 182 184 186 187 187 190 194 191\n",
      "  193 191 192 190 191 191 191 193 190 190]\n",
      " [165 168 171 173 176 177 177 176 176 178 178 177 176 126 173 185 187 190\n",
      "  189 185 186 186 190 189 186 189 190 193]\n",
      " [164 168 171 169 173 173 175 172 171 175 175 156  39  37  46  44 180 175\n",
      "  178 180 180 181 183 184 183 186 183 187]\n",
      " [158 161 166 168 171 172 172 171 170 172 172  88  35 155 178  60  49 178\n",
      "  178 178 176 180 180 184 188 182 183 184]\n",
      " [155 159 161 164 167 171 169 168 169 171 168  50  55 167 164  87  44 175\n",
      "  178 177 178 179 179 182 179 181 184 184]\n",
      " [158 159 161 160 164 166 168 167 168 167 168  51  49 167 165 101  48 167\n",
      "  168 172 175 173 170 176 176 176 178 178]\n",
      " [157 158 158 160 161 163 164 165 163 164 167  50  68 164 165  58  41 167\n",
      "  164 166 169 168 171 175 172 174 173 173]\n",
      " [151 154 153 154 157 160 160 161 163 162 163  39  47 164 152  46  41 164\n",
      "  164 165 166 168 168 168 168 173 174 175]\n",
      " [142 140 136 139 140 142 140 144 145 149 151  44  32  29  33  36 160 161\n",
      "  164 164 165 165 167 167 167 168 169 171]\n",
      " [139 142 135 137 138 139 137 142 140 142 137 136 118  43 115 153 150 149\n",
      "  153 161 165 167 165 167 165 167 166 168]\n",
      " [134 136 135 135 138 138 136 139 136 139 138 141 138 138 142 150 149 151\n",
      "  150 156 164 165 167 167 162 165 164 165]\n",
      " [135 134 134 136 134 136 136 135 136 138 136 139 134 138 138 135 143 146\n",
      "  150 152 165 168 168 169 168 168 169 169]\n",
      " [135 134 137 130 132 136 135 135 135 135 135 134 135 133 135 137 136 136\n",
      "  139 146 158 167 168 170 168 169 171 170]\n",
      " [134 136 135 134 132 133 131 134 135 136 133 136 135 135 136 137 136 134\n",
      "  135 139 153 160 162 163 171 172 172 169]\n",
      " [135 136 138 132 137 131 135 138 136 136 135 135 136 138 136 138 138 139\n",
      "  138 144 154 160 161 162 161 164 162 161]\n",
      " [134 136 135 133 136 137 131 134 136 134 135 133 135 135 138 137 138 138\n",
      "  137 143 156 160 158 155 153 153 150 154]\n",
      " [135 135 134 134 134 134 132 134 135 134 134 136 137 129 131 132 134 136\n",
      "  132 139 154 154 154 154 149 147 150 151]\n",
      " [135 135 130 132 135 135 135 129 128 125 134 134 125 134 127 124 130 133\n",
      "  132 133 150 153 150 153 151 154 151 153]\n",
      " [131 126 131 131 127 129 129 134 133 133 140 142 142 143 144 136 133 134\n",
      "  137 138 150 148 158 156 156 162 160 160]\n",
      " [133 128 127 131 131 129 128 129 135 137 140 138 129 135 135 134 135 142\n",
      "  142 149 161 161 161 158 159 156 154 157]\n",
      " [131 126 126 129 127 125 133 132 132 132 132 134 136 137 135 133 135 135\n",
      "  140 146 152 158 153 156 154 153 153 155]\n",
      " [129 126 125 128 126 124 125 119 133 134 134 135 136 136 136 138 135 130\n",
      "  135 144 150 154 153 153 150 152 151 150]\n",
      " [125 129 127 125 123 129 130 127 127 129 133 133 137 137 132 133 130 133\n",
      "  132 140 148 150 153 154 151 151 148 150]\n",
      " [127 126 124 121 121 124 126 125 126 129 134 137 135 135 134 133 135 134\n",
      "  131 145 150 148 148 148 152 159 164 169]]\n"
     ]
    },
    {
     "data": {
      "text/plain": [
       "<matplotlib.figure.Figure at 0x19c61241470>"
      ]
     },
     "metadata": {},
     "output_type": "display_data"
    },
    {
     "name": "stdout",
     "output_type": "stream",
     "text": [
      "反白後\n",
      "[[ 77  77  76  73  69  69  66  66  65  62  59  64  66  62  64  62  64  61\n",
      "   58  60  55  55  53  53  51  51  50  49]\n",
      " [ 83  76  77  73  73  72  72  69  68  67  64  62  58  62  63  62  64  64\n",
      "   61  59  57  56  58  55  54  54  54  53]\n",
      " [ 82  82  78  76  77  76  74  72  71  69  65  64  63  57  57  60  64  62\n",
      "   65  63  61  62  60  58  57  57  56  55]\n",
      " [ 87  83  82  79  80  76  72  75  73  72  69  69  66  62  61  57  62  62\n",
      "   62  64  64  61  61  60  61  60  60  62]\n",
      " [ 87  84  83  83  79  76  77  76  75  75  73  71  69  68  68  65  61  64\n",
      "   62  64  63  65  64  64  64  62  65  65]\n",
      " [ 90  87  84  82  79  78  78  79  79  77  77  78  79 129  82  70  68  65\n",
      "   66  70  69  69  65  66  69  66  65  62]\n",
      " [ 91  87  84  86  82  82  80  83  84  80  80  99 216 218 209 211  75  80\n",
      "   77  75  75  74  72  71  72  69  72  68]\n",
      " [ 97  94  89  87  84  83  83  84  85  83  83 167 220 100  77 195 206  77\n",
      "   77  77  79  75  75  71  67  73  72  71]\n",
      " [100  96  94  91  88  84  86  87  86  84  87 205 200  88  91 168 211  80\n",
      "   77  78  77  76  76  73  76  74  71  71]\n",
      " [ 97  96  94  95  91  89  87  88  87  88  87 204 206  88  90 154 207  88\n",
      "   87  83  80  82  85  79  79  79  77  77]\n",
      " [ 98  97  97  95  94  92  91  90  92  91  88 205 187  91  90 197 214  88\n",
      "   91  89  86  87  84  80  83  81  82  82]\n",
      " [104 101 102 101  98  95  95  94  92  93  92 216 208  91 103 209 214  91\n",
      "   91  90  89  87  87  87  87  82  81  80]\n",
      " [113 115 119 116 115 113 115 111 110 106 104 211 223 226 222 219  95  94\n",
      "   91  91  90  90  88  88  88  87  86  84]\n",
      " [116 113 120 118 117 116 118 113 115 113 118 119 137 212 140 102 105 106\n",
      "  102  94  90  88  90  88  90  88  89  87]\n",
      " [121 119 120 120 117 117 119 116 119 116 117 114 117 117 113 105 106 104\n",
      "  105  99  91  90  88  88  93  90  91  90]\n",
      " [120 121 121 119 121 119 119 120 119 117 119 116 121 117 117 120 112 109\n",
      "  105 103  90  87  87  86  87  87  86  86]\n",
      " [120 121 118 125 123 119 120 120 120 120 120 121 120 122 120 118 119 119\n",
      "  116 109  97  88  87  85  87  86  84  85]\n",
      " [121 119 120 121 123 122 124 121 120 119 122 119 120 120 119 118 119 121\n",
      "  120 116 102  95  93  92  84  83  83  86]\n",
      " [120 119 117 123 118 124 120 117 119 119 120 120 119 117 119 117 117 116\n",
      "  117 111 101  95  94  93  94  91  93  94]\n",
      " [121 119 120 122 119 118 124 121 119 121 120 122 120 120 117 118 117 117\n",
      "  118 112  99  95  97 100 102 102 105 101]\n",
      " [120 120 121 121 121 121 123 121 120 121 121 119 118 126 124 123 121 119\n",
      "  123 116 101 101 101 101 106 108 105 104]\n",
      " [120 120 125 123 120 120 120 126 127 130 121 121 130 121 128 131 125 122\n",
      "  123 122 105 102 105 102 104 101 104 102]\n",
      " [124 129 124 124 128 126 126 121 122 122 115 113 113 112 111 119 122 121\n",
      "  118 117 105 107  97  99  99  93  95  95]\n",
      " [122 127 128 124 124 126 127 126 120 118 115 117 126 120 120 121 120 113\n",
      "  113 106  94  94  94  97  96  99 101  98]\n",
      " [124 129 129 126 128 130 122 123 123 123 123 121 119 118 120 122 120 120\n",
      "  115 109 103  97 102  99 101 102 102 100]\n",
      " [126 129 130 127 129 131 130 136 122 121 121 120 119 119 119 117 120 125\n",
      "  120 111 105 101 102 102 105 103 104 105]\n",
      " [130 126 128 130 132 126 125 128 128 126 122 122 118 118 123 122 125 122\n",
      "  123 115 107 105 102 101 104 104 107 105]\n",
      " [128 129 131 134 134 131 129 130 129 126 121 118 120 120 121 122 120 121\n",
      "  124 110 105 107 107 107 103  96  91  86]]\n"
     ]
    },
    {
     "data": {
      "text/plain": [
       "<matplotlib.figure.Figure at 0x19c6145c208>"
      ]
     },
     "metadata": {},
     "output_type": "display_data"
    },
    {
     "name": "stdout",
     "output_type": "stream",
     "text": [
      "(28, 28)\n",
      "拉黑120後\n",
      "[[  0   0   0   0   0   0   0   0   0   0   0   0   0   0   0   0   0   0\n",
      "    0   0   0   0   0   0   0   0   0   0]\n",
      " [  0   0   0   0   0   0   0   0   0   0   0   0   0   0   0   0   0   0\n",
      "    0   0   0   0   0   0   0   0   0   0]\n",
      " [  0   0   0   0   0   0   0   0   0   0   0   0   0   0   0   0   0   0\n",
      "    0   0   0   0   0   0   0   0   0   0]\n",
      " [  0   0   0   0   0   0   0   0   0   0   0   0   0   0   0   0   0   0\n",
      "    0   0   0   0   0   0   0   0   0   0]\n",
      " [  0   0   0   0   0   0   0   0   0   0   0   0   0   0   0   0   0   0\n",
      "    0   0   0   0   0   0   0   0   0   0]\n",
      " [  0   0   0   0   0   0   0   0   0   0   0   0   0   9   0   0   0   0\n",
      "    0   0   0   0   0   0   0   0   0   0]\n",
      " [  0   0   0   0   0   0   0   0   0   0   0   0  96  98  89  91   0   0\n",
      "    0   0   0   0   0   0   0   0   0   0]\n",
      " [  0   0   0   0   0   0   0   0   0   0   0  47 100   0   0  75  86   0\n",
      "    0   0   0   0   0   0   0   0   0   0]\n",
      " [  0   0   0   0   0   0   0   0   0   0   0  85  80   0   0  48  91   0\n",
      "    0   0   0   0   0   0   0   0   0   0]\n",
      " [  0   0   0   0   0   0   0   0   0   0   0  84  86   0   0  34  87   0\n",
      "    0   0   0   0   0   0   0   0   0   0]\n",
      " [  0   0   0   0   0   0   0   0   0   0   0  85  67   0   0  77  94   0\n",
      "    0   0   0   0   0   0   0   0   0   0]\n",
      " [  0   0   0   0   0   0   0   0   0   0   0  96  88   0   0  89  94   0\n",
      "    0   0   0   0   0   0   0   0   0   0]\n",
      " [  0   0   0   0   0   0   0   0   0   0   0  91 103 106 102  99   0   0\n",
      "    0   0   0   0   0   0   0   0   0   0]\n",
      " [  0   0   0   0   0   0   0   0   0   0   0   0  17  92  20   0   0   0\n",
      "    0   0   0   0   0   0   0   0   0   0]\n",
      " [  1   0   0   0   0   0   0   0   0   0   0   0   0   0   0   0   0   0\n",
      "    0   0   0   0   0   0   0   0   0   0]\n",
      " [  0   1   1   0   1   0   0   0   0   0   0   0   1   0   0   0   0   0\n",
      "    0   0   0   0   0   0   0   0   0   0]\n",
      " [  0   1   0   5   3   0   0   0   0   0   0   1   0   2   0   0   0   0\n",
      "    0   0   0   0   0   0   0   0   0   0]\n",
      " [  1   0   0   1   3   2   4   1   0   0   2   0   0   0   0   0   0   1\n",
      "    0   0   0   0   0   0   0   0   0   0]\n",
      " [  0   0   0   3   0   4   0   0   0   0   0   0   0   0   0   0   0   0\n",
      "    0   0   0   0   0   0   0   0   0   0]\n",
      " [  1   0   0   2   0   0   4   1   0   1   0   2   0   0   0   0   0   0\n",
      "    0   0   0   0   0   0   0   0   0   0]\n",
      " [  0   0   1   1   1   1   3   1   0   1   1   0   0   6   4   3   1   0\n",
      "    3   0   0   0   0   0   0   0   0   0]\n",
      " [  0   0   5   3   0   0   0   6   7  10   1   1  10   1   8  11   5   2\n",
      "    3   2   0   0   0   0   0   0   0   0]\n",
      " [  4   9   4   4   8   6   6   1   2   2   0   0   0   0   0   0   2   1\n",
      "    0   0   0   0   0   0   0   0   0   0]\n",
      " [  2   7   8   4   4   6   7   6   0   0   0   0   6   0   0   1   0   0\n",
      "    0   0   0   0   0   0   0   0   0   0]\n",
      " [  4   9   9   6   8  10   2   3   3   3   3   1   0   0   0   2   0   0\n",
      "    0   0   0   0   0   0   0   0   0   0]\n",
      " [  6   9  10   7   9  11  10  16   2   1   1   0   0   0   0   0   0   5\n",
      "    0   0   0   0   0   0   0   0   0   0]\n",
      " [ 10   6   8  10  12   6   5   8   8   6   2   2   0   0   3   2   5   2\n",
      "    3   0   0   0   0   0   0   0   0   0]\n",
      " [  8   9  11  14  14  11   9  10   9   6   1   0   0   0   1   2   0   1\n",
      "    4   0   0   0   0   0   0   0   0   0]]\n"
     ]
    },
    {
     "data": {
      "text/plain": [
       "<matplotlib.figure.Figure at 0x19c6153ab00>"
      ]
     },
     "metadata": {},
     "output_type": "display_data"
    },
    {
     "name": "stdout",
     "output_type": "stream",
     "text": [
      "拉高gain\n",
      "[[  0   0   0   0   0   0   0   0   0   0   0   0   0   0   0   0   0   0\n",
      "    0   0   0   0   0   0   0   0   0   0]\n",
      " [  0   0   0   0   0   0   0   0   0   0   0   0   0   0   0   0   0   0\n",
      "    0   0   0   0   0   0   0   0   0   0]\n",
      " [  0   0   0   0   0   0   0   0   0   0   0   0   0   0   0   0   0   0\n",
      "    0   0   0   0   0   0   0   0   0   0]\n",
      " [  0   0   0   0   0   0   0   0   0   0   0   0   0   0   0   0   0   0\n",
      "    0   0   0   0   0   0   0   0   0   0]\n",
      " [  0   0   0   0   0   0   0   0   0   0   0   0   0   0   0   0   0   0\n",
      "    0   0   0   0   0   0   0   0   0   0]\n",
      " [  0   0   0   0   0   0   0   0   0   0   0   0   0  27   0   0   0   0\n",
      "    0   0   0   0   0   0   0   0   0   0]\n",
      " [  0   0   0   0   0   0   0   0   0   0   0   0 255 255 255 255   0   0\n",
      "    0   0   0   0   0   0   0   0   0   0]\n",
      " [  0   0   0   0   0   0   0   0   0   0   0 141 255   0   0 225 255   0\n",
      "    0   0   0   0   0   0   0   0   0   0]\n",
      " [  0   0   0   0   0   0   0   0   0   0   0 255 240   0   0 144 255   0\n",
      "    0   0   0   0   0   0   0   0   0   0]\n",
      " [  0   0   0   0   0   0   0   0   0   0   0 252 255   0   0 102 255   0\n",
      "    0   0   0   0   0   0   0   0   0   0]\n",
      " [  0   0   0   0   0   0   0   0   0   0   0 255 201   0   0 231 255   0\n",
      "    0   0   0   0   0   0   0   0   0   0]\n",
      " [  0   0   0   0   0   0   0   0   0   0   0 255 255   0   0 255 255   0\n",
      "    0   0   0   0   0   0   0   0   0   0]\n",
      " [  0   0   0   0   0   0   0   0   0   0   0 255 255 255 255 255   0   0\n",
      "    0   0   0   0   0   0   0   0   0   0]\n",
      " [  0   0   0   0   0   0   0   0   0   0   0   0  51 255  60   0   0   0\n",
      "    0   0   0   0   0   0   0   0   0   0]\n",
      " [  3   0   0   0   0   0   0   0   0   0   0   0   0   0   0   0   0   0\n",
      "    0   0   0   0   0   0   0   0   0   0]\n",
      " [  0   3   3   0   3   0   0   0   0   0   0   0   3   0   0   0   0   0\n",
      "    0   0   0   0   0   0   0   0   0   0]\n",
      " [  0   3   0  15   9   0   0   0   0   0   0   3   0   6   0   0   0   0\n",
      "    0   0   0   0   0   0   0   0   0   0]\n",
      " [  3   0   0   3   9   6  12   3   0   0   6   0   0   0   0   0   0   3\n",
      "    0   0   0   0   0   0   0   0   0   0]\n",
      " [  0   0   0   9   0  12   0   0   0   0   0   0   0   0   0   0   0   0\n",
      "    0   0   0   0   0   0   0   0   0   0]\n",
      " [  3   0   0   6   0   0  12   3   0   3   0   6   0   0   0   0   0   0\n",
      "    0   0   0   0   0   0   0   0   0   0]\n",
      " [  0   0   3   3   3   3   9   3   0   3   3   0   0  18  12   9   3   0\n",
      "    9   0   0   0   0   0   0   0   0   0]\n",
      " [  0   0  15   9   0   0   0  18  21  30   3   3  30   3  24  33  15   6\n",
      "    9   6   0   0   0   0   0   0   0   0]\n",
      " [ 12  27  12  12  24  18  18   3   6   6   0   0   0   0   0   0   6   3\n",
      "    0   0   0   0   0   0   0   0   0   0]\n",
      " [  6  21  24  12  12  18  21  18   0   0   0   0  18   0   0   3   0   0\n",
      "    0   0   0   0   0   0   0   0   0   0]\n",
      " [ 12  27  27  18  24  30   6   9   9   9   9   3   0   0   0   6   0   0\n",
      "    0   0   0   0   0   0   0   0   0   0]\n",
      " [ 18  27  30  21  27  33  30  48   6   3   3   0   0   0   0   0   0  15\n",
      "    0   0   0   0   0   0   0   0   0   0]\n",
      " [ 30  18  24  30  36  18  15  24  24  18   6   6   0   0   9   6  15   6\n",
      "    9   0   0   0   0   0   0   0   0   0]\n",
      " [ 24  27  33  42  42  33  27  30  27  18   3   0   0   0   3   6   0   3\n",
      "   12   0   0   0   0   0   0   0   0   0]]\n"
     ]
    },
    {
     "data": {
      "text/plain": [
       "<matplotlib.figure.Figure at 0x19c615485c0>"
      ]
     },
     "metadata": {},
     "output_type": "display_data"
    },
    {
     "data": {
      "text/plain": [
       "<matplotlib.figure.Figure at 0x19c61416d30>"
      ]
     },
     "metadata": {},
     "output_type": "display_data"
    },
    {
     "name": "stdout",
     "output_type": "stream",
     "text": [
      "new_img_array[ 10 ]= [[184 184 185 186 185 186 184 184 181 181 183 182 182 182 182 181 180 182\n",
      "  183 186 185 184 186 184 183 183 183 179]\n",
      " [187 184 182 184 184 184 184 183 180 182 182 179 182 181 179 182 182 180\n",
      "  182 184 185 184 184 184 182 182 180 179]\n",
      " [188 183 184 184 183 178 183 180 182 182 182 183 183 182 180 181 179 180\n",
      "  180 183 186 182 184 184 181 183 182 180]\n",
      " [189 190 184 184 179 183 182 179 181 180 182 182 182 182 180 179 178 179\n",
      "  179 180 184 186 183 183 183 182 180 181]\n",
      " [187 189 186 187 186 182 182 183 182 182 180 183 182 180 179 179 178 177\n",
      "  179 178 182 183 183 183 181 182 179 179]\n",
      " [184 187 189 190 187 186 183 184 182 182 182 182 172 176 178 178 178 178\n",
      "  175 178 180 184 182 182 179 179 176 175]\n",
      " [190 190 190 187 186 186 184 184 184 183 182 180 176 172 172 173 171 172\n",
      "  174 172 175 175 182 183 183 183 182 180]\n",
      " [189 190 189 187 183 180 182 182 182 180 177 169 168 168 168 167 168 168\n",
      "  168 170 171 171 176 182 180 182 180 180]\n",
      " [187 190 187 183 182 182 180 180 179 173 169 165 162 161 161 161 161 162\n",
      "  164 164 164 166 168 174 176 176 178 175]\n",
      " [189 187 185 180 179 179 179 176 172 164 160 157 156 154 154 153 153 153\n",
      "  154 155 154 154 156 162 165 167 168 167]\n",
      " [180 179 174 173 172 172 169 158 149 146 146 145 145 143 143 143  99 146\n",
      "  149 150 150 154 153 158 162 162 164 164]\n",
      " [169 169 167 164 165 162 153 138 135 135 132 129 128 125 123  30  21  30\n",
      "  126 129 136 145 150 153 160 160 161 162]\n",
      " [171 169 167 165 162 157 143 136 134 131 131 128 127 124  88  17  21 120\n",
      "  121 118 122 128 139 149 157 158 158 159]\n",
      " [171 169 167 165 157 149 140 134 133 129 128 125 124 119  32  19  19 116\n",
      "  116 118 117 121 123 138 151 156 158 157]\n",
      " [172 167 165 158 151 149 138 134 129 128 127 124 121 104  29  22  72 114\n",
      "  114 114 117 117 118 126 146 154 156 157]\n",
      " [171 168 161 154 149 147 136 129 128 128 124 124 116  35  18  22 113 113\n",
      "  114 115 114 116 117 121 140 153 155 153]\n",
      " [171 162 157 151 150 143 134 129 127 125 124 119 116  28  20  26 113 112\n",
      "  113 111 113 111 115 118 131 150 153 154]\n",
      " [167 158 156 153 150 140 131 128 127 124 118 117 108  17  21 109 106 110\n",
      "  111 108 109 109 112 114 124 146 153 154]\n",
      " [159 156 154 151 147 138 129 127 124 118 117 112  29  18  19 108 109 110\n",
      "  109 107 107 107 107 112 119 140 153 151]\n",
      " [157 157 158 153 147 134 129 125 122 118 115 113  29  18  44 110 106 109\n",
      "  107 108 108 109 110 112 118 136 148 151]\n",
      " [157 154 158 154 146 134 127 127 123 118 117  78  19  19 111 106 109 106\n",
      "  104 106 107 110 110 112 114 127 142 147]\n",
      " [152 153 154 151 142 134 129 127 124 117 119 108  14  18 107 109 105 107\n",
      "  106 107 109 110 110 112 112 119 133 141]\n",
      " [150 151 152 156 143 136 131 129 125 121 125 120 113 112 111 107 108 107\n",
      "  110 110 108 110 110 110 112 113 129 140]\n",
      " [150 152 151 156 146 136 134 129 132 129 123 116 113 112 110 110 109 109\n",
      "  110 109 105 108 109 109 109 112 120 138]\n",
      " [149 153 150 151 134 135 135 134 131 123 123 116 115 113 112 110 108 107\n",
      "  107 109 105 109 107 107 109 107 114 128]\n",
      " [151 153 150 139 136 136 134 130 125 120 117 115 113 113 111 109 106 107\n",
      "  107 107 107 108 108 106 105 107 107 116]\n",
      " [150 151 149 138 138 134 134 128 121 113 113 109 110 109 108 108 105 103\n",
      "  106 106 105 102 100 105 103 104  99 103]\n",
      " [151 150 146 135 134 132 131 126 120 114 111 107 109 106 106 102 104 105\n",
      "  102 104 104 102 102 103  99  98  90  96]]\n"
     ]
    },
    {
     "data": {
      "text/plain": [
       "<matplotlib.figure.Figure at 0x19c61289160>"
      ]
     },
     "metadata": {},
     "output_type": "display_data"
    },
    {
     "name": "stdout",
     "output_type": "stream",
     "text": [
      "反白後\n",
      "[[ 71  71  70  69  70  69  71  71  74  74  72  73  73  73  73  74  75  73\n",
      "   72  69  70  71  69  71  72  72  72  76]\n",
      " [ 68  71  73  71  71  71  71  72  75  73  73  76  73  74  76  73  73  75\n",
      "   73  71  70  71  71  71  73  73  75  76]\n",
      " [ 67  72  71  71  72  77  72  75  73  73  73  72  72  73  75  74  76  75\n",
      "   75  72  69  73  71  71  74  72  73  75]\n",
      " [ 66  65  71  71  76  72  73  76  74  75  73  73  73  73  75  76  77  76\n",
      "   76  75  71  69  72  72  72  73  75  74]\n",
      " [ 68  66  69  68  69  73  73  72  73  73  75  72  73  75  76  76  77  78\n",
      "   76  77  73  72  72  72  74  73  76  76]\n",
      " [ 71  68  66  65  68  69  72  71  73  73  73  73  83  79  77  77  77  77\n",
      "   80  77  75  71  73  73  76  76  79  80]\n",
      " [ 65  65  65  68  69  69  71  71  71  72  73  75  79  83  83  82  84  83\n",
      "   81  83  80  80  73  72  72  72  73  75]\n",
      " [ 66  65  66  68  72  75  73  73  73  75  78  86  87  87  87  88  87  87\n",
      "   87  85  84  84  79  73  75  73  75  75]\n",
      " [ 68  65  68  72  73  73  75  75  76  82  86  90  93  94  94  94  94  93\n",
      "   91  91  91  89  87  81  79  79  77  80]\n",
      " [ 66  68  70  75  76  76  76  79  83  91  95  98  99 101 101 102 102 102\n",
      "  101 100 101 101  99  93  90  88  87  88]\n",
      " [ 75  76  81  82  83  83  86  97 106 109 109 110 110 112 112 112 156 109\n",
      "  106 105 105 101 102  97  93  93  91  91]\n",
      " [ 86  86  88  91  90  93 102 117 120 120 123 126 127 130 132 225 234 225\n",
      "  129 126 119 110 105 102  95  95  94  93]\n",
      " [ 84  86  88  90  93  98 112 119 121 124 124 127 128 131 167 238 234 135\n",
      "  134 137 133 127 116 106  98  97  97  96]\n",
      " [ 84  86  88  90  98 106 115 121 122 126 127 130 131 136 223 236 236 139\n",
      "  139 137 138 134 132 117 104  99  97  98]\n",
      " [ 83  88  90  97 104 106 117 121 126 127 128 131 134 151 226 233 183 141\n",
      "  141 141 138 138 137 129 109 101  99  98]\n",
      " [ 84  87  94 101 106 108 119 126 127 127 131 131 139 220 237 233 142 142\n",
      "  141 140 141 139 138 134 115 102 100 102]\n",
      " [ 84  93  98 104 105 112 121 126 128 130 131 136 139 227 235 229 142 143\n",
      "  142 144 142 144 140 137 124 105 102 101]\n",
      " [ 88  97  99 102 105 115 124 127 128 131 137 138 147 238 234 146 149 145\n",
      "  144 147 146 146 143 141 131 109 102 101]\n",
      " [ 96  99 101 104 108 117 126 128 131 137 138 143 226 237 236 147 146 145\n",
      "  146 148 148 148 148 143 136 115 102 104]\n",
      " [ 98  98  97 102 108 121 126 130 133 137 140 142 226 237 211 145 149 146\n",
      "  148 147 147 146 145 143 137 119 107 104]\n",
      " [ 98 101  97 101 109 121 128 128 132 137 138 177 236 236 144 149 146 149\n",
      "  151 149 148 145 145 143 141 128 113 108]\n",
      " [103 102 101 104 113 121 126 128 131 138 136 147 241 237 148 146 150 148\n",
      "  149 148 146 145 145 143 143 136 122 114]\n",
      " [105 104 103  99 112 119 124 126 130 134 130 135 142 143 144 148 147 148\n",
      "  145 145 147 145 145 145 143 142 126 115]\n",
      " [105 103 104  99 109 119 121 126 123 126 132 139 142 143 145 145 146 146\n",
      "  145 146 150 147 146 146 146 143 135 117]\n",
      " [106 102 105 104 121 120 120 121 124 132 132 139 140 142 143 145 147 148\n",
      "  148 146 150 146 148 148 146 148 141 127]\n",
      " [104 102 105 116 119 119 121 125 130 135 138 140 142 142 144 146 149 148\n",
      "  148 148 148 147 147 149 150 148 148 139]\n",
      " [105 104 106 117 117 121 121 127 134 142 142 146 145 146 147 147 150 152\n",
      "  149 149 150 153 155 150 152 151 156 152]\n",
      " [104 105 109 120 121 123 124 129 135 141 144 148 146 149 149 153 151 150\n",
      "  153 151 151 153 153 152 156 157 165 159]]\n"
     ]
    },
    {
     "data": {
      "text/plain": [
       "<matplotlib.figure.Figure at 0x19c61305588>"
      ]
     },
     "metadata": {},
     "output_type": "display_data"
    },
    {
     "name": "stdout",
     "output_type": "stream",
     "text": [
      "(28, 28)\n",
      "拉黑120後\n",
      "[[  0   0   0   0   0   0   0   0   0   0   0   0   0   0   0   0   0   0\n",
      "    0   0   0   0   0   0   0   0   0   0]\n",
      " [  0   0   0   0   0   0   0   0   0   0   0   0   0   0   0   0   0   0\n",
      "    0   0   0   0   0   0   0   0   0   0]\n",
      " [  0   0   0   0   0   0   0   0   0   0   0   0   0   0   0   0   0   0\n",
      "    0   0   0   0   0   0   0   0   0   0]\n",
      " [  0   0   0   0   0   0   0   0   0   0   0   0   0   0   0   0   0   0\n",
      "    0   0   0   0   0   0   0   0   0   0]\n",
      " [  0   0   0   0   0   0   0   0   0   0   0   0   0   0   0   0   0   0\n",
      "    0   0   0   0   0   0   0   0   0   0]\n",
      " [  0   0   0   0   0   0   0   0   0   0   0   0   0   0   0   0   0   0\n",
      "    0   0   0   0   0   0   0   0   0   0]\n",
      " [  0   0   0   0   0   0   0   0   0   0   0   0   0   0   0   0   0   0\n",
      "    0   0   0   0   0   0   0   0   0   0]\n",
      " [  0   0   0   0   0   0   0   0   0   0   0   0   0   0   0   0   0   0\n",
      "    0   0   0   0   0   0   0   0   0   0]\n",
      " [  0   0   0   0   0   0   0   0   0   0   0   0   0   0   0   0   0   0\n",
      "    0   0   0   0   0   0   0   0   0   0]\n",
      " [  0   0   0   0   0   0   0   0   0   0   0   0   0   0   0   0   0   0\n",
      "    0   0   0   0   0   0   0   0   0   0]\n",
      " [  0   0   0   0   0   0   0   0   0   0   0   0   0   0   0   0  36   0\n",
      "    0   0   0   0   0   0   0   0   0   0]\n",
      " [  0   0   0   0   0   0   0   0   0   0   3   6   7  10  12 105 114 105\n",
      "    9   6   0   0   0   0   0   0   0   0]\n",
      " [  0   0   0   0   0   0   0   0   1   4   4   7   8  11  47 118 114  15\n",
      "   14  17  13   7   0   0   0   0   0   0]\n",
      " [  0   0   0   0   0   0   0   1   2   6   7  10  11  16 103 116 116  19\n",
      "   19  17  18  14  12   0   0   0   0   0]\n",
      " [  0   0   0   0   0   0   0   1   6   7   8  11  14  31 106 113  63  21\n",
      "   21  21  18  18  17   9   0   0   0   0]\n",
      " [  0   0   0   0   0   0   0   6   7   7  11  11  19 100 117 113  22  22\n",
      "   21  20  21  19  18  14   0   0   0   0]\n",
      " [  0   0   0   0   0   0   1   6   8  10  11  16  19 107 115 109  22  23\n",
      "   22  24  22  24  20  17   4   0   0   0]\n",
      " [  0   0   0   0   0   0   4   7   8  11  17  18  27 118 114  26  29  25\n",
      "   24  27  26  26  23  21  11   0   0   0]\n",
      " [  0   0   0   0   0   0   6   8  11  17  18  23 106 117 116  27  26  25\n",
      "   26  28  28  28  28  23  16   0   0   0]\n",
      " [  0   0   0   0   0   1   6  10  13  17  20  22 106 117  91  25  29  26\n",
      "   28  27  27  26  25  23  17   0   0   0]\n",
      " [  0   0   0   0   0   1   8   8  12  17  18  57 116 116  24  29  26  29\n",
      "   31  29  28  25  25  23  21   8   0   0]\n",
      " [  0   0   0   0   0   1   6   8  11  18  16  27 121 117  28  26  30  28\n",
      "   29  28  26  25  25  23  23  16   2   0]\n",
      " [  0   0   0   0   0   0   4   6  10  14  10  15  22  23  24  28  27  28\n",
      "   25  25  27  25  25  25  23  22   6   0]\n",
      " [  0   0   0   0   0   0   1   6   3   6  12  19  22  23  25  25  26  26\n",
      "   25  26  30  27  26  26  26  23  15   0]\n",
      " [  0   0   0   0   1   0   0   1   4  12  12  19  20  22  23  25  27  28\n",
      "   28  26  30  26  28  28  26  28  21   7]\n",
      " [  0   0   0   0   0   0   1   5  10  15  18  20  22  22  24  26  29  28\n",
      "   28  28  28  27  27  29  30  28  28  19]\n",
      " [  0   0   0   0   0   1   1   7  14  22  22  26  25  26  27  27  30  32\n",
      "   29  29  30  33  35  30  32  31  36  32]\n",
      " [  0   0   0   0   1   3   4   9  15  21  24  28  26  29  29  33  31  30\n",
      "   33  31  31  33  33  32  36  37  45  39]]\n"
     ]
    },
    {
     "data": {
      "text/plain": [
       "<matplotlib.figure.Figure at 0x19c613bd9b0>"
      ]
     },
     "metadata": {},
     "output_type": "display_data"
    },
    {
     "name": "stdout",
     "output_type": "stream",
     "text": [
      "拉高gain\n",
      "[[  0   0   0   0   0   0   0   0   0   0   0   0   0   0   0   0   0   0\n",
      "    0   0   0   0   0   0   0   0   0   0]\n",
      " [  0   0   0   0   0   0   0   0   0   0   0   0   0   0   0   0   0   0\n",
      "    0   0   0   0   0   0   0   0   0   0]\n",
      " [  0   0   0   0   0   0   0   0   0   0   0   0   0   0   0   0   0   0\n",
      "    0   0   0   0   0   0   0   0   0   0]\n",
      " [  0   0   0   0   0   0   0   0   0   0   0   0   0   0   0   0   0   0\n",
      "    0   0   0   0   0   0   0   0   0   0]\n",
      " [  0   0   0   0   0   0   0   0   0   0   0   0   0   0   0   0   0   0\n",
      "    0   0   0   0   0   0   0   0   0   0]\n",
      " [  0   0   0   0   0   0   0   0   0   0   0   0   0   0   0   0   0   0\n",
      "    0   0   0   0   0   0   0   0   0   0]\n",
      " [  0   0   0   0   0   0   0   0   0   0   0   0   0   0   0   0   0   0\n",
      "    0   0   0   0   0   0   0   0   0   0]\n",
      " [  0   0   0   0   0   0   0   0   0   0   0   0   0   0   0   0   0   0\n",
      "    0   0   0   0   0   0   0   0   0   0]\n",
      " [  0   0   0   0   0   0   0   0   0   0   0   0   0   0   0   0   0   0\n",
      "    0   0   0   0   0   0   0   0   0   0]\n",
      " [  0   0   0   0   0   0   0   0   0   0   0   0   0   0   0   0   0   0\n",
      "    0   0   0   0   0   0   0   0   0   0]\n",
      " [  0   0   0   0   0   0   0   0   0   0   0   0   0   0   0   0 108   0\n",
      "    0   0   0   0   0   0   0   0   0   0]\n",
      " [  0   0   0   0   0   0   0   0   0   0   9  18  21  30  36 255 255 255\n",
      "   27  18   0   0   0   0   0   0   0   0]\n",
      " [  0   0   0   0   0   0   0   0   3  12  12  21  24  33 141 255 255  45\n",
      "   42  51  39  21   0   0   0   0   0   0]\n",
      " [  0   0   0   0   0   0   0   3   6  18  21  30  33  48 255 255 255  57\n",
      "   57  51  54  42  36   0   0   0   0   0]\n",
      " [  0   0   0   0   0   0   0   3  18  21  24  33  42  93 255 255 189  63\n",
      "   63  63  54  54  51  27   0   0   0   0]\n",
      " [  0   0   0   0   0   0   0  18  21  21  33  33  57 255 255 255  66  66\n",
      "   63  60  63  57  54  42   0   0   0   0]\n",
      " [  0   0   0   0   0   0   3  18  24  30  33  48  57 255 255 255  66  69\n",
      "   66  72  66  72  60  51  12   0   0   0]\n",
      " [  0   0   0   0   0   0  12  21  24  33  51  54  81 255 255  78  87  75\n",
      "   72  81  78  78  69  63  33   0   0   0]\n",
      " [  0   0   0   0   0   0  18  24  33  51  54  69 255 255 255  81  78  75\n",
      "   78  84  84  84  84  69  48   0   0   0]\n",
      " [  0   0   0   0   0   3  18  30  39  51  60  66 255 255 255  75  87  78\n",
      "   84  81  81  78  75  69  51   0   0   0]\n",
      " [  0   0   0   0   0   3  24  24  36  51  54 171 255 255  72  87  78  87\n",
      "   93  87  84  75  75  69  63  24   0   0]\n",
      " [  0   0   0   0   0   3  18  24  33  54  48  81 255 255  84  78  90  84\n",
      "   87  84  78  75  75  69  69  48   6   0]\n",
      " [  0   0   0   0   0   0  12  18  30  42  30  45  66  69  72  84  81  84\n",
      "   75  75  81  75  75  75  69  66  18   0]\n",
      " [  0   0   0   0   0   0   3  18   9  18  36  57  66  69  75  75  78  78\n",
      "   75  78  90  81  78  78  78  69  45   0]\n",
      " [  0   0   0   0   3   0   0   3  12  36  36  57  60  66  69  75  81  84\n",
      "   84  78  90  78  84  84  78  84  63  21]\n",
      " [  0   0   0   0   0   0   3  15  30  45  54  60  66  66  72  78  87  84\n",
      "   84  84  84  81  81  87  90  84  84  57]\n",
      " [  0   0   0   0   0   3   3  21  42  66  66  78  75  78  81  81  90  96\n",
      "   87  87  90  99 105  90  96  93 108  96]\n",
      " [  0   0   0   0   3   9  12  27  45  63  72  84  78  87  87  99  93  90\n",
      "   99  93  93  99  99  96 108 111 135 117]]\n"
     ]
    },
    {
     "data": {
      "text/plain": [
       "<matplotlib.figure.Figure at 0x19c614f7470>"
      ]
     },
     "metadata": {},
     "output_type": "display_data"
    },
    {
     "data": {
      "text/plain": [
       "<matplotlib.figure.Figure at 0x19c616b9198>"
      ]
     },
     "metadata": {},
     "output_type": "display_data"
    },
    {
     "name": "stdout",
     "output_type": "stream",
     "text": [
      "new_img_array[ 11 ]= [[235 234 231 229 231 233 231 227 217 209 207 206 206 205 206 204 206 206\n",
      "  206 208 206 206 208 208 206 206 206 206]\n",
      " [231 228 226 223 224 224 220 205 198 198 198 196 195 194 195 198 197 195\n",
      "  196 197 199 197 197 197 197 197 199 197]\n",
      " [218 215 214 213 211 209 192 180 179 178 180 176 174 173 174 175 167  50\n",
      "   41  93 176 177 177 178 178 177 185 188]\n",
      " [215 216 212 212 209 193 182 179 178 178 175 173 169 168 169 168  64  32\n",
      "   39 136 169 169 167 168 169 167 167 169]\n",
      " [214 215 212 211 198 183 178 178 178 176 173 171 168 165 165 142  49  38\n",
      "   37 165 167 165 167 167 165 164 165 164]\n",
      " [216 214 210 207 191 180 178 179 175 171 171 168 165 164 161  56  40  40\n",
      "  113 163 162 162 164 162 164 162 162 161]\n",
      " [216 215 205 197 189 180 178 175 172 169 168 164 162 160 133  52  36  36\n",
      "  160 157 158 158 161 161 160 162 160 160]\n",
      " [216 209 200 198 189 179 175 171 169 167 165 161 158 154  50  36  37  45\n",
      "  156 157 156 157 158 158 158 158 158 158]\n",
      " [213 205 197 195 187 176 172 169 168 165 162 158 157 153  55  33  36 149\n",
      "  154 153 154 156 156 156 156 157 157 157]\n",
      " [209 202 195 193 183 173 169 167 164 161 159 156 153 115  43  35  42 150\n",
      "  153 151 151 150 153 151 153 154 156 154]\n",
      " [206 201 198 191 182 172 165 164 162 160 156 156 151  55  28  32 111 149\n",
      "  149 150 150 147 147 150 151 151 152 152]\n",
      " [202 200 196 187 180 168 165 162 161 157 154 151 149  46  29  30 146 145\n",
      "  147 147 147 146 146 145 145 150 150 152]\n",
      " [205 202 197 189 179 168 162 162 160 156 153 149 101  35  29  90 146 145\n",
      "  145 144 145 146 145 144 146 147 149 150]\n",
      " [204 202 198 190 181 169 164 161 157 154 153 149  50  25  29 141 142 143\n",
      "  143 143 143 143 143 143 145 146 149 149]\n",
      " [199 200 197 185 179 168 164 161 157 151 150 150  44  29  32 138 138 139\n",
      "  140 139 142 142 140 142 145 147 147 147]\n",
      " [195 195 193 187 183 171 161 161 160 153 153 153 147 104 103 139 136 138\n",
      "  139 139 140 143 143 142 143 143 143 140]\n",
      " [193 195 193 191 185 171 167 162 162 160 156 152 144 140 140 138 138 139\n",
      "  139 140 140 139 142 142 140 138 135 130]\n",
      " [195 195 190 194 179 171 165 165 165 158 151 152 146 143 140 139 139 139\n",
      "  139 139 139 140 140 135 134 131 128 128]\n",
      " [194 195 190 190 179 173 169 167 164 157 151 149 145 140 138 137 138 138\n",
      "  136 136 138 138 132 132 128 127 126 124]\n",
      " [192 193 187 184 184 175 168 167 161 154 150 146 142 138 136 138 138 136\n",
      "  137 137 136 134 132 129 125 124 124 123]\n",
      " [193 190 188 184 183 173 171 165 160 154 150 143 138 138 135 135 132 135\n",
      "  135 134 134 129 128 125 120 121 121 121]\n",
      " [189 187 186 186 181 171 168 165 161 153 149 143 142 134 135 133 131 132\n",
      "  132 132 131 132 125 121 123 118 113 115]\n",
      " [187 187 187 190 179 168 169 167 159 153 146 141 137 135 134 134 131 132\n",
      "  132 131 128 128 126 122 118 118 113 112]\n",
      " [189 188 188 188 175 171 165 162 157 153 147 140 136 132 133 132 132 132\n",
      "  131 127 128 122 121 121 117 113 113 110]\n",
      " [186 186 186 184 172 165 162 158 156 151 145 137 136 133 130 130 129 129\n",
      "  125 128 124 123 121 118 117 113 111 107]\n",
      " [187 184 186 181 168 165 160 159 153 151 145 138 133 130 127 128 129 129\n",
      "  128 123 121 116 116 114 111 110 110 105]\n",
      " [187 186 184 179 167 160 158 155 153 149 143 137 130 130 125 128 125 128\n",
      "  125 121 120 117 111 112 109 110 107 103]\n",
      " [184 186 181 175 163 158 159 154 149 145 140 132 126 129 125 123 124 126\n",
      "  125 120 115 114 115 110 110 109 105 107]]\n"
     ]
    },
    {
     "data": {
      "text/plain": [
       "<matplotlib.figure.Figure at 0x19c61733208>"
      ]
     },
     "metadata": {},
     "output_type": "display_data"
    },
    {
     "name": "stdout",
     "output_type": "stream",
     "text": [
      "反白後\n",
      "[[ 20  21  24  26  24  22  24  28  38  46  48  49  49  50  49  51  49  49\n",
      "   49  47  49  49  47  47  49  49  49  49]\n",
      " [ 24  27  29  32  31  31  35  50  57  57  57  59  60  61  60  57  58  60\n",
      "   59  58  56  58  58  58  58  58  56  58]\n",
      " [ 37  40  41  42  44  46  63  75  76  77  75  79  81  82  81  80  88 205\n",
      "  214 162  79  78  78  77  77  78  70  67]\n",
      " [ 40  39  43  43  46  62  73  76  77  77  80  82  86  87  86  87 191 223\n",
      "  216 119  86  86  88  87  86  88  88  86]\n",
      " [ 41  40  43  44  57  72  77  77  77  79  82  84  87  90  90 113 206 217\n",
      "  218  90  88  90  88  88  90  91  90  91]\n",
      " [ 39  41  45  48  64  75  77  76  80  84  84  87  90  91  94 199 215 215\n",
      "  142  92  93  93  91  93  91  93  93  94]\n",
      " [ 39  40  50  58  66  75  77  80  83  86  87  91  93  95 122 203 219 219\n",
      "   95  98  97  97  94  94  95  93  95  95]\n",
      " [ 39  46  55  57  66  76  80  84  86  88  90  94  97 101 205 219 218 210\n",
      "   99  98  99  98  97  97  97  97  97  97]\n",
      " [ 42  50  58  60  68  79  83  86  87  90  93  97  98 102 200 222 219 106\n",
      "  101 102 101  99  99  99  99  98  98  98]\n",
      " [ 46  53  60  62  72  82  86  88  91  94  96  99 102 140 212 220 213 105\n",
      "  102 104 104 105 102 104 102 101  99 101]\n",
      " [ 49  54  57  64  73  83  90  91  93  95  99  99 104 200 227 223 144 106\n",
      "  106 105 105 108 108 105 104 104 103 103]\n",
      " [ 53  55  59  68  75  87  90  93  94  98 101 104 106 209 226 225 109 110\n",
      "  108 108 108 109 109 110 110 105 105 103]\n",
      " [ 50  53  58  66  76  87  93  93  95  99 102 106 154 220 226 165 109 110\n",
      "  110 111 110 109 110 111 109 108 106 105]\n",
      " [ 51  53  57  65  74  86  91  94  98 101 102 106 205 230 226 114 113 112\n",
      "  112 112 112 112 112 112 110 109 106 106]\n",
      " [ 56  55  58  70  76  87  91  94  98 104 105 105 211 226 223 117 117 116\n",
      "  115 116 113 113 115 113 110 108 108 108]\n",
      " [ 60  60  62  68  72  84  94  94  95 102 102 102 108 151 152 116 119 117\n",
      "  116 116 115 112 112 113 112 112 112 115]\n",
      " [ 62  60  62  64  70  84  88  93  93  95  99 103 111 115 115 117 117 116\n",
      "  116 115 115 116 113 113 115 117 120 125]\n",
      " [ 60  60  65  61  76  84  90  90  90  97 104 103 109 112 115 116 116 116\n",
      "  116 116 116 115 115 120 121 124 127 127]\n",
      " [ 61  60  65  65  76  82  86  88  91  98 104 106 110 115 117 118 117 117\n",
      "  119 119 117 117 123 123 127 128 129 131]\n",
      " [ 63  62  68  71  71  80  87  88  94 101 105 109 113 117 119 117 117 119\n",
      "  118 118 119 121 123 126 130 131 131 132]\n",
      " [ 62  65  67  71  72  82  84  90  95 101 105 112 117 117 120 120 123 120\n",
      "  120 121 121 126 127 130 135 134 134 134]\n",
      " [ 66  68  69  69  74  84  87  90  94 102 106 112 113 121 120 122 124 123\n",
      "  123 123 124 123 130 134 132 137 142 140]\n",
      " [ 68  68  68  65  76  87  86  88  96 102 109 114 118 120 121 121 124 123\n",
      "  123 124 127 127 129 133 137 137 142 143]\n",
      " [ 66  67  67  67  80  84  90  93  98 102 108 115 119 123 122 123 123 123\n",
      "  124 128 127 133 134 134 138 142 142 145]\n",
      " [ 69  69  69  71  83  90  93  97  99 104 110 118 119 122 125 125 126 126\n",
      "  130 127 131 132 134 137 138 142 144 148]\n",
      " [ 68  71  69  74  87  90  95  96 102 104 110 117 122 125 128 127 126 126\n",
      "  127 132 134 139 139 141 144 145 145 150]\n",
      " [ 68  69  71  76  88  95  97 100 102 106 112 118 125 125 130 127 130 127\n",
      "  130 134 135 138 144 143 146 145 148 152]\n",
      " [ 71  69  74  80  92  97  96 101 106 110 115 123 129 126 130 132 131 129\n",
      "  130 135 140 141 140 145 145 146 150 148]]\n"
     ]
    },
    {
     "data": {
      "text/plain": [
       "<matplotlib.figure.Figure at 0x19c617b16d8>"
      ]
     },
     "metadata": {},
     "output_type": "display_data"
    },
    {
     "name": "stdout",
     "output_type": "stream",
     "text": [
      "(28, 28)\n",
      "拉黑120後\n",
      "[[  0   0   0   0   0   0   0   0   0   0   0   0   0   0   0   0   0   0\n",
      "    0   0   0   0   0   0   0   0   0   0]\n",
      " [  0   0   0   0   0   0   0   0   0   0   0   0   0   0   0   0   0   0\n",
      "    0   0   0   0   0   0   0   0   0   0]\n",
      " [  0   0   0   0   0   0   0   0   0   0   0   0   0   0   0   0   0  85\n",
      "   94  42   0   0   0   0   0   0   0   0]\n",
      " [  0   0   0   0   0   0   0   0   0   0   0   0   0   0   0   0  71 103\n",
      "   96   0   0   0   0   0   0   0   0   0]\n",
      " [  0   0   0   0   0   0   0   0   0   0   0   0   0   0   0   0  86  97\n",
      "   98   0   0   0   0   0   0   0   0   0]\n",
      " [  0   0   0   0   0   0   0   0   0   0   0   0   0   0   0  79  95  95\n",
      "   22   0   0   0   0   0   0   0   0   0]\n",
      " [  0   0   0   0   0   0   0   0   0   0   0   0   0   0   2  83  99  99\n",
      "    0   0   0   0   0   0   0   0   0   0]\n",
      " [  0   0   0   0   0   0   0   0   0   0   0   0   0   0  85  99  98  90\n",
      "    0   0   0   0   0   0   0   0   0   0]\n",
      " [  0   0   0   0   0   0   0   0   0   0   0   0   0   0  80 102  99   0\n",
      "    0   0   0   0   0   0   0   0   0   0]\n",
      " [  0   0   0   0   0   0   0   0   0   0   0   0   0  20  92 100  93   0\n",
      "    0   0   0   0   0   0   0   0   0   0]\n",
      " [  0   0   0   0   0   0   0   0   0   0   0   0   0  80 107 103  24   0\n",
      "    0   0   0   0   0   0   0   0   0   0]\n",
      " [  0   0   0   0   0   0   0   0   0   0   0   0   0  89 106 105   0   0\n",
      "    0   0   0   0   0   0   0   0   0   0]\n",
      " [  0   0   0   0   0   0   0   0   0   0   0   0  34 100 106  45   0   0\n",
      "    0   0   0   0   0   0   0   0   0   0]\n",
      " [  0   0   0   0   0   0   0   0   0   0   0   0  85 110 106   0   0   0\n",
      "    0   0   0   0   0   0   0   0   0   0]\n",
      " [  0   0   0   0   0   0   0   0   0   0   0   0  91 106 103   0   0   0\n",
      "    0   0   0   0   0   0   0   0   0   0]\n",
      " [  0   0   0   0   0   0   0   0   0   0   0   0   0  31  32   0   0   0\n",
      "    0   0   0   0   0   0   0   0   0   0]\n",
      " [  0   0   0   0   0   0   0   0   0   0   0   0   0   0   0   0   0   0\n",
      "    0   0   0   0   0   0   0   0   0   5]\n",
      " [  0   0   0   0   0   0   0   0   0   0   0   0   0   0   0   0   0   0\n",
      "    0   0   0   0   0   0   1   4   7   7]\n",
      " [  0   0   0   0   0   0   0   0   0   0   0   0   0   0   0   0   0   0\n",
      "    0   0   0   0   3   3   7   8   9  11]\n",
      " [  0   0   0   0   0   0   0   0   0   0   0   0   0   0   0   0   0   0\n",
      "    0   0   0   1   3   6  10  11  11  12]\n",
      " [  0   0   0   0   0   0   0   0   0   0   0   0   0   0   0   0   3   0\n",
      "    0   1   1   6   7  10  15  14  14  14]\n",
      " [  0   0   0   0   0   0   0   0   0   0   0   0   0   1   0   2   4   3\n",
      "    3   3   4   3  10  14  12  17  22  20]\n",
      " [  0   0   0   0   0   0   0   0   0   0   0   0   0   0   1   1   4   3\n",
      "    3   4   7   7   9  13  17  17  22  23]\n",
      " [  0   0   0   0   0   0   0   0   0   0   0   0   0   3   2   3   3   3\n",
      "    4   8   7  13  14  14  18  22  22  25]\n",
      " [  0   0   0   0   0   0   0   0   0   0   0   0   0   2   5   5   6   6\n",
      "   10   7  11  12  14  17  18  22  24  28]\n",
      " [  0   0   0   0   0   0   0   0   0   0   0   0   2   5   8   7   6   6\n",
      "    7  12  14  19  19  21  24  25  25  30]\n",
      " [  0   0   0   0   0   0   0   0   0   0   0   0   5   5  10   7  10   7\n",
      "   10  14  15  18  24  23  26  25  28  32]\n",
      " [  0   0   0   0   0   0   0   0   0   0   0   3   9   6  10  12  11   9\n",
      "   10  15  20  21  20  25  25  26  30  28]]\n"
     ]
    },
    {
     "data": {
      "text/plain": [
       "<matplotlib.figure.Figure at 0x19c617eb9e8>"
      ]
     },
     "metadata": {},
     "output_type": "display_data"
    },
    {
     "name": "stdout",
     "output_type": "stream",
     "text": [
      "拉高gain\n",
      "[[  0   0   0   0   0   0   0   0   0   0   0   0   0   0   0   0   0   0\n",
      "    0   0   0   0   0   0   0   0   0   0]\n",
      " [  0   0   0   0   0   0   0   0   0   0   0   0   0   0   0   0   0   0\n",
      "    0   0   0   0   0   0   0   0   0   0]\n",
      " [  0   0   0   0   0   0   0   0   0   0   0   0   0   0   0   0   0 255\n",
      "  255 126   0   0   0   0   0   0   0   0]\n",
      " [  0   0   0   0   0   0   0   0   0   0   0   0   0   0   0   0 213 255\n",
      "  255   0   0   0   0   0   0   0   0   0]\n",
      " [  0   0   0   0   0   0   0   0   0   0   0   0   0   0   0   0 255 255\n",
      "  255   0   0   0   0   0   0   0   0   0]\n",
      " [  0   0   0   0   0   0   0   0   0   0   0   0   0   0   0 237 255 255\n",
      "   66   0   0   0   0   0   0   0   0   0]\n",
      " [  0   0   0   0   0   0   0   0   0   0   0   0   0   0   6 249 255 255\n",
      "    0   0   0   0   0   0   0   0   0   0]\n",
      " [  0   0   0   0   0   0   0   0   0   0   0   0   0   0 255 255 255 255\n",
      "    0   0   0   0   0   0   0   0   0   0]\n",
      " [  0   0   0   0   0   0   0   0   0   0   0   0   0   0 240 255 255   0\n",
      "    0   0   0   0   0   0   0   0   0   0]\n",
      " [  0   0   0   0   0   0   0   0   0   0   0   0   0  60 255 255 255   0\n",
      "    0   0   0   0   0   0   0   0   0   0]\n",
      " [  0   0   0   0   0   0   0   0   0   0   0   0   0 240 255 255  72   0\n",
      "    0   0   0   0   0   0   0   0   0   0]\n",
      " [  0   0   0   0   0   0   0   0   0   0   0   0   0 255 255 255   0   0\n",
      "    0   0   0   0   0   0   0   0   0   0]\n",
      " [  0   0   0   0   0   0   0   0   0   0   0   0 102 255 255 135   0   0\n",
      "    0   0   0   0   0   0   0   0   0   0]\n",
      " [  0   0   0   0   0   0   0   0   0   0   0   0 255 255 255   0   0   0\n",
      "    0   0   0   0   0   0   0   0   0   0]\n",
      " [  0   0   0   0   0   0   0   0   0   0   0   0 255 255 255   0   0   0\n",
      "    0   0   0   0   0   0   0   0   0   0]\n",
      " [  0   0   0   0   0   0   0   0   0   0   0   0   0  93  96   0   0   0\n",
      "    0   0   0   0   0   0   0   0   0   0]\n",
      " [  0   0   0   0   0   0   0   0   0   0   0   0   0   0   0   0   0   0\n",
      "    0   0   0   0   0   0   0   0   0  15]\n",
      " [  0   0   0   0   0   0   0   0   0   0   0   0   0   0   0   0   0   0\n",
      "    0   0   0   0   0   0   3  12  21  21]\n",
      " [  0   0   0   0   0   0   0   0   0   0   0   0   0   0   0   0   0   0\n",
      "    0   0   0   0   9   9  21  24  27  33]\n",
      " [  0   0   0   0   0   0   0   0   0   0   0   0   0   0   0   0   0   0\n",
      "    0   0   0   3   9  18  30  33  33  36]\n",
      " [  0   0   0   0   0   0   0   0   0   0   0   0   0   0   0   0   9   0\n",
      "    0   3   3  18  21  30  45  42  42  42]\n",
      " [  0   0   0   0   0   0   0   0   0   0   0   0   0   3   0   6  12   9\n",
      "    9   9  12   9  30  42  36  51  66  60]\n",
      " [  0   0   0   0   0   0   0   0   0   0   0   0   0   0   3   3  12   9\n",
      "    9  12  21  21  27  39  51  51  66  69]\n",
      " [  0   0   0   0   0   0   0   0   0   0   0   0   0   9   6   9   9   9\n",
      "   12  24  21  39  42  42  54  66  66  75]\n",
      " [  0   0   0   0   0   0   0   0   0   0   0   0   0   6  15  15  18  18\n",
      "   30  21  33  36  42  51  54  66  72  84]\n",
      " [  0   0   0   0   0   0   0   0   0   0   0   0   6  15  24  21  18  18\n",
      "   21  36  42  57  57  63  72  75  75  90]\n",
      " [  0   0   0   0   0   0   0   0   0   0   0   0  15  15  30  21  30  21\n",
      "   30  42  45  54  72  69  78  75  84  96]\n",
      " [  0   0   0   0   0   0   0   0   0   0   0   9  27  18  30  36  33  27\n",
      "   30  45  60  63  60  75  75  78  90  84]]\n"
     ]
    },
    {
     "data": {
      "text/plain": [
       "<matplotlib.figure.Figure at 0x19c618253c8>"
      ]
     },
     "metadata": {},
     "output_type": "display_data"
    },
    {
     "data": {
      "text/plain": [
       "<matplotlib.figure.Figure at 0x19c61865550>"
      ]
     },
     "metadata": {},
     "output_type": "display_data"
    },
    {
     "name": "stdout",
     "output_type": "stream",
     "text": [
      "new_img_array[ 12 ]= [[201 198 200 200 202 204 204 202 198 197 198 198 199 197 197 195 194 193\n",
      "  194 192 193 192 190 190 189 189 187 191]\n",
      " [205 201 201 200 201 201 200 198 197 194 198 197 195 197 198 195 194 191\n",
      "  193 189 190 187 190 189 186 186 183 187]\n",
      " [206 205 201 201 200 201 200 198 197 197 198 198 197 197 195 195 193 191\n",
      "  190 189 187 187 186 184 186 183 184 185]\n",
      " [208 208 206 202 201 202 200 200 198 198 197 197 198 198 197 193 193 193\n",
      "  191 189 187 186 186 184 183 183 181 182]\n",
      " [206 206 204 204 204 202 197 198 201 198 200 198 197 194 193 190 185 184\n",
      "  183 180 180 180 179 179 178 177 176 174]\n",
      " [205 201 206 208 205 204 201 200 198 197 194 193 190 183 184 179 176 176\n",
      "  175 175 173 172 172 171 170 169 169 167]\n",
      " [202 204 201 198 197 195 197 197 191 187 183 178 175 169 160 161 157 159\n",
      "  160 160 160 160 160 159 162 162 164 164]\n",
      " [189 193 188 186 186 184 179 169 169 167 165 162 157 151 143 137 139 138\n",
      "  140 139 140 142 142 143 143 145 143 143]\n",
      " [191 190 186 184 182 180 172 167 167 164 160 157 150 142 136 135 136 133\n",
      "  135 136 136 138 138 138 139 141 140 140]\n",
      " [190 189 185 180 179 176 168 162 164 161 157 151 140 135 132 128 131 132\n",
      "  130 132 132 133 135 134 136 137 139 137]\n",
      " [190 186 183 180 178 175 166 161 161 157 150 140 134 130 128 128 127 127\n",
      "  127 129 129 128 131 132 135 133 135 135]\n",
      " [189 186 181 178 176 173 162 161 161 156 142 137 132 129 127 124 124 124\n",
      "  125 125 125 130 129 129 131 132 134 134]\n",
      " [190 184 180 178 176 171 163 162 157 143 135 131 129 127 124 121 123 121\n",
      "  123 124 124 125 127 128 128 131 129 130]\n",
      " [190 183 179 177 176 168 163 160 143 139 134 131 127 123 123 120 116 118\n",
      "   81  46 103 123 125 126 125 126 128 129]\n",
      " [184 182 179 178 176 167 158 144 139 136 134 132 125 124 121 118 116 104\n",
      "   20  17  19 123 124 125 125 127 128 128]\n",
      " [187 183 180 179 175 162 149 140 138 134 134 129 125 124 120 118 114  30\n",
      "   17  18  58 121 124 124 124 126 127 127]\n",
      " [187 184 182 179 170 154 140 139 139 135 132 127 125 119 118 117  95  27\n",
      "   19  18 118 121 121 122 124 124 126 124]\n",
      " [189 183 180 178 164 146 143 140 137 135 130 127 124 121 117 114  30  24\n",
      "   24  25 118 117 121 121 121 123 124 123]\n",
      " [184 183 180 173 157 146 143 140 136 135 131 127 123 120 117 102  28  18\n",
      "   19  85 117 117 120 121 121 121 123 123]\n",
      " [184 182 176 167 154 147 142 139 135 131 130 124 121 118 114  49  24  19\n",
      "   19 115 117 118 120 118 120 118 120 118]\n",
      " [182 178 169 164 155 145 142 138 135 132 129 125 120 116 115  31  21  21\n",
      "   68 116 117 120 118 120 118 118 114 110]\n",
      " [176 171 165 164 151 146 140 139 135 128 129 124 118 118  99  28  21  19\n",
      "  116 115 117 116 117 118 116 110 110 107]\n",
      " [169 165 166 164 151 143 141 138 135 128 127 120 117 116  63  19  17  21\n",
      "  115 116 116 116 116 114 114 107 104 102]\n",
      " [165 163 164 162 151 143 138 138 134 129 126 118 117 113  29  16  19  81\n",
      "  113 112 114 113 115 108 106 103  98 101]\n",
      " [164 164 165 161 147 142 138 134 132 127 121 116 114  93  28  16  19 111\n",
      "  113 110 113 112 111 106 102 101  95 100]\n",
      " [164 162 165 159 146 138 136 134 132 127 122 117 113  53  19  17  52 112\n",
      "  109 108 109 110 109 106 102  99  98  95]\n",
      " [162 160 164 160 145 138 133 134 128 125 120 115 115  28  15  18  90 107\n",
      "  106 110 106 106 106 101  99  96  96  92]\n",
      " [162 161 160 158 140 138 137 133 130 125 117 116 114  33  17  21 105 105\n",
      "  106 105 109 106 106 102  94  96 100  93]]\n"
     ]
    },
    {
     "data": {
      "text/plain": [
       "<matplotlib.figure.Figure at 0x19c6184f9b0>"
      ]
     },
     "metadata": {},
     "output_type": "display_data"
    },
    {
     "name": "stdout",
     "output_type": "stream",
     "text": [
      "反白後\n",
      "[[ 54  57  55  55  53  51  51  53  57  58  57  57  56  58  58  60  61  62\n",
      "   61  63  62  63  65  65  66  66  68  64]\n",
      " [ 50  54  54  55  54  54  55  57  58  61  57  58  60  58  57  60  61  64\n",
      "   62  66  65  68  65  66  69  69  72  68]\n",
      " [ 49  50  54  54  55  54  55  57  58  58  57  57  58  58  60  60  62  64\n",
      "   65  66  68  68  69  71  69  72  71  70]\n",
      " [ 47  47  49  53  54  53  55  55  57  57  58  58  57  57  58  62  62  62\n",
      "   64  66  68  69  69  71  72  72  74  73]\n",
      " [ 49  49  51  51  51  53  58  57  54  57  55  57  58  61  62  65  70  71\n",
      "   72  75  75  75  76  76  77  78  79  81]\n",
      " [ 50  54  49  47  50  51  54  55  57  58  61  62  65  72  71  76  79  79\n",
      "   80  80  82  83  83  84  85  86  86  88]\n",
      " [ 53  51  54  57  58  60  58  58  64  68  72  77  80  86  95  94  98  96\n",
      "   95  95  95  95  95  96  93  93  91  91]\n",
      " [ 66  62  67  69  69  71  76  86  86  88  90  93  98 104 112 118 116 117\n",
      "  115 116 115 113 113 112 112 110 112 112]\n",
      " [ 64  65  69  71  73  75  83  88  88  91  95  98 105 113 119 120 119 122\n",
      "  120 119 119 117 117 117 116 114 115 115]\n",
      " [ 65  66  70  75  76  79  87  93  91  94  98 104 115 120 123 127 124 123\n",
      "  125 123 123 122 120 121 119 118 116 118]\n",
      " [ 65  69  72  75  77  80  89  94  94  98 105 115 121 125 127 127 128 128\n",
      "  128 126 126 127 124 123 120 122 120 120]\n",
      " [ 66  69  74  77  79  82  93  94  94  99 113 118 123 126 128 131 131 131\n",
      "  130 130 130 125 126 126 124 123 121 121]\n",
      " [ 65  71  75  77  79  84  92  93  98 112 120 124 126 128 131 134 132 134\n",
      "  132 131 131 130 128 127 127 124 126 125]\n",
      " [ 65  72  76  78  79  87  92  95 112 116 121 124 128 132 132 135 139 137\n",
      "  174 209 152 132 130 129 130 129 127 126]\n",
      " [ 71  73  76  77  79  88  97 111 116 119 121 123 130 131 134 137 139 151\n",
      "  235 238 236 132 131 130 130 128 127 127]\n",
      " [ 68  72  75  76  80  93 106 115 117 121 121 126 130 131 135 137 141 225\n",
      "  238 237 197 134 131 131 131 129 128 128]\n",
      " [ 68  71  73  76  85 101 115 116 116 120 123 128 130 136 137 138 160 228\n",
      "  236 237 137 134 134 133 131 131 129 131]\n",
      " [ 66  72  75  77  91 109 112 115 118 120 125 128 131 134 138 141 225 231\n",
      "  231 230 137 138 134 134 134 132 131 132]\n",
      " [ 71  72  75  82  98 109 112 115 119 120 124 128 132 135 138 153 227 237\n",
      "  236 170 138 138 135 134 134 134 132 132]\n",
      " [ 71  73  79  88 101 108 113 116 120 124 125 131 134 137 141 206 231 236\n",
      "  236 140 138 137 135 137 135 137 135 137]\n",
      " [ 73  77  86  91 100 110 113 117 120 123 126 130 135 139 140 224 234 234\n",
      "  187 139 138 135 137 135 137 137 141 145]\n",
      " [ 79  84  90  91 104 109 115 116 120 127 126 131 137 137 156 227 234 236\n",
      "  139 140 138 139 138 137 139 145 145 148]\n",
      " [ 86  90  89  91 104 112 114 117 120 127 128 135 138 139 192 236 238 234\n",
      "  140 139 139 139 139 141 141 148 151 153]\n",
      " [ 90  92  91  93 104 112 117 117 121 126 129 137 138 142 226 239 236 174\n",
      "  142 143 141 142 140 147 149 152 157 154]\n",
      " [ 91  91  90  94 108 113 117 121 123 128 134 139 141 162 227 239 236 144\n",
      "  142 145 142 143 144 149 153 154 160 155]\n",
      " [ 91  93  90  96 109 117 119 121 123 128 133 138 142 202 236 238 203 143\n",
      "  146 147 146 145 146 149 153 156 157 160]\n",
      " [ 93  95  91  95 110 117 122 121 127 130 135 140 140 227 240 237 165 148\n",
      "  149 145 149 149 149 154 156 159 159 163]\n",
      " [ 93  94  95  97 115 117 118 122 125 130 138 139 141 222 238 234 150 150\n",
      "  149 150 146 149 149 153 161 159 155 162]]\n"
     ]
    },
    {
     "data": {
      "text/plain": [
       "<matplotlib.figure.Figure at 0x19c611b9b38>"
      ]
     },
     "metadata": {},
     "output_type": "display_data"
    },
    {
     "name": "stdout",
     "output_type": "stream",
     "text": [
      "(28, 28)\n",
      "拉黑120後\n",
      "[[  0   0   0   0   0   0   0   0   0   0   0   0   0   0   0   0   0   0\n",
      "    0   0   0   0   0   0   0   0   0   0]\n",
      " [  0   0   0   0   0   0   0   0   0   0   0   0   0   0   0   0   0   0\n",
      "    0   0   0   0   0   0   0   0   0   0]\n",
      " [  0   0   0   0   0   0   0   0   0   0   0   0   0   0   0   0   0   0\n",
      "    0   0   0   0   0   0   0   0   0   0]\n",
      " [  0   0   0   0   0   0   0   0   0   0   0   0   0   0   0   0   0   0\n",
      "    0   0   0   0   0   0   0   0   0   0]\n",
      " [  0   0   0   0   0   0   0   0   0   0   0   0   0   0   0   0   0   0\n",
      "    0   0   0   0   0   0   0   0   0   0]\n",
      " [  0   0   0   0   0   0   0   0   0   0   0   0   0   0   0   0   0   0\n",
      "    0   0   0   0   0   0   0   0   0   0]\n",
      " [  0   0   0   0   0   0   0   0   0   0   0   0   0   0   0   0   0   0\n",
      "    0   0   0   0   0   0   0   0   0   0]\n",
      " [  0   0   0   0   0   0   0   0   0   0   0   0   0   0   0   0   0   0\n",
      "    0   0   0   0   0   0   0   0   0   0]\n",
      " [  0   0   0   0   0   0   0   0   0   0   0   0   0   0   0   0   0   2\n",
      "    0   0   0   0   0   0   0   0   0   0]\n",
      " [  0   0   0   0   0   0   0   0   0   0   0   0   0   0   3   7   4   3\n",
      "    5   3   3   2   0   1   0   0   0   0]\n",
      " [  0   0   0   0   0   0   0   0   0   0   0   0   1   5   7   7   8   8\n",
      "    8   6   6   7   4   3   0   2   0   0]\n",
      " [  0   0   0   0   0   0   0   0   0   0   0   0   3   6   8  11  11  11\n",
      "   10  10  10   5   6   6   4   3   1   1]\n",
      " [  0   0   0   0   0   0   0   0   0   0   0   4   6   8  11  14  12  14\n",
      "   12  11  11  10   8   7   7   4   6   5]\n",
      " [  0   0   0   0   0   0   0   0   0   0   1   4   8  12  12  15  19  17\n",
      "   54  89  32  12  10   9  10   9   7   6]\n",
      " [  0   0   0   0   0   0   0   0   0   0   1   3  10  11  14  17  19  31\n",
      "  115 118 116  12  11  10  10   8   7   7]\n",
      " [  0   0   0   0   0   0   0   0   0   1   1   6  10  11  15  17  21 105\n",
      "  118 117  77  14  11  11  11   9   8   8]\n",
      " [  0   0   0   0   0   0   0   0   0   0   3   8  10  16  17  18  40 108\n",
      "  116 117  17  14  14  13  11  11   9  11]\n",
      " [  0   0   0   0   0   0   0   0   0   0   5   8  11  14  18  21 105 111\n",
      "  111 110  17  18  14  14  14  12  11  12]\n",
      " [  0   0   0   0   0   0   0   0   0   0   4   8  12  15  18  33 107 117\n",
      "  116  50  18  18  15  14  14  14  12  12]\n",
      " [  0   0   0   0   0   0   0   0   0   4   5  11  14  17  21  86 111 116\n",
      "  116  20  18  17  15  17  15  17  15  17]\n",
      " [  0   0   0   0   0   0   0   0   0   3   6  10  15  19  20 104 114 114\n",
      "   67  19  18  15  17  15  17  17  21  25]\n",
      " [  0   0   0   0   0   0   0   0   0   7   6  11  17  17  36 107 114 116\n",
      "   19  20  18  19  18  17  19  25  25  28]\n",
      " [  0   0   0   0   0   0   0   0   0   7   8  15  18  19  72 116 118 114\n",
      "   20  19  19  19  19  21  21  28  31  33]\n",
      " [  0   0   0   0   0   0   0   0   1   6   9  17  18  22 106 119 116  54\n",
      "   22  23  21  22  20  27  29  32  37  34]\n",
      " [  0   0   0   0   0   0   0   1   3   8  14  19  21  42 107 119 116  24\n",
      "   22  25  22  23  24  29  33  34  40  35]\n",
      " [  0   0   0   0   0   0   0   1   3   8  13  18  22  82 116 118  83  23\n",
      "   26  27  26  25  26  29  33  36  37  40]\n",
      " [  0   0   0   0   0   0   2   1   7  10  15  20  20 107 120 117  45  28\n",
      "   29  25  29  29  29  34  36  39  39  43]\n",
      " [  0   0   0   0   0   0   0   2   5  10  18  19  21 102 118 114  30  30\n",
      "   29  30  26  29  29  33  41  39  35  42]]\n"
     ]
    },
    {
     "data": {
      "text/plain": [
       "<matplotlib.figure.Figure at 0x19c611c50b8>"
      ]
     },
     "metadata": {},
     "output_type": "display_data"
    },
    {
     "name": "stdout",
     "output_type": "stream",
     "text": [
      "拉高gain\n",
      "[[  0   0   0   0   0   0   0   0   0   0   0   0   0   0   0   0   0   0\n",
      "    0   0   0   0   0   0   0   0   0   0]\n",
      " [  0   0   0   0   0   0   0   0   0   0   0   0   0   0   0   0   0   0\n",
      "    0   0   0   0   0   0   0   0   0   0]\n",
      " [  0   0   0   0   0   0   0   0   0   0   0   0   0   0   0   0   0   0\n",
      "    0   0   0   0   0   0   0   0   0   0]\n",
      " [  0   0   0   0   0   0   0   0   0   0   0   0   0   0   0   0   0   0\n",
      "    0   0   0   0   0   0   0   0   0   0]\n",
      " [  0   0   0   0   0   0   0   0   0   0   0   0   0   0   0   0   0   0\n",
      "    0   0   0   0   0   0   0   0   0   0]\n",
      " [  0   0   0   0   0   0   0   0   0   0   0   0   0   0   0   0   0   0\n",
      "    0   0   0   0   0   0   0   0   0   0]\n",
      " [  0   0   0   0   0   0   0   0   0   0   0   0   0   0   0   0   0   0\n",
      "    0   0   0   0   0   0   0   0   0   0]\n",
      " [  0   0   0   0   0   0   0   0   0   0   0   0   0   0   0   0   0   0\n",
      "    0   0   0   0   0   0   0   0   0   0]\n",
      " [  0   0   0   0   0   0   0   0   0   0   0   0   0   0   0   0   0   6\n",
      "    0   0   0   0   0   0   0   0   0   0]\n",
      " [  0   0   0   0   0   0   0   0   0   0   0   0   0   0   9  21  12   9\n",
      "   15   9   9   6   0   3   0   0   0   0]\n",
      " [  0   0   0   0   0   0   0   0   0   0   0   0   3  15  21  21  24  24\n",
      "   24  18  18  21  12   9   0   6   0   0]\n",
      " [  0   0   0   0   0   0   0   0   0   0   0   0   9  18  24  33  33  33\n",
      "   30  30  30  15  18  18  12   9   3   3]\n",
      " [  0   0   0   0   0   0   0   0   0   0   0  12  18  24  33  42  36  42\n",
      "   36  33  33  30  24  21  21  12  18  15]\n",
      " [  0   0   0   0   0   0   0   0   0   0   3  12  24  36  36  45  57  51\n",
      "  162 255  96  36  30  27  30  27  21  18]\n",
      " [  0   0   0   0   0   0   0   0   0   0   3   9  30  33  42  51  57  93\n",
      "  255 255 255  36  33  30  30  24  21  21]\n",
      " [  0   0   0   0   0   0   0   0   0   3   3  18  30  33  45  51  63 255\n",
      "  255 255 231  42  33  33  33  27  24  24]\n",
      " [  0   0   0   0   0   0   0   0   0   0   9  24  30  48  51  54 120 255\n",
      "  255 255  51  42  42  39  33  33  27  33]\n",
      " [  0   0   0   0   0   0   0   0   0   0  15  24  33  42  54  63 255 255\n",
      "  255 255  51  54  42  42  42  36  33  36]\n",
      " [  0   0   0   0   0   0   0   0   0   0  12  24  36  45  54  99 255 255\n",
      "  255 150  54  54  45  42  42  42  36  36]\n",
      " [  0   0   0   0   0   0   0   0   0  12  15  33  42  51  63 255 255 255\n",
      "  255  60  54  51  45  51  45  51  45  51]\n",
      " [  0   0   0   0   0   0   0   0   0   9  18  30  45  57  60 255 255 255\n",
      "  201  57  54  45  51  45  51  51  63  75]\n",
      " [  0   0   0   0   0   0   0   0   0  21  18  33  51  51 108 255 255 255\n",
      "   57  60  54  57  54  51  57  75  75  84]\n",
      " [  0   0   0   0   0   0   0   0   0  21  24  45  54  57 216 255 255 255\n",
      "   60  57  57  57  57  63  63  84  93  99]\n",
      " [  0   0   0   0   0   0   0   0   3  18  27  51  54  66 255 255 255 162\n",
      "   66  69  63  66  60  81  87  96 111 102]\n",
      " [  0   0   0   0   0   0   0   3   9  24  42  57  63 126 255 255 255  72\n",
      "   66  75  66  69  72  87  99 102 120 105]\n",
      " [  0   0   0   0   0   0   0   3   9  24  39  54  66 246 255 255 249  69\n",
      "   78  81  78  75  78  87  99 108 111 120]\n",
      " [  0   0   0   0   0   0   6   3  21  30  45  60  60 255 255 255 135  84\n",
      "   87  75  87  87  87 102 108 117 117 129]\n",
      " [  0   0   0   0   0   0   0   6  15  30  54  57  63 255 255 255  90  90\n",
      "   87  90  78  87  87  99 123 117 105 126]]\n"
     ]
    },
    {
     "data": {
      "text/plain": [
       "<matplotlib.figure.Figure at 0x19c611e58d0>"
      ]
     },
     "metadata": {},
     "output_type": "display_data"
    },
    {
     "data": {
      "text/plain": [
       "<matplotlib.figure.Figure at 0x19c617f35c0>"
      ]
     },
     "metadata": {},
     "output_type": "display_data"
    },
    {
     "name": "stdout",
     "output_type": "stream",
     "text": [
      "new_img_array[ 13 ]= [[209 209 207 208 204 201 203 202 204 202 201 201 204 205 202 202 202 200\n",
      "  200 203 200 196 197 201 202 202 202 202]\n",
      " [212 212 209 208 208 205 206 205 205 202 201 204 205 205 204 202 201 204\n",
      "  198 200 200 200 197 197 201 202 199 201]\n",
      " [211 211 211 209 209 208 208 206 206 206 205 206 206 204 202 204 203 204\n",
      "  202 204 200 198 198 197 202 202 199 202]\n",
      " [209 209 209 211 212 211 211 207 206 205 206 205 204 203 206 206 204 204\n",
      "  202 204 201 200 198 198 201 201 201 199]\n",
      " [208 210 209 209 209 212 212 211 208 205 203 205 206 203 204 202 204 202\n",
      "  200 204 204 202 200 198 201 201 198 200]\n",
      " [206 209 209 209 212 209 208 205 206 205 205 203 202 201 200 200 201 200\n",
      "  201 200 201 200 197 198 200 200 198 196]\n",
      " [206 208 209 209 209 209 207 208 206 206 205 204 201 197 198 198 198 200\n",
      "  197 198 197 200 200 197 198 201 198 199]\n",
      " [202 208 211 209 206 209 206 205 204 202 202 200 200 198 197 197 198 197\n",
      "  197 192 197 197 200 197 197 197 198 197]\n",
      " [204 204 206 206 209 209 206 205 204 202 200 202 198 198 198 198 195 194\n",
      "  193 193 195 194 194 195 195 196 197 197]\n",
      " [205 206 205 205 202 206 205 205 202 201 200 200 197 197 194 195 194 190\n",
      "  191 192 190 186 187 187 186 186 184 183]\n",
      " [200 198 195 194 193 193 197 193 190 190 189 189 186 184 183 184 182 187\n",
      "  187 191 187 184 186 183 180 180 183 180]\n",
      " [193 190 189 186 184 187 186 183 185 182 182 182 180 180 176 182 180 176\n",
      "  176 177 183 184 184 179 176 178 180 178]\n",
      " [194 193 190 186 186 186 184 183 184 182 179 180 180 189 191 184 178 174\n",
      "  173 167 164 162 162 158 161 175 180 179]\n",
      " [193 191 188 186 186 183 183 180 180 180 179 180 180 191 190 183 176 173\n",
      "  169 164 162 162 158 151 160 176 177 179]\n",
      " [191 190 189 184 184 182 182 182 182 180 180 180 180 190 189 180 175 173\n",
      "  171 162 160 157 153 151 160 175 178 178]\n",
      " [186 189 187 184 183 183 183 180 182 180 182 179 179 189 187 180 173 173\n",
      "  169 162 157 151 152 151 160 175 177 175]\n",
      " [189 188 182 183 183 183 182 180 179 178 178 176 175 188 186 180 173 172\n",
      "  171 160 150 150 150 149 160 173  40  35]\n",
      " [188 190 189 187 186 184 180 180 179 179 176 172 173 189 186 180 173 172\n",
      "  166 153 149 150 151 150 162  89  40  99]\n",
      " [190 193 187 184 186 182 180 179 178 174 175 173 175 187 184 178 175 171\n",
      "  161 153 150 149 149 146 157  57  42 172]\n",
      " [191 189 184 184 184 185 182 180 179 178 176 173 173 186 183 178 172 167\n",
      "  164 153 150 149 149 149  51  40 104 167]\n",
      " [193 187 182 184 183 184 182 180 179 178 178 173 175 186 180 176 168 167\n",
      "  162 153 149 149 149 147  43  35 164 162]\n",
      " [189 190 180 180 182 183 179 182 179 180 176 176 177 186 182 171 169 167\n",
      "  161 150 150 147 144  90  28 107 161 161]\n",
      " [189 190 180 180 182 179 180 179 178 175 174 175 176 182 175 173 171 168\n",
      "  160 153 150 142 140  38  28 164 157 160]\n",
      " [180 186 187 182 180 179 180 176 176 173 173 178 179 186 173 174 169 164\n",
      "  163 156 150 146 131  25  87 158 161 158]\n",
      " [179 178 184 168 176 178 176 175 176 176 178 179 180 186 175 172 169 171\n",
      "  167 156 150 149 146 145 154 160 160 157]\n",
      " [180 182 177 173 173 176 172 176 177 178 176 179 180 180 172 170 168 165\n",
      "  162 155 151 150 145 147 156 161 158 158]\n",
      " [183 181 177 174 172 171 172 175 172 175 178 177 180 183 171 167 164 161\n",
      "  167 157 149 147 146 149 156 159 154 158]\n",
      " [180 182 180 181 168 171 171 173 175 176 176 176 183 178 167 165 164 165\n",
      "  164 156 147 146 143 146 157 161 157 156]]\n"
     ]
    },
    {
     "data": {
      "text/plain": [
       "<matplotlib.figure.Figure at 0x19c617de240>"
      ]
     },
     "metadata": {},
     "output_type": "display_data"
    },
    {
     "name": "stdout",
     "output_type": "stream",
     "text": [
      "反白後\n",
      "[[ 46  46  48  47  51  54  52  53  51  53  54  54  51  50  53  53  53  55\n",
      "   55  52  55  59  58  54  53  53  53  53]\n",
      " [ 43  43  46  47  47  50  49  50  50  53  54  51  50  50  51  53  54  51\n",
      "   57  55  55  55  58  58  54  53  56  54]\n",
      " [ 44  44  44  46  46  47  47  49  49  49  50  49  49  51  53  51  52  51\n",
      "   53  51  55  57  57  58  53  53  56  53]\n",
      " [ 46  46  46  44  43  44  44  48  49  50  49  50  51  52  49  49  51  51\n",
      "   53  51  54  55  57  57  54  54  54  56]\n",
      " [ 47  45  46  46  46  43  43  44  47  50  52  50  49  52  51  53  51  53\n",
      "   55  51  51  53  55  57  54  54  57  55]\n",
      " [ 49  46  46  46  43  46  47  50  49  50  50  52  53  54  55  55  54  55\n",
      "   54  55  54  55  58  57  55  55  57  59]\n",
      " [ 49  47  46  46  46  46  48  47  49  49  50  51  54  58  57  57  57  55\n",
      "   58  57  58  55  55  58  57  54  57  56]\n",
      " [ 53  47  44  46  49  46  49  50  51  53  53  55  55  57  58  58  57  58\n",
      "   58  63  58  58  55  58  58  58  57  58]\n",
      " [ 51  51  49  49  46  46  49  50  51  53  55  53  57  57  57  57  60  61\n",
      "   62  62  60  61  61  60  60  59  58  58]\n",
      " [ 50  49  50  50  53  49  50  50  53  54  55  55  58  58  61  60  61  65\n",
      "   64  63  65  69  68  68  69  69  71  72]\n",
      " [ 55  57  60  61  62  62  58  62  65  65  66  66  69  71  72  71  73  68\n",
      "   68  64  68  71  69  72  75  75  72  75]\n",
      " [ 62  65  66  69  71  68  69  72  70  73  73  73  75  75  79  73  75  79\n",
      "   79  78  72  71  71  76  79  77  75  77]\n",
      " [ 61  62  65  69  69  69  71  72  71  73  76  75  75  66  64  71  77  81\n",
      "   82  88  91  93  93  97  94  80  75  76]\n",
      " [ 62  64  67  69  69  72  72  75  75  75  76  75  75  64  65  72  79  82\n",
      "   86  91  93  93  97 104  95  79  78  76]\n",
      " [ 64  65  66  71  71  73  73  73  73  75  75  75  75  65  66  75  80  82\n",
      "   84  93  95  98 102 104  95  80  77  77]\n",
      " [ 69  66  68  71  72  72  72  75  73  75  73  76  76  66  68  75  82  82\n",
      "   86  93  98 104 103 104  95  80  78  80]\n",
      " [ 66  67  73  72  72  72  73  75  76  77  77  79  80  67  69  75  82  83\n",
      "   84  95 105 105 105 106  95  82 215 220]\n",
      " [ 67  65  66  68  69  71  75  75  76  76  79  83  82  66  69  75  82  83\n",
      "   89 102 106 105 104 105  93 166 215 156]\n",
      " [ 65  62  68  71  69  73  75  76  77  81  80  82  80  68  71  77  80  84\n",
      "   94 102 105 106 106 109  98 198 213  83]\n",
      " [ 64  66  71  71  71  70  73  75  76  77  79  82  82  69  72  77  83  88\n",
      "   91 102 105 106 106 106 204 215 151  88]\n",
      " [ 62  68  73  71  72  71  73  75  76  77  77  82  80  69  75  79  87  88\n",
      "   93 102 106 106 106 108 212 220  91  93]\n",
      " [ 66  65  75  75  73  72  76  73  76  75  79  79  78  69  73  84  86  88\n",
      "   94 105 105 108 111 165 227 148  94  94]\n",
      " [ 66  65  75  75  73  76  75  76  77  80  81  80  79  73  80  82  84  87\n",
      "   95 102 105 113 115 217 227  91  98  95]\n",
      " [ 75  69  68  73  75  76  75  79  79  82  82  77  76  69  82  81  86  91\n",
      "   92  99 105 109 124 230 168  97  94  97]\n",
      " [ 76  77  71  87  79  77  79  80  79  79  77  76  75  69  80  83  86  84\n",
      "   88  99 105 106 109 110 101  95  95  98]\n",
      " [ 75  73  78  82  82  79  83  79  78  77  79  76  75  75  83  85  87  90\n",
      "   93 100 104 105 110 108  99  94  97  97]\n",
      " [ 72  74  78  81  83  84  83  80  83  80  77  78  75  72  84  88  91  94\n",
      "   88  98 106 108 109 106  99  96 101  97]\n",
      " [ 75  73  75  74  87  84  84  82  80  79  79  79  72  77  88  90  91  90\n",
      "   91  99 108 109 112 109  98  94  98  99]]\n"
     ]
    },
    {
     "data": {
      "text/plain": [
       "<matplotlib.figure.Figure at 0x19c617de160>"
      ]
     },
     "metadata": {},
     "output_type": "display_data"
    },
    {
     "name": "stdout",
     "output_type": "stream",
     "text": [
      "(28, 28)\n",
      "拉黑120後\n",
      "[[  0   0   0   0   0   0   0   0   0   0   0   0   0   0   0   0   0   0\n",
      "    0   0   0   0   0   0   0   0   0   0]\n",
      " [  0   0   0   0   0   0   0   0   0   0   0   0   0   0   0   0   0   0\n",
      "    0   0   0   0   0   0   0   0   0   0]\n",
      " [  0   0   0   0   0   0   0   0   0   0   0   0   0   0   0   0   0   0\n",
      "    0   0   0   0   0   0   0   0   0   0]\n",
      " [  0   0   0   0   0   0   0   0   0   0   0   0   0   0   0   0   0   0\n",
      "    0   0   0   0   0   0   0   0   0   0]\n",
      " [  0   0   0   0   0   0   0   0   0   0   0   0   0   0   0   0   0   0\n",
      "    0   0   0   0   0   0   0   0   0   0]\n",
      " [  0   0   0   0   0   0   0   0   0   0   0   0   0   0   0   0   0   0\n",
      "    0   0   0   0   0   0   0   0   0   0]\n",
      " [  0   0   0   0   0   0   0   0   0   0   0   0   0   0   0   0   0   0\n",
      "    0   0   0   0   0   0   0   0   0   0]\n",
      " [  0   0   0   0   0   0   0   0   0   0   0   0   0   0   0   0   0   0\n",
      "    0   0   0   0   0   0   0   0   0   0]\n",
      " [  0   0   0   0   0   0   0   0   0   0   0   0   0   0   0   0   0   0\n",
      "    0   0   0   0   0   0   0   0   0   0]\n",
      " [  0   0   0   0   0   0   0   0   0   0   0   0   0   0   0   0   0   0\n",
      "    0   0   0   0   0   0   0   0   0   0]\n",
      " [  0   0   0   0   0   0   0   0   0   0   0   0   0   0   0   0   0   0\n",
      "    0   0   0   0   0   0   0   0   0   0]\n",
      " [  0   0   0   0   0   0   0   0   0   0   0   0   0   0   0   0   0   0\n",
      "    0   0   0   0   0   0   0   0   0   0]\n",
      " [  0   0   0   0   0   0   0   0   0   0   0   0   0   0   0   0   0   0\n",
      "    0   0   0   0   0   0   0   0   0   0]\n",
      " [  0   0   0   0   0   0   0   0   0   0   0   0   0   0   0   0   0   0\n",
      "    0   0   0   0   0   0   0   0   0   0]\n",
      " [  0   0   0   0   0   0   0   0   0   0   0   0   0   0   0   0   0   0\n",
      "    0   0   0   0   0   0   0   0   0   0]\n",
      " [  0   0   0   0   0   0   0   0   0   0   0   0   0   0   0   0   0   0\n",
      "    0   0   0   0   0   0   0   0   0   0]\n",
      " [  0   0   0   0   0   0   0   0   0   0   0   0   0   0   0   0   0   0\n",
      "    0   0   0   0   0   0   0   0  95 100]\n",
      " [  0   0   0   0   0   0   0   0   0   0   0   0   0   0   0   0   0   0\n",
      "    0   0   0   0   0   0   0  46  95  36]\n",
      " [  0   0   0   0   0   0   0   0   0   0   0   0   0   0   0   0   0   0\n",
      "    0   0   0   0   0   0   0  78  93   0]\n",
      " [  0   0   0   0   0   0   0   0   0   0   0   0   0   0   0   0   0   0\n",
      "    0   0   0   0   0   0  84  95  31   0]\n",
      " [  0   0   0   0   0   0   0   0   0   0   0   0   0   0   0   0   0   0\n",
      "    0   0   0   0   0   0  92 100   0   0]\n",
      " [  0   0   0   0   0   0   0   0   0   0   0   0   0   0   0   0   0   0\n",
      "    0   0   0   0   0  45 107  28   0   0]\n",
      " [  0   0   0   0   0   0   0   0   0   0   0   0   0   0   0   0   0   0\n",
      "    0   0   0   0   0  97 107   0   0   0]\n",
      " [  0   0   0   0   0   0   0   0   0   0   0   0   0   0   0   0   0   0\n",
      "    0   0   0   0   4 110  48   0   0   0]\n",
      " [  0   0   0   0   0   0   0   0   0   0   0   0   0   0   0   0   0   0\n",
      "    0   0   0   0   0   0   0   0   0   0]\n",
      " [  0   0   0   0   0   0   0   0   0   0   0   0   0   0   0   0   0   0\n",
      "    0   0   0   0   0   0   0   0   0   0]\n",
      " [  0   0   0   0   0   0   0   0   0   0   0   0   0   0   0   0   0   0\n",
      "    0   0   0   0   0   0   0   0   0   0]\n",
      " [  0   0   0   0   0   0   0   0   0   0   0   0   0   0   0   0   0   0\n",
      "    0   0   0   0   0   0   0   0   0   0]]\n"
     ]
    },
    {
     "data": {
      "text/plain": [
       "<matplotlib.figure.Figure at 0x19c6172ca20>"
      ]
     },
     "metadata": {},
     "output_type": "display_data"
    },
    {
     "name": "stdout",
     "output_type": "stream",
     "text": [
      "拉高gain\n",
      "[[  0   0   0   0   0   0   0   0   0   0   0   0   0   0   0   0   0   0\n",
      "    0   0   0   0   0   0   0   0   0   0]\n",
      " [  0   0   0   0   0   0   0   0   0   0   0   0   0   0   0   0   0   0\n",
      "    0   0   0   0   0   0   0   0   0   0]\n",
      " [  0   0   0   0   0   0   0   0   0   0   0   0   0   0   0   0   0   0\n",
      "    0   0   0   0   0   0   0   0   0   0]\n",
      " [  0   0   0   0   0   0   0   0   0   0   0   0   0   0   0   0   0   0\n",
      "    0   0   0   0   0   0   0   0   0   0]\n",
      " [  0   0   0   0   0   0   0   0   0   0   0   0   0   0   0   0   0   0\n",
      "    0   0   0   0   0   0   0   0   0   0]\n",
      " [  0   0   0   0   0   0   0   0   0   0   0   0   0   0   0   0   0   0\n",
      "    0   0   0   0   0   0   0   0   0   0]\n",
      " [  0   0   0   0   0   0   0   0   0   0   0   0   0   0   0   0   0   0\n",
      "    0   0   0   0   0   0   0   0   0   0]\n",
      " [  0   0   0   0   0   0   0   0   0   0   0   0   0   0   0   0   0   0\n",
      "    0   0   0   0   0   0   0   0   0   0]\n",
      " [  0   0   0   0   0   0   0   0   0   0   0   0   0   0   0   0   0   0\n",
      "    0   0   0   0   0   0   0   0   0   0]\n",
      " [  0   0   0   0   0   0   0   0   0   0   0   0   0   0   0   0   0   0\n",
      "    0   0   0   0   0   0   0   0   0   0]\n",
      " [  0   0   0   0   0   0   0   0   0   0   0   0   0   0   0   0   0   0\n",
      "    0   0   0   0   0   0   0   0   0   0]\n",
      " [  0   0   0   0   0   0   0   0   0   0   0   0   0   0   0   0   0   0\n",
      "    0   0   0   0   0   0   0   0   0   0]\n",
      " [  0   0   0   0   0   0   0   0   0   0   0   0   0   0   0   0   0   0\n",
      "    0   0   0   0   0   0   0   0   0   0]\n",
      " [  0   0   0   0   0   0   0   0   0   0   0   0   0   0   0   0   0   0\n",
      "    0   0   0   0   0   0   0   0   0   0]\n",
      " [  0   0   0   0   0   0   0   0   0   0   0   0   0   0   0   0   0   0\n",
      "    0   0   0   0   0   0   0   0   0   0]\n",
      " [  0   0   0   0   0   0   0   0   0   0   0   0   0   0   0   0   0   0\n",
      "    0   0   0   0   0   0   0   0   0   0]\n",
      " [  0   0   0   0   0   0   0   0   0   0   0   0   0   0   0   0   0   0\n",
      "    0   0   0   0   0   0   0   0 255 255]\n",
      " [  0   0   0   0   0   0   0   0   0   0   0   0   0   0   0   0   0   0\n",
      "    0   0   0   0   0   0   0 138 255 108]\n",
      " [  0   0   0   0   0   0   0   0   0   0   0   0   0   0   0   0   0   0\n",
      "    0   0   0   0   0   0   0 234 255   0]\n",
      " [  0   0   0   0   0   0   0   0   0   0   0   0   0   0   0   0   0   0\n",
      "    0   0   0   0   0   0 252 255  93   0]\n",
      " [  0   0   0   0   0   0   0   0   0   0   0   0   0   0   0   0   0   0\n",
      "    0   0   0   0   0   0 255 255   0   0]\n",
      " [  0   0   0   0   0   0   0   0   0   0   0   0   0   0   0   0   0   0\n",
      "    0   0   0   0   0 135 255  84   0   0]\n",
      " [  0   0   0   0   0   0   0   0   0   0   0   0   0   0   0   0   0   0\n",
      "    0   0   0   0   0 255 255   0   0   0]\n",
      " [  0   0   0   0   0   0   0   0   0   0   0   0   0   0   0   0   0   0\n",
      "    0   0   0   0  12 255 144   0   0   0]\n",
      " [  0   0   0   0   0   0   0   0   0   0   0   0   0   0   0   0   0   0\n",
      "    0   0   0   0   0   0   0   0   0   0]\n",
      " [  0   0   0   0   0   0   0   0   0   0   0   0   0   0   0   0   0   0\n",
      "    0   0   0   0   0   0   0   0   0   0]\n",
      " [  0   0   0   0   0   0   0   0   0   0   0   0   0   0   0   0   0   0\n",
      "    0   0   0   0   0   0   0   0   0   0]\n",
      " [  0   0   0   0   0   0   0   0   0   0   0   0   0   0   0   0   0   0\n",
      "    0   0   0   0   0   0   0   0   0   0]]\n"
     ]
    },
    {
     "data": {
      "text/plain": [
       "<matplotlib.figure.Figure at 0x19c61927978>"
      ]
     },
     "metadata": {},
     "output_type": "display_data"
    },
    {
     "data": {
      "text/plain": [
       "<matplotlib.figure.Figure at 0x19c61409f98>"
      ]
     },
     "metadata": {},
     "output_type": "display_data"
    },
    {
     "name": "stdout",
     "output_type": "stream",
     "text": [
      "new_img_array[ 14 ]= [[205 206 207 208 197 207 209 208 209 209 208 208 206 211 216 218 215 216\n",
      "  216 215 215 215 212 212 212 212 212 209]\n",
      " [212 214 213 209 208 210 208 208 211 209 211 211 211 206 218 217 217 217\n",
      "  214 213 213 215 212 212 212 210 212 211]\n",
      " [209 213 209 205 204 206 206 208 209 209 211 209 209 206 186 209 215 216\n",
      "  217 215 215 213 213 213 211 209 209 211]\n",
      " [211 211 206 206 205 206 209 211 209 208 211 209 209 209 177 199 211 216\n",
      "  215 215 215 213 211 213 211 212 209 211]\n",
      " [211 207 204 206 206 206  48 205 209 209 209 208 208 208 175 193 206 213\n",
      "  216 216 215 213 211 212 212 211 209 209]\n",
      " [206 208 207 206 208  83  64 207 208 207 209 209 208 208 183 182 206 212\n",
      "  213 213 213 213 213 211 208 211 209 208]\n",
      " [208 208 208 208 208  57 179 208 208 206 208 208 205 207 190 176 205 208\n",
      "  213 211 212 212 212 211 211 209 208 206]\n",
      " [208 208 207 207 152  57 208 206 205 206 205 204 204 205 193 172 200 204\n",
      "  212 211 212 211 209 209 208 205 208 205]\n",
      " [203 206 204 201  82 106 205 204 204 204 202 202 201 201 179 169 195 198\n",
      "  208 208 209 207 209 207 206 205 205 204]\n",
      " [207 208 203 203  55 206 205 205 204 202 202 203 201 200 180 168 190 198\n",
      "  205 206 208 207 204 202 205 202 204 205]\n",
      " [209 209 208 206 205 204 202 206 202 202 202 200 201 200 182 165 187 197\n",
      "  202 203 202 202 202 201 202 203 202 200]\n",
      " [206 209 206 205 205 204 202 204 202 201 202 201 200 198 179 169 187 194\n",
      "  193 194 194 193 193 193 190 191 194 192]\n",
      " [202 202 197 193 197 195 193 194 191 191 188 187 187 185 171 168 180 189\n",
      "  189 192 191 191 190 191 190 189 191 190]\n",
      " [191 190 187 186 187 186 184 186 186 183 182 180 180 176 158 162 179 185\n",
      "  186 190 191 190 189 189 187 189 190 189]\n",
      " [190 187 187 187 185 187 186 184 183 180 181 179 177 176 153 148 172 183\n",
      "  183 189 190 190 189 189 187 189 186 186]\n",
      " [189 190 188 188 186 186 185 182 182 180 175 178 176 175 151 135 162 182\n",
      "  184 187 187 187 187 187 190 187 186 186]\n",
      " [180 187 189 187 186 186 183 182 180 178 178 176 177 175 149 130 156 182\n",
      "  184 187 187 186 187 186 185 186 187 186]\n",
      " [175 187 186 187 186 183 182 182 182 180 180 178 176 171 150 126 145 178\n",
      "  180 184 187 187 187 184 183 184 186 184]\n",
      " [176 189 187 186 186 183 183 182 179 181 178 175 172 168 149 124 135 170\n",
      "  173 178 184 185 186 184 184 184 188 186]\n",
      " [180 187 184 184 186 186 182 183 180 178 178 176 171 164 149 121 128 164\n",
      "  173 177 179 180 184 184 184 184 186 184]\n",
      " [178 184 186 184 187 186 184 183 180 178 176 173 172 162 147 121 123 161\n",
      "  172 176 178 178 179 180 183 183 184 182]\n",
      " [176 183 181 184 186 183 184 182 180 178 176 175 169 161 149 119 120 154\n",
      "  172 174 178 176 175 179 183 183 180 183]\n",
      " [181 183 183 183 184 179 182 182 178 176 175 173 168 158 150 121 118 147\n",
      "  171 173 174 175 175 176 181 181 180 182]\n",
      " [180 180 180 183 182 182 182 182 178 176 173 172 167 156 151 122 116 140\n",
      "  168 170 173 173 173 171 179 180 180 180]\n",
      " [179 179 180 180 179 178 182 179 179 178 176 172 165 154 151 118 117 136\n",
      "  165 168 172 172 171 171 171 178 181 178]\n",
      " [178 180 179 180 179 179 179 178 175 175 173 170 161 154 150 117 116 127\n",
      "  162 165 169 171 169 166 166 174 178 179]\n",
      " [180 179 182 178 179 179 176 176 176 175 171 165 158 150 147 115 113 125\n",
      "  158 163 168 169 169 167 167 167 176 176]\n",
      " [178 179 177 178 179 178 174 173 172 172 170 169 156 151 146 119 112 128\n",
      "  158 162 165 167 168 165 164 165 172 175]]\n"
     ]
    },
    {
     "data": {
      "text/plain": [
       "<matplotlib.figure.Figure at 0x19c614cd6a0>"
      ]
     },
     "metadata": {},
     "output_type": "display_data"
    },
    {
     "name": "stdout",
     "output_type": "stream",
     "text": [
      "反白後\n",
      "[[ 50  49  48  47  58  48  46  47  46  46  47  47  49  44  39  37  40  39\n",
      "   39  40  40  40  43  43  43  43  43  46]\n",
      " [ 43  41  42  46  47  45  47  47  44  46  44  44  44  49  37  38  38  38\n",
      "   41  42  42  40  43  43  43  45  43  44]\n",
      " [ 46  42  46  50  51  49  49  47  46  46  44  46  46  49  69  46  40  39\n",
      "   38  40  40  42  42  42  44  46  46  44]\n",
      " [ 44  44  49  49  50  49  46  44  46  47  44  46  46  46  78  56  44  39\n",
      "   40  40  40  42  44  42  44  43  46  44]\n",
      " [ 44  48  51  49  49  49 207  50  46  46  46  47  47  47  80  62  49  42\n",
      "   39  39  40  42  44  43  43  44  46  46]\n",
      " [ 49  47  48  49  47 172 191  48  47  48  46  46  47  47  72  73  49  43\n",
      "   42  42  42  42  42  44  47  44  46  47]\n",
      " [ 47  47  47  47  47 198  76  47  47  49  47  47  50  48  65  79  50  47\n",
      "   42  44  43  43  43  44  44  46  47  49]\n",
      " [ 47  47  48  48 103 198  47  49  50  49  50  51  51  50  62  83  55  51\n",
      "   43  44  43  44  46  46  47  50  47  50]\n",
      " [ 52  49  51  54 173 149  50  51  51  51  53  53  54  54  76  86  60  57\n",
      "   47  47  46  48  46  48  49  50  50  51]\n",
      " [ 48  47  52  52 200  49  50  50  51  53  53  52  54  55  75  87  65  57\n",
      "   50  49  47  48  51  53  50  53  51  50]\n",
      " [ 46  46  47  49  50  51  53  49  53  53  53  55  54  55  73  90  68  58\n",
      "   53  52  53  53  53  54  53  52  53  55]\n",
      " [ 49  46  49  50  50  51  53  51  53  54  53  54  55  57  76  86  68  61\n",
      "   62  61  61  62  62  62  65  64  61  63]\n",
      " [ 53  53  58  62  58  60  62  61  64  64  67  68  68  70  84  87  75  66\n",
      "   66  63  64  64  65  64  65  66  64  65]\n",
      " [ 64  65  68  69  68  69  71  69  69  72  73  75  75  79  97  93  76  70\n",
      "   69  65  64  65  66  66  68  66  65  66]\n",
      " [ 65  68  68  68  70  68  69  71  72  75  74  76  78  79 102 107  83  72\n",
      "   72  66  65  65  66  66  68  66  69  69]\n",
      " [ 66  65  67  67  69  69  70  73  73  75  80  77  79  80 104 120  93  73\n",
      "   71  68  68  68  68  68  65  68  69  69]\n",
      " [ 75  68  66  68  69  69  72  73  75  77  77  79  78  80 106 125  99  73\n",
      "   71  68  68  69  68  69  70  69  68  69]\n",
      " [ 80  68  69  68  69  72  73  73  73  75  75  77  79  84 105 129 110  77\n",
      "   75  71  68  68  68  71  72  71  69  71]\n",
      " [ 79  66  68  69  69  72  72  73  76  74  77  80  83  87 106 131 120  85\n",
      "   82  77  71  70  69  71  71  71  67  69]\n",
      " [ 75  68  71  71  69  69  73  72  75  77  77  79  84  91 106 134 127  91\n",
      "   82  78  76  75  71  71  71  71  69  71]\n",
      " [ 77  71  69  71  68  69  71  72  75  77  79  82  83  93 108 134 132  94\n",
      "   83  79  77  77  76  75  72  72  71  73]\n",
      " [ 79  72  74  71  69  72  71  73  75  77  79  80  86  94 106 136 135 101\n",
      "   83  81  77  79  80  76  72  72  75  72]\n",
      " [ 74  72  72  72  71  76  73  73  77  79  80  82  87  97 105 134 137 108\n",
      "   84  82  81  80  80  79  74  74  75  73]\n",
      " [ 75  75  75  72  73  73  73  73  77  79  82  83  88  99 104 133 139 115\n",
      "   87  85  82  82  82  84  76  75  75  75]\n",
      " [ 76  76  75  75  76  77  73  76  76  77  79  83  90 101 104 137 138 119\n",
      "   90  87  83  83  84  84  84  77  74  77]\n",
      " [ 77  75  76  75  76  76  76  77  80  80  82  85  94 101 105 138 139 128\n",
      "   93  90  86  84  86  89  89  81  77  76]\n",
      " [ 75  76  73  77  76  76  79  79  79  80  84  90  97 105 108 140 142 130\n",
      "   97  92  87  86  86  88  88  88  79  79]\n",
      " [ 77  76  78  77  76  77  81  82  83  83  85  86  99 104 109 136 143 127\n",
      "   97  93  90  88  87  90  91  90  83  80]]\n"
     ]
    },
    {
     "data": {
      "text/plain": [
       "<matplotlib.figure.Figure at 0x19c612382b0>"
      ]
     },
     "metadata": {},
     "output_type": "display_data"
    },
    {
     "name": "stdout",
     "output_type": "stream",
     "text": [
      "(28, 28)\n",
      "拉黑120後\n",
      "[[ 0  0  0  0  0  0  0  0  0  0  0  0  0  0  0  0  0  0  0  0  0  0  0  0\n",
      "   0  0  0  0]\n",
      " [ 0  0  0  0  0  0  0  0  0  0  0  0  0  0  0  0  0  0  0  0  0  0  0  0\n",
      "   0  0  0  0]\n",
      " [ 0  0  0  0  0  0  0  0  0  0  0  0  0  0  0  0  0  0  0  0  0  0  0  0\n",
      "   0  0  0  0]\n",
      " [ 0  0  0  0  0  0  0  0  0  0  0  0  0  0  0  0  0  0  0  0  0  0  0  0\n",
      "   0  0  0  0]\n",
      " [ 0  0  0  0  0  0 87  0  0  0  0  0  0  0  0  0  0  0  0  0  0  0  0  0\n",
      "   0  0  0  0]\n",
      " [ 0  0  0  0  0 52 71  0  0  0  0  0  0  0  0  0  0  0  0  0  0  0  0  0\n",
      "   0  0  0  0]\n",
      " [ 0  0  0  0  0 78  0  0  0  0  0  0  0  0  0  0  0  0  0  0  0  0  0  0\n",
      "   0  0  0  0]\n",
      " [ 0  0  0  0  0 78  0  0  0  0  0  0  0  0  0  0  0  0  0  0  0  0  0  0\n",
      "   0  0  0  0]\n",
      " [ 0  0  0  0 53 29  0  0  0  0  0  0  0  0  0  0  0  0  0  0  0  0  0  0\n",
      "   0  0  0  0]\n",
      " [ 0  0  0  0 80  0  0  0  0  0  0  0  0  0  0  0  0  0  0  0  0  0  0  0\n",
      "   0  0  0  0]\n",
      " [ 0  0  0  0  0  0  0  0  0  0  0  0  0  0  0  0  0  0  0  0  0  0  0  0\n",
      "   0  0  0  0]\n",
      " [ 0  0  0  0  0  0  0  0  0  0  0  0  0  0  0  0  0  0  0  0  0  0  0  0\n",
      "   0  0  0  0]\n",
      " [ 0  0  0  0  0  0  0  0  0  0  0  0  0  0  0  0  0  0  0  0  0  0  0  0\n",
      "   0  0  0  0]\n",
      " [ 0  0  0  0  0  0  0  0  0  0  0  0  0  0  0  0  0  0  0  0  0  0  0  0\n",
      "   0  0  0  0]\n",
      " [ 0  0  0  0  0  0  0  0  0  0  0  0  0  0  0  0  0  0  0  0  0  0  0  0\n",
      "   0  0  0  0]\n",
      " [ 0  0  0  0  0  0  0  0  0  0  0  0  0  0  0  0  0  0  0  0  0  0  0  0\n",
      "   0  0  0  0]\n",
      " [ 0  0  0  0  0  0  0  0  0  0  0  0  0  0  0  5  0  0  0  0  0  0  0  0\n",
      "   0  0  0  0]\n",
      " [ 0  0  0  0  0  0  0  0  0  0  0  0  0  0  0  9  0  0  0  0  0  0  0  0\n",
      "   0  0  0  0]\n",
      " [ 0  0  0  0  0  0  0  0  0  0  0  0  0  0  0 11  0  0  0  0  0  0  0  0\n",
      "   0  0  0  0]\n",
      " [ 0  0  0  0  0  0  0  0  0  0  0  0  0  0  0 14  7  0  0  0  0  0  0  0\n",
      "   0  0  0  0]\n",
      " [ 0  0  0  0  0  0  0  0  0  0  0  0  0  0  0 14 12  0  0  0  0  0  0  0\n",
      "   0  0  0  0]\n",
      " [ 0  0  0  0  0  0  0  0  0  0  0  0  0  0  0 16 15  0  0  0  0  0  0  0\n",
      "   0  0  0  0]\n",
      " [ 0  0  0  0  0  0  0  0  0  0  0  0  0  0  0 14 17  0  0  0  0  0  0  0\n",
      "   0  0  0  0]\n",
      " [ 0  0  0  0  0  0  0  0  0  0  0  0  0  0  0 13 19  0  0  0  0  0  0  0\n",
      "   0  0  0  0]\n",
      " [ 0  0  0  0  0  0  0  0  0  0  0  0  0  0  0 17 18  0  0  0  0  0  0  0\n",
      "   0  0  0  0]\n",
      " [ 0  0  0  0  0  0  0  0  0  0  0  0  0  0  0 18 19  8  0  0  0  0  0  0\n",
      "   0  0  0  0]\n",
      " [ 0  0  0  0  0  0  0  0  0  0  0  0  0  0  0 20 22 10  0  0  0  0  0  0\n",
      "   0  0  0  0]\n",
      " [ 0  0  0  0  0  0  0  0  0  0  0  0  0  0  0 16 23  7  0  0  0  0  0  0\n",
      "   0  0  0  0]]\n"
     ]
    },
    {
     "data": {
      "text/plain": [
       "<matplotlib.figure.Figure at 0x19c61221940>"
      ]
     },
     "metadata": {},
     "output_type": "display_data"
    },
    {
     "name": "stdout",
     "output_type": "stream",
     "text": [
      "拉高gain\n",
      "[[  0   0   0   0   0   0   0   0   0   0   0   0   0   0   0   0   0   0\n",
      "    0   0   0   0   0   0   0   0   0   0]\n",
      " [  0   0   0   0   0   0   0   0   0   0   0   0   0   0   0   0   0   0\n",
      "    0   0   0   0   0   0   0   0   0   0]\n",
      " [  0   0   0   0   0   0   0   0   0   0   0   0   0   0   0   0   0   0\n",
      "    0   0   0   0   0   0   0   0   0   0]\n",
      " [  0   0   0   0   0   0   0   0   0   0   0   0   0   0   0   0   0   0\n",
      "    0   0   0   0   0   0   0   0   0   0]\n",
      " [  0   0   0   0   0   0 255   0   0   0   0   0   0   0   0   0   0   0\n",
      "    0   0   0   0   0   0   0   0   0   0]\n",
      " [  0   0   0   0   0 156 213   0   0   0   0   0   0   0   0   0   0   0\n",
      "    0   0   0   0   0   0   0   0   0   0]\n",
      " [  0   0   0   0   0 234   0   0   0   0   0   0   0   0   0   0   0   0\n",
      "    0   0   0   0   0   0   0   0   0   0]\n",
      " [  0   0   0   0   0 234   0   0   0   0   0   0   0   0   0   0   0   0\n",
      "    0   0   0   0   0   0   0   0   0   0]\n",
      " [  0   0   0   0 159  87   0   0   0   0   0   0   0   0   0   0   0   0\n",
      "    0   0   0   0   0   0   0   0   0   0]\n",
      " [  0   0   0   0 240   0   0   0   0   0   0   0   0   0   0   0   0   0\n",
      "    0   0   0   0   0   0   0   0   0   0]\n",
      " [  0   0   0   0   0   0   0   0   0   0   0   0   0   0   0   0   0   0\n",
      "    0   0   0   0   0   0   0   0   0   0]\n",
      " [  0   0   0   0   0   0   0   0   0   0   0   0   0   0   0   0   0   0\n",
      "    0   0   0   0   0   0   0   0   0   0]\n",
      " [  0   0   0   0   0   0   0   0   0   0   0   0   0   0   0   0   0   0\n",
      "    0   0   0   0   0   0   0   0   0   0]\n",
      " [  0   0   0   0   0   0   0   0   0   0   0   0   0   0   0   0   0   0\n",
      "    0   0   0   0   0   0   0   0   0   0]\n",
      " [  0   0   0   0   0   0   0   0   0   0   0   0   0   0   0   0   0   0\n",
      "    0   0   0   0   0   0   0   0   0   0]\n",
      " [  0   0   0   0   0   0   0   0   0   0   0   0   0   0   0   0   0   0\n",
      "    0   0   0   0   0   0   0   0   0   0]\n",
      " [  0   0   0   0   0   0   0   0   0   0   0   0   0   0   0  15   0   0\n",
      "    0   0   0   0   0   0   0   0   0   0]\n",
      " [  0   0   0   0   0   0   0   0   0   0   0   0   0   0   0  27   0   0\n",
      "    0   0   0   0   0   0   0   0   0   0]\n",
      " [  0   0   0   0   0   0   0   0   0   0   0   0   0   0   0  33   0   0\n",
      "    0   0   0   0   0   0   0   0   0   0]\n",
      " [  0   0   0   0   0   0   0   0   0   0   0   0   0   0   0  42  21   0\n",
      "    0   0   0   0   0   0   0   0   0   0]\n",
      " [  0   0   0   0   0   0   0   0   0   0   0   0   0   0   0  42  36   0\n",
      "    0   0   0   0   0   0   0   0   0   0]\n",
      " [  0   0   0   0   0   0   0   0   0   0   0   0   0   0   0  48  45   0\n",
      "    0   0   0   0   0   0   0   0   0   0]\n",
      " [  0   0   0   0   0   0   0   0   0   0   0   0   0   0   0  42  51   0\n",
      "    0   0   0   0   0   0   0   0   0   0]\n",
      " [  0   0   0   0   0   0   0   0   0   0   0   0   0   0   0  39  57   0\n",
      "    0   0   0   0   0   0   0   0   0   0]\n",
      " [  0   0   0   0   0   0   0   0   0   0   0   0   0   0   0  51  54   0\n",
      "    0   0   0   0   0   0   0   0   0   0]\n",
      " [  0   0   0   0   0   0   0   0   0   0   0   0   0   0   0  54  57  24\n",
      "    0   0   0   0   0   0   0   0   0   0]\n",
      " [  0   0   0   0   0   0   0   0   0   0   0   0   0   0   0  60  66  30\n",
      "    0   0   0   0   0   0   0   0   0   0]\n",
      " [  0   0   0   0   0   0   0   0   0   0   0   0   0   0   0  48  69  21\n",
      "    0   0   0   0   0   0   0   0   0   0]]\n"
     ]
    },
    {
     "data": {
      "text/plain": [
       "<matplotlib.figure.Figure at 0x19c61534160>"
      ]
     },
     "metadata": {},
     "output_type": "display_data"
    },
    {
     "data": {
      "text/plain": [
       "<matplotlib.figure.Figure at 0x19c612e6630>"
      ]
     },
     "metadata": {},
     "output_type": "display_data"
    },
    {
     "name": "stdout",
     "output_type": "stream",
     "text": [
      "new_img_array[ 15 ]= [[194 198 199 198 197 201 200 201 201 201 202 200 199 198 195 198 197 194\n",
      "  193 192 191 190 189 189 187 187 183 184]\n",
      " [199 197 200 196 198 197 200 201 198 201 203 202 200 198 198 196 197 191\n",
      "  188 193 190 190 189 185 186 186 184 183]\n",
      " [194 196 197 195 197 199 199 199 200 199 201 200 200 199 198 194 194 194\n",
      "  193 192 193 191 189 190 187 184 181 181]\n",
      " [194 195 196 195 196 195 200 198 202 200 201 199 199 200 200 196 195 192\n",
      "  195 193 192 191 189 189 183 179 176 176]\n",
      " [186 189 189 190 189 191 194 197 201 203 201 198 198 197 196 196 196 195\n",
      "  195 195 193 194 190 187 180 176 175 172]\n",
      " [189 188 190 190 187 191 196 195 198 201 200 198 196 196 195 195 195 195\n",
      "  196 196 193 193 191 187 177 176 173 171]\n",
      " [189 189 190 191 192 195 193 195 198 198 200 197 195 195 195 196 194 195\n",
      "  195 193 193 191 189 186 179 175 173 172]\n",
      " [191 193 190 191 192 190 195 191 198 200 198 195 195 195 194 194 194 192\n",
      "  194 192 193 191 189 186 180 177 175 171]\n",
      " [191 193 193 190 191 191 193 192 197 197 197 193 194 192 191 192 191 193\n",
      "  193 191 190 191 189 187 180 176 177 173]\n",
      " [193 194 196 189 189 192 192 191 195 197 198 193 193 193 193 191 192 187\n",
      "  190 191 189 187 187 186 177 175 175 174]\n",
      " [192 194 195 190 190 190 190 190 194 196 195 194 191 192 191 192 190 190\n",
      "  190 191 190 188 189 184 178 173 176 175]\n",
      " [193 191 192 195 186 189 189 188 194 195 195 194 193 192 191 190 190 191\n",
      "  191 190 189 187 189 183 178 178 175 175]\n",
      " [193 191 191 194 194 187 186 190 193 196 195 194 193 193 191 190 189 189\n",
      "  191 190 187 190 187 183 178 175 175 175]\n",
      " [194 193 190 193 192 192 188 189 191 194 193 194 193 192 191 191 190 189\n",
      "  189 190 191 190 186 184 177 178 177 173]\n",
      " [201 193 193 193 193 193 193 188 188 190 194 191 193 193 191 192 190 189\n",
      "  189 189 190 188 189 184 177 175 176 176]\n",
      " [198 200 195 192 191 189 189 184 184 180 181 180 183 184 184 183 180 181\n",
      "  184 187 189 189 190 184 178 176 177 176]\n",
      " [199 191 187 179 176 174 175 174 171 167 169 175 169 173 176 175 173 171\n",
      "  172 179 189 189 189 183 178 176 176 173]\n",
      " [185 160 140 119 121 120 121 125 125 131 138 156 163 169 174 175 172 172\n",
      "  173 175 185 189 189 182 178 176 175 173]\n",
      " [200 194 185 184 184 180 183 180 179 175 108 119 156 171 173 175 175 175\n",
      "  173 175 184 188 189 180 176 175 173 172]\n",
      " [200 193 184 183 185 184 182 184 180 173 111 142 158 172 173 175 175 174\n",
      "  173 177 184 188 189 182 174 176 175 171]\n",
      " [197 193 181 183 179  73 180 178 178 177 112 150 158 172 175 175 178 176\n",
      "  175 176 186 189 189 180 177 173 175 171]\n",
      " [196 190 183 183  49 182 179 180 179 178 114 151 169 167 172 175 177 176\n",
      "  176 176 184 187 187 179 175 175 173 169]\n",
      " [195 190 182 123 177 180 179 177 180 175 119 152 169 168 168 172 176 176\n",
      "  178 175 183 190 186 176 175 171 172 168]\n",
      " [195 189 180  46 179 178 179 179 178 172 141 154 167 169 169 169 171 180\n",
      "  177 177 182 189 183 175 172 170 171 170]\n",
      " [191 185 178 180 176 177 179 175 175 158 149 165 167 169 168 168 169 175\n",
      "  174 176 183 190 184 176 170 169 169 167]\n",
      " [192 187 178 174 176 175 176 175 172 152 157 162 161 167 168 167 167 169\n",
      "  173 173 183 188 182 175 172 168 168 167]\n",
      " [193 186 176 175 174 173 174 168 169 117 167 165 162 164 165 165 163 167\n",
      "  168 174 178 183 180 175 172 170 164 168]\n",
      " [190 183 175 178 175 175 174 169 169  98 167 167 163 165 167 164 165 162\n",
      "  161 168 167 167 171 169 173 168 168 166]]\n"
     ]
    },
    {
     "data": {
      "text/plain": [
       "<matplotlib.figure.Figure at 0x19c613da8d0>"
      ]
     },
     "metadata": {},
     "output_type": "display_data"
    },
    {
     "name": "stdout",
     "output_type": "stream",
     "text": [
      "反白後\n",
      "[[ 61  57  56  57  58  54  55  54  54  54  53  55  56  57  60  57  58  61\n",
      "   62  63  64  65  66  66  68  68  72  71]\n",
      " [ 56  58  55  59  57  58  55  54  57  54  52  53  55  57  57  59  58  64\n",
      "   67  62  65  65  66  70  69  69  71  72]\n",
      " [ 61  59  58  60  58  56  56  56  55  56  54  55  55  56  57  61  61  61\n",
      "   62  63  62  64  66  65  68  71  74  74]\n",
      " [ 61  60  59  60  59  60  55  57  53  55  54  56  56  55  55  59  60  63\n",
      "   60  62  63  64  66  66  72  76  79  79]\n",
      " [ 69  66  66  65  66  64  61  58  54  52  54  57  57  58  59  59  59  60\n",
      "   60  60  62  61  65  68  75  79  80  83]\n",
      " [ 66  67  65  65  68  64  59  60  57  54  55  57  59  59  60  60  60  60\n",
      "   59  59  62  62  64  68  78  79  82  84]\n",
      " [ 66  66  65  64  63  60  62  60  57  57  55  58  60  60  60  59  61  60\n",
      "   60  62  62  64  66  69  76  80  82  83]\n",
      " [ 64  62  65  64  63  65  60  64  57  55  57  60  60  60  61  61  61  63\n",
      "   61  63  62  64  66  69  75  78  80  84]\n",
      " [ 64  62  62  65  64  64  62  63  58  58  58  62  61  63  64  63  64  62\n",
      "   62  64  65  64  66  68  75  79  78  82]\n",
      " [ 62  61  59  66  66  63  63  64  60  58  57  62  62  62  62  64  63  68\n",
      "   65  64  66  68  68  69  78  80  80  81]\n",
      " [ 63  61  60  65  65  65  65  65  61  59  60  61  64  63  64  63  65  65\n",
      "   65  64  65  67  66  71  77  82  79  80]\n",
      " [ 62  64  63  60  69  66  66  67  61  60  60  61  62  63  64  65  65  64\n",
      "   64  65  66  68  66  72  77  77  80  80]\n",
      " [ 62  64  64  61  61  68  69  65  62  59  60  61  62  62  64  65  66  66\n",
      "   64  65  68  65  68  72  77  80  80  80]\n",
      " [ 61  62  65  62  63  63  67  66  64  61  62  61  62  63  64  64  65  66\n",
      "   66  65  64  65  69  71  78  77  78  82]\n",
      " [ 54  62  62  62  62  62  62  67  67  65  61  64  62  62  64  63  65  66\n",
      "   66  66  65  67  66  71  78  80  79  79]\n",
      " [ 57  55  60  63  64  66  66  71  71  75  74  75  72  71  71  72  75  74\n",
      "   71  68  66  66  65  71  77  79  78  79]\n",
      " [ 56  64  68  76  79  81  80  81  84  88  86  80  86  82  79  80  82  84\n",
      "   83  76  66  66  66  72  77  79  79  82]\n",
      " [ 70  95 115 136 134 135 134 130 130 124 117  99  92  86  81  80  83  83\n",
      "   82  80  70  66  66  73  77  79  80  82]\n",
      " [ 55  61  70  71  71  75  72  75  76  80 147 136  99  84  82  80  80  80\n",
      "   82  80  71  67  66  75  79  80  82  83]\n",
      " [ 55  62  71  72  70  71  73  71  75  82 144 113  97  83  82  80  80  81\n",
      "   82  78  71  67  66  73  81  79  80  84]\n",
      " [ 58  62  74  72  76 182  75  77  77  78 143 105  97  83  80  80  77  79\n",
      "   80  79  69  66  66  75  78  82  80  84]\n",
      " [ 59  65  72  72 206  73  76  75  76  77 141 104  86  88  83  80  78  79\n",
      "   79  79  71  68  68  76  80  80  82  86]\n",
      " [ 60  65  73 132  78  75  76  78  75  80 136 103  86  87  87  83  79  79\n",
      "   77  80  72  65  69  79  80  84  83  87]\n",
      " [ 60  66  75 209  76  77  76  76  77  83 114 101  88  86  86  86  84  75\n",
      "   78  78  73  66  72  80  83  85  84  85]\n",
      " [ 64  70  77  75  79  78  76  80  80  97 106  90  88  86  87  87  86  80\n",
      "   81  79  72  65  71  79  85  86  86  88]\n",
      " [ 63  68  77  81  79  80  79  80  83 103  98  93  94  88  87  88  88  86\n",
      "   82  82  72  67  73  80  83  87  87  88]\n",
      " [ 62  69  79  80  81  82  81  87  86 138  88  90  93  91  90  90  92  88\n",
      "   87  81  77  72  75  80  83  85  91  87]\n",
      " [ 65  72  80  77  80  80  81  86  86 157  88  88  92  90  88  91  90  93\n",
      "   94  87  88  88  84  86  82  87  87  89]]\n"
     ]
    },
    {
     "data": {
      "text/plain": [
       "<matplotlib.figure.Figure at 0x19c6164c3c8>"
      ]
     },
     "metadata": {},
     "output_type": "display_data"
    },
    {
     "name": "stdout",
     "output_type": "stream",
     "text": [
      "(28, 28)\n",
      "拉黑120後\n",
      "[[ 0  0  0  0  0  0  0  0  0  0  0  0  0  0  0  0  0  0  0  0  0  0  0  0\n",
      "   0  0  0  0]\n",
      " [ 0  0  0  0  0  0  0  0  0  0  0  0  0  0  0  0  0  0  0  0  0  0  0  0\n",
      "   0  0  0  0]\n",
      " [ 0  0  0  0  0  0  0  0  0  0  0  0  0  0  0  0  0  0  0  0  0  0  0  0\n",
      "   0  0  0  0]\n",
      " [ 0  0  0  0  0  0  0  0  0  0  0  0  0  0  0  0  0  0  0  0  0  0  0  0\n",
      "   0  0  0  0]\n",
      " [ 0  0  0  0  0  0  0  0  0  0  0  0  0  0  0  0  0  0  0  0  0  0  0  0\n",
      "   0  0  0  0]\n",
      " [ 0  0  0  0  0  0  0  0  0  0  0  0  0  0  0  0  0  0  0  0  0  0  0  0\n",
      "   0  0  0  0]\n",
      " [ 0  0  0  0  0  0  0  0  0  0  0  0  0  0  0  0  0  0  0  0  0  0  0  0\n",
      "   0  0  0  0]\n",
      " [ 0  0  0  0  0  0  0  0  0  0  0  0  0  0  0  0  0  0  0  0  0  0  0  0\n",
      "   0  0  0  0]\n",
      " [ 0  0  0  0  0  0  0  0  0  0  0  0  0  0  0  0  0  0  0  0  0  0  0  0\n",
      "   0  0  0  0]\n",
      " [ 0  0  0  0  0  0  0  0  0  0  0  0  0  0  0  0  0  0  0  0  0  0  0  0\n",
      "   0  0  0  0]\n",
      " [ 0  0  0  0  0  0  0  0  0  0  0  0  0  0  0  0  0  0  0  0  0  0  0  0\n",
      "   0  0  0  0]\n",
      " [ 0  0  0  0  0  0  0  0  0  0  0  0  0  0  0  0  0  0  0  0  0  0  0  0\n",
      "   0  0  0  0]\n",
      " [ 0  0  0  0  0  0  0  0  0  0  0  0  0  0  0  0  0  0  0  0  0  0  0  0\n",
      "   0  0  0  0]\n",
      " [ 0  0  0  0  0  0  0  0  0  0  0  0  0  0  0  0  0  0  0  0  0  0  0  0\n",
      "   0  0  0  0]\n",
      " [ 0  0  0  0  0  0  0  0  0  0  0  0  0  0  0  0  0  0  0  0  0  0  0  0\n",
      "   0  0  0  0]\n",
      " [ 0  0  0  0  0  0  0  0  0  0  0  0  0  0  0  0  0  0  0  0  0  0  0  0\n",
      "   0  0  0  0]\n",
      " [ 0  0  0  0  0  0  0  0  0  0  0  0  0  0  0  0  0  0  0  0  0  0  0  0\n",
      "   0  0  0  0]\n",
      " [ 0  0  0 16 14 15 14 10 10  4  0  0  0  0  0  0  0  0  0  0  0  0  0  0\n",
      "   0  0  0  0]\n",
      " [ 0  0  0  0  0  0  0  0  0  0 27 16  0  0  0  0  0  0  0  0  0  0  0  0\n",
      "   0  0  0  0]\n",
      " [ 0  0  0  0  0  0  0  0  0  0 24  0  0  0  0  0  0  0  0  0  0  0  0  0\n",
      "   0  0  0  0]\n",
      " [ 0  0  0  0  0 62  0  0  0  0 23  0  0  0  0  0  0  0  0  0  0  0  0  0\n",
      "   0  0  0  0]\n",
      " [ 0  0  0  0 86  0  0  0  0  0 21  0  0  0  0  0  0  0  0  0  0  0  0  0\n",
      "   0  0  0  0]\n",
      " [ 0  0  0 12  0  0  0  0  0  0 16  0  0  0  0  0  0  0  0  0  0  0  0  0\n",
      "   0  0  0  0]\n",
      " [ 0  0  0 89  0  0  0  0  0  0  0  0  0  0  0  0  0  0  0  0  0  0  0  0\n",
      "   0  0  0  0]\n",
      " [ 0  0  0  0  0  0  0  0  0  0  0  0  0  0  0  0  0  0  0  0  0  0  0  0\n",
      "   0  0  0  0]\n",
      " [ 0  0  0  0  0  0  0  0  0  0  0  0  0  0  0  0  0  0  0  0  0  0  0  0\n",
      "   0  0  0  0]\n",
      " [ 0  0  0  0  0  0  0  0  0 18  0  0  0  0  0  0  0  0  0  0  0  0  0  0\n",
      "   0  0  0  0]\n",
      " [ 0  0  0  0  0  0  0  0  0 37  0  0  0  0  0  0  0  0  0  0  0  0  0  0\n",
      "   0  0  0  0]]\n"
     ]
    },
    {
     "data": {
      "text/plain": [
       "<matplotlib.figure.Figure at 0x19c615b7a58>"
      ]
     },
     "metadata": {},
     "output_type": "display_data"
    },
    {
     "name": "stdout",
     "output_type": "stream",
     "text": [
      "拉高gain\n",
      "[[  0   0   0   0   0   0   0   0   0   0   0   0   0   0   0   0   0   0\n",
      "    0   0   0   0   0   0   0   0   0   0]\n",
      " [  0   0   0   0   0   0   0   0   0   0   0   0   0   0   0   0   0   0\n",
      "    0   0   0   0   0   0   0   0   0   0]\n",
      " [  0   0   0   0   0   0   0   0   0   0   0   0   0   0   0   0   0   0\n",
      "    0   0   0   0   0   0   0   0   0   0]\n",
      " [  0   0   0   0   0   0   0   0   0   0   0   0   0   0   0   0   0   0\n",
      "    0   0   0   0   0   0   0   0   0   0]\n",
      " [  0   0   0   0   0   0   0   0   0   0   0   0   0   0   0   0   0   0\n",
      "    0   0   0   0   0   0   0   0   0   0]\n",
      " [  0   0   0   0   0   0   0   0   0   0   0   0   0   0   0   0   0   0\n",
      "    0   0   0   0   0   0   0   0   0   0]\n",
      " [  0   0   0   0   0   0   0   0   0   0   0   0   0   0   0   0   0   0\n",
      "    0   0   0   0   0   0   0   0   0   0]\n",
      " [  0   0   0   0   0   0   0   0   0   0   0   0   0   0   0   0   0   0\n",
      "    0   0   0   0   0   0   0   0   0   0]\n",
      " [  0   0   0   0   0   0   0   0   0   0   0   0   0   0   0   0   0   0\n",
      "    0   0   0   0   0   0   0   0   0   0]\n",
      " [  0   0   0   0   0   0   0   0   0   0   0   0   0   0   0   0   0   0\n",
      "    0   0   0   0   0   0   0   0   0   0]\n",
      " [  0   0   0   0   0   0   0   0   0   0   0   0   0   0   0   0   0   0\n",
      "    0   0   0   0   0   0   0   0   0   0]\n",
      " [  0   0   0   0   0   0   0   0   0   0   0   0   0   0   0   0   0   0\n",
      "    0   0   0   0   0   0   0   0   0   0]\n",
      " [  0   0   0   0   0   0   0   0   0   0   0   0   0   0   0   0   0   0\n",
      "    0   0   0   0   0   0   0   0   0   0]\n",
      " [  0   0   0   0   0   0   0   0   0   0   0   0   0   0   0   0   0   0\n",
      "    0   0   0   0   0   0   0   0   0   0]\n",
      " [  0   0   0   0   0   0   0   0   0   0   0   0   0   0   0   0   0   0\n",
      "    0   0   0   0   0   0   0   0   0   0]\n",
      " [  0   0   0   0   0   0   0   0   0   0   0   0   0   0   0   0   0   0\n",
      "    0   0   0   0   0   0   0   0   0   0]\n",
      " [  0   0   0   0   0   0   0   0   0   0   0   0   0   0   0   0   0   0\n",
      "    0   0   0   0   0   0   0   0   0   0]\n",
      " [  0   0   0  48  42  45  42  30  30  12   0   0   0   0   0   0   0   0\n",
      "    0   0   0   0   0   0   0   0   0   0]\n",
      " [  0   0   0   0   0   0   0   0   0   0  81  48   0   0   0   0   0   0\n",
      "    0   0   0   0   0   0   0   0   0   0]\n",
      " [  0   0   0   0   0   0   0   0   0   0  72   0   0   0   0   0   0   0\n",
      "    0   0   0   0   0   0   0   0   0   0]\n",
      " [  0   0   0   0   0 186   0   0   0   0  69   0   0   0   0   0   0   0\n",
      "    0   0   0   0   0   0   0   0   0   0]\n",
      " [  0   0   0   0 255   0   0   0   0   0  63   0   0   0   0   0   0   0\n",
      "    0   0   0   0   0   0   0   0   0   0]\n",
      " [  0   0   0  36   0   0   0   0   0   0  48   0   0   0   0   0   0   0\n",
      "    0   0   0   0   0   0   0   0   0   0]\n",
      " [  0   0   0 255   0   0   0   0   0   0   0   0   0   0   0   0   0   0\n",
      "    0   0   0   0   0   0   0   0   0   0]\n",
      " [  0   0   0   0   0   0   0   0   0   0   0   0   0   0   0   0   0   0\n",
      "    0   0   0   0   0   0   0   0   0   0]\n",
      " [  0   0   0   0   0   0   0   0   0   0   0   0   0   0   0   0   0   0\n",
      "    0   0   0   0   0   0   0   0   0   0]\n",
      " [  0   0   0   0   0   0   0   0   0  54   0   0   0   0   0   0   0   0\n",
      "    0   0   0   0   0   0   0   0   0   0]\n",
      " [  0   0   0   0   0   0   0   0   0 111   0   0   0   0   0   0   0   0\n",
      "    0   0   0   0   0   0   0   0   0   0]]\n"
     ]
    },
    {
     "data": {
      "text/plain": [
       "<matplotlib.figure.Figure at 0x19c618b30b8>"
      ]
     },
     "metadata": {},
     "output_type": "display_data"
    },
    {
     "data": {
      "text/plain": [
       "<matplotlib.figure.Figure at 0x19c6160ec50>"
      ]
     },
     "metadata": {},
     "output_type": "display_data"
    },
    {
     "name": "stdout",
     "output_type": "stream",
     "text": [
      "new_img_array[ 16 ]= [[215 217 212 211 212 215 215 214 212 215 214 215 216 214 215 215 213 212\n",
      "  211 212 209 212 215 214 214 209 214 212]\n",
      " [217 219 213 212 213 215 215 216 213 213 213 216 215 220 213 214 215 215\n",
      "  210 212 207 212 215 216 215 213 213 213]\n",
      " [217 219 221 210 214 216 214 214 214 212 213 216 215 216 216 212 214 212\n",
      "  211 212 210 212 213 216 207 212 213 211]\n",
      " [219 221 220 213 211 213 215 215 216 213 214 217 216 216 214 212 217 213\n",
      "  212 213 212 210 212 215 214 211 213 212]\n",
      " [219 222 221 219 214 213 216 213 216 216 215 213 215 215 215 215 212 213\n",
      "  214 211 210 211 213 215 213 211 210 210]\n",
      " [219 221 221 225 213 214 216 215 215 214 214 211 213 213 210 216 212 214\n",
      "  213 212 211 209 214 215 209 213 211 210]\n",
      " [216 216 222 222 221 215 211 214 213 213 212 212 209 215 212 212 213 215\n",
      "  213 210 211 211 209 215 213 213 212 211]\n",
      " [214 218 217 220 224 217 213 212 212 213 211 209 209 211 212 213 213 213\n",
      "  213 209 209 209 211 213 216 213 212 207]\n",
      " [226 224 223 220 222 220 219 216 205 204 202 201 205 205 204 204 204 202\n",
      "  201 197 201 200 207 211 209 205 201 201]\n",
      " [209 211 206 204 203 204 202 191 189 187 187 187 189 189 189 189 186 186\n",
      "  184 179 156 163 198 201 201 201 200 198]\n",
      " [210 207 205 201 201 201 190 189 186 183 186 186 186 186 187 186 184 184\n",
      "  183 175 129 146 179 195 201 200 198 199]\n",
      " [206 205 202 198 200 183 186 183 183 183 182 185 181 185 184 183 183 182\n",
      "  181 175 127 145 170 184 199 199 198 197]\n",
      " [208 202 199 200 190 183 185 184 180 182  45  48 183 184 183 182 182 179\n",
      "  180 174 125 150 168 180 195 200 198 199]\n",
      " [205 202 198 191 184 183 182 183 182  86  52 184 182 182 183 182 182 182\n",
      "  179 176 123 154 168 179 191 200 201 198]\n",
      " [202 201 194 187 182 183 182 182 179  73  53 184 183 183 182 182 181 180\n",
      "  179 174 112 163 169 171 186 197 198 195]\n",
      " [202 198 191 187 184 184 182 180  90  58 183 184 184 183 180 180 180 179\n",
      "  177 173 106 165 169 168 181 182 190 191]\n",
      " [198 193 191 185 183 182 178 177  58  57 183 184 183 180 180 179 177 176\n",
      "  176 174 112 164 168 169 177 187 187 186]\n",
      " [190 191 193 185 180 182 179 166  54 186 183 183 179 179 180 178 174 176\n",
      "  176 170 106 160 172 167 172 186 187 185]\n",
      " [186 192 191 184 186 183 176  73  56 183 183 180 180 180 180 178 175 173\n",
      "  172 164 118 160 169 164 171 183 187 183]\n",
      " [185 188 191 190 189 186 188 184 182 183 183 182 180 182 181 178 173 172\n",
      "  171 164 115 160 169 164 168 182 186 183]\n",
      " [188 190 186 187 191 189 184 186 184 182 183 183 179 179 179 178 172 171\n",
      "  170 166 114 163 167 164 168 182 182 180]\n",
      " [187 184 179 190 190 188 184 186 184 183 183 182 180 180 180 178 172 171\n",
      "  172 167 132 165 167 162 167 176 182 179]\n",
      " [183 183 183 189 189 188 183 184 183 182 182 181 180 179 179 176 169 171\n",
      "  171 162 145 170 164 157 164 178 180 174]\n",
      " [183 179 184 186 186 185 184 182 180 183 180 179 179 176 176 175 173 171\n",
      "  170 166 155 171 164 159 164 178 181 175]\n",
      " [177 182 183 186 185 185 183 182 181 179 183 177 178 175 177 176 173 172\n",
      "  171 162 158 164 164 157 163 178 177 175]\n",
      " [180 181 182 188 185 180 179 182 179 179 175 175 176 175 175 173 171 170\n",
      "  173 163 162 162 160 155 160 168 179 177]\n",
      " [178 181 183 181 184 180 181 178 179 178 176 175 173 169 169 169 169 169\n",
      "  169 165 172 161 157 153 154 168 176 174]\n",
      " [175 177 181 180 183 180 179 176 175 171 170 170 168 168 169 166 169 170\n",
      "  174 166 174 165 151 152 151 167 175 174]]\n"
     ]
    },
    {
     "data": {
      "text/plain": [
       "<matplotlib.figure.Figure at 0x19c612acbe0>"
      ]
     },
     "metadata": {},
     "output_type": "display_data"
    },
    {
     "name": "stdout",
     "output_type": "stream",
     "text": [
      "反白後\n",
      "[[ 40  38  43  44  43  40  40  41  43  40  41  40  39  41  40  40  42  43\n",
      "   44  43  46  43  40  41  41  46  41  43]\n",
      " [ 38  36  42  43  42  40  40  39  42  42  42  39  40  35  42  41  40  40\n",
      "   45  43  48  43  40  39  40  42  42  42]\n",
      " [ 38  36  34  45  41  39  41  41  41  43  42  39  40  39  39  43  41  43\n",
      "   44  43  45  43  42  39  48  43  42  44]\n",
      " [ 36  34  35  42  44  42  40  40  39  42  41  38  39  39  41  43  38  42\n",
      "   43  42  43  45  43  40  41  44  42  43]\n",
      " [ 36  33  34  36  41  42  39  42  39  39  40  42  40  40  40  40  43  42\n",
      "   41  44  45  44  42  40  42  44  45  45]\n",
      " [ 36  34  34  30  42  41  39  40  40  41  41  44  42  42  45  39  43  41\n",
      "   42  43  44  46  41  40  46  42  44  45]\n",
      " [ 39  39  33  33  34  40  44  41  42  42  43  43  46  40  43  43  42  40\n",
      "   42  45  44  44  46  40  42  42  43  44]\n",
      " [ 41  37  38  35  31  38  42  43  43  42  44  46  46  44  43  42  42  42\n",
      "   42  46  46  46  44  42  39  42  43  48]\n",
      " [ 29  31  32  35  33  35  36  39  50  51  53  54  50  50  51  51  51  53\n",
      "   54  58  54  55  48  44  46  50  54  54]\n",
      " [ 46  44  49  51  52  51  53  64  66  68  68  68  66  66  66  66  69  69\n",
      "   71  76  99  92  57  54  54  54  55  57]\n",
      " [ 45  48  50  54  54  54  65  66  69  72  69  69  69  69  68  69  71  71\n",
      "   72  80 126 109  76  60  54  55  57  56]\n",
      " [ 49  50  53  57  55  72  69  72  72  72  73  70  74  70  71  72  72  73\n",
      "   74  80 128 110  85  71  56  56  57  58]\n",
      " [ 47  53  56  55  65  72  70  71  75  73 210 207  72  71  72  73  73  76\n",
      "   75  81 130 105  87  75  60  55  57  56]\n",
      " [ 50  53  57  64  71  72  73  72  73 169 203  71  73  73  72  73  73  73\n",
      "   76  79 132 101  87  76  64  55  54  57]\n",
      " [ 53  54  61  68  73  72  73  73  76 182 202  71  72  72  73  73  74  75\n",
      "   76  81 143  92  86  84  69  58  57  60]\n",
      " [ 53  57  64  68  71  71  73  75 165 197  72  71  71  72  75  75  75  76\n",
      "   78  82 149  90  86  87  74  73  65  64]\n",
      " [ 57  62  64  70  72  73  77  78 197 198  72  71  72  75  75  76  78  79\n",
      "   79  81 143  91  87  86  78  68  68  69]\n",
      " [ 65  64  62  70  75  73  76  89 201  69  72  72  76  76  75  77  81  79\n",
      "   79  85 149  95  83  88  83  69  68  70]\n",
      " [ 69  63  64  71  69  72  79 182 199  72  72  75  75  75  75  77  80  82\n",
      "   83  91 137  95  86  91  84  72  68  72]\n",
      " [ 70  67  64  65  66  69  67  71  73  72  72  73  75  73  74  77  82  83\n",
      "   84  91 140  95  86  91  87  73  69  72]\n",
      " [ 67  65  69  68  64  66  71  69  71  73  72  72  76  76  76  77  83  84\n",
      "   85  89 141  92  88  91  87  73  73  75]\n",
      " [ 68  71  76  65  65  67  71  69  71  72  72  73  75  75  75  77  83  84\n",
      "   83  88 123  90  88  93  88  79  73  76]\n",
      " [ 72  72  72  66  66  67  72  71  72  73  73  74  75  76  76  79  86  84\n",
      "   84  93 110  85  91  98  91  77  75  81]\n",
      " [ 72  76  71  69  69  70  71  73  75  72  75  76  76  79  79  80  82  84\n",
      "   85  89 100  84  91  96  91  77  74  80]\n",
      " [ 78  73  72  69  70  70  72  73  74  76  72  78  77  80  78  79  82  83\n",
      "   84  93  97  91  91  98  92  77  78  80]\n",
      " [ 75  74  73  67  70  75  76  73  76  76  80  80  79  80  80  82  84  85\n",
      "   82  92  93  93  95 100  95  87  76  78]\n",
      " [ 77  74  72  74  71  75  74  77  76  77  79  80  82  86  86  86  86  86\n",
      "   86  90  83  94  98 102 101  87  79  81]\n",
      " [ 80  78  74  75  72  75  76  79  80  84  85  85  87  87  86  89  86  85\n",
      "   81  89  81  90 104 103 104  88  80  81]]\n"
     ]
    },
    {
     "data": {
      "text/plain": [
       "<matplotlib.figure.Figure at 0x19c61473b70>"
      ]
     },
     "metadata": {},
     "output_type": "display_data"
    },
    {
     "name": "stdout",
     "output_type": "stream",
     "text": [
      "(28, 28)\n",
      "拉黑120後\n",
      "[[ 0  0  0  0  0  0  0  0  0  0  0  0  0  0  0  0  0  0  0  0  0  0  0  0\n",
      "   0  0  0  0]\n",
      " [ 0  0  0  0  0  0  0  0  0  0  0  0  0  0  0  0  0  0  0  0  0  0  0  0\n",
      "   0  0  0  0]\n",
      " [ 0  0  0  0  0  0  0  0  0  0  0  0  0  0  0  0  0  0  0  0  0  0  0  0\n",
      "   0  0  0  0]\n",
      " [ 0  0  0  0  0  0  0  0  0  0  0  0  0  0  0  0  0  0  0  0  0  0  0  0\n",
      "   0  0  0  0]\n",
      " [ 0  0  0  0  0  0  0  0  0  0  0  0  0  0  0  0  0  0  0  0  0  0  0  0\n",
      "   0  0  0  0]\n",
      " [ 0  0  0  0  0  0  0  0  0  0  0  0  0  0  0  0  0  0  0  0  0  0  0  0\n",
      "   0  0  0  0]\n",
      " [ 0  0  0  0  0  0  0  0  0  0  0  0  0  0  0  0  0  0  0  0  0  0  0  0\n",
      "   0  0  0  0]\n",
      " [ 0  0  0  0  0  0  0  0  0  0  0  0  0  0  0  0  0  0  0  0  0  0  0  0\n",
      "   0  0  0  0]\n",
      " [ 0  0  0  0  0  0  0  0  0  0  0  0  0  0  0  0  0  0  0  0  0  0  0  0\n",
      "   0  0  0  0]\n",
      " [ 0  0  0  0  0  0  0  0  0  0  0  0  0  0  0  0  0  0  0  0  0  0  0  0\n",
      "   0  0  0  0]\n",
      " [ 0  0  0  0  0  0  0  0  0  0  0  0  0  0  0  0  0  0  0  0  6  0  0  0\n",
      "   0  0  0  0]\n",
      " [ 0  0  0  0  0  0  0  0  0  0  0  0  0  0  0  0  0  0  0  0  8  0  0  0\n",
      "   0  0  0  0]\n",
      " [ 0  0  0  0  0  0  0  0  0  0 90 87  0  0  0  0  0  0  0  0 10  0  0  0\n",
      "   0  0  0  0]\n",
      " [ 0  0  0  0  0  0  0  0  0 49 83  0  0  0  0  0  0  0  0  0 12  0  0  0\n",
      "   0  0  0  0]\n",
      " [ 0  0  0  0  0  0  0  0  0 62 82  0  0  0  0  0  0  0  0  0 23  0  0  0\n",
      "   0  0  0  0]\n",
      " [ 0  0  0  0  0  0  0  0 45 77  0  0  0  0  0  0  0  0  0  0 29  0  0  0\n",
      "   0  0  0  0]\n",
      " [ 0  0  0  0  0  0  0  0 77 78  0  0  0  0  0  0  0  0  0  0 23  0  0  0\n",
      "   0  0  0  0]\n",
      " [ 0  0  0  0  0  0  0  0 81  0  0  0  0  0  0  0  0  0  0  0 29  0  0  0\n",
      "   0  0  0  0]\n",
      " [ 0  0  0  0  0  0  0 62 79  0  0  0  0  0  0  0  0  0  0  0 17  0  0  0\n",
      "   0  0  0  0]\n",
      " [ 0  0  0  0  0  0  0  0  0  0  0  0  0  0  0  0  0  0  0  0 20  0  0  0\n",
      "   0  0  0  0]\n",
      " [ 0  0  0  0  0  0  0  0  0  0  0  0  0  0  0  0  0  0  0  0 21  0  0  0\n",
      "   0  0  0  0]\n",
      " [ 0  0  0  0  0  0  0  0  0  0  0  0  0  0  0  0  0  0  0  0  3  0  0  0\n",
      "   0  0  0  0]\n",
      " [ 0  0  0  0  0  0  0  0  0  0  0  0  0  0  0  0  0  0  0  0  0  0  0  0\n",
      "   0  0  0  0]\n",
      " [ 0  0  0  0  0  0  0  0  0  0  0  0  0  0  0  0  0  0  0  0  0  0  0  0\n",
      "   0  0  0  0]\n",
      " [ 0  0  0  0  0  0  0  0  0  0  0  0  0  0  0  0  0  0  0  0  0  0  0  0\n",
      "   0  0  0  0]\n",
      " [ 0  0  0  0  0  0  0  0  0  0  0  0  0  0  0  0  0  0  0  0  0  0  0  0\n",
      "   0  0  0  0]\n",
      " [ 0  0  0  0  0  0  0  0  0  0  0  0  0  0  0  0  0  0  0  0  0  0  0  0\n",
      "   0  0  0  0]\n",
      " [ 0  0  0  0  0  0  0  0  0  0  0  0  0  0  0  0  0  0  0  0  0  0  0  0\n",
      "   0  0  0  0]]\n"
     ]
    },
    {
     "data": {
      "text/plain": [
       "<matplotlib.figure.Figure at 0x19c61286240>"
      ]
     },
     "metadata": {},
     "output_type": "display_data"
    },
    {
     "name": "stdout",
     "output_type": "stream",
     "text": [
      "拉高gain\n",
      "[[  0   0   0   0   0   0   0   0   0   0   0   0   0   0   0   0   0   0\n",
      "    0   0   0   0   0   0   0   0   0   0]\n",
      " [  0   0   0   0   0   0   0   0   0   0   0   0   0   0   0   0   0   0\n",
      "    0   0   0   0   0   0   0   0   0   0]\n",
      " [  0   0   0   0   0   0   0   0   0   0   0   0   0   0   0   0   0   0\n",
      "    0   0   0   0   0   0   0   0   0   0]\n",
      " [  0   0   0   0   0   0   0   0   0   0   0   0   0   0   0   0   0   0\n",
      "    0   0   0   0   0   0   0   0   0   0]\n",
      " [  0   0   0   0   0   0   0   0   0   0   0   0   0   0   0   0   0   0\n",
      "    0   0   0   0   0   0   0   0   0   0]\n",
      " [  0   0   0   0   0   0   0   0   0   0   0   0   0   0   0   0   0   0\n",
      "    0   0   0   0   0   0   0   0   0   0]\n",
      " [  0   0   0   0   0   0   0   0   0   0   0   0   0   0   0   0   0   0\n",
      "    0   0   0   0   0   0   0   0   0   0]\n",
      " [  0   0   0   0   0   0   0   0   0   0   0   0   0   0   0   0   0   0\n",
      "    0   0   0   0   0   0   0   0   0   0]\n",
      " [  0   0   0   0   0   0   0   0   0   0   0   0   0   0   0   0   0   0\n",
      "    0   0   0   0   0   0   0   0   0   0]\n",
      " [  0   0   0   0   0   0   0   0   0   0   0   0   0   0   0   0   0   0\n",
      "    0   0   0   0   0   0   0   0   0   0]\n",
      " [  0   0   0   0   0   0   0   0   0   0   0   0   0   0   0   0   0   0\n",
      "    0   0  18   0   0   0   0   0   0   0]\n",
      " [  0   0   0   0   0   0   0   0   0   0   0   0   0   0   0   0   0   0\n",
      "    0   0  24   0   0   0   0   0   0   0]\n",
      " [  0   0   0   0   0   0   0   0   0   0 255 255   0   0   0   0   0   0\n",
      "    0   0  30   0   0   0   0   0   0   0]\n",
      " [  0   0   0   0   0   0   0   0   0 147 249   0   0   0   0   0   0   0\n",
      "    0   0  36   0   0   0   0   0   0   0]\n",
      " [  0   0   0   0   0   0   0   0   0 186 246   0   0   0   0   0   0   0\n",
      "    0   0  69   0   0   0   0   0   0   0]\n",
      " [  0   0   0   0   0   0   0   0 135 231   0   0   0   0   0   0   0   0\n",
      "    0   0  87   0   0   0   0   0   0   0]\n",
      " [  0   0   0   0   0   0   0   0 231 234   0   0   0   0   0   0   0   0\n",
      "    0   0  69   0   0   0   0   0   0   0]\n",
      " [  0   0   0   0   0   0   0   0 243   0   0   0   0   0   0   0   0   0\n",
      "    0   0  87   0   0   0   0   0   0   0]\n",
      " [  0   0   0   0   0   0   0 186 237   0   0   0   0   0   0   0   0   0\n",
      "    0   0  51   0   0   0   0   0   0   0]\n",
      " [  0   0   0   0   0   0   0   0   0   0   0   0   0   0   0   0   0   0\n",
      "    0   0  60   0   0   0   0   0   0   0]\n",
      " [  0   0   0   0   0   0   0   0   0   0   0   0   0   0   0   0   0   0\n",
      "    0   0  63   0   0   0   0   0   0   0]\n",
      " [  0   0   0   0   0   0   0   0   0   0   0   0   0   0   0   0   0   0\n",
      "    0   0   9   0   0   0   0   0   0   0]\n",
      " [  0   0   0   0   0   0   0   0   0   0   0   0   0   0   0   0   0   0\n",
      "    0   0   0   0   0   0   0   0   0   0]\n",
      " [  0   0   0   0   0   0   0   0   0   0   0   0   0   0   0   0   0   0\n",
      "    0   0   0   0   0   0   0   0   0   0]\n",
      " [  0   0   0   0   0   0   0   0   0   0   0   0   0   0   0   0   0   0\n",
      "    0   0   0   0   0   0   0   0   0   0]\n",
      " [  0   0   0   0   0   0   0   0   0   0   0   0   0   0   0   0   0   0\n",
      "    0   0   0   0   0   0   0   0   0   0]\n",
      " [  0   0   0   0   0   0   0   0   0   0   0   0   0   0   0   0   0   0\n",
      "    0   0   0   0   0   0   0   0   0   0]\n",
      " [  0   0   0   0   0   0   0   0   0   0   0   0   0   0   0   0   0   0\n",
      "    0   0   0   0   0   0   0   0   0   0]]\n"
     ]
    },
    {
     "data": {
      "text/plain": [
       "<matplotlib.figure.Figure at 0x19c6133e160>"
      ]
     },
     "metadata": {},
     "output_type": "display_data"
    },
    {
     "data": {
      "text/plain": [
       "<matplotlib.figure.Figure at 0x19c61378e10>"
      ]
     },
     "metadata": {},
     "output_type": "display_data"
    },
    {
     "name": "stdout",
     "output_type": "stream",
     "text": [
      "new_img_array[ 17 ]= [[198 198 195 193 186 182 178 172 173 173 171 174 173 172 173 172 171 173\n",
      "  175 174 176 179 179 182 183 183 185 185]\n",
      " [198 195 190 183 178 171 171 171 171 172 171 172 171 170 168 168 168 169\n",
      "  171 171 169 173 173 172 176 176 178 176]\n",
      " [194 193 183 178 173 169 169 170 170 167 168 168 168 168 169 168 167 168\n",
      "  168 169 168 170 171 171 171 171 174 172]\n",
      " [192 189 176 170 168 168 167 167 164 167 165 165 167 167 167 164 166 165\n",
      "  167 166 166 170 169 168 168 169 172 171]\n",
      " [189 173 169 168 167 165 164 163 162 162 164 162 162 162 162 162 161 161\n",
      "  164 165 167 167 168 168 166 168 168 167]\n",
      " [178 172 168 167 164 161 160 160 160 160 158 159 157 159 160 160 158 161\n",
      "  161 162 162 163 164 164 165 167 166 164]\n",
      " [173 170 168 167 164 160 158 157 156 156 156 155 149  45  35  35 139 156\n",
      "  158 157 161 161 162 165 164 164 164 164]\n",
      " [169 172 167 165 161 158 156 154 153 151 150 150  79  30  28  30 113 154\n",
      "  156 156 157 158 160 161 160 162 162 162]\n",
      " [171 171 166 162 160 157 156 153 149 150 149 115  46  25  30  33 151 152\n",
      "  153 155 156 156 157 160 160 161 160 159]\n",
      " [173 169 165 161 158 154 151 150 149 149 144  46  31  33  29 112 150 149\n",
      "  152 152 153 154 156 157 158 159 158 160]\n",
      " [173 168 164 158 154 153 149 147 146 145  77  45  28  32  52 149 147 148\n",
      "  147 149 150 151 153 157 159 157 161 159]\n",
      " [173 171 164 158 153 149 147 145 145 123  47  38  33  30 122 145 145 146\n",
      "  147 149 150 150 153 154 154 157 156 156]\n",
      " [171 165 161 156 151 149 145 142 139  54  43  29  33  47 142 145 143 145\n",
      "  147 147 149 150 152 153 154 154 153 150]\n",
      " [171 167 162 157 150 147 144 142 112  46  32  32  29 121 144 145 145 145\n",
      "  146 146 149 150 150 151 151 149 146 145]\n",
      " [171 166 160 156 153 147 143 140  53  39  29  35  89 143 143 143 145 145\n",
      "  146 146 146 147 148 147 145 145 139 139]\n",
      " [169 167 160 154 149 145 142 122  43  26  33  34 142 143 142 143 143 143\n",
      "  143 145 145 142 142 139 138 139 139 138]\n",
      " [171 166 160 153 147 145 140  74  35  29  30  90 142 140 141 139 139 142\n",
      "  143 142 140 139 139 138 136 138 139 136]\n",
      " [168 164 155 151 144 141 138  44  26  30  32 131 140 140 140 140 140 138\n",
      "  138 138 135 136 135 135 134 135 134 134]\n",
      " [168 164 157 149 145 140  89  38  28  30  89 137 136 137 139 138 138 136\n",
      "  133 134 131 132 131 132 132 130 132 131]\n",
      " [168 162 156 153 143 138  45  28  29  35 137 136 136 136 138 136 134 133\n",
      "  131 132 130 131 129 131 129 131 129 130]\n",
      " [168 162 158 154 147 100  40  26  28 113 138 137 136 136 135 137 135 135\n",
      "  134 132 131 131 130 131 129 128 128 128]\n",
      " [165 160 157 152 149  47  31  30  32 138 135 136 135 132 131 133 135 133\n",
      "  131 131 131 131 127 131 127 127 124 124]\n",
      " [168 160 157 156 154 125  29  32  91 136 136 135 135 135 134 133 134 132\n",
      "  132 132 131 131 131 127 128 125 123 123]\n",
      " [169 164 162 164 157 152 143 111 132 138 136 133 138 133 136 135 137 136\n",
      "  134 133 132 131 129 124 126 121 123 122]\n",
      " [171 167 164 161 153 146 140 139 139 138 138 138 135 135 139 138 138 130\n",
      "  134 131 132 128 128 122 122 123 123 122]\n",
      " [174 168 161 155 151 147 145 143 139 138 138 135 135 138 139 138 136 131\n",
      "  134 131 124 128 125 121 120 116 114 121]\n",
      " [172 164 160 157 150 147 141 138 139 135 135 134 135 135 134 137 134 128\n",
      "  130 127 125 124 121 121 120 118 117 115]\n",
      " [169 165 160 153 149 143 139 136 135 135 135 134 132 135 137 135 132 132\n",
      "  131 127 123 125 120 120 123 119 114 119]]\n"
     ]
    },
    {
     "data": {
      "text/plain": [
       "<matplotlib.figure.Figure at 0x19c614392b0>"
      ]
     },
     "metadata": {},
     "output_type": "display_data"
    },
    {
     "name": "stdout",
     "output_type": "stream",
     "text": [
      "反白後\n",
      "[[ 57  57  60  62  69  73  77  83  82  82  84  81  82  83  82  83  84  82\n",
      "   80  81  79  76  76  73  72  72  70  70]\n",
      " [ 57  60  65  72  77  84  84  84  84  83  84  83  84  85  87  87  87  86\n",
      "   84  84  86  82  82  83  79  79  77  79]\n",
      " [ 61  62  72  77  82  86  86  85  85  88  87  87  87  87  86  87  88  87\n",
      "   87  86  87  85  84  84  84  84  81  83]\n",
      " [ 63  66  79  85  87  87  88  88  91  88  90  90  88  88  88  91  89  90\n",
      "   88  89  89  85  86  87  87  86  83  84]\n",
      " [ 66  82  86  87  88  90  91  92  93  93  91  93  93  93  93  93  94  94\n",
      "   91  90  88  88  87  87  89  87  87  88]\n",
      " [ 77  83  87  88  91  94  95  95  95  95  97  96  98  96  95  95  97  94\n",
      "   94  93  93  92  91  91  90  88  89  91]\n",
      " [ 82  85  87  88  91  95  97  98  99  99  99 100 106 210 220 220 116  99\n",
      "   97  98  94  94  93  90  91  91  91  91]\n",
      " [ 86  83  88  90  94  97  99 101 102 104 105 105 176 225 227 225 142 101\n",
      "   99  99  98  97  95  94  95  93  93  93]\n",
      " [ 84  84  89  93  95  98  99 102 106 105 106 140 209 230 225 222 104 103\n",
      "  102 100  99  99  98  95  95  94  95  96]\n",
      " [ 82  86  90  94  97 101 104 105 106 106 111 209 224 222 226 143 105 106\n",
      "  103 103 102 101  99  98  97  96  97  95]\n",
      " [ 82  87  91  97 101 102 106 108 109 110 178 210 227 223 203 106 108 107\n",
      "  108 106 105 104 102  98  96  98  94  96]\n",
      " [ 82  84  91  97 102 106 108 110 110 132 208 217 222 225 133 110 110 109\n",
      "  108 106 105 105 102 101 101  98  99  99]\n",
      " [ 84  90  94  99 104 106 110 113 116 201 212 226 222 208 113 110 112 110\n",
      "  108 108 106 105 103 102 101 101 102 105]\n",
      " [ 84  88  93  98 105 108 111 113 143 209 223 223 226 134 111 110 110 110\n",
      "  109 109 106 105 105 104 104 106 109 110]\n",
      " [ 84  89  95  99 102 108 112 115 202 216 226 220 166 112 112 112 110 110\n",
      "  109 109 109 108 107 108 110 110 116 116]\n",
      " [ 86  88  95 101 106 110 113 133 212 229 222 221 113 112 113 112 112 112\n",
      "  112 110 110 113 113 116 117 116 116 117]\n",
      " [ 84  89  95 102 108 110 115 181 220 226 225 165 113 115 114 116 116 113\n",
      "  112 113 115 116 116 117 119 117 116 119]\n",
      " [ 87  91 100 104 111 114 117 211 229 225 223 124 115 115 115 115 115 117\n",
      "  117 117 120 119 120 120 121 120 121 121]\n",
      " [ 87  91  98 106 110 115 166 217 227 225 166 118 119 118 116 117 117 119\n",
      "  122 121 124 123 124 123 123 125 123 124]\n",
      " [ 87  93  99 102 112 117 210 227 226 220 118 119 119 119 117 119 121 122\n",
      "  124 123 125 124 126 124 126 124 126 125]\n",
      " [ 87  93  97 101 108 155 215 229 227 142 117 118 119 119 120 118 120 120\n",
      "  121 123 124 124 125 124 126 127 127 127]\n",
      " [ 90  95  98 103 106 208 224 225 223 117 120 119 120 123 124 122 120 122\n",
      "  124 124 124 124 128 124 128 128 131 131]\n",
      " [ 87  95  98  99 101 130 226 223 164 119 119 120 120 120 121 122 121 123\n",
      "  123 123 124 124 124 128 127 130 132 132]\n",
      " [ 86  91  93  91  98 103 112 144 123 117 119 122 117 122 119 120 118 119\n",
      "  121 122 123 124 126 131 129 134 132 133]\n",
      " [ 84  88  91  94 102 109 115 116 116 117 117 117 120 120 116 117 117 125\n",
      "  121 124 123 127 127 133 133 132 132 133]\n",
      " [ 81  87  94 100 104 108 110 112 116 117 117 120 120 117 116 117 119 124\n",
      "  121 124 131 127 130 134 135 139 141 134]\n",
      " [ 83  91  95  98 105 108 114 117 116 120 120 121 120 120 121 118 121 127\n",
      "  125 128 130 131 134 134 135 137 138 140]\n",
      " [ 86  90  95 102 106 112 116 119 120 120 120 121 123 120 118 120 123 123\n",
      "  124 128 132 130 135 135 132 136 141 136]]\n"
     ]
    },
    {
     "data": {
      "text/plain": [
       "<matplotlib.figure.Figure at 0x19c614f5438>"
      ]
     },
     "metadata": {},
     "output_type": "display_data"
    },
    {
     "name": "stdout",
     "output_type": "stream",
     "text": [
      "(28, 28)\n",
      "拉黑120後\n",
      "[[  0   0   0   0   0   0   0   0   0   0   0   0   0   0   0   0   0   0\n",
      "    0   0   0   0   0   0   0   0   0   0]\n",
      " [  0   0   0   0   0   0   0   0   0   0   0   0   0   0   0   0   0   0\n",
      "    0   0   0   0   0   0   0   0   0   0]\n",
      " [  0   0   0   0   0   0   0   0   0   0   0   0   0   0   0   0   0   0\n",
      "    0   0   0   0   0   0   0   0   0   0]\n",
      " [  0   0   0   0   0   0   0   0   0   0   0   0   0   0   0   0   0   0\n",
      "    0   0   0   0   0   0   0   0   0   0]\n",
      " [  0   0   0   0   0   0   0   0   0   0   0   0   0   0   0   0   0   0\n",
      "    0   0   0   0   0   0   0   0   0   0]\n",
      " [  0   0   0   0   0   0   0   0   0   0   0   0   0   0   0   0   0   0\n",
      "    0   0   0   0   0   0   0   0   0   0]\n",
      " [  0   0   0   0   0   0   0   0   0   0   0   0   0  90 100 100   0   0\n",
      "    0   0   0   0   0   0   0   0   0   0]\n",
      " [  0   0   0   0   0   0   0   0   0   0   0   0  56 105 107 105  22   0\n",
      "    0   0   0   0   0   0   0   0   0   0]\n",
      " [  0   0   0   0   0   0   0   0   0   0   0  20  89 110 105 102   0   0\n",
      "    0   0   0   0   0   0   0   0   0   0]\n",
      " [  0   0   0   0   0   0   0   0   0   0   0  89 104 102 106  23   0   0\n",
      "    0   0   0   0   0   0   0   0   0   0]\n",
      " [  0   0   0   0   0   0   0   0   0   0  58  90 107 103  83   0   0   0\n",
      "    0   0   0   0   0   0   0   0   0   0]\n",
      " [  0   0   0   0   0   0   0   0   0  12  88  97 102 105  13   0   0   0\n",
      "    0   0   0   0   0   0   0   0   0   0]\n",
      " [  0   0   0   0   0   0   0   0   0  81  92 106 102  88   0   0   0   0\n",
      "    0   0   0   0   0   0   0   0   0   0]\n",
      " [  0   0   0   0   0   0   0   0  23  89 103 103 106  14   0   0   0   0\n",
      "    0   0   0   0   0   0   0   0   0   0]\n",
      " [  0   0   0   0   0   0   0   0  82  96 106 100  46   0   0   0   0   0\n",
      "    0   0   0   0   0   0   0   0   0   0]\n",
      " [  0   0   0   0   0   0   0  13  92 109 102 101   0   0   0   0   0   0\n",
      "    0   0   0   0   0   0   0   0   0   0]\n",
      " [  0   0   0   0   0   0   0  61 100 106 105  45   0   0   0   0   0   0\n",
      "    0   0   0   0   0   0   0   0   0   0]\n",
      " [  0   0   0   0   0   0   0  91 109 105 103   4   0   0   0   0   0   0\n",
      "    0   0   0   0   0   0   1   0   1   1]\n",
      " [  0   0   0   0   0   0  46  97 107 105  46   0   0   0   0   0   0   0\n",
      "    2   1   4   3   4   3   3   5   3   4]\n",
      " [  0   0   0   0   0   0  90 107 106 100   0   0   0   0   0   0   1   2\n",
      "    4   3   5   4   6   4   6   4   6   5]\n",
      " [  0   0   0   0   0  35  95 109 107  22   0   0   0   0   0   0   0   0\n",
      "    1   3   4   4   5   4   6   7   7   7]\n",
      " [  0   0   0   0   0  88 104 105 103   0   0   0   0   3   4   2   0   2\n",
      "    4   4   4   4   8   4   8   8  11  11]\n",
      " [  0   0   0   0   0  10 106 103  44   0   0   0   0   0   1   2   1   3\n",
      "    3   3   4   4   4   8   7  10  12  12]\n",
      " [  0   0   0   0   0   0   0  24   3   0   0   2   0   2   0   0   0   0\n",
      "    1   2   3   4   6  11   9  14  12  13]\n",
      " [  0   0   0   0   0   0   0   0   0   0   0   0   0   0   0   0   0   5\n",
      "    1   4   3   7   7  13  13  12  12  13]\n",
      " [  0   0   0   0   0   0   0   0   0   0   0   0   0   0   0   0   0   4\n",
      "    1   4  11   7  10  14  15  19  21  14]\n",
      " [  0   0   0   0   0   0   0   0   0   0   0   1   0   0   1   0   1   7\n",
      "    5   8  10  11  14  14  15  17  18  20]\n",
      " [  0   0   0   0   0   0   0   0   0   0   0   1   3   0   0   0   3   3\n",
      "    4   8  12  10  15  15  12  16  21  16]]\n"
     ]
    },
    {
     "data": {
      "text/plain": [
       "<matplotlib.figure.Figure at 0x19c6156f2e8>"
      ]
     },
     "metadata": {},
     "output_type": "display_data"
    },
    {
     "name": "stdout",
     "output_type": "stream",
     "text": [
      "拉高gain\n",
      "[[  0   0   0   0   0   0   0   0   0   0   0   0   0   0   0   0   0   0\n",
      "    0   0   0   0   0   0   0   0   0   0]\n",
      " [  0   0   0   0   0   0   0   0   0   0   0   0   0   0   0   0   0   0\n",
      "    0   0   0   0   0   0   0   0   0   0]\n",
      " [  0   0   0   0   0   0   0   0   0   0   0   0   0   0   0   0   0   0\n",
      "    0   0   0   0   0   0   0   0   0   0]\n",
      " [  0   0   0   0   0   0   0   0   0   0   0   0   0   0   0   0   0   0\n",
      "    0   0   0   0   0   0   0   0   0   0]\n",
      " [  0   0   0   0   0   0   0   0   0   0   0   0   0   0   0   0   0   0\n",
      "    0   0   0   0   0   0   0   0   0   0]\n",
      " [  0   0   0   0   0   0   0   0   0   0   0   0   0   0   0   0   0   0\n",
      "    0   0   0   0   0   0   0   0   0   0]\n",
      " [  0   0   0   0   0   0   0   0   0   0   0   0   0 255 255 255   0   0\n",
      "    0   0   0   0   0   0   0   0   0   0]\n",
      " [  0   0   0   0   0   0   0   0   0   0   0   0 168 255 255 255  66   0\n",
      "    0   0   0   0   0   0   0   0   0   0]\n",
      " [  0   0   0   0   0   0   0   0   0   0   0  60 255 255 255 255   0   0\n",
      "    0   0   0   0   0   0   0   0   0   0]\n",
      " [  0   0   0   0   0   0   0   0   0   0   0 255 255 255 255  69   0   0\n",
      "    0   0   0   0   0   0   0   0   0   0]\n",
      " [  0   0   0   0   0   0   0   0   0   0 174 255 255 255 249   0   0   0\n",
      "    0   0   0   0   0   0   0   0   0   0]\n",
      " [  0   0   0   0   0   0   0   0   0  36 255 255 255 255  39   0   0   0\n",
      "    0   0   0   0   0   0   0   0   0   0]\n",
      " [  0   0   0   0   0   0   0   0   0 243 255 255 255 255   0   0   0   0\n",
      "    0   0   0   0   0   0   0   0   0   0]\n",
      " [  0   0   0   0   0   0   0   0  69 255 255 255 255  42   0   0   0   0\n",
      "    0   0   0   0   0   0   0   0   0   0]\n",
      " [  0   0   0   0   0   0   0   0 246 255 255 255 138   0   0   0   0   0\n",
      "    0   0   0   0   0   0   0   0   0   0]\n",
      " [  0   0   0   0   0   0   0  39 255 255 255 255   0   0   0   0   0   0\n",
      "    0   0   0   0   0   0   0   0   0   0]\n",
      " [  0   0   0   0   0   0   0 183 255 255 255 135   0   0   0   0   0   0\n",
      "    0   0   0   0   0   0   0   0   0   0]\n",
      " [  0   0   0   0   0   0   0 255 255 255 255  12   0   0   0   0   0   0\n",
      "    0   0   0   0   0   0   3   0   3   3]\n",
      " [  0   0   0   0   0   0 138 255 255 255 138   0   0   0   0   0   0   0\n",
      "    6   3  12   9  12   9   9  15   9  12]\n",
      " [  0   0   0   0   0   0 255 255 255 255   0   0   0   0   0   0   3   6\n",
      "   12   9  15  12  18  12  18  12  18  15]\n",
      " [  0   0   0   0   0 105 255 255 255  66   0   0   0   0   0   0   0   0\n",
      "    3   9  12  12  15  12  18  21  21  21]\n",
      " [  0   0   0   0   0 255 255 255 255   0   0   0   0   9  12   6   0   6\n",
      "   12  12  12  12  24  12  24  24  33  33]\n",
      " [  0   0   0   0   0  30 255 255 132   0   0   0   0   0   3   6   3   9\n",
      "    9   9  12  12  12  24  21  30  36  36]\n",
      " [  0   0   0   0   0   0   0  72   9   0   0   6   0   6   0   0   0   0\n",
      "    3   6   9  12  18  33  27  42  36  39]\n",
      " [  0   0   0   0   0   0   0   0   0   0   0   0   0   0   0   0   0  15\n",
      "    3  12   9  21  21  39  39  36  36  39]\n",
      " [  0   0   0   0   0   0   0   0   0   0   0   0   0   0   0   0   0  12\n",
      "    3  12  33  21  30  42  45  57  63  42]\n",
      " [  0   0   0   0   0   0   0   0   0   0   0   3   0   0   3   0   3  21\n",
      "   15  24  30  33  42  42  45  51  54  60]\n",
      " [  0   0   0   0   0   0   0   0   0   0   0   3   9   0   0   0   9   9\n",
      "   12  24  36  30  45  45  36  48  63  48]]\n"
     ]
    },
    {
     "data": {
      "text/plain": [
       "<matplotlib.figure.Figure at 0x19c61669e10>"
      ]
     },
     "metadata": {},
     "output_type": "display_data"
    },
    {
     "data": {
      "text/plain": [
       "<matplotlib.figure.Figure at 0x19c616eb240>"
      ]
     },
     "metadata": {},
     "output_type": "display_data"
    },
    {
     "name": "stdout",
     "output_type": "stream",
     "text": [
      "new_img_array[ 18 ]= [[237 230 221 209 209 203 201 197 194 191 192 191 190 193 187 185 184 180\n",
      "  178 176 176 176 178 176 179 178 179 179]\n",
      " [233 227 213 207 204 202 198 195 191 190 189 188 189 189 187 183 175 175\n",
      "  173 174 170 175 173 175 172 174 173 176]\n",
      " [230 222 210 205 204 201 198 195 191 189 186 187 187 184 180 175 171 172\n",
      "  169 170 172 169 171 171 168 172 170 171]\n",
      " [227 217 208 205 203 200 197 194 191 187 184 181 184 181 173 171 169 168\n",
      "  170 172 169 169 168 169 169 171 170 169]\n",
      " [230 218 208 205 201 200 195 193 189 184 183 182 180 169 168 165 164 165\n",
      "  167 167 167 167 167 169 168 165 168 167]\n",
      " [229 217 208 204 201 198 193 191 187 182 178 173 165 162 163 164 162 164\n",
      "  162 162 164 164 164 165 167 163 165 166]\n",
      " [226 217 206 201 200 194 193 189 183 179 173 161 160 158 161 158 158 158\n",
      "  160 161 158 160 162 142 143 146 164 164]\n",
      " [227 217 206 201 198 195 191 187 180 172 162 157 156 156 158 156 156 156\n",
      "  156 157 158 157 154  43  32  36 127 164]\n",
      " [230 217 202 198 197 192 189 182 173 163 155 154 153 153 156 154 153 153\n",
      "  154 154 154 156  69  32  35  35 157 162]\n",
      " [227 215 201 198 194 189 186 175 165 157 154 153 150 151 153 153 151 151\n",
      "  153 150 153 121  47  33  33  87 162 160]\n",
      " [224 216 201 195 193 189 180 168 160 156 153 151 151 151 149 151 149 150\n",
      "  150 151 150  48  35  35  35 158 160 160]\n",
      " [226 212 198 193 189 181 171 163 160 156 154 150 149 149 149 149 147 147\n",
      "  147 147  74  47  34  37 109 156 156 159]\n",
      " [223 213 199 191 185 174 168 164 160 156 151 149 147 148 147 146 146 144\n",
      "  146 129  45  37  37  35 153 154 152 157]\n",
      " [220 213 198 189 178 172 168 164 160 154 151 148 147 146 145 145 143 145\n",
      "  143  54  44  32  32 109 153 154 154 157]\n",
      " [220 212 196 181 175 173 167 164 158 153 150 147 146 145 143 143 143 143\n",
      "  125  45  30  36  48 150 151 154 156 154]\n",
      " [219 212 189 179 175 172 168 162 158 151 149 145 143 142 142 142 144 142\n",
      "   65  36  31  32 143 150 151 153 151 147]\n",
      " [219 205 189 179 177 173 168 162 157 152 147 145 140 142 139 140 140 137\n",
      "   44  27  33  41 147 149 150 147 147 143]\n",
      " [207 198 189 180 178 171 164 161 154 150 146 143 141 135 136 136 134  96\n",
      "   35  28  31 124 146 147 147 147 145 140]\n",
      " [202 201 194 183 179 175 166 160 153 149 146 144 140 135 132 134 134  44\n",
      "   28  30  55 143 144 147 145 141 142 139]\n",
      " [206 205 200 185 182 178 168 161 156 151 148 140 142 136 136 134  83  33\n",
      "   28  27 143 145 140 142 143 142 140 134]\n",
      " [200 202 199 187 182 176 167 161 157 153 146 142 139 135 135 132  44  24\n",
      "   29  69 142 143 143 141 142 142 139 138]\n",
      " [202 197 198 187 179 175 167 167 162 156 151 146 139 136 140 129  34  26\n",
      "   31 135 139 140 142 143 138 140 133 135]\n",
      " [198 198 197 189 180 182 171 171 167 160 154 147 142 139 142 143 143  92\n",
      "   56 140 142 139 143 142 142 135 136 130]\n",
      " [194 193 198 191 180 179 175 171 167 160 155 153 144 145 146 142 140 141\n",
      "  142 141 143 144 140 143 139 138 136 132]\n",
      " [195 202 201 193 180 178 175 168 167 164 158 154 149 142 143 142 142 142\n",
      "  140 140 142 144 139 140 135 137 134 131]\n",
      " [202 202 200 190 176 167 166 169 171 168 158 151 145 142 142 143 143 147\n",
      "  141 142 140 140 139 139 134 136 132 129]\n",
      " [204 202 196 187 173 167 167 172 169 164 157 151 147 140 139 139 142 138\n",
      "  141 139 136 138 137 137 133 132 132 129]\n",
      " [198 198 196 184 172 165 169 168 168 165 157 149 143 139 138 138 140 140\n",
      "  139 138 137 138 136 137 130 135 132 131]]\n"
     ]
    },
    {
     "data": {
      "text/plain": [
       "<matplotlib.figure.Figure at 0x19c61763438>"
      ]
     },
     "metadata": {},
     "output_type": "display_data"
    },
    {
     "name": "stdout",
     "output_type": "stream",
     "text": [
      "反白後\n",
      "[[ 18  25  34  46  46  52  54  58  61  64  63  64  65  62  68  70  71  75\n",
      "   77  79  79  79  77  79  76  77  76  76]\n",
      " [ 22  28  42  48  51  53  57  60  64  65  66  67  66  66  68  72  80  80\n",
      "   82  81  85  80  82  80  83  81  82  79]\n",
      " [ 25  33  45  50  51  54  57  60  64  66  69  68  68  71  75  80  84  83\n",
      "   86  85  83  86  84  84  87  83  85  84]\n",
      " [ 28  38  47  50  52  55  58  61  64  68  71  74  71  74  82  84  86  87\n",
      "   85  83  86  86  87  86  86  84  85  86]\n",
      " [ 25  37  47  50  54  55  60  62  66  71  72  73  75  86  87  90  91  90\n",
      "   88  88  88  88  88  86  87  90  87  88]\n",
      " [ 26  38  47  51  54  57  62  64  68  73  77  82  90  93  92  91  93  91\n",
      "   93  93  91  91  91  90  88  92  90  89]\n",
      " [ 29  38  49  54  55  61  62  66  72  76  82  94  95  97  94  97  97  97\n",
      "   95  94  97  95  93 113 112 109  91  91]\n",
      " [ 28  38  49  54  57  60  64  68  75  83  93  98  99  99  97  99  99  99\n",
      "   99  98  97  98 101 212 223 219 128  91]\n",
      " [ 25  38  53  57  58  63  66  73  82  92 100 101 102 102  99 101 102 102\n",
      "  101 101 101  99 186 223 220 220  98  93]\n",
      " [ 28  40  54  57  61  66  69  80  90  98 101 102 105 104 102 102 104 104\n",
      "  102 105 102 134 208 222 222 168  93  95]\n",
      " [ 31  39  54  60  62  66  75  87  95  99 102 104 104 104 106 104 106 105\n",
      "  105 104 105 207 220 220 220  97  95  95]\n",
      " [ 29  43  57  62  66  74  84  92  95  99 101 105 106 106 106 106 108 108\n",
      "  108 108 181 208 221 218 146  99  99  96]\n",
      " [ 32  42  56  64  70  81  87  91  95  99 104 106 108 107 108 109 109 111\n",
      "  109 126 210 218 218 220 102 101 103  98]\n",
      " [ 35  42  57  66  77  83  87  91  95 101 104 107 108 109 110 110 112 110\n",
      "  112 201 211 223 223 146 102 101 101  98]\n",
      " [ 35  43  59  74  80  82  88  91  97 102 105 108 109 110 112 112 112 112\n",
      "  130 210 225 219 207 105 104 101  99 101]\n",
      " [ 36  43  66  76  80  83  87  93  97 104 106 110 112 113 113 113 111 113\n",
      "  190 219 224 223 112 105 104 102 104 108]\n",
      " [ 36  50  66  76  78  82  87  93  98 103 108 110 115 113 116 115 115 118\n",
      "  211 228 222 214 108 106 105 108 108 112]\n",
      " [ 48  57  66  75  77  84  91  94 101 105 109 112 114 120 119 119 121 159\n",
      "  220 227 224 131 109 108 108 108 110 115]\n",
      " [ 53  54  61  72  76  80  89  95 102 106 109 111 115 120 123 121 121 211\n",
      "  227 225 200 112 111 108 110 114 113 116]\n",
      " [ 49  50  55  70  73  77  87  94  99 104 107 115 113 119 119 121 172 222\n",
      "  227 228 112 110 115 113 112 113 115 121]\n",
      " [ 55  53  56  68  73  79  88  94  98 102 109 113 116 120 120 123 211 231\n",
      "  226 186 113 112 112 114 113 113 116 117]\n",
      " [ 53  58  57  68  76  80  88  88  93  99 104 109 116 119 115 126 221 229\n",
      "  224 120 116 115 113 112 117 115 122 120]\n",
      " [ 57  57  58  66  75  73  84  84  88  95 101 108 113 116 113 112 112 163\n",
      "  199 115 113 116 112 113 113 120 119 125]\n",
      " [ 61  62  57  64  75  76  80  84  88  95 100 102 111 110 109 113 115 114\n",
      "  113 114 112 111 115 112 116 117 119 123]\n",
      " [ 60  53  54  62  75  77  80  87  88  91  97 101 106 113 112 113 113 113\n",
      "  115 115 113 111 116 115 120 118 121 124]\n",
      " [ 53  53  55  65  79  88  89  86  84  87  97 104 110 113 113 112 112 108\n",
      "  114 113 115 115 116 116 121 119 123 126]\n",
      " [ 51  53  59  68  82  88  88  83  86  91  98 104 108 115 116 116 113 117\n",
      "  114 116 119 117 118 118 122 123 123 126]\n",
      " [ 57  57  59  71  83  90  86  87  87  90  98 106 112 116 117 117 115 115\n",
      "  116 117 118 117 119 118 125 120 123 124]]\n"
     ]
    },
    {
     "data": {
      "text/plain": [
       "<matplotlib.figure.Figure at 0x19c617042b0>"
      ]
     },
     "metadata": {},
     "output_type": "display_data"
    },
    {
     "name": "stdout",
     "output_type": "stream",
     "text": [
      "(28, 28)\n",
      "拉黑120後\n",
      "[[  0   0   0   0   0   0   0   0   0   0   0   0   0   0   0   0   0   0\n",
      "    0   0   0   0   0   0   0   0   0   0]\n",
      " [  0   0   0   0   0   0   0   0   0   0   0   0   0   0   0   0   0   0\n",
      "    0   0   0   0   0   0   0   0   0   0]\n",
      " [  0   0   0   0   0   0   0   0   0   0   0   0   0   0   0   0   0   0\n",
      "    0   0   0   0   0   0   0   0   0   0]\n",
      " [  0   0   0   0   0   0   0   0   0   0   0   0   0   0   0   0   0   0\n",
      "    0   0   0   0   0   0   0   0   0   0]\n",
      " [  0   0   0   0   0   0   0   0   0   0   0   0   0   0   0   0   0   0\n",
      "    0   0   0   0   0   0   0   0   0   0]\n",
      " [  0   0   0   0   0   0   0   0   0   0   0   0   0   0   0   0   0   0\n",
      "    0   0   0   0   0   0   0   0   0   0]\n",
      " [  0   0   0   0   0   0   0   0   0   0   0   0   0   0   0   0   0   0\n",
      "    0   0   0   0   0   0   0   0   0   0]\n",
      " [  0   0   0   0   0   0   0   0   0   0   0   0   0   0   0   0   0   0\n",
      "    0   0   0   0   0  92 103  99   8   0]\n",
      " [  0   0   0   0   0   0   0   0   0   0   0   0   0   0   0   0   0   0\n",
      "    0   0   0   0  66 103 100 100   0   0]\n",
      " [  0   0   0   0   0   0   0   0   0   0   0   0   0   0   0   0   0   0\n",
      "    0   0   0  14  88 102 102  48   0   0]\n",
      " [  0   0   0   0   0   0   0   0   0   0   0   0   0   0   0   0   0   0\n",
      "    0   0   0  87 100 100 100   0   0   0]\n",
      " [  0   0   0   0   0   0   0   0   0   0   0   0   0   0   0   0   0   0\n",
      "    0   0  61  88 101  98  26   0   0   0]\n",
      " [  0   0   0   0   0   0   0   0   0   0   0   0   0   0   0   0   0   0\n",
      "    0   6  90  98  98 100   0   0   0   0]\n",
      " [  0   0   0   0   0   0   0   0   0   0   0   0   0   0   0   0   0   0\n",
      "    0  81  91 103 103  26   0   0   0   0]\n",
      " [  0   0   0   0   0   0   0   0   0   0   0   0   0   0   0   0   0   0\n",
      "   10  90 105  99  87   0   0   0   0   0]\n",
      " [  0   0   0   0   0   0   0   0   0   0   0   0   0   0   0   0   0   0\n",
      "   70  99 104 103   0   0   0   0   0   0]\n",
      " [  0   0   0   0   0   0   0   0   0   0   0   0   0   0   0   0   0   0\n",
      "   91 108 102  94   0   0   0   0   0   0]\n",
      " [  0   0   0   0   0   0   0   0   0   0   0   0   0   0   0   0   1  39\n",
      "  100 107 104  11   0   0   0   0   0   0]\n",
      " [  0   0   0   0   0   0   0   0   0   0   0   0   0   0   3   1   1  91\n",
      "  107 105  80   0   0   0   0   0   0   0]\n",
      " [  0   0   0   0   0   0   0   0   0   0   0   0   0   0   0   1  52 102\n",
      "  107 108   0   0   0   0   0   0   0   1]\n",
      " [  0   0   0   0   0   0   0   0   0   0   0   0   0   0   0   3  91 111\n",
      "  106  66   0   0   0   0   0   0   0   0]\n",
      " [  0   0   0   0   0   0   0   0   0   0   0   0   0   0   0   6 101 109\n",
      "  104   0   0   0   0   0   0   0   2   0]\n",
      " [  0   0   0   0   0   0   0   0   0   0   0   0   0   0   0   0   0  43\n",
      "   79   0   0   0   0   0   0   0   0   5]\n",
      " [  0   0   0   0   0   0   0   0   0   0   0   0   0   0   0   0   0   0\n",
      "    0   0   0   0   0   0   0   0   0   3]\n",
      " [  0   0   0   0   0   0   0   0   0   0   0   0   0   0   0   0   0   0\n",
      "    0   0   0   0   0   0   0   0   1   4]\n",
      " [  0   0   0   0   0   0   0   0   0   0   0   0   0   0   0   0   0   0\n",
      "    0   0   0   0   0   0   1   0   3   6]\n",
      " [  0   0   0   0   0   0   0   0   0   0   0   0   0   0   0   0   0   0\n",
      "    0   0   0   0   0   0   2   3   3   6]\n",
      " [  0   0   0   0   0   0   0   0   0   0   0   0   0   0   0   0   0   0\n",
      "    0   0   0   0   0   0   5   0   3   4]]\n"
     ]
    },
    {
     "data": {
      "text/plain": [
       "<matplotlib.figure.Figure at 0x19c61763d68>"
      ]
     },
     "metadata": {},
     "output_type": "display_data"
    },
    {
     "name": "stdout",
     "output_type": "stream",
     "text": [
      "拉高gain\n",
      "[[  0   0   0   0   0   0   0   0   0   0   0   0   0   0   0   0   0   0\n",
      "    0   0   0   0   0   0   0   0   0   0]\n",
      " [  0   0   0   0   0   0   0   0   0   0   0   0   0   0   0   0   0   0\n",
      "    0   0   0   0   0   0   0   0   0   0]\n",
      " [  0   0   0   0   0   0   0   0   0   0   0   0   0   0   0   0   0   0\n",
      "    0   0   0   0   0   0   0   0   0   0]\n",
      " [  0   0   0   0   0   0   0   0   0   0   0   0   0   0   0   0   0   0\n",
      "    0   0   0   0   0   0   0   0   0   0]\n",
      " [  0   0   0   0   0   0   0   0   0   0   0   0   0   0   0   0   0   0\n",
      "    0   0   0   0   0   0   0   0   0   0]\n",
      " [  0   0   0   0   0   0   0   0   0   0   0   0   0   0   0   0   0   0\n",
      "    0   0   0   0   0   0   0   0   0   0]\n",
      " [  0   0   0   0   0   0   0   0   0   0   0   0   0   0   0   0   0   0\n",
      "    0   0   0   0   0   0   0   0   0   0]\n",
      " [  0   0   0   0   0   0   0   0   0   0   0   0   0   0   0   0   0   0\n",
      "    0   0   0   0   0 255 255 255  24   0]\n",
      " [  0   0   0   0   0   0   0   0   0   0   0   0   0   0   0   0   0   0\n",
      "    0   0   0   0 198 255 255 255   0   0]\n",
      " [  0   0   0   0   0   0   0   0   0   0   0   0   0   0   0   0   0   0\n",
      "    0   0   0  42 255 255 255 144   0   0]\n",
      " [  0   0   0   0   0   0   0   0   0   0   0   0   0   0   0   0   0   0\n",
      "    0   0   0 255 255 255 255   0   0   0]\n",
      " [  0   0   0   0   0   0   0   0   0   0   0   0   0   0   0   0   0   0\n",
      "    0   0 183 255 255 255  78   0   0   0]\n",
      " [  0   0   0   0   0   0   0   0   0   0   0   0   0   0   0   0   0   0\n",
      "    0  18 255 255 255 255   0   0   0   0]\n",
      " [  0   0   0   0   0   0   0   0   0   0   0   0   0   0   0   0   0   0\n",
      "    0 243 255 255 255  78   0   0   0   0]\n",
      " [  0   0   0   0   0   0   0   0   0   0   0   0   0   0   0   0   0   0\n",
      "   30 255 255 255 255   0   0   0   0   0]\n",
      " [  0   0   0   0   0   0   0   0   0   0   0   0   0   0   0   0   0   0\n",
      "  210 255 255 255   0   0   0   0   0   0]\n",
      " [  0   0   0   0   0   0   0   0   0   0   0   0   0   0   0   0   0   0\n",
      "  255 255 255 255   0   0   0   0   0   0]\n",
      " [  0   0   0   0   0   0   0   0   0   0   0   0   0   0   0   0   3 117\n",
      "  255 255 255  33   0   0   0   0   0   0]\n",
      " [  0   0   0   0   0   0   0   0   0   0   0   0   0   0   9   3   3 255\n",
      "  255 255 240   0   0   0   0   0   0   0]\n",
      " [  0   0   0   0   0   0   0   0   0   0   0   0   0   0   0   3 156 255\n",
      "  255 255   0   0   0   0   0   0   0   3]\n",
      " [  0   0   0   0   0   0   0   0   0   0   0   0   0   0   0   9 255 255\n",
      "  255 198   0   0   0   0   0   0   0   0]\n",
      " [  0   0   0   0   0   0   0   0   0   0   0   0   0   0   0  18 255 255\n",
      "  255   0   0   0   0   0   0   0   6   0]\n",
      " [  0   0   0   0   0   0   0   0   0   0   0   0   0   0   0   0   0 129\n",
      "  237   0   0   0   0   0   0   0   0  15]\n",
      " [  0   0   0   0   0   0   0   0   0   0   0   0   0   0   0   0   0   0\n",
      "    0   0   0   0   0   0   0   0   0   9]\n",
      " [  0   0   0   0   0   0   0   0   0   0   0   0   0   0   0   0   0   0\n",
      "    0   0   0   0   0   0   0   0   3  12]\n",
      " [  0   0   0   0   0   0   0   0   0   0   0   0   0   0   0   0   0   0\n",
      "    0   0   0   0   0   0   3   0   9  18]\n",
      " [  0   0   0   0   0   0   0   0   0   0   0   0   0   0   0   0   0   0\n",
      "    0   0   0   0   0   0   6   9   9  18]\n",
      " [  0   0   0   0   0   0   0   0   0   0   0   0   0   0   0   0   0   0\n",
      "    0   0   0   0   0   0  15   0   9  12]]\n"
     ]
    },
    {
     "data": {
      "text/plain": [
       "<matplotlib.figure.Figure at 0x19c611d5048>"
      ]
     },
     "metadata": {},
     "output_type": "display_data"
    },
    {
     "data": {
      "text/plain": [
       "<matplotlib.figure.Figure at 0x19c6121f9b0>"
      ]
     },
     "metadata": {},
     "output_type": "display_data"
    },
    {
     "name": "stdout",
     "output_type": "stream",
     "text": [
      "new_img_array[ 19 ]= [[234 234 236 234 237 237 237 237 233 235 233 234 233 237 233 234 237 235\n",
      "  234 233 231 228 230 229 229 235 235 237]\n",
      " [234 236 232 232 235 237 237 235 235 234 231 233 234 233 235 235 232 234\n",
      "  231 230 227 227 227 226 227 231 234 234]\n",
      " [235 235 234 235 233 234 236 237 237 231 232 230 234 232 235 238 234 231\n",
      "  227 224 220 219 217 215 219 217 222 222]\n",
      " [233 234 231 229 231 229 231 233 234 230 233 230 231 233 235 233 223 222\n",
      "  217 218 216 213 212 212 213 215 217 219]\n",
      " [230 231 231 230 231 228 231 230 233 233 231 233 227 229 228 222 219 219\n",
      "  217 216 214 215 213 211 211 213 216 219]\n",
      " [220 214 214 213 203 188 180 178 177 175 174 173 172 171 172 171 171 173\n",
      "  175 175 175 175 176 176 175 174 178 216]\n",
      " [216 216 212 205 197 184 178 175 173 172 169 168 167 164 167 167 169 169\n",
      "  168 171 171 171 171 175 173 172 172 208]\n",
      " [217 213 208 201 193 182 176 175 171 168 167 161 160 161 160 162 166 164\n",
      "  165 167 168 168 169 168 169 168 168 187]\n",
      " [215 206 201 194 193 182 173 169 165 167 161 161 161 161 158 160 160 161\n",
      "  164 162 164 163 164 166 167 167 167 167]\n",
      " [212 200 194 193 189 180 168 167 167 164 162 158 157 157 157 157 158 160\n",
      "  160 159 160 162 164 162 165 165 164 158]\n",
      " [206 197 193 190 186 179 171 165 164 162 160 157 156 156 156 155 156 157\n",
      "  157 156 157 158 160 162 162 162 164 154]\n",
      " [200 195 191 187 186 179 167 166 160 160 157 158 156 153 151 153 154 153\n",
      "  155 156 156 157 157 159 159 160 162 150]\n",
      " [200 193 188 185 183 178 167 161 147 116  95 156 154 151 151 151 151 154\n",
      "  153 155 154 154 156 157 156 157 160 151]\n",
      " [201 194 188 184 183 180 167 161  58  28  33 101 153 150 149 150 150 150\n",
      "  150 152 151 151 153 154 154 154 160 151]\n",
      " [201 194 189 184 183 180 168 135  45  32  30 149 151 150 150 147 149 150\n",
      "  149 149 150 151 151 154 154 153 157 150]\n",
      " [202 193 190 184 182 181 168  54  30  37  75 153 150 147 146 147 149 149\n",
      "  149 149 151 151 153 153 156 154 156 147]\n",
      " [200 193 189 184 182 179 145  58  35  39 149 153 150 146 146 147 147 149\n",
      "  149 149 150 150 151 151 156 154 156 143]\n",
      " [201 194 186 184 182 178  64  50  39  36 155 154 150 146 147 146 147 146\n",
      "  147 148 149 151 151 151 151 153 154 136]\n",
      " [201 194 187 185 182 170  66  40  37 124 157 154 151 147 147 148 146 146\n",
      "  147 147 149 150 150 150 152 151 151 132]\n",
      " [201 195 187 186 183 100  63  46  42 157 157 154 151 149 149 146 147 145\n",
      "  146 147 147 150 149 151 149 149 152 135]\n",
      " [200 195 188 184 184  73  48  43 131 161 157 155 150 146 146 145 145 145\n",
      "  145 146 146 147 149 150 150 146 150 131]\n",
      " [198 195 185 186 182  71  48  47 163 160 157 154 151 146 146 141 145 145\n",
      "  144 146 143 145 143 146 147 145 145 122]\n",
      " [195 193 186 180 146  59  53  71 162 158 158 154 150 144 142 139 143 143\n",
      "  143 145 142 145 144 147 145 143 142 131]\n",
      " [194 191 182 182  75  48  51 165 164 158 157 153 149 143 142 140 141 143\n",
      "  143 143 142 145 145 143 145 142 142 140]\n",
      " [197 189 185 176  76  55  51 171 163 160 156 152 149 146 143 143 143 142\n",
      "  143 142 144 142 141 142 139 140 138 138]\n",
      " [191 189 186 163  61  60 125 172 160 159 157 153 150 146 142 140 142 142\n",
      "  142 142 139 138 140 142 139 138 136 136]\n",
      " [198 190 192 190 187  97 178 168 157 158 154 154 150 147 142 141 139 142\n",
      "  139 139 136 138 139 137 138 136 136 140]\n",
      " [200 200 194 187 185 184 181 168 160 155 154 154 147 146 142 142 142 140\n",
      "  139 142 136 138 137 139 139 138 137 135]]\n"
     ]
    },
    {
     "data": {
      "text/plain": [
       "<matplotlib.figure.Figure at 0x19c61697160>"
      ]
     },
     "metadata": {},
     "output_type": "display_data"
    },
    {
     "name": "stdout",
     "output_type": "stream",
     "text": [
      "反白後\n",
      "[[ 21  21  19  21  18  18  18  18  22  20  22  21  22  18  22  21  18  20\n",
      "   21  22  24  27  25  26  26  20  20  18]\n",
      " [ 21  19  23  23  20  18  18  20  20  21  24  22  21  22  20  20  23  21\n",
      "   24  25  28  28  28  29  28  24  21  21]\n",
      " [ 20  20  21  20  22  21  19  18  18  24  23  25  21  23  20  17  21  24\n",
      "   28  31  35  36  38  40  36  38  33  33]\n",
      " [ 22  21  24  26  24  26  24  22  21  25  22  25  24  22  20  22  32  33\n",
      "   38  37  39  42  43  43  42  40  38  36]\n",
      " [ 25  24  24  25  24  27  24  25  22  22  24  22  28  26  27  33  36  36\n",
      "   38  39  41  40  42  44  44  42  39  36]\n",
      " [ 35  41  41  42  52  67  75  77  78  80  81  82  83  84  83  84  84  82\n",
      "   80  80  80  80  79  79  80  81  77  39]\n",
      " [ 39  39  43  50  58  71  77  80  82  83  86  87  88  91  88  88  86  86\n",
      "   87  84  84  84  84  80  82  83  83  47]\n",
      " [ 38  42  47  54  62  73  79  80  84  87  88  94  95  94  95  93  89  91\n",
      "   90  88  87  87  86  87  86  87  87  68]\n",
      " [ 40  49  54  61  62  73  82  86  90  88  94  94  94  94  97  95  95  94\n",
      "   91  93  91  92  91  89  88  88  88  88]\n",
      " [ 43  55  61  62  66  75  87  88  88  91  93  97  98  98  98  98  97  95\n",
      "   95  96  95  93  91  93  90  90  91  97]\n",
      " [ 49  58  62  65  69  76  84  90  91  93  95  98  99  99  99 100  99  98\n",
      "   98  99  98  97  95  93  93  93  91 101]\n",
      " [ 55  60  64  68  69  76  88  89  95  95  98  97  99 102 104 102 101 102\n",
      "  100  99  99  98  98  96  96  95  93 105]\n",
      " [ 55  62  67  70  72  77  88  94 108 139 160  99 101 104 104 104 104 101\n",
      "  102 100 101 101  99  98  99  98  95 104]\n",
      " [ 54  61  67  71  72  75  88  94 197 227 222 154 102 105 106 105 105 105\n",
      "  105 103 104 104 102 101 101 101  95 104]\n",
      " [ 54  61  66  71  72  75  87 120 210 223 225 106 104 105 105 108 106 105\n",
      "  106 106 105 104 104 101 101 102  98 105]\n",
      " [ 53  62  65  71  73  74  87 201 225 218 180 102 105 108 109 108 106 106\n",
      "  106 106 104 104 102 102  99 101  99 108]\n",
      " [ 55  62  66  71  73  76 110 197 220 216 106 102 105 109 109 108 108 106\n",
      "  106 106 105 105 104 104  99 101  99 112]\n",
      " [ 54  61  69  71  73  77 191 205 216 219 100 101 105 109 108 109 108 109\n",
      "  108 107 106 104 104 104 104 102 101 119]\n",
      " [ 54  61  68  70  73  85 189 215 218 131  98 101 104 108 108 107 109 109\n",
      "  108 108 106 105 105 105 103 104 104 123]\n",
      " [ 54  60  68  69  72 155 192 209 213  98  98 101 104 106 106 109 108 110\n",
      "  109 108 108 105 106 104 106 106 103 120]\n",
      " [ 55  60  67  71  71 182 207 212 124  94  98 100 105 109 109 110 110 110\n",
      "  110 109 109 108 106 105 105 109 105 124]\n",
      " [ 57  60  70  69  73 184 207 208  92  95  98 101 104 109 109 114 110 110\n",
      "  111 109 112 110 112 109 108 110 110 133]\n",
      " [ 60  62  69  75 109 196 202 184  93  97  97 101 105 111 113 116 112 112\n",
      "  112 110 113 110 111 108 110 112 113 124]\n",
      " [ 61  64  73  73 180 207 204  90  91  97  98 102 106 112 113 115 114 112\n",
      "  112 112 113 110 110 112 110 113 113 115]\n",
      " [ 58  66  70  79 179 200 204  84  92  95  99 103 106 109 112 112 112 113\n",
      "  112 113 111 113 114 113 116 115 117 117]\n",
      " [ 64  66  69  92 194 195 130  83  95  96  98 102 105 109 113 115 113 113\n",
      "  113 113 116 117 115 113 116 117 119 119]\n",
      " [ 57  65  63  65  68 158  77  87  98  97 101 101 105 108 113 114 116 113\n",
      "  116 116 119 117 116 118 117 119 119 115]\n",
      " [ 55  55  61  68  70  71  74  87  95 100 101 101 108 109 113 113 113 115\n",
      "  116 113 119 117 118 116 116 117 118 120]]\n"
     ]
    },
    {
     "data": {
      "text/plain": [
       "<matplotlib.figure.Figure at 0x19c6159b4a8>"
      ]
     },
     "metadata": {},
     "output_type": "display_data"
    },
    {
     "name": "stdout",
     "output_type": "stream",
     "text": [
      "(28, 28)\n",
      "拉黑120後\n",
      "[[  0   0   0   0   0   0   0   0   0   0   0   0   0   0   0   0   0   0\n",
      "    0   0   0   0   0   0   0   0   0   0]\n",
      " [  0   0   0   0   0   0   0   0   0   0   0   0   0   0   0   0   0   0\n",
      "    0   0   0   0   0   0   0   0   0   0]\n",
      " [  0   0   0   0   0   0   0   0   0   0   0   0   0   0   0   0   0   0\n",
      "    0   0   0   0   0   0   0   0   0   0]\n",
      " [  0   0   0   0   0   0   0   0   0   0   0   0   0   0   0   0   0   0\n",
      "    0   0   0   0   0   0   0   0   0   0]\n",
      " [  0   0   0   0   0   0   0   0   0   0   0   0   0   0   0   0   0   0\n",
      "    0   0   0   0   0   0   0   0   0   0]\n",
      " [  0   0   0   0   0   0   0   0   0   0   0   0   0   0   0   0   0   0\n",
      "    0   0   0   0   0   0   0   0   0   0]\n",
      " [  0   0   0   0   0   0   0   0   0   0   0   0   0   0   0   0   0   0\n",
      "    0   0   0   0   0   0   0   0   0   0]\n",
      " [  0   0   0   0   0   0   0   0   0   0   0   0   0   0   0   0   0   0\n",
      "    0   0   0   0   0   0   0   0   0   0]\n",
      " [  0   0   0   0   0   0   0   0   0   0   0   0   0   0   0   0   0   0\n",
      "    0   0   0   0   0   0   0   0   0   0]\n",
      " [  0   0   0   0   0   0   0   0   0   0   0   0   0   0   0   0   0   0\n",
      "    0   0   0   0   0   0   0   0   0   0]\n",
      " [  0   0   0   0   0   0   0   0   0   0   0   0   0   0   0   0   0   0\n",
      "    0   0   0   0   0   0   0   0   0   0]\n",
      " [  0   0   0   0   0   0   0   0   0   0   0   0   0   0   0   0   0   0\n",
      "    0   0   0   0   0   0   0   0   0   0]\n",
      " [  0   0   0   0   0   0   0   0   0  19  40   0   0   0   0   0   0   0\n",
      "    0   0   0   0   0   0   0   0   0   0]\n",
      " [  0   0   0   0   0   0   0   0  77 107 102  34   0   0   0   0   0   0\n",
      "    0   0   0   0   0   0   0   0   0   0]\n",
      " [  0   0   0   0   0   0   0   0  90 103 105   0   0   0   0   0   0   0\n",
      "    0   0   0   0   0   0   0   0   0   0]\n",
      " [  0   0   0   0   0   0   0  81 105  98  60   0   0   0   0   0   0   0\n",
      "    0   0   0   0   0   0   0   0   0   0]\n",
      " [  0   0   0   0   0   0   0  77 100  96   0   0   0   0   0   0   0   0\n",
      "    0   0   0   0   0   0   0   0   0   0]\n",
      " [  0   0   0   0   0   0  71  85  96  99   0   0   0   0   0   0   0   0\n",
      "    0   0   0   0   0   0   0   0   0   0]\n",
      " [  0   0   0   0   0   0  69  95  98  11   0   0   0   0   0   0   0   0\n",
      "    0   0   0   0   0   0   0   0   0   3]\n",
      " [  0   0   0   0   0  35  72  89  93   0   0   0   0   0   0   0   0   0\n",
      "    0   0   0   0   0   0   0   0   0   0]\n",
      " [  0   0   0   0   0  62  87  92   4   0   0   0   0   0   0   0   0   0\n",
      "    0   0   0   0   0   0   0   0   0   4]\n",
      " [  0   0   0   0   0  64  87  88   0   0   0   0   0   0   0   0   0   0\n",
      "    0   0   0   0   0   0   0   0   0  13]\n",
      " [  0   0   0   0   0  76  82  64   0   0   0   0   0   0   0   0   0   0\n",
      "    0   0   0   0   0   0   0   0   0   4]\n",
      " [  0   0   0   0  60  87  84   0   0   0   0   0   0   0   0   0   0   0\n",
      "    0   0   0   0   0   0   0   0   0   0]\n",
      " [  0   0   0   0  59  80  84   0   0   0   0   0   0   0   0   0   0   0\n",
      "    0   0   0   0   0   0   0   0   0   0]\n",
      " [  0   0   0   0  74  75  10   0   0   0   0   0   0   0   0   0   0   0\n",
      "    0   0   0   0   0   0   0   0   0   0]\n",
      " [  0   0   0   0   0  38   0   0   0   0   0   0   0   0   0   0   0   0\n",
      "    0   0   0   0   0   0   0   0   0   0]\n",
      " [  0   0   0   0   0   0   0   0   0   0   0   0   0   0   0   0   0   0\n",
      "    0   0   0   0   0   0   0   0   0   0]]\n"
     ]
    },
    {
     "data": {
      "text/plain": [
       "<matplotlib.figure.Figure at 0x19c614f2630>"
      ]
     },
     "metadata": {},
     "output_type": "display_data"
    },
    {
     "name": "stdout",
     "output_type": "stream",
     "text": [
      "拉高gain\n",
      "[[  0   0   0   0   0   0   0   0   0   0   0   0   0   0   0   0   0   0\n",
      "    0   0   0   0   0   0   0   0   0   0]\n",
      " [  0   0   0   0   0   0   0   0   0   0   0   0   0   0   0   0   0   0\n",
      "    0   0   0   0   0   0   0   0   0   0]\n",
      " [  0   0   0   0   0   0   0   0   0   0   0   0   0   0   0   0   0   0\n",
      "    0   0   0   0   0   0   0   0   0   0]\n",
      " [  0   0   0   0   0   0   0   0   0   0   0   0   0   0   0   0   0   0\n",
      "    0   0   0   0   0   0   0   0   0   0]\n",
      " [  0   0   0   0   0   0   0   0   0   0   0   0   0   0   0   0   0   0\n",
      "    0   0   0   0   0   0   0   0   0   0]\n",
      " [  0   0   0   0   0   0   0   0   0   0   0   0   0   0   0   0   0   0\n",
      "    0   0   0   0   0   0   0   0   0   0]\n",
      " [  0   0   0   0   0   0   0   0   0   0   0   0   0   0   0   0   0   0\n",
      "    0   0   0   0   0   0   0   0   0   0]\n",
      " [  0   0   0   0   0   0   0   0   0   0   0   0   0   0   0   0   0   0\n",
      "    0   0   0   0   0   0   0   0   0   0]\n",
      " [  0   0   0   0   0   0   0   0   0   0   0   0   0   0   0   0   0   0\n",
      "    0   0   0   0   0   0   0   0   0   0]\n",
      " [  0   0   0   0   0   0   0   0   0   0   0   0   0   0   0   0   0   0\n",
      "    0   0   0   0   0   0   0   0   0   0]\n",
      " [  0   0   0   0   0   0   0   0   0   0   0   0   0   0   0   0   0   0\n",
      "    0   0   0   0   0   0   0   0   0   0]\n",
      " [  0   0   0   0   0   0   0   0   0   0   0   0   0   0   0   0   0   0\n",
      "    0   0   0   0   0   0   0   0   0   0]\n",
      " [  0   0   0   0   0   0   0   0   0  57 120   0   0   0   0   0   0   0\n",
      "    0   0   0   0   0   0   0   0   0   0]\n",
      " [  0   0   0   0   0   0   0   0 231 255 255 102   0   0   0   0   0   0\n",
      "    0   0   0   0   0   0   0   0   0   0]\n",
      " [  0   0   0   0   0   0   0   0 255 255 255   0   0   0   0   0   0   0\n",
      "    0   0   0   0   0   0   0   0   0   0]\n",
      " [  0   0   0   0   0   0   0 243 255 255 180   0   0   0   0   0   0   0\n",
      "    0   0   0   0   0   0   0   0   0   0]\n",
      " [  0   0   0   0   0   0   0 231 255 255   0   0   0   0   0   0   0   0\n",
      "    0   0   0   0   0   0   0   0   0   0]\n",
      " [  0   0   0   0   0   0 213 255 255 255   0   0   0   0   0   0   0   0\n",
      "    0   0   0   0   0   0   0   0   0   0]\n",
      " [  0   0   0   0   0   0 207 255 255  33   0   0   0   0   0   0   0   0\n",
      "    0   0   0   0   0   0   0   0   0   9]\n",
      " [  0   0   0   0   0 105 216 255 255   0   0   0   0   0   0   0   0   0\n",
      "    0   0   0   0   0   0   0   0   0   0]\n",
      " [  0   0   0   0   0 186 255 255  12   0   0   0   0   0   0   0   0   0\n",
      "    0   0   0   0   0   0   0   0   0  12]\n",
      " [  0   0   0   0   0 192 255 255   0   0   0   0   0   0   0   0   0   0\n",
      "    0   0   0   0   0   0   0   0   0  39]\n",
      " [  0   0   0   0   0 228 246 192   0   0   0   0   0   0   0   0   0   0\n",
      "    0   0   0   0   0   0   0   0   0  12]\n",
      " [  0   0   0   0 180 255 252   0   0   0   0   0   0   0   0   0   0   0\n",
      "    0   0   0   0   0   0   0   0   0   0]\n",
      " [  0   0   0   0 177 240 252   0   0   0   0   0   0   0   0   0   0   0\n",
      "    0   0   0   0   0   0   0   0   0   0]\n",
      " [  0   0   0   0 222 225  30   0   0   0   0   0   0   0   0   0   0   0\n",
      "    0   0   0   0   0   0   0   0   0   0]\n",
      " [  0   0   0   0   0 114   0   0   0   0   0   0   0   0   0   0   0   0\n",
      "    0   0   0   0   0   0   0   0   0   0]\n",
      " [  0   0   0   0   0   0   0   0   0   0   0   0   0   0   0   0   0   0\n",
      "    0   0   0   0   0   0   0   0   0   0]]\n"
     ]
    },
    {
     "data": {
      "text/plain": [
       "<matplotlib.figure.Figure at 0x19c6143bbe0>"
      ]
     },
     "metadata": {},
     "output_type": "display_data"
    },
    {
     "data": {
      "text/plain": [
       "<matplotlib.figure.Figure at 0x19c618ed438>"
      ]
     },
     "metadata": {},
     "output_type": "display_data"
    },
    {
     "name": "stdout",
     "output_type": "stream",
     "text": [
      "new_img_array[ 20 ]= [[160 127  80  52  42  35  28  23  24  25  22  21  26  24  21  24  23  26\n",
      "   22  55  89 123 126 120 123 121 122 121]\n",
      " [143  81  47  36  33  31  28  29  27  30  28  28  28  28  26  25  26  21\n",
      "   21  23  57 106 124 125 122 127 124 127]\n",
      " [120  46  41  30  31  30  44  41  43  49  53  59  54  51  48  39  32  25\n",
      "   19  21  27  74 113 123 122 118 123 120]\n",
      " [ 98  49  41  32  36  40  59  87 106 115 126 126 127 117 116  96  71  38\n",
      "   19  15  21  35  85 110 122 122 122 112]\n",
      " [ 74  45  36  35  42  74 123 140 134 132 132 134 129 129 127 125 121  96\n",
      "   46  18  18  19  60 105 119 120 118 118]\n",
      " [ 78  36  31  41  58 117 138 135 130 132 133 130 128 128 127 126 124 122\n",
      "   80  20  17  18  39  95 120 119 116 118]\n",
      " [102  35  30  39  98 137 138 129 129 132 127 129 127 123 124 120 123 121\n",
      "   93  36  17  19  26  83 108 117 121 120]\n",
      " [142 106  81  88 123 139 138 132 129 128 123 123 121 120 119 119 120 120\n",
      "   98  41  15  18  20  69 109 120 117 120]\n",
      " [158 148 146 143 139 139 133 131 125 124 122 121 121 115 117 115 114 114\n",
      "   98  48  17  15  23  63 112 118 119 120]\n",
      " [160 150 146 140 138 137 131 127 126 124 121 119 118 115 114 113 113 107\n",
      "   79  30  17  15  20  64 114 121 123 120]\n",
      " [164 154 146 141 134 131 129 123 126 123 120 116 114 116 113 111 108  86\n",
      "   44  21  17  18  23  77 117 121 123 121]\n",
      " [171 156 147 140 135 131 128 127 124 121 118 111 112 111 109 109  88  45\n",
      "   26  18  18  21  48  97 116 120 117 121]\n",
      " [174 156 146 140 135 132 126 126 122 118 116 110 110 108 108  85  44  28\n",
      "   19  17  19  27  80 120 117 118 121 117]\n",
      " [172 157 144 139 134 131 128 121 121 114 115 110 111 111  83  40  26  24\n",
      "   21  21  23  61 104 115 118 120 118 120]\n",
      " [169 160 146 140 131 130 125 121 118 118 114 112 108  80  39  26  20  22\n",
      "   25  25  49  98 111 115 117 118 118 122]\n",
      " [175 173 148 139 136 129 126 122 118 116 112 106  74  33  25  19  19  24\n",
      "   29  59  95 113 116 118 118 120 120 119]\n",
      " [179 175 147 142 136 130 120 117 114 105  90  55  31  24  21  22  25  50\n",
      "   90 105 110 110 110 112 109 117 116 114]\n",
      " [171 171 154 137 134 127 120 108  79  44  29  26  22  24  23  25  35  64\n",
      "   71  68  68  91 112 114 117 113 117 111]\n",
      " [167 168 162 135 122 102  66  36  26  22  20  22  22  19  19  19  22  15\n",
      "   15  14  17  21  61 104 108 116 114 108]\n",
      " [165 168 161  66  32  26  24  21  20  21  23  24  22  21  21  23  25  20\n",
      "   22  24  22  22  20  73 114 113 111 112]\n",
      " [164 165 165  66  34  29  25  30  32  32  32  32  29  28  28  26  26  26\n",
      "   25  24  27  35  71 102 116 116 115 116]\n",
      " [158 162 163 142  40  32  35  35  37  36  34  36  40  48  51  65  77  88\n",
      "   95 109 116 116 115 118 120 118 117 113]\n",
      " [155 155 158 164 152 149 141 140 139 134 133 130 128 131 129 125 128 124\n",
      "  122 116 116 120 121 120 120 116 116 112]\n",
      " [154 153 158 160 159 150 147 145 139 136 135 132 134 133 129 129 127 121\n",
      "  118 117 118 118 119 117 117 121 116 115]\n",
      " [153 155 156 162 158 150 148 146 141 135 130 131 127 126 126 127 124 123\n",
      "  118 118 117 117 119 113 116 113 117 115]\n",
      " [155 158 160 159 161 151 150 143 142 138 135 131 127 127 127 127 124 125\n",
      "  123 119 116 121 115 119 115 117 117 115]\n",
      " [163 158 159 161 161 157 147 150 143 134 136 133 134 131 135 129 127 125\n",
      "  125 122 112 117 115 122 121 122 121 114]\n",
      " [166 158 159 158 161 162 150 150 144 140 136 131 131 134 133 131 131 125\n",
      "  123 119 121 118 118 123 122 117 120 115]]\n"
     ]
    },
    {
     "data": {
      "text/plain": [
       "<matplotlib.figure.Figure at 0x19c612a8ba8>"
      ]
     },
     "metadata": {},
     "output_type": "display_data"
    },
    {
     "name": "stdout",
     "output_type": "stream",
     "text": [
      "反白後\n",
      "[[ 95 128 175 203 213 220 227 232 231 230 233 234 229 231 234 231 232 229\n",
      "  233 200 166 132 129 135 132 134 133 134]\n",
      " [112 174 208 219 222 224 227 226 228 225 227 227 227 227 229 230 229 234\n",
      "  234 232 198 149 131 130 133 128 131 128]\n",
      " [135 209 214 225 224 225 211 214 212 206 202 196 201 204 207 216 223 230\n",
      "  236 234 228 181 142 132 133 137 132 135]\n",
      " [157 206 214 223 219 215 196 168 149 140 129 129 128 138 139 159 184 217\n",
      "  236 240 234 220 170 145 133 133 133 143]\n",
      " [181 210 219 220 213 181 132 115 121 123 123 121 126 126 128 130 134 159\n",
      "  209 237 237 236 195 150 136 135 137 137]\n",
      " [177 219 224 214 197 138 117 120 125 123 122 125 127 127 128 129 131 133\n",
      "  175 235 238 237 216 160 135 136 139 137]\n",
      " [153 220 225 216 157 118 117 126 126 123 128 126 128 132 131 135 132 134\n",
      "  162 219 238 236 229 172 147 138 134 135]\n",
      " [113 149 174 167 132 116 117 123 126 127 132 132 134 135 136 136 135 135\n",
      "  157 214 240 237 235 186 146 135 138 135]\n",
      " [ 97 107 109 112 116 116 122 124 130 131 133 134 134 140 138 140 141 141\n",
      "  157 207 238 240 232 192 143 137 136 135]\n",
      " [ 95 105 109 115 117 118 124 128 129 131 134 136 137 140 141 142 142 148\n",
      "  176 225 238 240 235 191 141 134 132 135]\n",
      " [ 91 101 109 114 121 124 126 132 129 132 135 139 141 139 142 144 147 169\n",
      "  211 234 238 237 232 178 138 134 132 134]\n",
      " [ 84  99 108 115 120 124 127 128 131 134 137 144 143 144 146 146 167 210\n",
      "  229 237 237 234 207 158 139 135 138 134]\n",
      " [ 81  99 109 115 120 123 129 129 133 137 139 145 145 147 147 170 211 227\n",
      "  236 238 236 228 175 135 138 137 134 138]\n",
      " [ 83  98 111 116 121 124 127 134 134 141 140 145 144 144 172 215 229 231\n",
      "  234 234 232 194 151 140 137 135 137 135]\n",
      " [ 86  95 109 115 124 125 130 134 137 137 141 143 147 175 216 229 235 233\n",
      "  230 230 206 157 144 140 138 137 137 133]\n",
      " [ 80  82 107 116 119 126 129 133 137 139 143 149 181 222 230 236 236 231\n",
      "  226 196 160 142 139 137 137 135 135 136]\n",
      " [ 76  80 108 113 119 125 135 138 141 150 165 200 224 231 234 233 230 205\n",
      "  165 150 145 145 145 143 146 138 139 141]\n",
      " [ 84  84 101 118 121 128 135 147 176 211 226 229 233 231 232 230 220 191\n",
      "  184 187 187 164 143 141 138 142 138 144]\n",
      " [ 88  87  93 120 133 153 189 219 229 233 235 233 233 236 236 236 233 240\n",
      "  240 241 238 234 194 151 147 139 141 147]\n",
      " [ 90  87  94 189 223 229 231 234 235 234 232 231 233 234 234 232 230 235\n",
      "  233 231 233 233 235 182 141 142 144 143]\n",
      " [ 91  90  90 189 221 226 230 225 223 223 223 223 226 227 227 229 229 229\n",
      "  230 231 228 220 184 153 139 139 140 139]\n",
      " [ 97  93  92 113 215 223 220 220 218 219 221 219 215 207 204 190 178 167\n",
      "  160 146 139 139 140 137 135 137 138 142]\n",
      " [100 100  97  91 103 106 114 115 116 121 122 125 127 124 126 130 127 131\n",
      "  133 139 139 135 134 135 135 139 139 143]\n",
      " [101 102  97  95  96 105 108 110 116 119 120 123 121 122 126 126 128 134\n",
      "  137 138 137 137 136 138 138 134 139 140]\n",
      " [102 100  99  93  97 105 107 109 114 120 125 124 128 129 129 128 131 132\n",
      "  137 137 138 138 136 142 139 142 138 140]\n",
      " [100  97  95  96  94 104 105 112 113 117 120 124 128 128 128 128 131 130\n",
      "  132 136 139 134 140 136 140 138 138 140]\n",
      " [ 92  97  96  94  94  98 108 105 112 121 119 122 121 124 120 126 128 130\n",
      "  130 133 143 138 140 133 134 133 134 141]\n",
      " [ 89  97  96  97  94  93 105 105 111 115 119 124 124 121 122 124 124 130\n",
      "  132 136 134 137 137 132 133 138 135 140]]\n"
     ]
    },
    {
     "data": {
      "text/plain": [
       "<matplotlib.figure.Figure at 0x19c616c7400>"
      ]
     },
     "metadata": {},
     "output_type": "display_data"
    },
    {
     "name": "stdout",
     "output_type": "stream",
     "text": [
      "(28, 28)\n",
      "拉黑120後\n",
      "[[  0   8  55  83  93 100 107 112 111 110 113 114 109 111 114 111 112 109\n",
      "  113  80  46  12   9  15  12  14  13  14]\n",
      " [  0  54  88  99 102 104 107 106 108 105 107 107 107 107 109 110 109 114\n",
      "  114 112  78  29  11  10  13   8  11   8]\n",
      " [ 15  89  94 105 104 105  91  94  92  86  82  76  81  84  87  96 103 110\n",
      "  116 114 108  61  22  12  13  17  12  15]\n",
      " [ 37  86  94 103  99  95  76  48  29  20   9   9   8  18  19  39  64  97\n",
      "  116 120 114 100  50  25  13  13  13  23]\n",
      " [ 61  90  99 100  93  61  12   0   1   3   3   1   6   6   8  10  14  39\n",
      "   89 117 117 116  75  30  16  15  17  17]\n",
      " [ 57  99 104  94  77  18   0   0   5   3   2   5   7   7   8   9  11  13\n",
      "   55 115 118 117  96  40  15  16  19  17]\n",
      " [ 33 100 105  96  37   0   0   6   6   3   8   6   8  12  11  15  12  14\n",
      "   42  99 118 116 109  52  27  18  14  15]\n",
      " [  0  29  54  47  12   0   0   3   6   7  12  12  14  15  16  16  15  15\n",
      "   37  94 120 117 115  66  26  15  18  15]\n",
      " [  0   0   0   0   0   0   2   4  10  11  13  14  14  20  18  20  21  21\n",
      "   37  87 118 120 112  72  23  17  16  15]\n",
      " [  0   0   0   0   0   0   4   8   9  11  14  16  17  20  21  22  22  28\n",
      "   56 105 118 120 115  71  21  14  12  15]\n",
      " [  0   0   0   0   1   4   6  12   9  12  15  19  21  19  22  24  27  49\n",
      "   91 114 118 117 112  58  18  14  12  14]\n",
      " [  0   0   0   0   0   4   7   8  11  14  17  24  23  24  26  26  47  90\n",
      "  109 117 117 114  87  38  19  15  18  14]\n",
      " [  0   0   0   0   0   3   9   9  13  17  19  25  25  27  27  50  91 107\n",
      "  116 118 116 108  55  15  18  17  14  18]\n",
      " [  0   0   0   0   1   4   7  14  14  21  20  25  24  24  52  95 109 111\n",
      "  114 114 112  74  31  20  17  15  17  15]\n",
      " [  0   0   0   0   4   5  10  14  17  17  21  23  27  55  96 109 115 113\n",
      "  110 110  86  37  24  20  18  17  17  13]\n",
      " [  0   0   0   0   0   6   9  13  17  19  23  29  61 102 110 116 116 111\n",
      "  106  76  40  22  19  17  17  15  15  16]\n",
      " [  0   0   0   0   0   5  15  18  21  30  45  80 104 111 114 113 110  85\n",
      "   45  30  25  25  25  23  26  18  19  21]\n",
      " [  0   0   0   0   1   8  15  27  56  91 106 109 113 111 112 110 100  71\n",
      "   64  67  67  44  23  21  18  22  18  24]\n",
      " [  0   0   0   0  13  33  69  99 109 113 115 113 113 116 116 116 113 120\n",
      "  120 121 118 114  74  31  27  19  21  27]\n",
      " [  0   0   0  69 103 109 111 114 115 114 112 111 113 114 114 112 110 115\n",
      "  113 111 113 113 115  62  21  22  24  23]\n",
      " [  0   0   0  69 101 106 110 105 103 103 103 103 106 107 107 109 109 109\n",
      "  110 111 108 100  64  33  19  19  20  19]\n",
      " [  0   0   0   0  95 103 100 100  98  99 101  99  95  87  84  70  58  47\n",
      "   40  26  19  19  20  17  15  17  18  22]\n",
      " [  0   0   0   0   0   0   0   0   0   1   2   5   7   4   6  10   7  11\n",
      "   13  19  19  15  14  15  15  19  19  23]\n",
      " [  0   0   0   0   0   0   0   0   0   0   0   3   1   2   6   6   8  14\n",
      "   17  18  17  17  16  18  18  14  19  20]\n",
      " [  0   0   0   0   0   0   0   0   0   0   5   4   8   9   9   8  11  12\n",
      "   17  17  18  18  16  22  19  22  18  20]\n",
      " [  0   0   0   0   0   0   0   0   0   0   0   4   8   8   8   8  11  10\n",
      "   12  16  19  14  20  16  20  18  18  20]\n",
      " [  0   0   0   0   0   0   0   0   0   1   0   2   1   4   0   6   8  10\n",
      "   10  13  23  18  20  13  14  13  14  21]\n",
      " [  0   0   0   0   0   0   0   0   0   0   0   4   4   1   2   4   4  10\n",
      "   12  16  14  17  17  12  13  18  15  20]]\n"
     ]
    },
    {
     "data": {
      "text/plain": [
       "<matplotlib.figure.Figure at 0x19c612850f0>"
      ]
     },
     "metadata": {},
     "output_type": "display_data"
    },
    {
     "name": "stdout",
     "output_type": "stream",
     "text": [
      "拉高gain\n",
      "[[  0  24 165 249 255 255 255 255 255 255 255 255 255 255 255 255 255 255\n",
      "  255 240 138  36  27  45  36  42  39  42]\n",
      " [  0 162 255 255 255 255 255 255 255 255 255 255 255 255 255 255 255 255\n",
      "  255 255 234  87  33  30  39  24  33  24]\n",
      " [ 45 255 255 255 255 255 255 255 255 255 246 228 243 252 255 255 255 255\n",
      "  255 255 255 183  66  36  39  51  36  45]\n",
      " [111 255 255 255 255 255 228 144  87  60  27  27  24  54  57 117 192 255\n",
      "  255 255 255 255 150  75  39  39  39  69]\n",
      " [183 255 255 255 255 183  36   0   3   9   9   3  18  18  24  30  42 117\n",
      "  255 255 255 255 225  90  48  45  51  51]\n",
      " [171 255 255 255 231  54   0   0  15   9   6  15  21  21  24  27  33  39\n",
      "  165 255 255 255 255 120  45  48  57  51]\n",
      " [ 99 255 255 255 111   0   0  18  18   9  24  18  24  36  33  45  36  42\n",
      "  126 255 255 255 255 156  81  54  42  45]\n",
      " [  0  87 162 141  36   0   0   9  18  21  36  36  42  45  48  48  45  45\n",
      "  111 255 255 255 255 198  78  45  54  45]\n",
      " [  0   0   0   0   0   0   6  12  30  33  39  42  42  60  54  60  63  63\n",
      "  111 255 255 255 255 216  69  51  48  45]\n",
      " [  0   0   0   0   0   0  12  24  27  33  42  48  51  60  63  66  66  84\n",
      "  168 255 255 255 255 213  63  42  36  45]\n",
      " [  0   0   0   0   3  12  18  36  27  36  45  57  63  57  66  72  81 147\n",
      "  255 255 255 255 255 174  54  42  36  42]\n",
      " [  0   0   0   0   0  12  21  24  33  42  51  72  69  72  78  78 141 255\n",
      "  255 255 255 255 255 114  57  45  54  42]\n",
      " [  0   0   0   0   0   9  27  27  39  51  57  75  75  81  81 150 255 255\n",
      "  255 255 255 255 165  45  54  51  42  54]\n",
      " [  0   0   0   0   3  12  21  42  42  63  60  75  72  72 156 255 255 255\n",
      "  255 255 255 222  93  60  51  45  51  45]\n",
      " [  0   0   0   0  12  15  30  42  51  51  63  69  81 165 255 255 255 255\n",
      "  255 255 255 111  72  60  54  51  51  39]\n",
      " [  0   0   0   0   0  18  27  39  51  57  69  87 183 255 255 255 255 255\n",
      "  255 228 120  66  57  51  51  45  45  48]\n",
      " [  0   0   0   0   0  15  45  54  63  90 135 240 255 255 255 255 255 255\n",
      "  135  90  75  75  75  69  78  54  57  63]\n",
      " [  0   0   0   0   3  24  45  81 168 255 255 255 255 255 255 255 255 213\n",
      "  192 201 201 132  69  63  54  66  54  72]\n",
      " [  0   0   0   0  39  99 207 255 255 255 255 255 255 255 255 255 255 255\n",
      "  255 255 255 255 222  93  81  57  63  81]\n",
      " [  0   0   0 207 255 255 255 255 255 255 255 255 255 255 255 255 255 255\n",
      "  255 255 255 255 255 186  63  66  72  69]\n",
      " [  0   0   0 207 255 255 255 255 255 255 255 255 255 255 255 255 255 255\n",
      "  255 255 255 255 192  99  57  57  60  57]\n",
      " [  0   0   0   0 255 255 255 255 255 255 255 255 255 255 252 210 174 141\n",
      "  120  78  57  57  60  51  45  51  54  66]\n",
      " [  0   0   0   0   0   0   0   0   0   3   6  15  21  12  18  30  21  33\n",
      "   39  57  57  45  42  45  45  57  57  69]\n",
      " [  0   0   0   0   0   0   0   0   0   0   0   9   3   6  18  18  24  42\n",
      "   51  54  51  51  48  54  54  42  57  60]\n",
      " [  0   0   0   0   0   0   0   0   0   0  15  12  24  27  27  24  33  36\n",
      "   51  51  54  54  48  66  57  66  54  60]\n",
      " [  0   0   0   0   0   0   0   0   0   0   0  12  24  24  24  24  33  30\n",
      "   36  48  57  42  60  48  60  54  54  60]\n",
      " [  0   0   0   0   0   0   0   0   0   3   0   6   3  12   0  18  24  30\n",
      "   30  39  69  54  60  39  42  39  42  63]\n",
      " [  0   0   0   0   0   0   0   0   0   0   0  12  12   3   6  12  12  30\n",
      "   36  48  42  51  51  36  39  54  45  60]]\n"
     ]
    },
    {
     "data": {
      "text/plain": [
       "<matplotlib.figure.Figure at 0x19c6137cda0>"
      ]
     },
     "metadata": {},
     "output_type": "display_data"
    },
    {
     "data": {
      "text/plain": [
       "<matplotlib.figure.Figure at 0x19c61611208>"
      ]
     },
     "metadata": {},
     "output_type": "display_data"
    },
    {
     "name": "stdout",
     "output_type": "stream",
     "text": [
      "new_img_array[ 21 ]= [[223 224 206 201 197 198 193 193 189 190 189 189 190 189 183 179 178 176\n",
      "  175 174 174 174 172 172 172 171 171 169]\n",
      " [223 223 211 200 195 194 192 191 189 187 187 187 184 179 176 176 176 173\n",
      "  172 171 172 171 169 171 168 169 170 168]\n",
      " [221 222 219 202 195 191 191 189 184 179 180 174 168 165 171 169 172 169\n",
      "  169 170 172 169 170 169 164 162 162 160]\n",
      " [219 220 219 201 197 190 190 154  70  55  53  51  48  47  46  47  60 146\n",
      "  168 166 164 162 161 158 154 153 155 153]\n",
      " [217 220 220 204 195 191 118  62  50  46  41  40  39  36  35  36  36  37\n",
      "  124 157 157 156 155 156 151 152 153 155]\n",
      " [217 219 219 207 195 157  61  45  40  60  57  76 102 110  98  67  35  29\n",
      "   33 131 154 154 154 153 151 151 151 151]\n",
      " [215 217 217 213 190  77  51  46  57 149 161 159 158 154 153 153 136  26\n",
      "   26  44 149 151 151 150 147 147 147 146]\n",
      " [213 213 216 216 190  60  39  48 143 158 156 156 153 153 151 150 149  79\n",
      "   26  30 127 147 145 147 145 142 142 142]\n",
      " [211 213 215 215 188 165 108 109 158 157 156 150 149 145 145 141 142  98\n",
      "   22  24  85 140 138 140 140 139 140 140]\n",
      " [209 211 210 212 194 171 164 161 158 151 147 146 139 138 135 132 131  83\n",
      "   22  24  70 138 139 137 139 137 140 140]\n",
      " [205 208 208 208 202 170 165 157 151 146 142 137 134 131 131 131 105  35\n",
      "   23  28  97 137 139 139 138 138 139 138]\n",
      " [193 197 196 195 191 176 163 157 147 140 137 135 131 129 129 107  39  24\n",
      "   25  36 133 138 137 136 138 139 137 136]\n",
      " [189 184 180 177 176 174 161 153 145 138 134 133 131 128 108  40  30  32\n",
      "   30 100 135 136 135 136 137 131 135 132]\n",
      " [173 167 166 168 172 178 162 153 144 138 133 129 128 107  39  26  28  30\n",
      "   82 132 134 134 135 135 130 132 131 127]\n",
      " [161 158 158 161 176 181 161 154 142 136 129 127  82  36  25  29  37 116\n",
      "  128 122 128 131 131 130 127 127 123 125]\n",
      " [162 158 169 173 172 175 160 150 137 129  69  35  28  28  25  26  35  29\n",
      "   21  32 113 131 129 131 124 124 127 124]\n",
      " [175 173 170 168 171 172 166 127  39  29  19  24  25  24  24  26  27  28\n",
      "   28  28  25 117 131 132 132 131 131 126]\n",
      " [186 173 167 168 171 171 138  35  28  29  33  36  35  33  32  32  32  31\n",
      "   36  80 122 135 136 137 135 134 131 129]\n",
      " [183 178 168 168 171 169 168  41  39  37  46  53  69  97 119 133 139 135\n",
      "  134 132 135 135 135 135 135 134 132 134]\n",
      " [183 179 168 165 165 164 165 166 160 151 145 142 138 138 142 140 138 135\n",
      "  134 134 135 135 136 137 135 134 138 139]\n",
      " [182 182 172 160 162 162 168 168 162 153 146 140 140 136 136 136 136 136\n",
      "  136 136 138 136 138 140 140 142 142 140]\n",
      " [179 178 172 161 160 164 165 165 165 161 150 142 140 136 140 139 138 138\n",
      "  135 138 136 138 139 142 142 139 135 139]\n",
      " [180 176 176 168 165 165 165 167 164 164 154 146 142 140 140 142 142 141\n",
      "  139 139 140 142 142 143 142 143 139 139]\n",
      " [178 178 178 174 165 167 169 167 172 167 160 149 145 141 141 143 142 140\n",
      "  142 140 143 145 142 145 143 142 142 142]\n",
      " [179 178 178 178 167 164 163 167 169 165 164 149 143 141 140 142 142 140\n",
      "  140 140 144 147 145 145 143 139 138 138]\n",
      " [182 180 179 177 174 161 164 162 167 165 160 157 149 140 139 137 142 145\n",
      "  147 145 146 143 145 143 142 134 138 136]\n",
      " [179 178 177 179 175 165 162 164 163 179 165 157 153 153 153 154 151 149\n",
      "  149 147 147 146 145 143 144 142 140 140]\n",
      " [182 179 180 177 176 171 161 164 163 169 168 167 162 155 156 156 152 151\n",
      "  149 150 149 147 146 146 143 140 141 140]]\n"
     ]
    },
    {
     "data": {
      "text/plain": [
       "<matplotlib.figure.Figure at 0x19c617ec5c0>"
      ]
     },
     "metadata": {},
     "output_type": "display_data"
    },
    {
     "name": "stdout",
     "output_type": "stream",
     "text": [
      "反白後\n",
      "[[ 32  31  49  54  58  57  62  62  66  65  66  66  65  66  72  76  77  79\n",
      "   80  81  81  81  83  83  83  84  84  86]\n",
      " [ 32  32  44  55  60  61  63  64  66  68  68  68  71  76  79  79  79  82\n",
      "   83  84  83  84  86  84  87  86  85  87]\n",
      " [ 34  33  36  53  60  64  64  66  71  76  75  81  87  90  84  86  83  86\n",
      "   86  85  83  86  85  86  91  93  93  95]\n",
      " [ 36  35  36  54  58  65  65 101 185 200 202 204 207 208 209 208 195 109\n",
      "   87  89  91  93  94  97 101 102 100 102]\n",
      " [ 38  35  35  51  60  64 137 193 205 209 214 215 216 219 220 219 219 218\n",
      "  131  98  98  99 100  99 104 103 102 100]\n",
      " [ 38  36  36  48  60  98 194 210 215 195 198 179 153 145 157 188 220 226\n",
      "  222 124 101 101 101 102 104 104 104 104]\n",
      " [ 40  38  38  42  65 178 204 209 198 106  94  96  97 101 102 102 119 229\n",
      "  229 211 106 104 104 105 108 108 108 109]\n",
      " [ 42  42  39  39  65 195 216 207 112  97  99  99 102 102 104 105 106 176\n",
      "  229 225 128 108 110 108 110 113 113 113]\n",
      " [ 44  42  40  40  67  90 147 146  97  98  99 105 106 110 110 114 113 157\n",
      "  233 231 170 115 117 115 115 116 115 115]\n",
      " [ 46  44  45  43  61  84  91  94  97 104 108 109 116 117 120 123 124 172\n",
      "  233 231 185 117 116 118 116 118 115 115]\n",
      " [ 50  47  47  47  53  85  90  98 104 109 113 118 121 124 124 124 150 220\n",
      "  232 227 158 118 116 116 117 117 116 117]\n",
      " [ 62  58  59  60  64  79  92  98 108 115 118 120 124 126 126 148 216 231\n",
      "  230 219 122 117 118 119 117 116 118 119]\n",
      " [ 66  71  75  78  79  81  94 102 110 117 121 122 124 127 147 215 225 223\n",
      "  225 155 120 119 120 119 118 124 120 123]\n",
      " [ 82  88  89  87  83  77  93 102 111 117 122 126 127 148 216 229 227 225\n",
      "  173 123 121 121 120 120 125 123 124 128]\n",
      " [ 94  97  97  94  79  74  94 101 113 119 126 128 173 219 230 226 218 139\n",
      "  127 133 127 124 124 125 128 128 132 130]\n",
      " [ 93  97  86  82  83  80  95 105 118 126 186 220 227 227 230 229 220 226\n",
      "  234 223 142 124 126 124 131 131 128 131]\n",
      " [ 80  82  85  87  84  83  89 128 216 226 236 231 230 231 231 229 228 227\n",
      "  227 227 230 138 124 123 123 124 124 129]\n",
      " [ 69  82  88  87  84  84 117 220 227 226 222 219 220 222 223 223 223 224\n",
      "  219 175 133 120 119 118 120 121 124 126]\n",
      " [ 72  77  87  87  84  86  87 214 216 218 209 202 186 158 136 122 116 120\n",
      "  121 123 120 120 120 120 120 121 123 121]\n",
      " [ 72  76  87  90  90  91  90  89  95 104 110 113 117 117 113 115 117 120\n",
      "  121 121 120 120 119 118 120 121 117 116]\n",
      " [ 73  73  83  95  93  93  87  87  93 102 109 115 115 119 119 119 119 119\n",
      "  119 119 117 119 117 115 115 113 113 115]\n",
      " [ 76  77  83  94  95  91  90  90  90  94 105 113 115 119 115 116 117 117\n",
      "  120 117 119 117 116 113 113 116 120 116]\n",
      " [ 75  79  79  87  90  90  90  88  91  91 101 109 113 115 115 113 113 114\n",
      "  116 116 115 113 113 112 113 112 116 116]\n",
      " [ 77  77  77  81  90  88  86  88  83  88  95 106 110 114 114 112 113 115\n",
      "  113 115 112 110 113 110 112 113 113 113]\n",
      " [ 76  77  77  77  88  91  92  88  86  90  91 106 112 114 115 113 113 115\n",
      "  115 115 111 108 110 110 112 116 117 117]\n",
      " [ 73  75  76  78  81  94  91  93  88  90  95  98 106 115 116 118 113 110\n",
      "  108 110 109 112 110 112 113 121 117 119]\n",
      " [ 76  77  78  76  80  90  93  91  92  76  90  98 102 102 102 101 104 106\n",
      "  106 108 108 109 110 112 111 113 115 115]\n",
      " [ 73  76  75  78  79  84  94  91  92  86  87  88  93 100  99  99 103 104\n",
      "  106 105 106 108 109 109 112 115 114 115]]\n"
     ]
    },
    {
     "data": {
      "text/plain": [
       "<matplotlib.figure.Figure at 0x19c617fb198>"
      ]
     },
     "metadata": {},
     "output_type": "display_data"
    },
    {
     "name": "stdout",
     "output_type": "stream",
     "text": [
      "(28, 28)\n",
      "拉黑120後\n",
      "[[  0   0   0   0   0   0   0   0   0   0   0   0   0   0   0   0   0   0\n",
      "    0   0   0   0   0   0   0   0   0   0]\n",
      " [  0   0   0   0   0   0   0   0   0   0   0   0   0   0   0   0   0   0\n",
      "    0   0   0   0   0   0   0   0   0   0]\n",
      " [  0   0   0   0   0   0   0   0   0   0   0   0   0   0   0   0   0   0\n",
      "    0   0   0   0   0   0   0   0   0   0]\n",
      " [  0   0   0   0   0   0   0   0  65  80  82  84  87  88  89  88  75   0\n",
      "    0   0   0   0   0   0   0   0   0   0]\n",
      " [  0   0   0   0   0   0  17  73  85  89  94  95  96  99 100  99  99  98\n",
      "   11   0   0   0   0   0   0   0   0   0]\n",
      " [  0   0   0   0   0   0  74  90  95  75  78  59  33  25  37  68 100 106\n",
      "  102   4   0   0   0   0   0   0   0   0]\n",
      " [  0   0   0   0   0  58  84  89  78   0   0   0   0   0   0   0   0 109\n",
      "  109  91   0   0   0   0   0   0   0   0]\n",
      " [  0   0   0   0   0  75  96  87   0   0   0   0   0   0   0   0   0  56\n",
      "  109 105   8   0   0   0   0   0   0   0]\n",
      " [  0   0   0   0   0   0  27  26   0   0   0   0   0   0   0   0   0  37\n",
      "  113 111  50   0   0   0   0   0   0   0]\n",
      " [  0   0   0   0   0   0   0   0   0   0   0   0   0   0   0   3   4  52\n",
      "  113 111  65   0   0   0   0   0   0   0]\n",
      " [  0   0   0   0   0   0   0   0   0   0   0   0   1   4   4   4  30 100\n",
      "  112 107  38   0   0   0   0   0   0   0]\n",
      " [  0   0   0   0   0   0   0   0   0   0   0   0   4   6   6  28  96 111\n",
      "  110  99   2   0   0   0   0   0   0   0]\n",
      " [  0   0   0   0   0   0   0   0   0   0   1   2   4   7  27  95 105 103\n",
      "  105  35   0   0   0   0   0   4   0   3]\n",
      " [  0   0   0   0   0   0   0   0   0   0   2   6   7  28  96 109 107 105\n",
      "   53   3   1   1   0   0   5   3   4   8]\n",
      " [  0   0   0   0   0   0   0   0   0   0   6   8  53  99 110 106  98  19\n",
      "    7  13   7   4   4   5   8   8  12  10]\n",
      " [  0   0   0   0   0   0   0   0   0   6  66 100 107 107 110 109 100 106\n",
      "  114 103  22   4   6   4  11  11   8  11]\n",
      " [  0   0   0   0   0   0   0   8  96 106 116 111 110 111 111 109 108 107\n",
      "  107 107 110  18   4   3   3   4   4   9]\n",
      " [  0   0   0   0   0   0   0 100 107 106 102  99 100 102 103 103 103 104\n",
      "   99  55  13   0   0   0   0   1   4   6]\n",
      " [  0   0   0   0   0   0   0  94  96  98  89  82  66  38  16   2   0   0\n",
      "    1   3   0   0   0   0   0   1   3   1]\n",
      " [  0   0   0   0   0   0   0   0   0   0   0   0   0   0   0   0   0   0\n",
      "    1   1   0   0   0   0   0   1   0   0]\n",
      " [  0   0   0   0   0   0   0   0   0   0   0   0   0   0   0   0   0   0\n",
      "    0   0   0   0   0   0   0   0   0   0]\n",
      " [  0   0   0   0   0   0   0   0   0   0   0   0   0   0   0   0   0   0\n",
      "    0   0   0   0   0   0   0   0   0   0]\n",
      " [  0   0   0   0   0   0   0   0   0   0   0   0   0   0   0   0   0   0\n",
      "    0   0   0   0   0   0   0   0   0   0]\n",
      " [  0   0   0   0   0   0   0   0   0   0   0   0   0   0   0   0   0   0\n",
      "    0   0   0   0   0   0   0   0   0   0]\n",
      " [  0   0   0   0   0   0   0   0   0   0   0   0   0   0   0   0   0   0\n",
      "    0   0   0   0   0   0   0   0   0   0]\n",
      " [  0   0   0   0   0   0   0   0   0   0   0   0   0   0   0   0   0   0\n",
      "    0   0   0   0   0   0   0   1   0   0]\n",
      " [  0   0   0   0   0   0   0   0   0   0   0   0   0   0   0   0   0   0\n",
      "    0   0   0   0   0   0   0   0   0   0]\n",
      " [  0   0   0   0   0   0   0   0   0   0   0   0   0   0   0   0   0   0\n",
      "    0   0   0   0   0   0   0   0   0   0]]\n"
     ]
    },
    {
     "data": {
      "text/plain": [
       "<matplotlib.figure.Figure at 0x19c618a31d0>"
      ]
     },
     "metadata": {},
     "output_type": "display_data"
    },
    {
     "name": "stdout",
     "output_type": "stream",
     "text": [
      "拉高gain\n",
      "[[  0   0   0   0   0   0   0   0   0   0   0   0   0   0   0   0   0   0\n",
      "    0   0   0   0   0   0   0   0   0   0]\n",
      " [  0   0   0   0   0   0   0   0   0   0   0   0   0   0   0   0   0   0\n",
      "    0   0   0   0   0   0   0   0   0   0]\n",
      " [  0   0   0   0   0   0   0   0   0   0   0   0   0   0   0   0   0   0\n",
      "    0   0   0   0   0   0   0   0   0   0]\n",
      " [  0   0   0   0   0   0   0   0 195 240 246 252 255 255 255 255 225   0\n",
      "    0   0   0   0   0   0   0   0   0   0]\n",
      " [  0   0   0   0   0   0  51 219 255 255 255 255 255 255 255 255 255 255\n",
      "   33   0   0   0   0   0   0   0   0   0]\n",
      " [  0   0   0   0   0   0 222 255 255 225 234 177  99  75 111 204 255 255\n",
      "  255  12   0   0   0   0   0   0   0   0]\n",
      " [  0   0   0   0   0 174 252 255 234   0   0   0   0   0   0   0   0 255\n",
      "  255 255   0   0   0   0   0   0   0   0]\n",
      " [  0   0   0   0   0 225 255 255   0   0   0   0   0   0   0   0   0 168\n",
      "  255 255  24   0   0   0   0   0   0   0]\n",
      " [  0   0   0   0   0   0  81  78   0   0   0   0   0   0   0   0   0 111\n",
      "  255 255 150   0   0   0   0   0   0   0]\n",
      " [  0   0   0   0   0   0   0   0   0   0   0   0   0   0   0   9  12 156\n",
      "  255 255 195   0   0   0   0   0   0   0]\n",
      " [  0   0   0   0   0   0   0   0   0   0   0   0   3  12  12  12  90 255\n",
      "  255 255 114   0   0   0   0   0   0   0]\n",
      " [  0   0   0   0   0   0   0   0   0   0   0   0  12  18  18  84 255 255\n",
      "  255 255   6   0   0   0   0   0   0   0]\n",
      " [  0   0   0   0   0   0   0   0   0   0   3   6  12  21  81 255 255 255\n",
      "  255 105   0   0   0   0   0  12   0   9]\n",
      " [  0   0   0   0   0   0   0   0   0   0   6  18  21  84 255 255 255 255\n",
      "  159   9   3   3   0   0  15   9  12  24]\n",
      " [  0   0   0   0   0   0   0   0   0   0  18  24 159 255 255 255 255  57\n",
      "   21  39  21  12  12  15  24  24  36  30]\n",
      " [  0   0   0   0   0   0   0   0   0  18 198 255 255 255 255 255 255 255\n",
      "  255 255  66  12  18  12  33  33  24  33]\n",
      " [  0   0   0   0   0   0   0  24 255 255 255 255 255 255 255 255 255 255\n",
      "  255 255 255  54  12   9   9  12  12  27]\n",
      " [  0   0   0   0   0   0   0 255 255 255 255 255 255 255 255 255 255 255\n",
      "  255 165  39   0   0   0   0   3  12  18]\n",
      " [  0   0   0   0   0   0   0 255 255 255 255 246 198 114  48   6   0   0\n",
      "    3   9   0   0   0   0   0   3   9   3]\n",
      " [  0   0   0   0   0   0   0   0   0   0   0   0   0   0   0   0   0   0\n",
      "    3   3   0   0   0   0   0   3   0   0]\n",
      " [  0   0   0   0   0   0   0   0   0   0   0   0   0   0   0   0   0   0\n",
      "    0   0   0   0   0   0   0   0   0   0]\n",
      " [  0   0   0   0   0   0   0   0   0   0   0   0   0   0   0   0   0   0\n",
      "    0   0   0   0   0   0   0   0   0   0]\n",
      " [  0   0   0   0   0   0   0   0   0   0   0   0   0   0   0   0   0   0\n",
      "    0   0   0   0   0   0   0   0   0   0]\n",
      " [  0   0   0   0   0   0   0   0   0   0   0   0   0   0   0   0   0   0\n",
      "    0   0   0   0   0   0   0   0   0   0]\n",
      " [  0   0   0   0   0   0   0   0   0   0   0   0   0   0   0   0   0   0\n",
      "    0   0   0   0   0   0   0   0   0   0]\n",
      " [  0   0   0   0   0   0   0   0   0   0   0   0   0   0   0   0   0   0\n",
      "    0   0   0   0   0   0   0   3   0   0]\n",
      " [  0   0   0   0   0   0   0   0   0   0   0   0   0   0   0   0   0   0\n",
      "    0   0   0   0   0   0   0   0   0   0]\n",
      " [  0   0   0   0   0   0   0   0   0   0   0   0   0   0   0   0   0   0\n",
      "    0   0   0   0   0   0   0   0   0   0]]\n"
     ]
    },
    {
     "data": {
      "text/plain": [
       "<matplotlib.figure.Figure at 0x19c6147e1d0>"
      ]
     },
     "metadata": {},
     "output_type": "display_data"
    },
    {
     "data": {
      "text/plain": [
       "<matplotlib.figure.Figure at 0x19c6135a5c0>"
      ]
     },
     "metadata": {},
     "output_type": "display_data"
    },
    {
     "name": "stdout",
     "output_type": "stream",
     "text": [
      "new_img_array[ 22 ]= [[194 193 190 189 190 190 187 185 184 182 183 182 186 182 182 178 177 173\n",
      "  169 166 165 164 162 160 159 158 156 157]\n",
      " [195 192 188 187 186 185 183 183 182 180 179 177 171 171 168 168 165 162\n",
      "  163 160 162 160 156 157 156 154 156 155]\n",
      " [194 191 188 190 184 183 182 178 175 172 172 167 165 165 161 161 165 163\n",
      "  161 160 157 156 157 156 154 151 151 151]\n",
      " [191 185 186 180 179 175 169 169 169 168 168 165 165 162 161 161 161 159\n",
      "  160 159 158 156 154 154 151 149 148 146]\n",
      " [187 181 177 175 172 172 169 169 165 166 164 163 164 161 161 160 160 160\n",
      "  155 155 154 153 150 149 143 140 138 136]\n",
      " [180 178 174 172 173 171 168 167 167 167 164 162 160 158 156 153 152 154\n",
      "  150 149 146 146 143 141 138 135 138 129]\n",
      " [182 178 174 172 167 168 167 167 165 164 158 153 150 150 147 143 145 142\n",
      "  139 139 138 139 136 136 136 134 136 132]\n",
      " [183 179 174 172 169 164 162 160 156 150 147 145 143 142 139 138 138 138\n",
      "  135 133 135 134 134 135 135 132 136 134]\n",
      " [187 178 174 171 159 138 144 140 134 136 135 138 136 134 134 134 134 135\n",
      "  134 131 133 134 135 135 135 137 138 135]\n",
      " [189 178 171 127  58  40  33  33  33  33  32  42  73 117 132 133 134 134\n",
      "  135 133 134 131 131 134 135 136 135 136]\n",
      " [191 178 124  49  38  30  33  30  28  28  25  25  26  30  99 132 133 134\n",
      "  133 133 131 132 131 132 135 134 136 136]\n",
      " [194 177  61  42  37  43  68  88  97  96  85  63  32  22  28 106 132 131\n",
      "  131 132 131 131 134 131 134 135 136 136]\n",
      " [198 181  49  35  47 117 142 138 140 136 134 131 124  46  21  28 115 130\n",
      "  129 129 129 128 132 131 131 133 132 134]\n",
      " [194 183 126  44  78 142 142 139 137 135 135 133 131 107  22  24  84 129\n",
      "  129 129 129 129 129 131 128 132 134 135]\n",
      " [195 188 168 160 149 146 140 138 135 132 131 131 129 123  26  21  44 125\n",
      "  128 130 132 131 131 134 134 134 133 136]\n",
      " [187 186 171 162 150 145 139 138 134 132 133 129 127 110  28  22  32 129\n",
      "  131 131 131 131 133 131 131 134 132 135]\n",
      " [172 175 179 161 153 144 139 137 132 129 129 127 114  39  22  23  54 131\n",
      "  132 131 132 132 131 131 132 132 134 134]\n",
      " [163 167 180 164 157 145 140 136 132 131 128 113  40  32  26  30 106 133\n",
      "  132 132 131 132 132 132 133 132 134 135]\n",
      " [164 176 179 169 161 149 140 135 131 128 110  40  29  30  29  67 132 132\n",
      "  131 131 130 129 128 128 128 129 131 131]\n",
      " [176 176 177 168 162 151 139 134 130  80  37  25  29  32 105 129 128 129\n",
      "  131 128 131 126 125 126 125 129 129 131]\n",
      " [173 175 176 174 158 154 111  45  34  29  28  28  32  59  64  58 116 129\n",
      "  131 129 128 121 123 124 124 128 129 127]\n",
      " [172 173 174 175  41  35  28  26  28  29  26  25  26  27  26  30  30  76\n",
      "  129 131 129 127 129 122 128 129 127 128]\n",
      " [169 168 169 171  49  45  41  40  39  36  36  35  35  33  34  38  66 116\n",
      "  136 132 133 134 131 130 128 128 129 125]\n",
      " [169 165 165 165 176 168 161 158 149 144 145 147 144 144 140 136 137 138\n",
      "  137 136 135 134 129 133 131 128 127 126]\n",
      " [172 162 161 167 171 170 167 162 151 146 147 146 145 142 140 139 139 139\n",
      "  138 138 135 135 134 133 132 131 129 129]\n",
      " [175 167 165 168 169 172 168 165 157 146 143 140 142 142 140 139 138 139\n",
      "  139 139 138 139 141 139 139 135 136 136]\n",
      " [180 175 165 169 170 173 166 167 161 149 145 143 143 143 142 140 141 139\n",
      "  140 140 139 138 136 135 132 139 142 138]\n",
      " [182 179 166 167 170 171 169 167 161 151 146 145 145 144 145 141 139 142\n",
      "  140 144 140 139 142 135 139 139 140 139]]\n"
     ]
    },
    {
     "data": {
      "text/plain": [
       "<matplotlib.figure.Figure at 0x19c61250a20>"
      ]
     },
     "metadata": {},
     "output_type": "display_data"
    },
    {
     "name": "stdout",
     "output_type": "stream",
     "text": [
      "反白後\n",
      "[[ 61  62  65  66  65  65  68  70  71  73  72  73  69  73  73  77  78  82\n",
      "   86  89  90  91  93  95  96  97  99  98]\n",
      " [ 60  63  67  68  69  70  72  72  73  75  76  78  84  84  87  87  90  93\n",
      "   92  95  93  95  99  98  99 101  99 100]\n",
      " [ 61  64  67  65  71  72  73  77  80  83  83  88  90  90  94  94  90  92\n",
      "   94  95  98  99  98  99 101 104 104 104]\n",
      " [ 64  70  69  75  76  80  86  86  86  87  87  90  90  93  94  94  94  96\n",
      "   95  96  97  99 101 101 104 106 107 109]\n",
      " [ 68  74  78  80  83  83  86  86  90  89  91  92  91  94  94  95  95  95\n",
      "  100 100 101 102 105 106 112 115 117 119]\n",
      " [ 75  77  81  83  82  84  87  88  88  88  91  93  95  97  99 102 103 101\n",
      "  105 106 109 109 112 114 117 120 117 126]\n",
      " [ 73  77  81  83  88  87  88  88  90  91  97 102 105 105 108 112 110 113\n",
      "  116 116 117 116 119 119 119 121 119 123]\n",
      " [ 72  76  81  83  86  91  93  95  99 105 108 110 112 113 116 117 117 117\n",
      "  120 122 120 121 121 120 120 123 119 121]\n",
      " [ 68  77  81  84  96 117 111 115 121 119 120 117 119 121 121 121 121 120\n",
      "  121 124 122 121 120 120 120 118 117 120]\n",
      " [ 66  77  84 128 197 215 222 222 222 222 223 213 182 138 123 122 121 121\n",
      "  120 122 121 124 124 121 120 119 120 119]\n",
      " [ 64  77 131 206 217 225 222 225 227 227 230 230 229 225 156 123 122 121\n",
      "  122 122 124 123 124 123 120 121 119 119]\n",
      " [ 61  78 194 213 218 212 187 167 158 159 170 192 223 233 227 149 123 124\n",
      "  124 123 124 124 121 124 121 120 119 119]\n",
      " [ 57  74 206 220 208 138 113 117 115 119 121 124 131 209 234 227 140 125\n",
      "  126 126 126 127 123 124 124 122 123 121]\n",
      " [ 61  72 129 211 177 113 113 116 118 120 120 122 124 148 233 231 171 126\n",
      "  126 126 126 126 126 124 127 123 121 120]\n",
      " [ 60  67  87  95 106 109 115 117 120 123 124 124 126 132 229 234 211 130\n",
      "  127 125 123 124 124 121 121 121 122 119]\n",
      " [ 68  69  84  93 105 110 116 117 121 123 122 126 128 145 227 233 223 126\n",
      "  124 124 124 124 122 124 124 121 123 120]\n",
      " [ 83  80  76  94 102 111 116 118 123 126 126 128 141 216 233 232 201 124\n",
      "  123 124 123 123 124 124 123 123 121 121]\n",
      " [ 92  88  75  91  98 110 115 119 123 124 127 142 215 223 229 225 149 122\n",
      "  123 123 124 123 123 123 122 123 121 120]\n",
      " [ 91  79  76  86  94 106 115 120 124 127 145 215 226 225 226 188 123 123\n",
      "  124 124 125 126 127 127 127 126 124 124]\n",
      " [ 79  79  78  87  93 104 116 121 125 175 218 230 226 223 150 126 127 126\n",
      "  124 127 124 129 130 129 130 126 126 124]\n",
      " [ 82  80  79  81  97 101 144 210 221 226 227 227 223 196 191 197 139 126\n",
      "  124 126 127 134 132 131 131 127 126 128]\n",
      " [ 83  82  81  80 214 220 227 229 227 226 229 230 229 228 229 225 225 179\n",
      "  126 124 126 128 126 133 127 126 128 127]\n",
      " [ 86  87  86  84 206 210 214 215 216 219 219 220 220 222 221 217 189 139\n",
      "  119 123 122 121 124 125 127 127 126 130]\n",
      " [ 86  90  90  90  79  87  94  97 106 111 110 108 111 111 115 119 118 117\n",
      "  118 119 120 121 126 122 124 127 128 129]\n",
      " [ 83  93  94  88  84  85  88  93 104 109 108 109 110 113 115 116 116 116\n",
      "  117 117 120 120 121 122 123 124 126 126]\n",
      " [ 80  88  90  87  86  83  87  90  98 109 112 115 113 113 115 116 117 116\n",
      "  116 116 117 116 114 116 116 120 119 119]\n",
      " [ 75  80  90  86  85  82  89  88  94 106 110 112 112 112 113 115 114 116\n",
      "  115 115 116 117 119 120 123 116 113 117]\n",
      " [ 73  76  89  88  85  84  86  88  94 104 109 110 110 111 110 114 116 113\n",
      "  115 111 115 116 113 120 116 116 115 116]]\n"
     ]
    },
    {
     "data": {
      "text/plain": [
       "<matplotlib.figure.Figure at 0x19c6130ab70>"
      ]
     },
     "metadata": {},
     "output_type": "display_data"
    },
    {
     "name": "stdout",
     "output_type": "stream",
     "text": [
      "(28, 28)\n",
      "拉黑120後\n",
      "[[  0   0   0   0   0   0   0   0   0   0   0   0   0   0   0   0   0   0\n",
      "    0   0   0   0   0   0   0   0   0   0]\n",
      " [  0   0   0   0   0   0   0   0   0   0   0   0   0   0   0   0   0   0\n",
      "    0   0   0   0   0   0   0   0   0   0]\n",
      " [  0   0   0   0   0   0   0   0   0   0   0   0   0   0   0   0   0   0\n",
      "    0   0   0   0   0   0   0   0   0   0]\n",
      " [  0   0   0   0   0   0   0   0   0   0   0   0   0   0   0   0   0   0\n",
      "    0   0   0   0   0   0   0   0   0   0]\n",
      " [  0   0   0   0   0   0   0   0   0   0   0   0   0   0   0   0   0   0\n",
      "    0   0   0   0   0   0   0   0   0   0]\n",
      " [  0   0   0   0   0   0   0   0   0   0   0   0   0   0   0   0   0   0\n",
      "    0   0   0   0   0   0   0   0   0   6]\n",
      " [  0   0   0   0   0   0   0   0   0   0   0   0   0   0   0   0   0   0\n",
      "    0   0   0   0   0   0   0   1   0   3]\n",
      " [  0   0   0   0   0   0   0   0   0   0   0   0   0   0   0   0   0   0\n",
      "    0   2   0   1   1   0   0   3   0   1]\n",
      " [  0   0   0   0   0   0   0   0   1   0   0   0   0   1   1   1   1   0\n",
      "    1   4   2   1   0   0   0   0   0   0]\n",
      " [  0   0   0   8  77  95 102 102 102 102 103  93  62  18   3   2   1   1\n",
      "    0   2   1   4   4   1   0   0   0   0]\n",
      " [  0   0  11  86  97 105 102 105 107 107 110 110 109 105  36   3   2   1\n",
      "    2   2   4   3   4   3   0   1   0   0]\n",
      " [  0   0  74  93  98  92  67  47  38  39  50  72 103 113 107  29   3   4\n",
      "    4   3   4   4   1   4   1   0   0   0]\n",
      " [  0   0  86 100  88  18   0   0   0   0   1   4  11  89 114 107  20   5\n",
      "    6   6   6   7   3   4   4   2   3   1]\n",
      " [  0   0   9  91  57   0   0   0   0   0   0   2   4  28 113 111  51   6\n",
      "    6   6   6   6   6   4   7   3   1   0]\n",
      " [  0   0   0   0   0   0   0   0   0   3   4   4   6  12 109 114  91  10\n",
      "    7   5   3   4   4   1   1   1   2   0]\n",
      " [  0   0   0   0   0   0   0   0   1   3   2   6   8  25 107 113 103   6\n",
      "    4   4   4   4   2   4   4   1   3   0]\n",
      " [  0   0   0   0   0   0   0   0   3   6   6   8  21  96 113 112  81   4\n",
      "    3   4   3   3   4   4   3   3   1   1]\n",
      " [  0   0   0   0   0   0   0   0   3   4   7  22  95 103 109 105  29   2\n",
      "    3   3   4   3   3   3   2   3   1   0]\n",
      " [  0   0   0   0   0   0   0   0   4   7  25  95 106 105 106  68   3   3\n",
      "    4   4   5   6   7   7   7   6   4   4]\n",
      " [  0   0   0   0   0   0   0   1   5  55  98 110 106 103  30   6   7   6\n",
      "    4   7   4   9  10   9  10   6   6   4]\n",
      " [  0   0   0   0   0   0  24  90 101 106 107 107 103  76  71  77  19   6\n",
      "    4   6   7  14  12  11  11   7   6   8]\n",
      " [  0   0   0   0  94 100 107 109 107 106 109 110 109 108 109 105 105  59\n",
      "    6   4   6   8   6  13   7   6   8   7]\n",
      " [  0   0   0   0  86  90  94  95  96  99  99 100 100 102 101  97  69  19\n",
      "    0   3   2   1   4   5   7   7   6  10]\n",
      " [  0   0   0   0   0   0   0   0   0   0   0   0   0   0   0   0   0   0\n",
      "    0   0   0   1   6   2   4   7   8   9]\n",
      " [  0   0   0   0   0   0   0   0   0   0   0   0   0   0   0   0   0   0\n",
      "    0   0   0   0   1   2   3   4   6   6]\n",
      " [  0   0   0   0   0   0   0   0   0   0   0   0   0   0   0   0   0   0\n",
      "    0   0   0   0   0   0   0   0   0   0]\n",
      " [  0   0   0   0   0   0   0   0   0   0   0   0   0   0   0   0   0   0\n",
      "    0   0   0   0   0   0   3   0   0   0]\n",
      " [  0   0   0   0   0   0   0   0   0   0   0   0   0   0   0   0   0   0\n",
      "    0   0   0   0   0   0   0   0   0   0]]\n"
     ]
    },
    {
     "data": {
      "text/plain": [
       "<matplotlib.figure.Figure at 0x19c613cb0f0>"
      ]
     },
     "metadata": {},
     "output_type": "display_data"
    },
    {
     "name": "stdout",
     "output_type": "stream",
     "text": [
      "拉高gain\n",
      "[[  0   0   0   0   0   0   0   0   0   0   0   0   0   0   0   0   0   0\n",
      "    0   0   0   0   0   0   0   0   0   0]\n",
      " [  0   0   0   0   0   0   0   0   0   0   0   0   0   0   0   0   0   0\n",
      "    0   0   0   0   0   0   0   0   0   0]\n",
      " [  0   0   0   0   0   0   0   0   0   0   0   0   0   0   0   0   0   0\n",
      "    0   0   0   0   0   0   0   0   0   0]\n",
      " [  0   0   0   0   0   0   0   0   0   0   0   0   0   0   0   0   0   0\n",
      "    0   0   0   0   0   0   0   0   0   0]\n",
      " [  0   0   0   0   0   0   0   0   0   0   0   0   0   0   0   0   0   0\n",
      "    0   0   0   0   0   0   0   0   0   0]\n",
      " [  0   0   0   0   0   0   0   0   0   0   0   0   0   0   0   0   0   0\n",
      "    0   0   0   0   0   0   0   0   0  18]\n",
      " [  0   0   0   0   0   0   0   0   0   0   0   0   0   0   0   0   0   0\n",
      "    0   0   0   0   0   0   0   3   0   9]\n",
      " [  0   0   0   0   0   0   0   0   0   0   0   0   0   0   0   0   0   0\n",
      "    0   6   0   3   3   0   0   9   0   3]\n",
      " [  0   0   0   0   0   0   0   0   3   0   0   0   0   3   3   3   3   0\n",
      "    3  12   6   3   0   0   0   0   0   0]\n",
      " [  0   0   0  24 231 255 255 255 255 255 255 255 186  54   9   6   3   3\n",
      "    0   6   3  12  12   3   0   0   0   0]\n",
      " [  0   0  33 255 255 255 255 255 255 255 255 255 255 255 108   9   6   3\n",
      "    6   6  12   9  12   9   0   3   0   0]\n",
      " [  0   0 222 255 255 255 201 141 114 117 150 216 255 255 255  87   9  12\n",
      "   12   9  12  12   3  12   3   0   0   0]\n",
      " [  0   0 255 255 255  54   0   0   0   0   3  12  33 255 255 255  60  15\n",
      "   18  18  18  21   9  12  12   6   9   3]\n",
      " [  0   0  27 255 171   0   0   0   0   0   0   6  12  84 255 255 153  18\n",
      "   18  18  18  18  18  12  21   9   3   0]\n",
      " [  0   0   0   0   0   0   0   0   0   9  12  12  18  36 255 255 255  30\n",
      "   21  15   9  12  12   3   3   3   6   0]\n",
      " [  0   0   0   0   0   0   0   0   3   9   6  18  24  75 255 255 255  18\n",
      "   12  12  12  12   6  12  12   3   9   0]\n",
      " [  0   0   0   0   0   0   0   0   9  18  18  24  63 255 255 255 243  12\n",
      "    9  12   9   9  12  12   9   9   3   3]\n",
      " [  0   0   0   0   0   0   0   0   9  12  21  66 255 255 255 255  87   6\n",
      "    9   9  12   9   9   9   6   9   3   0]\n",
      " [  0   0   0   0   0   0   0   0  12  21  75 255 255 255 255 204   9   9\n",
      "   12  12  15  18  21  21  21  18  12  12]\n",
      " [  0   0   0   0   0   0   0   3  15 165 255 255 255 255  90  18  21  18\n",
      "   12  21  12  27  30  27  30  18  18  12]\n",
      " [  0   0   0   0   0   0  72 255 255 255 255 255 255 228 213 231  57  18\n",
      "   12  18  21  42  36  33  33  21  18  24]\n",
      " [  0   0   0   0 255 255 255 255 255 255 255 255 255 255 255 255 255 177\n",
      "   18  12  18  24  18  39  21  18  24  21]\n",
      " [  0   0   0   0 255 255 255 255 255 255 255 255 255 255 255 255 207  57\n",
      "    0   9   6   3  12  15  21  21  18  30]\n",
      " [  0   0   0   0   0   0   0   0   0   0   0   0   0   0   0   0   0   0\n",
      "    0   0   0   3  18   6  12  21  24  27]\n",
      " [  0   0   0   0   0   0   0   0   0   0   0   0   0   0   0   0   0   0\n",
      "    0   0   0   0   3   6   9  12  18  18]\n",
      " [  0   0   0   0   0   0   0   0   0   0   0   0   0   0   0   0   0   0\n",
      "    0   0   0   0   0   0   0   0   0   0]\n",
      " [  0   0   0   0   0   0   0   0   0   0   0   0   0   0   0   0   0   0\n",
      "    0   0   0   0   0   0   9   0   0   0]\n",
      " [  0   0   0   0   0   0   0   0   0   0   0   0   0   0   0   0   0   0\n",
      "    0   0   0   0   0   0   0   0   0   0]]\n"
     ]
    },
    {
     "data": {
      "text/plain": [
       "<matplotlib.figure.Figure at 0x19c613ff470>"
      ]
     },
     "metadata": {},
     "output_type": "display_data"
    },
    {
     "data": {
      "text/plain": [
       "<matplotlib.figure.Figure at 0x19c614bf6a0>"
      ]
     },
     "metadata": {},
     "output_type": "display_data"
    }
   ],
   "source": [
    "import tensorflow as tf\n",
    "# tf.__version__\n",
    "\n",
    "mnist=tf.keras.datasets.mnist\n",
    "(x_train, y_train), (x_test, y_test) = mnist.load_data()\n",
    "\n",
    "import matplotlib.pyplot as plt\n",
    "import os\n",
    "import cv2\n",
    "\n",
    "\n",
    "DATADIR = \"C:/Users/user/Number_Images\"\n",
    "CATEGORIES = [\"NUM_Kai\"]\n",
    "\n",
    "new_img_array=x_test\n",
    "for i in range (0, 100):\n",
    "    for j in range (0, 28):\n",
    "        for k in range (0,28):\n",
    "            new_img_array[i][j][k]=0\n",
    "print(new_img_array.shape)\n",
    "print(new_img_array[0])\n",
    "# print(img_array.shape)\n",
    "            \n",
    "i=0\n",
    "for category in CATEGORIES:\n",
    "    path = os.path.join(DATADIR, category) \n",
    "    for img in os.listdir(path):\n",
    "        print(\"path=\", path)\n",
    "        print(\"img=\", img)\n",
    "        print(new_img_array[i].shape)\n",
    "        image = cv2.imread(os.path.join(path,img), cv2.IMREAD_GRAYSCALE)    #input gray-level images  #輸入\"灰階的\"影像\n",
    "        IMG_SIZE=28\n",
    "        new_img_array[i] = cv2.resize(image, (IMG_SIZE, IMG_SIZE))  #change all images to size 28*28, it is a skill to normalize.\n",
    "                                                                    # 將各種不同尺寸大小的image, 通通改成28*28的大小, 這是一種正規化的技巧\n",
    "                                    \n",
    "\n",
    "        plt.imshow(new_img_array[i], cmap=\"gray\")  # show gray-level images #顯示\"灰階的\"影像\n",
    "        plt.show()                                 # plt.show has bugs, you will see the correct pictures after running the whole program 2 times \n",
    "        print(\"i=\", i)                             # plt.show有點問題 常常整段程式要跑第二次 才會看到正確的影像\n",
    "        i=i+1\n",
    "\n",
    "\n",
    "\n",
    "\n",
    "###########################################################################################################\n",
    "# a simple way to reduce the backgound noise during recognition to numbers which is hand writing on paper #\n",
    "# 當作手寫數字辨識於紙上時的一個簡單消除背景雜訊的方法                                                         #\n",
    "###########################################################################################################\n",
    "# The images in mnist database are also black-white inverse and its background is pure clean. \n",
    "# The lights and shadows on papaer will cause background noise.\n",
    "# That is why we need 3 steps to reduce the backgound noise during recognition to our input numbers which is hand writing on paper.\n",
    "# 在 mnist資料庫中的數字都是反白而且背景乾淨的\n",
    "# 紙上的光和陰影 會造成背景雜訊\n",
    "# 當作手寫數字辨識於紙上時, 我用3個步驟來消除背景雜訊\n",
    "###########################################################################################################\n",
    "\n",
    "for i in range (23):\n",
    "    print(\"new_img_array[\", i , \"]=\",new_img_array[i])\n",
    "    plt.imshow(new_img_array[i], cmap=\"gray\")      # show original image  #顯示原來的影像\n",
    "    plt.show()\n",
    "\n",
    "    new_img_array[i]=255-new_img_array[i]\n",
    "    print(\"反白後\")                        # black-white inverse because the images in mnist are also black-white inverse: step1\n",
    "    print(new_img_array[i])\n",
    "    plt.imshow(new_img_array[i], cmap=\"gray\") \n",
    "    plt.show()\n",
    "    print(new_img_array[i].shape)\n",
    "\n",
    "    print(\"拉黑120後\")                         # make it dark for 120 levels: step2\n",
    "    for p in range (0, 28):\n",
    "        for q in range (0, 28):\n",
    "            if new_img_array[i][p][q]-120<0:\n",
    "                new_img_array[i][p][q] = 0\n",
    "            else:\n",
    "                new_img_array[i][p][q] = new_img_array[i][p][q]-120\n",
    "    print(new_img_array[i])\n",
    "    plt.imshow(new_img_array[i], cmap=\"gray\")  # show gray-level images #顯示\"灰階的\"影像\n",
    "    plt.show()\n",
    "\n",
    "    print(\"拉高gain\")                         # increase gain: step3\n",
    "    for p in range (0, 28):\n",
    "        for q in range (0, 28):\n",
    "            if new_img_array[i][p][q]*3>255:\n",
    "                new_img_array[i][p][q]=255\n",
    "            else:\n",
    "                new_img_array[i][p][q]=new_img_array[i][p][q]*3\n",
    "    print(new_img_array[i])\n",
    "    plt.imshow(new_img_array[i], cmap=\"gray\")  # show gray-level images #顯示\"灰階的\"影像\n",
    "    plt.show()\n",
    "    plt.imshow(new_img_array[i],  cmap=plt.cm.binary)  # Print the reversed graphics: Since the pictures in the database have been reversed, the reversed and then reversed are normal graphics. \n",
    "    plt.show()                                         # 印出反白的圖形: 由於資料庫的圖片是已經反白過的, 所以, 反白再反白就是正常的圖形.\n",
    "\n",
    "# Small conclusion: This trained number recognition AI module is too sensitive to the background (such as paper), so that it often cannot recognize the number.\n",
    "# The solution is to use some image processing methods(3 steps) to clean up the background and then throw the numbers to the AI model for recognition.\n",
    "# 小結論:這個訓練好的數字辨識AI module, 對背景(如紙張)太過敏感, 以至於常常辨識不出數字. \n",
    "# 解決之道, 先用一些影像處理的方法(3個步驟), 把背景弄乾淨, 再把數字丟給AI model辨識才會成功."
   ]
  },
  {
   "cell_type": "code",
   "execution_count": null,
   "metadata": {},
   "outputs": [],
   "source": []
  },
  {
   "cell_type": "code",
   "execution_count": null,
   "metadata": {
    "scrolled": true
   },
   "outputs": [],
   "source": []
  },
  {
   "cell_type": "code",
   "execution_count": null,
   "metadata": {},
   "outputs": [],
   "source": []
  },
  {
   "cell_type": "code",
   "execution_count": null,
   "metadata": {},
   "outputs": [],
   "source": []
  },
  {
   "cell_type": "code",
   "execution_count": null,
   "metadata": {},
   "outputs": [],
   "source": []
  },
  {
   "cell_type": "code",
   "execution_count": null,
   "metadata": {},
   "outputs": [],
   "source": []
  },
  {
   "cell_type": "code",
   "execution_count": 8,
   "metadata": {},
   "outputs": [],
   "source": []
  },
  {
   "cell_type": "code",
   "execution_count": null,
   "metadata": {},
   "outputs": [],
   "source": []
  },
  {
   "cell_type": "code",
   "execution_count": null,
   "metadata": {},
   "outputs": [],
   "source": []
  },
  {
   "cell_type": "code",
   "execution_count": null,
   "metadata": {},
   "outputs": [],
   "source": []
  },
  {
   "cell_type": "code",
   "execution_count": null,
   "metadata": {},
   "outputs": [],
   "source": []
  },
  {
   "cell_type": "code",
   "execution_count": null,
   "metadata": {},
   "outputs": [],
   "source": []
  },
  {
   "cell_type": "code",
   "execution_count": null,
   "metadata": {},
   "outputs": [],
   "source": []
  },
  {
   "cell_type": "code",
   "execution_count": null,
   "metadata": {},
   "outputs": [],
   "source": []
  }
 ],
 "metadata": {
  "kernelspec": {
   "display_name": "Python 3",
   "language": "python",
   "name": "python3"
  },
  "language_info": {
   "codemirror_mode": {
    "name": "ipython",
    "version": 3
   },
   "file_extension": ".py",
   "mimetype": "text/x-python",
   "name": "python",
   "nbconvert_exporter": "python",
   "pygments_lexer": "ipython3",
   "version": "3.6.4"
  }
 },
 "nbformat": 4,
 "nbformat_minor": 2
}
